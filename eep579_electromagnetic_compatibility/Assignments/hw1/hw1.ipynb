{
 "cells": [
  {
   "cell_type": "code",
   "execution_count": null,
   "metadata": {},
   "outputs": [],
   "source": [
    "# import necessary libraries\n",
    "# virtual environment is tied to python 3.10.2\n",
    "import math\n",
    "import numpy as np\n",
    "import sympy as sm\n",
    "sm.init_printing(use_latex='mathjax')\n",
    "import matplotlib.pyplot as plt\n",
    "import matplotlib.patches as pch\n",
    "%matplotlib inline\n",
    "from matplotlib.ticker import MaxNLocator # to make integer ticks on x axis"
   ]
  },
  {
   "cell_type": "code",
   "execution_count": null,
   "metadata": {},
   "outputs": [],
   "source": [
    "# define variables\n",
    "t           = sm.symbols(\"t\", real=True)                    # variable of integration\n",
    "n           = sm.symbols(\"n\", integer=True, positive=True)  # n-th harmonic\n",
    "tau         = sm.symbols(\"tau\", real=True)                  # piece-wise definition boundary\n",
    "duty        = sm.symbols(\"duty\")                            # duty cycle\n",
    "amplitude   = sm.symbols(\"amplitude\", real=True)\n",
    "freq        = sm.symbols(\"freq\", real=True)"
   ]
  },
  {
   "cell_type": "code",
   "execution_count": null,
   "metadata": {},
   "outputs": [],
   "source": [
    "# define target function\n",
    "# f(t) = 2t+1 if 0 <= t < tau and 0 if tau <= t < (2*tau)\n",
    "# T = 2*tau since duty cycle is set to 50%\n",
    "# define target function as a fourier series approximation\n",
    "fn = a_o + a_n + b_n\n",
    "fn = fn.simplify()"
   ]
  },
  {
   "cell_type": "code",
   "execution_count": null,
   "metadata": {},
   "outputs": [],
   "source": [
    "# plot the sum of all the terms\n",
    "fapprox = sum(terms)\n",
    "sm.plot(fapprox,(t,-1,1),title=\"Finite Fourier Series Approximation\");"
   ]
  }
 ],
 "metadata": {
  "kernelspec": {
   "display_name": ".venv",
   "language": "python",
   "name": "python3"
  },
  "language_info": {
   "codemirror_mode": {
    "name": "ipython",
    "version": 3
   },
   "file_extension": ".py",
   "mimetype": "text/x-python",
   "name": "python",
   "nbconvert_exporter": "python",
   "pygments_lexer": "ipython3",
   "version": "3.10.12"
  }
 },
 "nbformat": 4,
 "nbformat_minor": 2
}
