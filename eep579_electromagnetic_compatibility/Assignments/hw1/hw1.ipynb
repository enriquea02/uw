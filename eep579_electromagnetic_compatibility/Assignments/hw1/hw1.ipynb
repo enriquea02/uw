{
 "cells": [
  {
   "cell_type": "code",
   "execution_count": 1,
   "metadata": {},
   "outputs": [],
   "source": [
    "# import necessary libraries\n",
    "# virtual environment is tied to python 3.10.2\n",
    "import math\n",
    "import numpy as np\n",
    "import sympy as sm\n",
    "sm.init_printing(use_latex='mathjax')\n",
    "import matplotlib.pyplot as plt\n",
    "import matplotlib.patches as pch\n",
    "%matplotlib inline\n",
    "from matplotlib.ticker import MaxNLocator # to make integer ticks on x axis"
   ]
  },
  {
   "cell_type": "code",
   "execution_count": 2,
   "metadata": {},
   "outputs": [],
   "source": [
    "# define variables\n",
    "t               = sm.symbols(\"t\", real=True)        # variable of integration\n",
    "n               = sm.symbols(\"n\", integer=True)     # n-th harmonic\n",
    "T               = sm.symbols(\"T\", positive=True)    # period\n",
    "A               = sm.symbols(\"A\", real=True)        # amplitude"
   ]
  },
  {
   "cell_type": "code",
   "execution_count": 3,
   "metadata": {},
   "outputs": [],
   "source": [
    "# define target function\n",
    "# f(t) = A*(1-(t/tau)) if 0 <= t < tau and 0 if tau <= t < (2*tau)\n",
    "# T = 2*tau since duty cycle is set to 50%\n",
    "T_val   = 1e-6      # Period of sawtooth signal\n",
    "tau_val = T_val/2\n",
    "N       = 10        # Generate Fourier Series to 10th harmonic\n",
    "A_val   = 1\n",
    "\n",
    "ft = (A * (1 - t / tau_val))"
   ]
  },
  {
   "cell_type": "code",
   "execution_count": 4,
   "metadata": {},
   "outputs": [],
   "source": [
    "# define target function as a fourier series approximation\n",
    "def fourier_series(ft, n, T, t_eval):\n",
    "\n",
    "    omega = 2 * sm.pi  / T\n",
    "\n",
    "    a_0 = 2/T * sm.integrate(ft, (t,0,(T/2)))\n",
    "    a_n = 2/T * sm.integrate(ft*sm.cos(omega*n*t), (t,0,(T/2)))\n",
    "    b_n = 2/T * sm.integrate(ft*sm.sin(omega*n*t), (t,0,(T/2)))\n",
    "\n",
    "    # Construct the Fourier series expression\n",
    "    fourier_series = a_0 / 2\n",
    "    for i in range(1, n + 1):\n",
    "        fourier_series += a_n.subs(n, i) * sm.cos(i * omega * t) + b_n.subs(n, i) * sm.sin(i * omega * t)\n",
    "\n",
    "    # Numerically evaluate the Fourier series for plotting\n",
    "    fourier_series_values = np.array([fourier_series.subs(t, ti) for ti in t_eval], dtype=np.float64)\n",
    "    \n",
    "    return fourier_series, fourier_series_values"
   ]
  },
  {
   "cell_type": "code",
   "execution_count": 5,
   "metadata": {},
   "outputs": [
    {
     "ename": "TypeError",
     "evalue": "'Add' object cannot be interpreted as an integer",
     "output_type": "error",
     "traceback": [
      "\u001b[0;31m---------------------------------------------------------------------------\u001b[0m",
      "\u001b[0;31mTypeError\u001b[0m                                 Traceback (most recent call last)",
      "Cell \u001b[0;32mIn[5], line 16\u001b[0m\n\u001b[1;32m     13\u001b[0m sim_time \u001b[38;5;241m=\u001b[39m np\u001b[38;5;241m.\u001b[39mlinspace(\u001b[38;5;241m0\u001b[39m, \u001b[38;5;241m2\u001b[39m \u001b[38;5;241m*\u001b[39m T_val, num_points)  \u001b[38;5;66;03m# Time values for two periods\u001b[39;00m\n\u001b[1;32m     15\u001b[0m \u001b[38;5;66;03m# Calculate the Fourier series\u001b[39;00m\n\u001b[0;32m---> 16\u001b[0m unevaluated_fourier_series, fourier_series_values \u001b[38;5;241m=\u001b[39m \u001b[43mfourier_series\u001b[49m\u001b[43m(\u001b[49m\u001b[43mA\u001b[49m\u001b[43m,\u001b[49m\u001b[43m \u001b[49m\u001b[43mT\u001b[49m\u001b[43m,\u001b[49m\u001b[43m \u001b[49m\u001b[43mN\u001b[49m\u001b[43m,\u001b[49m\u001b[43m \u001b[49m\u001b[43msim_time\u001b[49m\u001b[43m)\u001b[49m\n\u001b[1;32m     18\u001b[0m \u001b[38;5;66;03m# Plot the results\u001b[39;00m\n\u001b[1;32m     19\u001b[0m plot_results(sim_time, np\u001b[38;5;241m.\u001b[39mreal(fourier_series_values), N, T_val)\n",
      "Cell \u001b[0;32mIn[4], line 12\u001b[0m, in \u001b[0;36mfourier_series\u001b[0;34m(ft, n, T, t_eval)\u001b[0m\n\u001b[1;32m     10\u001b[0m \u001b[38;5;66;03m# Construct the Fourier series expression\u001b[39;00m\n\u001b[1;32m     11\u001b[0m fourier_series \u001b[38;5;241m=\u001b[39m a_0 \u001b[38;5;241m/\u001b[39m \u001b[38;5;241m2\u001b[39m\n\u001b[0;32m---> 12\u001b[0m \u001b[38;5;28;01mfor\u001b[39;00m i \u001b[38;5;129;01min\u001b[39;00m \u001b[38;5;28;43mrange\u001b[39;49m\u001b[43m(\u001b[49m\u001b[38;5;241;43m1\u001b[39;49m\u001b[43m,\u001b[49m\u001b[43m \u001b[49m\u001b[43mn\u001b[49m\u001b[43m \u001b[49m\u001b[38;5;241;43m+\u001b[39;49m\u001b[43m \u001b[49m\u001b[38;5;241;43m1\u001b[39;49m\u001b[43m)\u001b[49m:\n\u001b[1;32m     13\u001b[0m     fourier_series \u001b[38;5;241m+\u001b[39m\u001b[38;5;241m=\u001b[39m a_n\u001b[38;5;241m.\u001b[39msubs(n, i) \u001b[38;5;241m*\u001b[39m sm\u001b[38;5;241m.\u001b[39mcos(i \u001b[38;5;241m*\u001b[39m omega \u001b[38;5;241m*\u001b[39m t) \u001b[38;5;241m+\u001b[39m b_n\u001b[38;5;241m.\u001b[39msubs(n, i) \u001b[38;5;241m*\u001b[39m sm\u001b[38;5;241m.\u001b[39msin(i \u001b[38;5;241m*\u001b[39m omega \u001b[38;5;241m*\u001b[39m t)\n\u001b[1;32m     15\u001b[0m \u001b[38;5;66;03m# Numerically evaluate the Fourier series for plotting\u001b[39;00m\n",
      "\u001b[0;31mTypeError\u001b[0m: 'Add' object cannot be interpreted as an integer"
     ]
    }
   ],
   "source": [
    "def plot_results(t_vals, fourier_series_values, n, T):\n",
    "    \"\"\"Plots Fourier series approximation of a function.\"\"\"\n",
    "    plt.figure(figsize=(10, 6))\n",
    "    plt.plot(t_vals, fourier_series_values, label=f'Fourier Series ({n} Harmonics)')\n",
    "    plt.xlabel('Time (s)')\n",
    "    plt.ylabel('Amplitude')\n",
    "    plt.title(f'Half-Sawtooth Wave and its Fourier Series Approximation (T={T}s)')\n",
    "    plt.legend()\n",
    "    plt.grid(True)\n",
    "    plt.show()\n",
    "\n",
    "num_points = 1000 # Number of points for plotting\n",
    "sim_time = np.linspace(0, 2 * T_val, num_points)  # Time values for two periods\n",
    "\n",
    "# Calculate the Fourier series\n",
    "unevaluated_fourier_series, fourier_series_values = fourier_series(A, T, N, sim_time)\n",
    "\n",
    "# Plot the results\n",
    "plot_results(sim_time, np.real(fourier_series_values), N, T_val)"
   ]
  },
  {
   "cell_type": "code",
   "execution_count": null,
   "metadata": {},
   "outputs": [],
   "source": [
    "from sympy import symbols, pi, cos, sin, integrate, Sum\n",
    "from sympy.plotting import plot\n",
    "import matplotlib.pyplot as plt\n",
    "import numpy as np\n",
    "\n",
    "def half_sawtooth_fourier_series(A, T, num_harmonics, t_vals):\n",
    "    \"\"\"\n",
    "    Calculates the Fourier series of a half-sawtooth wave and compares\n",
    "    it with the analytical expression.\n",
    "\n",
    "    Args:\n",
    "        A (float): Amplitude of the sawtooth wave.\n",
    "        T (float): Period of the sawtooth wave.\n",
    "        num_harmonics (int): Number of harmonics to calculate.\n",
    "        t_vals (list/numpy array): Time values for plotting.\n",
    "\n",
    "    Returns:\n",
    "        tuple: (analytical_fourier, numerical_fourier)\n",
    "               analytical_fourier: Symbolic expression of the Fourier series.\n",
    "               numerical_fourier:  Numerical values of the Fourier series\n",
    "    \"\"\"\n",
    "    t = symbols('t')\n",
    "    n = symbols('n')\n",
    "    omega = 2 * pi / T\n",
    "    tau = T / 2  # 50% duty cycle\n",
    "\n",
    "    # Calculate Fourier coefficients analytically using SymPy\n",
    "    a0 = (2 / T) * integrate(A * (1 - t / tau), (t, 0, tau))\n",
    "    an = (2 / T) * integrate(A * (1 - t / tau) * cos(n * omega * t), (t, 0, tau))\n",
    "    bn = (2 / T) * integrate(A * (1 - t / tau) * sin(n * omega * t), (t, 0, tau))\n",
    "\n",
    "    # Construct the Fourier series expression\n",
    "    fourier_series = a0 / 2\n",
    "    for i in range(1, num_harmonics + 1):\n",
    "        fourier_series += an.subs(n, i) * cos(i * omega * t) + bn.subs(n, i) * sin(i * omega * t)\n",
    "\n",
    "    # Numerically evaluate the Fourier series for plotting\n",
    "    fourier_series_values = np.array([fourier_series.subs(t, ti) for ti in t_vals], dtype=float)\n",
    "\n",
    "    return fourier_series, fourier_series_values\n",
    "\n",
    "def plot_results(t_vals, original_signal, fourier_series_values, num_harmonics, A, T):\n",
    "    \"\"\"Plots the original signal and its Fourier series approximation.\"\"\"\n",
    "    plt.figure(figsize=(10, 6))\n",
    "    plt.plot(t_vals, original_signal, label='Original Signal', color='blue')\n",
    "    plt.plot(t_vals, fourier_series_values, label=f'Fourier Series ({num_harmonics} Harmonics)', color='red')\n",
    "    plt.xlabel('Time (s)')\n",
    "    plt.ylabel('Amplitude (V)')\n",
    "    plt.title(f'Half-Sawtooth Wave and its Fourier Series Approximation (A={A}V, T={T}s)')\n",
    "    plt.legend()\n",
    "    plt.grid(True)\n",
    "    plt.show()\n",
    "\n",
    "# Parameters\n",
    "A = 1.0  # Amplitude (V)\n",
    "T = 1 / 10e6  # Period (s), 10 MHz frequency\n",
    "num_harmonics = 10  # Number of harmonics to calculate\n",
    "num_points = 1000 # Number of points for plotting\n",
    "t_vals = np.linspace(0, 2 * T, num_points)  # Time values for two periods\n",
    "\n",
    "# Generate the original half-sawtooth signal\n",
    "original_signal = np.array([A * (1 - (t % T) / (T / 2)) if (t % T) < (T / 2) else 0 for t in t_vals])\n",
    "\n",
    "# Calculate the Fourier series\n",
    "analytical_fourier, numerical_fourier = half_sawtooth_fourier_series(A, T, num_harmonics, t_vals)\n",
    "\n",
    "print(\"Analytical Fourier Series Expression:\")\n",
    "print(analytical_fourier)\n",
    "\n",
    "# Plot the results\n",
    "plot_results(t_vals, original_signal, numerical_fourier, num_harmonics, A, T)\n"
   ]
  }
 ],
 "metadata": {
  "kernelspec": {
   "display_name": ".venv",
   "language": "python",
   "name": "python3"
  },
  "language_info": {
   "codemirror_mode": {
    "name": "ipython",
    "version": 3
   },
   "file_extension": ".py",
   "mimetype": "text/x-python",
   "name": "python",
   "nbconvert_exporter": "python",
   "pygments_lexer": "ipython3",
   "version": "3.10.12"
  }
 },
 "nbformat": 4,
 "nbformat_minor": 2
}
