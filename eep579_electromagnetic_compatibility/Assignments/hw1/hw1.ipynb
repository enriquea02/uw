{
 "cells": [
  {
   "cell_type": "code",
   "execution_count": 1,
   "metadata": {},
   "outputs": [],
   "source": [
    "# import necessary libraries\n",
    "# virtual environment is tied to python 3.10.2\n",
    "import math\n",
    "import numpy as np\n",
    "import sympy as sm\n",
    "sm.init_printing(use_latex='mathjax')\n",
    "import matplotlib.pyplot as plt\n",
    "import matplotlib.patches as pch\n",
    "%matplotlib inline\n",
    "from matplotlib.ticker import MaxNLocator # to make integer ticks on x axis"
   ]
  },
  {
   "cell_type": "code",
   "execution_count": 2,
   "metadata": {},
   "outputs": [],
   "source": [
    "# define variables\n",
    "t               = sm.symbols(\"t\", real=True)        # variable of integration\n",
    "n               = sm.symbols(\"n\", integer=True)     # n-th harmonic\n",
    "T               = sm.symbols(\"T\", positive=True)    # period\n",
    "A               = sm.symbols(\"A\", real=True)        # amplitude"
   ]
  },
  {
   "cell_type": "code",
   "execution_count": 3,
   "metadata": {},
   "outputs": [],
   "source": [
    "# define target function\n",
    "# f(t) = A*(1-(t/tau)) if 0 <= t < tau and 0 if tau <= t < (2*tau)\n",
    "# T = 2*tau since duty cycle is set to 50%\n",
    "tau     = T/2\n",
    "T_val   = 0.1e-6  # Period in seconds (0.1 microseconds)\n",
    "\n",
    "ft = sm.Piecewise(\n",
    "    ((A*(1-(t/tau))), (t >= 0) & (t < tau)),\n",
    "    (0, (t >= tau) & (t < T))\n",
    ")"
   ]
  },
  {
   "cell_type": "code",
   "execution_count": 4,
   "metadata": {},
   "outputs": [],
   "source": [
    "# define target function as a fourier series approximation\n",
    "def fourier_coefficients(f, t, n, T):\n",
    "\n",
    "\n",
    "    omega_n = 2 * sm.pi * n / T\n",
    "    integral = sm.integrate(f * sm.exp(-sm.I * omega_n * t), (t, 0, T))\n",
    "    cn = (1/T) * integral\n",
    "    return cn"
   ]
  },
  {
   "cell_type": "code",
   "execution_count": 5,
   "metadata": {},
   "outputs": [
    {
     "data": {
      "text/latex": [
       "$\\displaystyle \\left( 10000000.0 \\left(\\begin{cases} - \\frac{1.0 \\cdot 10^{-7} i \\pi n - 1.0 \\cdot 10^{-7}}{2 \\pi^{2} n^{2}} - \\frac{5.0 \\cdot 10^{-8} e^{- i \\pi n}}{\\pi^{2} n^{2}} & \\text{for}\\: n \\neq 0 \\\\2.5 \\cdot 10^{-8} & \\text{otherwise} \\end{cases}\\right), \\  \\begin{cases} \\frac{0.5 \\left(- \\left(-1\\right)^{n} - i \\pi n + 1\\right)}{\\pi^{2} n^{2}} & \\text{for}\\: n > 0 \\vee n < 0 \\\\0.25 & \\text{otherwise} \\end{cases}\\right)$"
      ],
      "text/plain": [
       "⎛           ⎛⎧                                  -ⅈ⋅π⋅n           ⎞  ⎧    ⎛     ↪\n",
       "⎜           ⎜⎪  1.0e-7⋅ⅈ⋅π⋅n - 1.0e-7   5.0e-8⋅ℯ                 ⎟  ⎪0.5⋅⎝- (- ↪\n",
       "⎜           ⎜⎪- ───────────────────── - ──────────────  for n ≠ 0⎟  ⎪───────── ↪\n",
       "⎜10000000.0⋅⎜⎨            2  2               2  2                ⎟, ⎨          ↪\n",
       "⎜           ⎜⎪         2⋅π ⋅n               π ⋅n                 ⎟  ⎪          ↪\n",
       "⎜           ⎜⎪                                                   ⎟  ⎪          ↪\n",
       "⎝           ⎝⎩                 2.5e-8                   otherwise⎠  ⎩          ↪\n",
       "\n",
       "↪   n            ⎞                   ⎞\n",
       "↪ 1)  - ⅈ⋅π⋅n + 1⎠                   ⎟\n",
       "↪ ────────────────  for n > 0 ∨ n < 0⎟\n",
       "↪   2  2                             ⎟\n",
       "↪  π ⋅n                              ⎟\n",
       "↪                                    ⎟\n",
       "↪  0.25                 otherwise    ⎠"
      ]
     },
     "execution_count": 5,
     "metadata": {},
     "output_type": "execute_result"
    }
   ],
   "source": [
    "# Calculate fourier coefficients\n",
    "fs_coefficients_sawtooth = fourier_coefficients(ft,t,n,T)\n",
    "# Substitute A and T\n",
    "fs_coefficients_sawtooth = fs_coefficients_sawtooth.subs({A: 1, T: T_val})\n",
    "# Show simplified result\n",
    "fs_coefficients_sawtooth, fs_coefficients_sawtooth.simplify()"
   ]
  },
  {
   "cell_type": "code",
   "execution_count": 6,
   "metadata": {},
   "outputs": [
    {
     "data": {
      "text/latex": [
       "$\\displaystyle \\left[ \\left(- \\frac{0.005}{\\pi^{2}} - \\frac{50000.0 \\left(-1.0 \\cdot 10^{-7} - 1.0 \\cdot 10^{-6} i \\pi\\right)}{\\pi^{2}}\\right) e^{- 200.0 i \\pi t}, \\  \\left(\\frac{0.00617283950617284}{\\pi^{2}} - \\frac{61728.3950617284 \\left(-1.0 \\cdot 10^{-7} - 9.0 \\cdot 10^{-7} i \\pi\\right)}{\\pi^{2}}\\right) e^{- 180.0 i \\pi t}, \\  \\left(- \\frac{0.0078125}{\\pi^{2}} - \\frac{78125.0 \\left(-1.0 \\cdot 10^{-7} - 8.0 \\cdot 10^{-7} i \\pi\\right)}{\\pi^{2}}\\right) e^{- 160.0 i \\pi t}, \\  \\left(\\frac{0.0102040816326531}{\\pi^{2}} - \\frac{102040.816326531 \\left(-1.0 \\cdot 10^{-7} - 7.0 \\cdot 10^{-7} i \\pi\\right)}{\\pi^{2}}\\right) e^{- 140.0 i \\pi t}, \\  \\left(- \\frac{0.0138888888888889}{\\pi^{2}} - \\frac{138888.888888889 \\left(-1.0 \\cdot 10^{-7} - 6.0 \\cdot 10^{-7} i \\pi\\right)}{\\pi^{2}}\\right) e^{- 120.0 i \\pi t}, \\  \\left(\\frac{0.02}{\\pi^{2}} - \\frac{200000.0 \\left(-1.0 \\cdot 10^{-7} - 5.0 \\cdot 10^{-7} i \\pi\\right)}{\\pi^{2}}\\right) e^{- 100.0 i \\pi t}, \\  \\left(- \\frac{0.03125}{\\pi^{2}} - \\frac{312500.0 \\left(-1.0 \\cdot 10^{-7} - 4.0 \\cdot 10^{-7} i \\pi\\right)}{\\pi^{2}}\\right) e^{- 80.0 i \\pi t}, \\  \\left(\\frac{0.0555555555555556}{\\pi^{2}} - \\frac{555555.555555556 \\left(-1.0 \\cdot 10^{-7} - 3.0 \\cdot 10^{-7} i \\pi\\right)}{\\pi^{2}}\\right) e^{- 60.0 i \\pi t}, \\  \\left(- \\frac{0.125}{\\pi^{2}} - \\frac{1250000.0 \\left(-1.0 \\cdot 10^{-7} - 2.0 \\cdot 10^{-7} i \\pi\\right)}{\\pi^{2}}\\right) e^{- 40.0 i \\pi t}, \\  \\left(\\frac{0.5}{\\pi^{2}} - \\frac{5000000.0 \\left(-1.0 \\cdot 10^{-7} - 1.0 \\cdot 10^{-7} i \\pi\\right)}{\\pi^{2}}\\right) e^{- 20.0 i \\pi t}, \\  0.25, \\  \\left(\\frac{0.5}{\\pi^{2}} - \\frac{5000000.0 \\left(-1.0 \\cdot 10^{-7} + 1.0 \\cdot 10^{-7} i \\pi\\right)}{\\pi^{2}}\\right) e^{20.0 i \\pi t}, \\  \\left(- \\frac{0.125}{\\pi^{2}} - \\frac{1250000.0 \\left(-1.0 \\cdot 10^{-7} + 2.0 \\cdot 10^{-7} i \\pi\\right)}{\\pi^{2}}\\right) e^{40.0 i \\pi t}, \\  \\left(\\frac{0.0555555555555556}{\\pi^{2}} - \\frac{555555.555555556 \\left(-1.0 \\cdot 10^{-7} + 3.0 \\cdot 10^{-7} i \\pi\\right)}{\\pi^{2}}\\right) e^{60.0 i \\pi t}, \\  \\left(- \\frac{0.03125}{\\pi^{2}} - \\frac{312500.0 \\left(-1.0 \\cdot 10^{-7} + 4.0 \\cdot 10^{-7} i \\pi\\right)}{\\pi^{2}}\\right) e^{80.0 i \\pi t}, \\  \\left(\\frac{0.02}{\\pi^{2}} - \\frac{200000.0 \\left(-1.0 \\cdot 10^{-7} + 5.0 \\cdot 10^{-7} i \\pi\\right)}{\\pi^{2}}\\right) e^{100.0 i \\pi t}, \\  \\left(- \\frac{0.0138888888888889}{\\pi^{2}} - \\frac{138888.888888889 \\left(-1.0 \\cdot 10^{-7} + 6.0 \\cdot 10^{-7} i \\pi\\right)}{\\pi^{2}}\\right) e^{120.0 i \\pi t}, \\  \\left(\\frac{0.0102040816326531}{\\pi^{2}} - \\frac{102040.816326531 \\left(-1.0 \\cdot 10^{-7} + 7.0 \\cdot 10^{-7} i \\pi\\right)}{\\pi^{2}}\\right) e^{140.0 i \\pi t}, \\  \\left(- \\frac{0.0078125}{\\pi^{2}} - \\frac{78125.0 \\left(-1.0 \\cdot 10^{-7} + 8.0 \\cdot 10^{-7} i \\pi\\right)}{\\pi^{2}}\\right) e^{160.0 i \\pi t}, \\  \\left(\\frac{0.00617283950617284}{\\pi^{2}} - \\frac{61728.3950617284 \\left(-1.0 \\cdot 10^{-7} + 9.0 \\cdot 10^{-7} i \\pi\\right)}{\\pi^{2}}\\right) e^{180.0 i \\pi t}\\right]$"
      ],
      "text/plain": [
       "⎡⎛  0.005   50000.0⋅(-1.0e-7 - 1.0e-6⋅ⅈ⋅π)⎞  -200.0⋅ⅈ⋅π⋅t  ⎛0.0061728395061728 ↪\n",
       "⎢⎜- ───── - ──────────────────────────────⎟⋅ℯ            , ⎜────────────────── ↪\n",
       "⎢⎜    2                    2              ⎟                ⎜         2         ↪\n",
       "⎣⎝   π                    π               ⎠                ⎝        π          ↪\n",
       "\n",
       "↪ 4   61728.3950617284⋅(-1.0e-7 - 9.0e-7⋅ⅈ⋅π)⎞  -180.0⋅ⅈ⋅π⋅t  ⎛  0.0078125   7 ↪\n",
       "↪ ─ - ───────────────────────────────────────⎟⋅ℯ            , ⎜- ───────── - ─ ↪\n",
       "↪                        2                   ⎟                ⎜      2         ↪\n",
       "↪                       π                    ⎠                ⎝     π          ↪\n",
       "\n",
       "↪ 8125.0⋅(-1.0e-7 - 8.0e-7⋅ⅈ⋅π)⎞  -160.0⋅ⅈ⋅π⋅t  ⎛0.0102040816326531   102040.8 ↪\n",
       "↪ ─────────────────────────────⎟⋅ℯ            , ⎜────────────────── - ──────── ↪\n",
       "↪               2              ⎟                ⎜         2                    ↪\n",
       "↪              π               ⎠                ⎝        π                     ↪\n",
       "\n",
       "↪ 16326531⋅(-1.0e-7 - 7.0e-7⋅ⅈ⋅π)⎞  -140.0⋅ⅈ⋅π⋅t  ⎛  0.0138888888888889   1388 ↪\n",
       "↪ ───────────────────────────────⎟⋅ℯ            , ⎜- ────────────────── - ──── ↪\n",
       "↪            2                   ⎟                ⎜           2                ↪\n",
       "↪           π                    ⎠                ⎝          π                 ↪\n",
       "\n",
       "↪ 88.888888889⋅(-1.0e-7 - 6.0e-7⋅ⅈ⋅π)⎞  -120.0⋅ⅈ⋅π⋅t  ⎛0.02   200000.0⋅(-1.0e- ↪\n",
       "↪ ───────────────────────────────────⎟⋅ℯ            , ⎜──── - ──────────────── ↪\n",
       "↪                2                   ⎟                ⎜  2                   2 ↪\n",
       "↪               π                    ⎠                ⎝ π                   π  ↪\n",
       "\n",
       "↪ 7 - 5.0e-7⋅ⅈ⋅π)⎞  -100.0⋅ⅈ⋅π⋅t  ⎛  0.03125   312500.0⋅(-1.0e-7 - 4.0e-7⋅ⅈ⋅π) ↪\n",
       "↪ ───────────────⎟⋅ℯ            , ⎜- ─────── - ─────────────────────────────── ↪\n",
       "↪                ⎟                ⎜     2                     2                ↪\n",
       "↪                ⎠                ⎝    π                     π                 ↪\n",
       "\n",
       "↪ ⎞  -80.0⋅ⅈ⋅π⋅t  ⎛0.0555555555555556   555555.555555556⋅(-1.0e-7 - 3.0e-7⋅ⅈ⋅π ↪\n",
       "↪ ⎟⋅ℯ           , ⎜────────────────── - ────────────────────────────────────── ↪\n",
       "↪ ⎟               ⎜         2                              2                   ↪\n",
       "↪ ⎠               ⎝        π                              π                    ↪\n",
       "\n",
       "↪ )⎞  -60.0⋅ⅈ⋅π⋅t  ⎛  0.125   1250000.0⋅(-1.0e-7 - 2.0e-7⋅ⅈ⋅π)⎞  -40.0⋅ⅈ⋅π⋅t   ↪\n",
       "↪ ─⎟⋅ℯ           , ⎜- ───── - ────────────────────────────────⎟⋅ℯ           ,  ↪\n",
       "↪  ⎟               ⎜    2                     2               ⎟                ↪\n",
       "↪  ⎠               ⎝   π                     π                ⎠                ↪\n",
       "\n",
       "↪ ⎛0.5   5000000.0⋅(-1.0e-7 - 1.0e-7⋅ⅈ⋅π)⎞  -20.0⋅ⅈ⋅π⋅t        ⎛0.5   5000000. ↪\n",
       "↪ ⎜─── - ────────────────────────────────⎟⋅ℯ           , 0.25, ⎜─── - ──────── ↪\n",
       "↪ ⎜ 2                    2               ⎟                     ⎜ 2             ↪\n",
       "↪ ⎝π                    π                ⎠                     ⎝π              ↪\n",
       "\n",
       "↪ 0⋅(-1.0e-7 + 1.0e-7⋅ⅈ⋅π)⎞  20.0⋅ⅈ⋅π⋅t  ⎛  0.125   1250000.0⋅(-1.0e-7 + 2.0e- ↪\n",
       "↪ ────────────────────────⎟⋅ℯ          , ⎜- ───── - ────────────────────────── ↪\n",
       "↪         2               ⎟              ⎜    2                     2          ↪\n",
       "↪        π                ⎠              ⎝   π                     π           ↪\n",
       "\n",
       "↪ 7⋅ⅈ⋅π)⎞  40.0⋅ⅈ⋅π⋅t  ⎛0.0555555555555556   555555.555555556⋅(-1.0e-7 + 3.0e- ↪\n",
       "↪ ──────⎟⋅ℯ          , ⎜────────────────── - ───────────────────────────────── ↪\n",
       "↪       ⎟              ⎜         2                              2              ↪\n",
       "↪       ⎠              ⎝        π                              π               ↪\n",
       "\n",
       "↪ 7⋅ⅈ⋅π)⎞  60.0⋅ⅈ⋅π⋅t  ⎛  0.03125   312500.0⋅(-1.0e-7 + 4.0e-7⋅ⅈ⋅π)⎞  80.0⋅ⅈ⋅π ↪\n",
       "↪ ──────⎟⋅ℯ          , ⎜- ─────── - ───────────────────────────────⎟⋅ℯ         ↪\n",
       "↪       ⎟              ⎜     2                     2               ⎟           ↪\n",
       "↪       ⎠              ⎝    π                     π                ⎠           ↪\n",
       "\n",
       "↪ ⋅t  ⎛0.02   200000.0⋅(-1.0e-7 + 5.0e-7⋅ⅈ⋅π)⎞  100.0⋅ⅈ⋅π⋅t  ⎛  0.013888888888 ↪\n",
       "↪   , ⎜──── - ───────────────────────────────⎟⋅ℯ           , ⎜- ────────────── ↪\n",
       "↪     ⎜  2                   2               ⎟               ⎜           2     ↪\n",
       "↪     ⎝ π                   π                ⎠               ⎝          π      ↪\n",
       "\n",
       "↪ 8889   138888.888888889⋅(-1.0e-7 + 6.0e-7⋅ⅈ⋅π)⎞  120.0⋅ⅈ⋅π⋅t  ⎛0.01020408163 ↪\n",
       "↪ ──── - ───────────────────────────────────────⎟⋅ℯ           , ⎜───────────── ↪\n",
       "↪                           2                   ⎟               ⎜         2    ↪\n",
       "↪                          π                    ⎠               ⎝        π     ↪\n",
       "\n",
       "↪ 26531   102040.816326531⋅(-1.0e-7 + 7.0e-7⋅ⅈ⋅π)⎞  140.0⋅ⅈ⋅π⋅t  ⎛  0.0078125  ↪\n",
       "↪ ───── - ───────────────────────────────────────⎟⋅ℯ           , ⎜- ─────────  ↪\n",
       "↪                            2                   ⎟               ⎜      2      ↪\n",
       "↪                           π                    ⎠               ⎝     π       ↪\n",
       "\n",
       "↪   78125.0⋅(-1.0e-7 + 8.0e-7⋅ⅈ⋅π)⎞  160.0⋅ⅈ⋅π⋅t  ⎛0.00617283950617284   61728 ↪\n",
       "↪ - ──────────────────────────────⎟⋅ℯ           , ⎜─────────────────── - ───── ↪\n",
       "↪                  2              ⎟               ⎜         2                  ↪\n",
       "↪                 π               ⎠               ⎝        π                   ↪\n",
       "\n",
       "↪ .3950617284⋅(-1.0e-7 + 9.0e-7⋅ⅈ⋅π)⎞  180.0⋅ⅈ⋅π⋅t⎤\n",
       "↪ ──────────────────────────────────⎟⋅ℯ           ⎥\n",
       "↪               2                   ⎟             ⎥\n",
       "↪              π                    ⎠             ⎦"
      ]
     },
     "execution_count": 6,
     "metadata": {},
     "output_type": "execute_result"
    }
   ],
   "source": [
    "# Here are some of the terms of the Fourier Series\n",
    "vals = range(-10,10)\n",
    "terms = [fs_coefficients_sawtooth.subs(n, k) * sm.exp(2*sm.pi*sm.I*k *t / 0.1) for k in vals]\n",
    "terms"
   ]
  },
  {
   "cell_type": "code",
   "execution_count": 7,
   "metadata": {},
   "outputs": [
    {
     "data": {
      "text/latex": [
       "$\\displaystyle \\left[ \\left(- \\frac{0.005}{\\pi^{2}} - \\frac{50000.0 \\left(-1.0 \\cdot 10^{-7} - 1.0 \\cdot 10^{-6} i \\pi\\right)}{\\pi^{2}}\\right) \\left(- i \\sin{\\left(200 \\pi t \\right)} + \\cos{\\left(200 \\pi t \\right)}\\right), \\  \\left(\\frac{0.00617283950617284}{\\pi^{2}} - \\frac{61728.3950617284 \\left(-1.0 \\cdot 10^{-7} - 9.0 \\cdot 10^{-7} i \\pi\\right)}{\\pi^{2}}\\right) \\left(- i \\sin{\\left(180 \\pi t \\right)} + \\cos{\\left(180 \\pi t \\right)}\\right), \\  \\left(- \\frac{0.0078125}{\\pi^{2}} - \\frac{78125.0 \\left(-1.0 \\cdot 10^{-7} - 8.0 \\cdot 10^{-7} i \\pi\\right)}{\\pi^{2}}\\right) \\left(- i \\sin{\\left(160 \\pi t \\right)} + \\cos{\\left(160 \\pi t \\right)}\\right), \\  \\left(\\frac{0.0102040816326531}{\\pi^{2}} - \\frac{102040.816326531 \\left(-1.0 \\cdot 10^{-7} - 7.0 \\cdot 10^{-7} i \\pi\\right)}{\\pi^{2}}\\right) \\left(- i \\sin{\\left(140 \\pi t \\right)} + \\cos{\\left(140 \\pi t \\right)}\\right), \\  \\left(- \\frac{0.0138888888888889}{\\pi^{2}} - \\frac{138888.888888889 \\left(-1.0 \\cdot 10^{-7} - 6.0 \\cdot 10^{-7} i \\pi\\right)}{\\pi^{2}}\\right) \\left(- i \\sin{\\left(120 \\pi t \\right)} + \\cos{\\left(120 \\pi t \\right)}\\right), \\  \\left(\\frac{0.02}{\\pi^{2}} - \\frac{200000.0 \\left(-1.0 \\cdot 10^{-7} - 5.0 \\cdot 10^{-7} i \\pi\\right)}{\\pi^{2}}\\right) \\left(- i \\sin{\\left(100 \\pi t \\right)} + \\cos{\\left(100 \\pi t \\right)}\\right), \\  \\left(- \\frac{0.03125}{\\pi^{2}} - \\frac{312500.0 \\left(-1.0 \\cdot 10^{-7} - 4.0 \\cdot 10^{-7} i \\pi\\right)}{\\pi^{2}}\\right) \\left(- i \\sin{\\left(80 \\pi t \\right)} + \\cos{\\left(80 \\pi t \\right)}\\right), \\  \\left(\\frac{0.0555555555555556}{\\pi^{2}} - \\frac{555555.555555556 \\left(-1.0 \\cdot 10^{-7} - 3.0 \\cdot 10^{-7} i \\pi\\right)}{\\pi^{2}}\\right) \\left(- i \\sin{\\left(60 \\pi t \\right)} + \\cos{\\left(60 \\pi t \\right)}\\right), \\  \\left(- \\frac{0.125}{\\pi^{2}} - \\frac{1250000.0 \\left(-1.0 \\cdot 10^{-7} - 2.0 \\cdot 10^{-7} i \\pi\\right)}{\\pi^{2}}\\right) \\left(- i \\sin{\\left(40 \\pi t \\right)} + \\cos{\\left(40 \\pi t \\right)}\\right), \\  \\left(\\frac{0.5}{\\pi^{2}} - \\frac{5000000.0 \\left(-1.0 \\cdot 10^{-7} - 1.0 \\cdot 10^{-7} i \\pi\\right)}{\\pi^{2}}\\right) \\left(- i \\sin{\\left(20 \\pi t \\right)} + \\cos{\\left(20 \\pi t \\right)}\\right), \\  0.25, \\  \\left(\\frac{0.5}{\\pi^{2}} - \\frac{5000000.0 \\left(-1.0 \\cdot 10^{-7} + 1.0 \\cdot 10^{-7} i \\pi\\right)}{\\pi^{2}}\\right) \\left(i \\sin{\\left(20 \\pi t \\right)} + \\cos{\\left(20 \\pi t \\right)}\\right), \\  \\left(- \\frac{0.125}{\\pi^{2}} - \\frac{1250000.0 \\left(-1.0 \\cdot 10^{-7} + 2.0 \\cdot 10^{-7} i \\pi\\right)}{\\pi^{2}}\\right) \\left(i \\sin{\\left(40 \\pi t \\right)} + \\cos{\\left(40 \\pi t \\right)}\\right), \\  \\left(\\frac{0.0555555555555556}{\\pi^{2}} - \\frac{555555.555555556 \\left(-1.0 \\cdot 10^{-7} + 3.0 \\cdot 10^{-7} i \\pi\\right)}{\\pi^{2}}\\right) \\left(i \\sin{\\left(60 \\pi t \\right)} + \\cos{\\left(60 \\pi t \\right)}\\right), \\  \\left(- \\frac{0.03125}{\\pi^{2}} - \\frac{312500.0 \\left(-1.0 \\cdot 10^{-7} + 4.0 \\cdot 10^{-7} i \\pi\\right)}{\\pi^{2}}\\right) \\left(i \\sin{\\left(80 \\pi t \\right)} + \\cos{\\left(80 \\pi t \\right)}\\right), \\  \\left(\\frac{0.02}{\\pi^{2}} - \\frac{200000.0 \\left(-1.0 \\cdot 10^{-7} + 5.0 \\cdot 10^{-7} i \\pi\\right)}{\\pi^{2}}\\right) \\left(i \\sin{\\left(100 \\pi t \\right)} + \\cos{\\left(100 \\pi t \\right)}\\right), \\  \\left(- \\frac{0.0138888888888889}{\\pi^{2}} - \\frac{138888.888888889 \\left(-1.0 \\cdot 10^{-7} + 6.0 \\cdot 10^{-7} i \\pi\\right)}{\\pi^{2}}\\right) \\left(i \\sin{\\left(120 \\pi t \\right)} + \\cos{\\left(120 \\pi t \\right)}\\right), \\  \\left(\\frac{0.0102040816326531}{\\pi^{2}} - \\frac{102040.816326531 \\left(-1.0 \\cdot 10^{-7} + 7.0 \\cdot 10^{-7} i \\pi\\right)}{\\pi^{2}}\\right) \\left(i \\sin{\\left(140 \\pi t \\right)} + \\cos{\\left(140 \\pi t \\right)}\\right), \\  \\left(- \\frac{0.0078125}{\\pi^{2}} - \\frac{78125.0 \\left(-1.0 \\cdot 10^{-7} + 8.0 \\cdot 10^{-7} i \\pi\\right)}{\\pi^{2}}\\right) \\left(i \\sin{\\left(160 \\pi t \\right)} + \\cos{\\left(160 \\pi t \\right)}\\right), \\  \\left(\\frac{0.00617283950617284}{\\pi^{2}} - \\frac{61728.3950617284 \\left(-1.0 \\cdot 10^{-7} + 9.0 \\cdot 10^{-7} i \\pi\\right)}{\\pi^{2}}\\right) \\left(i \\sin{\\left(180 \\pi t \\right)} + \\cos{\\left(180 \\pi t \\right)}\\right)\\right]$"
      ],
      "text/plain": [
       "⎡⎛  0.005   50000.0⋅(-1.0e-7 - 1.0e-6⋅ⅈ⋅π)⎞                                    ↪\n",
       "⎢⎜- ───── - ──────────────────────────────⎟⋅(-ⅈ⋅sin(200⋅π⋅t) + cos(200⋅π⋅t)),  ↪\n",
       "⎢⎜    2                    2              ⎟                                    ↪\n",
       "⎣⎝   π                    π               ⎠                                    ↪\n",
       "\n",
       "↪ ⎛0.00617283950617284   61728.3950617284⋅(-1.0e-7 - 9.0e-7⋅ⅈ⋅π)⎞              ↪\n",
       "↪ ⎜─────────────────── - ───────────────────────────────────────⎟⋅(-ⅈ⋅sin(180⋅ ↪\n",
       "↪ ⎜         2                               2                   ⎟              ↪\n",
       "↪ ⎝        π                               π                    ⎠              ↪\n",
       "\n",
       "↪                       ⎛  0.0078125   78125.0⋅(-1.0e-7 - 8.0e-7⋅ⅈ⋅π)⎞         ↪\n",
       "↪ π⋅t) + cos(180⋅π⋅t)), ⎜- ───────── - ──────────────────────────────⎟⋅(-ⅈ⋅sin ↪\n",
       "↪                       ⎜      2                      2              ⎟         ↪\n",
       "↪                       ⎝     π                      π               ⎠         ↪\n",
       "\n",
       "↪                            ⎛0.0102040816326531   102040.816326531⋅(-1.0e-7 - ↪\n",
       "↪ (160⋅π⋅t) + cos(160⋅π⋅t)), ⎜────────────────── - ─────────────────────────── ↪\n",
       "↪                            ⎜         2                              2        ↪\n",
       "↪                            ⎝        π                              π         ↪\n",
       "\n",
       "↪  7.0e-7⋅ⅈ⋅π)⎞                                   ⎛  0.0138888888888889   1388 ↪\n",
       "↪ ────────────⎟⋅(-ⅈ⋅sin(140⋅π⋅t) + cos(140⋅π⋅t)), ⎜- ────────────────── - ──── ↪\n",
       "↪             ⎟                                   ⎜           2                ↪\n",
       "↪             ⎠                                   ⎝          π                 ↪\n",
       "\n",
       "↪ 88.888888889⋅(-1.0e-7 - 6.0e-7⋅ⅈ⋅π)⎞                                   ⎛0.02 ↪\n",
       "↪ ───────────────────────────────────⎟⋅(-ⅈ⋅sin(120⋅π⋅t) + cos(120⋅π⋅t)), ⎜──── ↪\n",
       "↪                2                   ⎟                                   ⎜  2  ↪\n",
       "↪               π                    ⎠                                   ⎝ π   ↪\n",
       "\n",
       "↪    200000.0⋅(-1.0e-7 - 5.0e-7⋅ⅈ⋅π)⎞                                   ⎛  0.0 ↪\n",
       "↪  - ───────────────────────────────⎟⋅(-ⅈ⋅sin(100⋅π⋅t) + cos(100⋅π⋅t)), ⎜- ─── ↪\n",
       "↪                   2               ⎟                                   ⎜      ↪\n",
       "↪                  π                ⎠                                   ⎝    π ↪\n",
       "\n",
       "↪ 3125   312500.0⋅(-1.0e-7 - 4.0e-7⋅ⅈ⋅π)⎞                                 ⎛0.0 ↪\n",
       "↪ ──── - ───────────────────────────────⎟⋅(-ⅈ⋅sin(80⋅π⋅t) + cos(80⋅π⋅t)), ⎜─── ↪\n",
       "↪ 2                     2               ⎟                                 ⎜    ↪\n",
       "↪                      π                ⎠                                 ⎝    ↪\n",
       "\n",
       "↪ 555555555555556   555555.555555556⋅(-1.0e-7 - 3.0e-7⋅ⅈ⋅π)⎞                   ↪\n",
       "↪ ─────────────── - ───────────────────────────────────────⎟⋅(-ⅈ⋅sin(60⋅π⋅t) + ↪\n",
       "↪       2                              2                   ⎟                   ↪\n",
       "↪      π                              π                    ⎠                   ↪\n",
       "\n",
       "↪                ⎛  0.125   1250000.0⋅(-1.0e-7 - 2.0e-7⋅ⅈ⋅π)⎞                  ↪\n",
       "↪  cos(60⋅π⋅t)), ⎜- ───── - ────────────────────────────────⎟⋅(-ⅈ⋅sin(40⋅π⋅t)  ↪\n",
       "↪                ⎜    2                     2               ⎟                  ↪\n",
       "↪                ⎝   π                     π                ⎠                  ↪\n",
       "\n",
       "↪                 ⎛0.5   5000000.0⋅(-1.0e-7 - 1.0e-7⋅ⅈ⋅π)⎞                     ↪\n",
       "↪ + cos(40⋅π⋅t)), ⎜─── - ────────────────────────────────⎟⋅(-ⅈ⋅sin(20⋅π⋅t) + c ↪\n",
       "↪                 ⎜ 2                    2               ⎟                     ↪\n",
       "↪                 ⎝π                    π                ⎠                     ↪\n",
       "\n",
       "↪                    ⎛0.5   5000000.0⋅(-1.0e-7 + 1.0e-7⋅ⅈ⋅π)⎞                  ↪\n",
       "↪ os(20⋅π⋅t)), 0.25, ⎜─── - ────────────────────────────────⎟⋅(ⅈ⋅sin(20⋅π⋅t) + ↪\n",
       "↪                    ⎜ 2                    2               ⎟                  ↪\n",
       "↪                    ⎝π                    π                ⎠                  ↪\n",
       "\n",
       "↪                ⎛  0.125   1250000.0⋅(-1.0e-7 + 2.0e-7⋅ⅈ⋅π)⎞                  ↪\n",
       "↪  cos(20⋅π⋅t)), ⎜- ───── - ────────────────────────────────⎟⋅(ⅈ⋅sin(40⋅π⋅t) + ↪\n",
       "↪                ⎜    2                     2               ⎟                  ↪\n",
       "↪                ⎝   π                     π                ⎠                  ↪\n",
       "\n",
       "↪                ⎛0.0555555555555556   555555.555555556⋅(-1.0e-7 + 3.0e-7⋅ⅈ⋅π) ↪\n",
       "↪  cos(40⋅π⋅t)), ⎜────────────────── - ─────────────────────────────────────── ↪\n",
       "↪                ⎜         2                              2                    ↪\n",
       "↪                ⎝        π                              π                     ↪\n",
       "\n",
       "↪ ⎞                                ⎛  0.03125   312500.0⋅(-1.0e-7 + 4.0e-7⋅ⅈ⋅π ↪\n",
       "↪ ⎟⋅(ⅈ⋅sin(60⋅π⋅t) + cos(60⋅π⋅t)), ⎜- ─────── - ────────────────────────────── ↪\n",
       "↪ ⎟                                ⎜     2                     2               ↪\n",
       "↪ ⎠                                ⎝    π                     π                ↪\n",
       "\n",
       "↪ )⎞                                ⎛0.02   200000.0⋅(-1.0e-7 + 5.0e-7⋅ⅈ⋅π)⎞   ↪\n",
       "↪ ─⎟⋅(ⅈ⋅sin(80⋅π⋅t) + cos(80⋅π⋅t)), ⎜──── - ───────────────────────────────⎟⋅( ↪\n",
       "↪  ⎟                                ⎜  2                   2               ⎟   ↪\n",
       "↪  ⎠                                ⎝ π                   π                ⎠   ↪\n",
       "\n",
       "↪                                 ⎛  0.0138888888888889   138888.888888889⋅(-1 ↪\n",
       "↪ ⅈ⋅sin(100⋅π⋅t) + cos(100⋅π⋅t)), ⎜- ────────────────── - ──────────────────── ↪\n",
       "↪                                 ⎜           2                              2 ↪\n",
       "↪                                 ⎝          π                              π  ↪\n",
       "\n",
       "↪ .0e-7 + 6.0e-7⋅ⅈ⋅π)⎞                                  ⎛0.0102040816326531    ↪\n",
       "↪ ───────────────────⎟⋅(ⅈ⋅sin(120⋅π⋅t) + cos(120⋅π⋅t)), ⎜────────────────── -  ↪\n",
       "↪                    ⎟                                  ⎜         2            ↪\n",
       "↪                    ⎠                                  ⎝        π             ↪\n",
       "\n",
       "↪ 102040.816326531⋅(-1.0e-7 + 7.0e-7⋅ⅈ⋅π)⎞                                  ⎛  ↪\n",
       "↪ ───────────────────────────────────────⎟⋅(ⅈ⋅sin(140⋅π⋅t) + cos(140⋅π⋅t)), ⎜- ↪\n",
       "↪                    2                   ⎟                                  ⎜  ↪\n",
       "↪                   π                    ⎠                                  ⎝  ↪\n",
       "\n",
       "↪  0.0078125   78125.0⋅(-1.0e-7 + 8.0e-7⋅ⅈ⋅π)⎞                                 ↪\n",
       "↪  ───────── - ──────────────────────────────⎟⋅(ⅈ⋅sin(160⋅π⋅t) + cos(160⋅π⋅t)) ↪\n",
       "↪      2                      2              ⎟                                 ↪\n",
       "↪     π                      π               ⎠                                 ↪\n",
       "\n",
       "↪   ⎛0.00617283950617284   61728.3950617284⋅(-1.0e-7 + 9.0e-7⋅ⅈ⋅π)⎞            ↪\n",
       "↪ , ⎜─────────────────── - ───────────────────────────────────────⎟⋅(ⅈ⋅sin(180 ↪\n",
       "↪   ⎜         2                               2                   ⎟            ↪\n",
       "↪   ⎝        π                               π                    ⎠            ↪\n",
       "\n",
       "↪                      ⎤\n",
       "↪ ⋅π⋅t) + cos(180⋅π⋅t))⎥\n",
       "↪                      ⎥\n",
       "↪                      ⎦"
      ]
     },
     "execution_count": 7,
     "metadata": {},
     "output_type": "execute_result"
    }
   ],
   "source": [
    "# Here are the terms write with sines and cosines\n",
    "[t.rewrite(sm.sin) for t in terms]"
   ]
  },
  {
   "cell_type": "code",
   "execution_count": 8,
   "metadata": {},
   "outputs": [
    {
     "data": {
      "image/png": "[encoded data removed]",
      "text/plain": [
       "<Figure size 640x480 with 1 Axes>"
      ]
     },
     "metadata": {},
     "output_type": "display_data"
    }
   ],
   "source": [
    "# Plot the sum of all the terms versus t\n",
    "fapprox = sum(terms)\n",
    "plot = sm.plot(fapprox, (t, -2 * T_val, 2 * T_val), title=\"Finite Fourier Series Approximation to a Sawtooth Wave (A=1, T=0.1 us)\", show=False)\n",
    "plot.show() # Explicitly show the plot"
   ]
  }
 ],
 "metadata": {
  "kernelspec": {
   "display_name": ".venv",
   "language": "python",
   "name": "python3"
  },
  "language_info": {
   "codemirror_mode": {
    "name": "ipython",
    "version": 3
   },
   "file_extension": ".py",
   "mimetype": "text/x-python",
   "name": "python",
   "nbconvert_exporter": "python",
   "pygments_lexer": "ipython3",
   "version": "3.10.12"
  }
 },
 "nbformat": 4,
 "nbformat_minor": 2
}
