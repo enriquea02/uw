{
  "cells": [
    {
      "cell_type": "markdown",
      "metadata": {
        "id": "k003EJRYbRLb"
      },
      "source": [
        "EE 502 P: Analytical Methods\n",
        "# 3: Real Analysis\n",
        "## Prof. Eric Klavins, Electrical and Computer Engineering\n",
        "\n",
        "### Tamara Bonaci, Department of Electrical and Computer Engineering\n",
        "### October 9, 2024\n",
        "Copyright &copy; 2024, University of Washington\n",
        "\n",
        "![](https://mathwithbaddrawings.files.wordpress.com/2015/02/20150225072534_00001.jpg)\n"
      ]
    },
    {
      "cell_type": "markdown",
      "metadata": {
        "collapsed": true,
        "id": "umEJ8pzubRLf"
      },
      "source": [
        "# Outline\n",
        "\n",
        "Review\n",
        "- Functions and lambdas\n",
        "\n",
        "Limits of Sequences\n",
        "- Definition\n",
        "- Examples: $n^2$, $1/n$\n",
        "- Sequence convergence\n",
        "- Examples: $1/n$, $1/(1+rn)$\n",
        "\n",
        "Limits of functions\n",
        "- Cluster points and relationship to sequences\n",
        "- $\\varepsilon-\\delta$ definition\n",
        "- Examples: $b$, $x^2$, $1/x$ as $x \\rightarrow c \\neq 0$\n",
        "- Sequence definition and divergence criteria\n",
        "- Examples: $1/x$ as $x \\rightarrow 0$\n",
        "- Rules for sum, difference, product, multiple, quotient\n",
        "- Examples: $1/x$, poly / poly,\n",
        "- Not covered: limits at infinity, one-sided limits\n",
        "\n",
        "Continuous Functions\n",
        "- Neighborhood and sequence definitions\n",
        "- Examples: $b$, $x$, $1/x$, $\\sin(1/x)$\n",
        "- Combinations of functions (sum, multiple, produce, quotient, composition, inverses)\n",
        "- $\\sin$, $\\cos$ (not proven to save time)\n",
        "- Intermediate value theorem (and restatements)\n",
        "- Examples: Root finding via bisection (see homework)\n",
        "\n",
        "Derivatives\n",
        "- Definition in terms of limit\n",
        "- Combinations: sum, multiple, product, quotient, infinite sums and products\n",
        "- Chain rule\n",
        "- Examples: 1/f, tan\n",
        "- Mean value theorem\n",
        "- Example: Finding square roots\n",
        "- Example: Showing $e^x \\geq 1+x$, $(1+x)^a \\geq 1 + ax$, etc\n",
        "- L'Hospital's rules and examples of various indeterminate forms (see homework)\n",
        "\n",
        "Taylor's Theorem\n",
        "- Statement, derivation, and short proof\n",
        "- Examples: cube roots, sin, and exponential\n",
        "\n",
        "Integrals\n",
        "- Will do a homework exercise on"
      ]
    },
    {
      "cell_type": "markdown",
      "metadata": {
        "id": "h3PBLdDWbRLh"
      },
      "source": [
        "# Imports"
      ]
    },
    {
      "cell_type": "code",
      "execution_count": 1,
      "metadata": {
        "id": "7zM56lzLbRLh"
      },
      "outputs": [],
      "source": [
        "import math\n",
        "import numpy as np\n",
        "import sympy as sm\n",
        "sm.init_printing(use_latex='mathjax')\n",
        "import matplotlib.pyplot as plt\n",
        "import matplotlib.patches as pch\n",
        "%matplotlib inline"
      ]
    },
    {
      "cell_type": "markdown",
      "metadata": {
        "id": "-HWl7MvubRLj"
      },
      "source": [
        "# Functions"
      ]
    },
    {
      "cell_type": "code",
      "execution_count": 2,
      "metadata": {
        "colab": {
          "base_uri": "https://localhost:8080/",
          "height": 37
        },
        "id": "j_OzDEBybRLj",
        "outputId": "9f3624de-2e43-4dff-a398-8c38469d4754"
      },
      "outputs": [
        {
          "output_type": "execute_result",
          "data": {
            "text/plain": [
              "2"
            ],
            "text/latex": "$\\displaystyle 2$"
          },
          "metadata": {},
          "execution_count": 2
        }
      ],
      "source": [
        "# In Python you can represent functions with a finite numbner of elements as dictionaries\n",
        "\n",
        "f = { 1: 2, 2: 3 }\n",
        "f[1]"
      ]
    },
    {
      "cell_type": "code",
      "execution_count": 3,
      "metadata": {
        "colab": {
          "base_uri": "https://localhost:8080/",
          "height": 37
        },
        "id": "wDIE3QnzbRLl",
        "outputId": "440ed37e-cf2d-4f6c-9ecf-a4791babc7c3"
      },
      "outputs": [
        {
          "output_type": "execute_result",
          "data": {
            "text/plain": [
              "{1: 3}"
            ],
            "text/latex": "$\\displaystyle \\left\\{ 1 : 3\\right\\}$"
          },
          "metadata": {},
          "execution_count": 3
        }
      ],
      "source": [
        "# Note that the dictionary format prevents you from mapping a single element to two elements in the range\n",
        "\n",
        "f = { 1: 2, 1: 3 }\n",
        "f"
      ]
    },
    {
      "cell_type": "code",
      "execution_count": 4,
      "metadata": {
        "colab": {
          "base_uri": "https://localhost:8080/",
          "height": 37
        },
        "id": "ERWYTPdtbRLl",
        "outputId": "0baaa946-5a95-446f-ee3a-06b3717f340c"
      },
      "outputs": [
        {
          "output_type": "execute_result",
          "data": {
            "text/plain": [
              "({1, 2}, {2, 3})"
            ],
            "text/latex": "$\\displaystyle \\left( \\left\\{1, 2\\right\\}, \\  \\left\\{2, 3\\right\\}\\right)$"
          },
          "metadata": {},
          "execution_count": 4
        }
      ],
      "source": [
        "# You can compute the domain and range of a function\n",
        "\n",
        "def domain(F):\n",
        "    return set(F.keys())\n",
        "\n",
        "def frange(F):\n",
        "    return set(F.values())\n",
        "\n",
        "f = {1: 2, 2: 3}\n",
        "\n",
        "domain(f), frange(f)"
      ]
    },
    {
      "cell_type": "code",
      "execution_count": 5,
      "metadata": {
        "colab": {
          "base_uri": "https://localhost:8080/",
          "height": 37
        },
        "id": "3_igfAGPbRLm",
        "outputId": "36c57e3b-ddf9-4ffa-e4cf-e7239c870f18"
      },
      "outputs": [
        {
          "output_type": "execute_result",
          "data": {
            "text/plain": [
              "{2: 3, 3: 9}"
            ],
            "text/latex": "$\\displaystyle \\left\\{ 2 : 3, \\  3 : 9\\right\\}$"
          },
          "metadata": {},
          "execution_count": 5
        }
      ],
      "source": [
        "# You can write a simple function to compute the composition of two functions\n",
        "\n",
        "def compose(F, G):\n",
        "    H = {}\n",
        "    for x in domain(F):\n",
        "        H[x] = G[F[x]]\n",
        "    return H\n",
        "\n",
        "\n",
        "f = {20: 3, 30: 9}\n",
        "g = {2: 20, 3: 30}\n",
        "#compose(f,g)\n",
        "\n",
        "compose(g,f)"
      ]
    },
    {
      "cell_type": "markdown",
      "metadata": {
        "id": "MD1XIU_tbRLn"
      },
      "source": [
        "## Functions in Python\n",
        "Of course, functions in Python are defined using def. They can actually be treated as objects as well, and passed around as arguments, and so on.\n",
        "Another way to define functions is with a lambda expression, a concept available in most programming languages. This is used when you may not want to name the function, or if you need to write a function that returns another function."
      ]
    },
    {
      "cell_type": "code",
      "execution_count": 6,
      "metadata": {
        "id": "QXfhvry5bRLn"
      },
      "outputs": [],
      "source": [
        "def F(x):\n",
        "    return x + 1"
      ]
    },
    {
      "cell_type": "code",
      "execution_count": 7,
      "metadata": {
        "colab": {
          "base_uri": "https://localhost:8080/",
          "height": 37
        },
        "id": "E-jtm7f8bRLo",
        "outputId": "9c3be842-e306-4f1a-9316-4a0c0faff89b"
      },
      "outputs": [
        {
          "output_type": "execute_result",
          "data": {
            "text/plain": [
              "226"
            ],
            "text/latex": "$\\displaystyle 226$"
          },
          "metadata": {},
          "execution_count": 7
        }
      ],
      "source": [
        "# Lambda example\n",
        "\n",
        "#def increaseByOne(x):\n",
        "#    return x + 1\n",
        "\n",
        "F = lambda x : x + 1\n",
        "\n",
        "F(123)\n",
        "\n",
        "F(225)"
      ]
    },
    {
      "cell_type": "code",
      "execution_count": 8,
      "metadata": {
        "id": "xWjTiYczbRLo"
      },
      "outputs": [],
      "source": [
        "# Using this idea, we can convert a dictionary into a full fledged lambda function.\n",
        "\n",
        "def dict_to_function(F):\n",
        "    return lambda x : F[x] if x in domain(F) else None\n",
        "\n",
        "F = dict_to_function(f)"
      ]
    },
    {
      "cell_type": "code",
      "execution_count": 9,
      "metadata": {
        "colab": {
          "base_uri": "https://localhost:8080/"
        },
        "id": "FGh5enk2bRLp",
        "outputId": "1fd7f1c9-a457-4735-9d6a-b5c20a2ce0c7"
      },
      "outputs": [
        {
          "output_type": "execute_result",
          "data": {
            "text/plain": [
              "(dict, function)"
            ]
          },
          "metadata": {},
          "execution_count": 9
        }
      ],
      "source": [
        "type(f), type(F)"
      ]
    },
    {
      "cell_type": "code",
      "execution_count": 10,
      "metadata": {
        "colab": {
          "base_uri": "https://localhost:8080/",
          "height": 37
        },
        "id": "nnF1PjxgbRLq",
        "outputId": "97edf44a-c84b-43cb-a514-bdf0d3f0c5f3"
      },
      "outputs": [
        {
          "output_type": "execute_result",
          "data": {
            "text/plain": [
              "(2, 3)"
            ],
            "text/latex": "$\\displaystyle \\left( 2, \\  3\\right)$"
          },
          "metadata": {},
          "execution_count": 10
        }
      ],
      "source": [
        "f = {1: 2, 2: 3}\n",
        "F = dict_to_function(f)\n",
        "f[1], F(2)"
      ]
    },
    {
      "cell_type": "code",
      "execution_count": 11,
      "metadata": {
        "colab": {
          "base_uri": "https://localhost:8080/",
          "height": 37
        },
        "id": "AI0X57v6bRLq",
        "outputId": "ed5ef775-0d9c-4873-f576-f72a765a2d27"
      },
      "outputs": [
        {
          "output_type": "execute_result",
          "data": {
            "text/plain": [
              "30"
            ],
            "text/latex": "$\\displaystyle 30$"
          },
          "metadata": {},
          "execution_count": 11
        }
      ],
      "source": [
        "FOG = dict_to_function(compose(f,g))\n",
        "FOG(2)"
      ]
    },
    {
      "cell_type": "code",
      "execution_count": 12,
      "metadata": {
        "colab": {
          "base_uri": "https://localhost:8080/",
          "height": 37
        },
        "id": "a-gdqs5RbRLr",
        "outputId": "5fe9d2bb-46b9-4771-a020-73193b32156b"
      },
      "outputs": [
        {
          "output_type": "execute_result",
          "data": {
            "text/plain": [
              "168"
            ],
            "text/latex": "$\\displaystyle 168$"
          },
          "metadata": {},
          "execution_count": 12
        }
      ],
      "source": [
        "(lambda x, y : x + y)(45,123)"
      ]
    },
    {
      "cell_type": "code",
      "execution_count": 13,
      "metadata": {
        "colab": {
          "base_uri": "https://localhost:8080/"
        },
        "id": "UA2AkjSjbRLs",
        "outputId": "3187bfff-297d-44b5-c386-754ec0adb595"
      },
      "outputs": [
        {
          "output_type": "execute_result",
          "data": {
            "text/plain": [
              "function"
            ]
          },
          "metadata": {},
          "execution_count": 13
        }
      ],
      "source": [
        "type(lambda x, y : x * y)"
      ]
    },
    {
      "cell_type": "markdown",
      "metadata": {
        "id": "-iIK7Q7NbRLs"
      },
      "source": [
        "# Sequences"
      ]
    },
    {
      "cell_type": "markdown",
      "metadata": {
        "id": "voDqzjkwbRLs"
      },
      "source": [
        "**Def:** A **sequence** of real numbers is a real valued function on the set $\\mathbb{N} = \\{ 0, 1, 2, 3, \\dots \\}$. Sometimes we include $0$ in $\\mathbb{N}$, sometimes we don't. It should be clear from context.\n",
        "\n",
        "If $X : \\mathbb{N} \\rightarrow \\mathbb{R}$, the sequence of values is referred to by\n",
        "\n",
        "$$\n",
        "X(0), X(1), X(2), \\dots\n",
        "$$\n",
        "\n",
        "Usually, we refer to the elements of the sequence by $x_n = X(n)$ and write\n",
        "\n",
        "$$\n",
        "x_0, x_1, x_2, \\dots\n",
        "$$\n",
        "\n",
        "For example, if $x_n = n^2$, then\n",
        "\n",
        "$$\n",
        "X = ( 0, 1, 4, 9, \\dots )\n",
        "$$\n",
        "\n",
        "In Python we represent sequences as functions that take a single integer $n$ and return the value at that $n$. So that we can manipulate them like sequences, we can wrap them in a `np.array`. So that we can do exact math, we might also use `sympy` to represent the elements of the sequence."
      ]
    },
    {
      "cell_type": "code",
      "execution_count": 14,
      "metadata": {
        "ExecuteTime": {
          "end_time": "2019-10-10T02:14:30.652666Z",
          "start_time": "2019-10-10T02:14:30.635985Z"
        },
        "colab": {
          "base_uri": "https://localhost:8080/"
        },
        "id": "japqJrJfbRLt",
        "outputId": "bf4c3a52-193a-4578-94ef-9b1563c6f89b"
      },
      "outputs": [
        {
          "output_type": "execute_result",
          "data": {
            "text/plain": [
              "([1,\n",
              "  4,\n",
              "  9,\n",
              "  16,\n",
              "  25,\n",
              "  36,\n",
              "  49,\n",
              "  64,\n",
              "  81,\n",
              "  100,\n",
              "  121,\n",
              "  144,\n",
              "  169,\n",
              "  196,\n",
              "  225,\n",
              "  256,\n",
              "  289,\n",
              "  324,\n",
              "  361],\n",
              " array([  1,   4,   9,  16,  25,  36,  49,  64,  81, 100, 121, 144, 169,\n",
              "        196, 225, 256, 289, 324, 361]),\n",
              " array([1, 4, 9, 16, 25, 36, 49, 64, 81, 100, 121, 144, 169, 196, 225, 256,\n",
              "        289, 324, 361], dtype=object))"
            ]
          },
          "metadata": {},
          "execution_count": 14
        }
      ],
      "source": [
        "#\n",
        "# Example: The sequence (n**2 : for n \\in N)\n",
        "#\n",
        "\n",
        "def x(n):\n",
        "    return n**2\n",
        "\n",
        "# As a Python list\n",
        "X1 = [x(n) for n in range(1,20)]\n",
        "\n",
        "# As a numpy list\n",
        "X2 = np.array([x(n) for n in range(1,20)])\n",
        "\n",
        "# As a numpy list of infinite precesion sympy numbers\n",
        "X = np.array([x(sm.Integer(n)) for n in range(1,20)])\n",
        "X1, X2, X"
      ]
    },
    {
      "cell_type": "code",
      "execution_count": 15,
      "metadata": {
        "ExecuteTime": {
          "end_time": "2019-10-10T02:16:02.672249Z",
          "start_time": "2019-10-10T02:16:02.668058Z"
        },
        "colab": {
          "base_uri": "https://localhost:8080/"
        },
        "id": "roGbQAALbRLu",
        "outputId": "3bab20c8-6d5b-4995-8f6c-7b1e258045b8"
      },
      "outputs": [
        {
          "output_type": "execute_result",
          "data": {
            "text/plain": [
              "(sympy.core.numbers.One, numpy.ndarray)"
            ]
          },
          "metadata": {},
          "execution_count": 15
        }
      ],
      "source": [
        "type(X[0]), type(X)"
      ]
    },
    {
      "cell_type": "code",
      "execution_count": 16,
      "metadata": {
        "ExecuteTime": {
          "end_time": "2019-10-10T02:17:05.746211Z",
          "start_time": "2019-10-10T02:17:05.739524Z"
        },
        "colab": {
          "base_uri": "https://localhost:8080/"
        },
        "id": "7CSkCycjbRLu",
        "outputId": "b9d45e2f-5ede-46e5-ce4a-7bc7eb366e10"
      },
      "outputs": [
        {
          "output_type": "execute_result",
          "data": {
            "text/plain": [
              "array([1, 1/2, 1/3, 1/4, 1/5, 1/6, 1/7, 1/8, 1/9, 1/10, 1/11, 1/12, 1/13,\n",
              "       1/14, 1/15, 1/16, 1/17, 1/18, 1/19], dtype=object)"
            ]
          },
          "metadata": {},
          "execution_count": 16
        }
      ],
      "source": [
        "#\n",
        "# Example: The sequence (1/n : for n \\in N). This better shows why we might use sympy.\n",
        "#\n",
        "\n",
        "def y(n):\n",
        "    return 1/n\n",
        "\n",
        "Y = np.array([y(sm.Integer(n)) for n in range(1,20)])\n",
        "Y\n",
        "\n",
        "# Y = np.array([y(n) for n in range(1,20)])\n",
        "# Y"
      ]
    },
    {
      "cell_type": "markdown",
      "metadata": {
        "id": "fRp2XdCQbRLv"
      },
      "source": [
        "## Combining sequences\n",
        "\n",
        "If $(x_n)$ and $(y_n)$ represent sequences, the we can construct new sequences by adding, subtracting, multiplying, and dividing them elementwise to get\n",
        "\n",
        "$$\n",
        "(x_n + y_n)\n",
        "$$\n",
        "\n",
        "$$\n",
        "(x_n - y_n)\n",
        "$$\n",
        "\n",
        "$$\n",
        "(x_n y_n)\n",
        "$$\n",
        "\n",
        "$$\n",
        "(x_n / y_n)\n",
        "$$"
      ]
    },
    {
      "cell_type": "code",
      "execution_count": 17,
      "metadata": {
        "ExecuteTime": {
          "end_time": "2019-10-09T22:14:28.329576Z",
          "start_time": "2019-10-09T22:14:28.322226Z"
        },
        "colab": {
          "base_uri": "https://localhost:8080/"
        },
        "id": "wncNPKYhbRLv",
        "outputId": "318c005d-d910-4238-bd0e-484f14f0abd5"
      },
      "outputs": [
        {
          "output_type": "stream",
          "name": "stdout",
          "text": [
            "[2 9/2 28/3 65/4 126/5 217/6 344/7 513/8 730/9 1001/10 1332/11 1729/12\n",
            " 2198/13 2745/14 3376/15 4097/16 4914/17 5833/18 6860/19] \n",
            "\n",
            "[0 7/2 26/3 63/4 124/5 215/6 342/7 511/8 728/9 999/10 1330/11 1727/12\n",
            " 2196/13 2743/14 3374/15 4095/16 4912/17 5831/18 6858/19] \n",
            "\n",
            "[1 2 3 4 5 6 7 8 9 10 11 12 13 14 15 16 17 18 19] \n",
            "\n",
            "[1 8 27 64 125 216 343 512 729 1000 1331 1728 2197 2744 3375 4096 4913\n",
            " 5832 6859] \n",
            "\n"
          ]
        }
      ],
      "source": [
        "print(X+Y, \"\\n\")\n",
        "print(X-Y, \"\\n\")\n",
        "print(X*Y, \"\\n\")\n",
        "print(X/Y, \"\\n\")"
      ]
    },
    {
      "cell_type": "code",
      "execution_count": 18,
      "metadata": {
        "ExecuteTime": {
          "end_time": "2019-10-09T22:14:29.707622Z",
          "start_time": "2019-10-09T22:14:29.037688Z"
        },
        "colab": {
          "base_uri": "https://localhost:8080/",
          "height": 696
        },
        "id": "WXBqZzrMbRLw",
        "outputId": "88c66d34-83b5-4049-df84-6f5107368940"
      },
      "outputs": [
        {
          "output_type": "display_data",
          "data": {
            "text/plain": [
              "<Figure size 800x800 with 6 Axes>"
            ],
            "image/png": "[encoded data removed]"
          },
          "metadata": {}
        }
      ],
      "source": [
        "# You can easily visualize a sequence by plotting it.\n",
        "\n",
        "fig,ax = plt.subplots(3,2, figsize=(8,8))\n",
        "\n",
        "ax[0,0].plot(X,'o');   ax[0,0].set_xlabel(\"n\"); ax[0,0].set_ylabel(\"X(n)\");\n",
        "ax[0,1].plot(Y,'o');   ax[0,1].set_xlabel(\"n\"); ax[0,1].set_ylabel(\"Y(n)\");\n",
        "ax[1,0].plot(X+Y,'o'); ax[1,0].set_xlabel(\"n\"); ax[1,0].set_ylabel(\"X(n)+Y(n)\");\n",
        "ax[1,1].plot(X-Y,'o'); ax[1,1].set_xlabel(\"n\"); ax[1,1].set_ylabel(\"X(n)+-Y(n)\");\n",
        "ax[2,0].plot(X*Y,'o'); ax[2,0].set_xlabel(\"n\"); ax[2,0].set_ylabel(\"X(n)Y(n)\");\n",
        "ax[2,1].plot(X/Y,'o'); ax[2,1].set_xlabel(\"n\"); ax[2,1].set_ylabel(\"X(n)/Y(n)\");\n",
        "plt.subplots_adjust(hspace=0.35, wspace=0.35)"
      ]
    },
    {
      "cell_type": "markdown",
      "metadata": {
        "id": "NFMwyAmqbRLw"
      },
      "source": [
        "## Limits of sequences\n",
        "\n",
        "**Def:** Let $X = (x_n)$ be a sequence. $x$ is a **limit** of $X$ if for every $\\varepsilon > 0$ there exists $K(\\varepsilon) \\in \\mathbb{N}$ such that for all $n \\geq K(\\varepsilon)$,\n",
        "\n",
        "  $$\n",
        "  x - \\varepsilon < x_n < x + \\varepsilon .\n",
        "  $$\n",
        "  \n",
        "In this case we write $\\lim x_n = x$ and say that $x_n$ converges to $x$.\n",
        "  \n",
        "**Example:** Show that the limit of the sequence $x_n = \\frac{1}{n}$ is 0.\n",
        "\n",
        "Suppose $\\varepsilon > 0$ is chosen. Then we need\n",
        "\n",
        "$$\n",
        "\\frac{1}{n} < \\varepsilon .\n",
        "$$\n",
        "\n",
        "Multiplying by $n/\\varepsilon$ (which is positive) gives\n",
        "\n",
        "$$\n",
        "\\frac{1}{\\varepsilon} < n .\n",
        "$$\n",
        "\n",
        "Thus, we choose $K(\\varepsilon) = \\left \\lceil \\frac{1}{\\varepsilon} \\right \\rceil$ to satisfy the definition."
      ]
    },
    {
      "cell_type": "markdown",
      "metadata": {
        "id": "Gy_Hm662bRLx"
      },
      "source": [
        "An equivalent way to show that a sequence converges to a limit point is to use the following theorem, which can be shown by using the above definition.\n",
        "\n",
        "**Thm 1:** Let $(a_n)$ and $(x_n)$ be sequences with $\\lim a_n = 0$ and let $x \\in \\mathbb{R}$. If for some $C > 0$ and some $m > 0$ it is the case that\n",
        "\n",
        "$$\n",
        "\\left |x_n - x \\right | \\leq C\\left |a_n\\right |\n",
        "$$\n",
        "\n",
        "for all $n > m$, then $\\lim x_n = x$.\n",
        "\n",
        "**Example:** Show that the limit of the sequence $x_n = \\frac{1}{2^n}$ is 0.\n",
        "\n",
        "First, note that $0 < n < 2^n$ when $n > 0$. Then, dividing by $n2^n$,\n",
        "\n",
        "  $$\n",
        "  0 < \\frac{1}{2^n} < \\frac{1}{n}.\n",
        "  $$\n",
        "  \n",
        "Then, subtracting 0 and taking absolute values gives\n",
        "\n",
        "  $$\n",
        "  \\left | \\frac{1}{2^n} - 0 \\right | \\leq \\frac{1}{n} .\n",
        "  $$\n",
        "  \n",
        "Thus, using the theorem above with $C = 1$ and $m=1$ we can conclude that\n",
        "\n",
        "$$\\lim \\frac{1}{2^n} = 0$$"
      ]
    },
    {
      "cell_type": "code",
      "execution_count": 19,
      "metadata": {
        "ExecuteTime": {
          "end_time": "2019-10-09T22:14:31.161175Z",
          "start_time": "2019-10-09T22:14:30.947543Z"
        },
        "colab": {
          "base_uri": "https://localhost:8080/",
          "height": 449
        },
        "id": "m3RUAu8gbRLx",
        "outputId": "a9881800-f668-4d27-c774-6ff50039f697"
      },
      "outputs": [
        {
          "output_type": "display_data",
          "data": {
            "text/plain": [
              "<Figure size 640x480 with 1 Axes>"
            ],
            "image/png": "[encoded data removed]"
          },
          "metadata": {}
        }
      ],
      "source": [
        "# You can see the above graphically.\n",
        "\n",
        "A = [1/n for n in range(1,20)]\n",
        "X = [1/(2**n) for n in range(1,20)]\n",
        "\n",
        "plt.plot(A,\"o\",label=\"a_n\")\n",
        "plt.plot(X,\"o\",label=\"x_n\")\n",
        "plt.xlabel(\"n\")\n",
        "plt.legend();\n"
      ]
    },
    {
      "cell_type": "markdown",
      "metadata": {
        "id": "7ITVoVM9bRLy"
      },
      "source": [
        "**Example:** Show that $\\lim \\frac{1}{1+nr} = 0$ when $r>0$.\n",
        "\n",
        "Since $r > 0$,\n",
        "\n",
        "$$\n",
        "0 < nr < 1+nr.\n",
        "$$\n",
        "\n",
        "Dividing by $nr(1+nr)$ gives\n",
        "\n",
        "$$\n",
        "0 < \\frac{1}{1+nr} < \\frac{1}{nr}\n",
        "$$\n",
        "\n",
        "implying that\n",
        "\n",
        "$$\n",
        "\\left | \\frac{1}{1+nr} \\right | \\leq \\frac{1}{r} \\left | \\frac{1}{n} \\right |.\n",
        "$$\n",
        "\n",
        "Thus, the theorem above applies with $C = \\frac{1}{r}$ and $m = 1$.\n"
      ]
    },
    {
      "cell_type": "code",
      "execution_count": 20,
      "metadata": {
        "ExecuteTime": {
          "end_time": "2019-10-09T22:14:32.323907Z",
          "start_time": "2019-10-09T22:14:32.112631Z"
        },
        "colab": {
          "base_uri": "https://localhost:8080/",
          "height": 449
        },
        "id": "L6RGJ5RzbRLy",
        "outputId": "f155ca00-05e4-4e04-f66f-05d8c427464a"
      },
      "outputs": [
        {
          "output_type": "display_data",
          "data": {
            "text/plain": [
              "<Figure size 640x480 with 1 Axes>"
            ],
            "image/png": "[encoded data removed]"
          },
          "metadata": {}
        }
      ],
      "source": [
        "# You can see the above graphically.\n",
        "\n",
        "r = 2\n",
        "A = [1/n for n in range(1,15)]\n",
        "X = [1/(1 + r*n) for n in range(1,15)]\n",
        "\n",
        "plt.plot(A,\"o\",label=\"a_n\")\n",
        "plt.plot((1/r)*np.array(A),\"o\",label=\"(1/r)a_n\")\n",
        "plt.plot(X,\"o\",label=\"x_n\")\n",
        "plt.xlabel(\"n\")\n",
        "plt.legend();"
      ]
    },
    {
      "cell_type": "markdown",
      "metadata": {
        "id": "VQqU0MpobRLz"
      },
      "source": [
        "## Limits of Combined sequences\n",
        "\n",
        "**Thm 2:** If $\\lim x_n = L$ and $\\lim y_n = M$ then\n",
        "\n",
        "$$\n",
        "\\lim x_n + y_n = L + M\n",
        "$$\n",
        "\n",
        "$$\n",
        "\\lim a x_n = a L\n",
        "$$\n",
        "\n",
        "$$\n",
        "\\lim x_n y_n = L M\n",
        "$$\n",
        "\n",
        "and when $y_n \\neq 0$,\n",
        "\n",
        "$$\n",
        "\\lim \\frac{x_n}{y_n} = \\frac{L}{M}.\n",
        "$$\n",
        "\n",
        "**Proof:** For $\\lim x_n + y_n = L + M$, note that by the [triangle inequality](https://en.wikipedia.org/wiki/Triangle_inequality),\n",
        "\n",
        "\\begin{eqnarray}\n",
        "\\left | (x_n + y_n ) - ( L+M ) \\right | & = & \\left | (x_n-L) + (y_n - M) \\right | \\\\\n",
        "                                        & \\leq & \\left |(x_n - L) \\right | + \\left |(y_n - M ) \\right |,\n",
        "\\end{eqnarray}\n",
        "\n",
        "If $\\varepsilon > 0$ is given, then there exist natural numbers $K_1$ and $K_2$ such that if $n > \\max(K_1,K_2)$ then\n",
        "\n",
        "$$\\left |(x_n - L) \\right | < \\frac{\\varepsilon}{2}$$\n",
        "\n",
        "and\n",
        "\n",
        "$$\\left |(y_n - M) \\right | < \\frac{\\varepsilon}{2}$$\n",
        "\n",
        "so that\n",
        "\n",
        "$$\n",
        "\\left |(x_n - L) \\right | + \\left |(y_n - M ) \\right | < \\frac{\\varepsilon}{2} + \\frac{\\varepsilon}{2} = \\varepsilon .\n",
        "$$\n",
        "\n",
        "The other properties are demonstrated similarly.\n",
        "\n",
        "&square;\n",
        "\n",
        "**Example**: $\\lim \\frac{1}{n} + \\frac{1}{2^n} = 0$."
      ]
    },
    {
      "cell_type": "markdown",
      "metadata": {
        "id": "_B5HzWBebRL0"
      },
      "source": [
        "# Limits of Functions"
      ]
    },
    {
      "cell_type": "markdown",
      "metadata": {
        "id": "nnRs8ZLkbRL1"
      },
      "source": [
        "\n",
        "\n",
        "**Def:** Let $f : A \\rightarrow \\mathbb{R}$ and $c \\in A$ be a cluster point (which we won't define here, but it is just non-isolated point). Then\n",
        "\n",
        "$$\n",
        "\\lim_{x \\rightarrow c} f(x) = L\n",
        "$$\n",
        "\n",
        "if and only if for every $\\varepsilon > 0$, there exists a $\\delta > 0$ such that if $x \\in A$ and\n",
        "\n",
        "$$0 < |x-c| < \\delta$$\n",
        "\n",
        "then\n",
        "\n",
        "$$|f(x)-L| < \\epsilon. $$\n",
        "\n",
        "**Example:** Show $\\lim_{x \\rightarrow c} x = c$.\n",
        "\n",
        "Given $\\varepsilon$ simply choose $\\delta = \\varepsilon$. Then\n",
        "\n",
        "$$\n",
        "0 < |x-c| < \\varepsilon\n",
        "$$\n",
        "\n",
        "is equivalent to\n",
        "\n",
        "$$\n",
        "0 < |x-c| < \\delta .\n",
        "$$\n",
        "\n",
        "<hr>\n",
        "\n",
        "The following is an alternative way to define the limit. It is shown here as a theorem, meaning that you can prove it by assume the definition above of a limit. Or you can\n",
        "\n",
        "**Thm 3:** Let $f:A \\rightarrow \\mathbb{N}$. Then $\\lim_{x \\rightarrow c} f(x) = L$ if and only if for every sequence $(x_n) \\in A$ that converges to $c$ such that $x_n \\neq c$, the sequence $f(x_n)$ converges to $L$.\n",
        "\n",
        "One use of this theorem to show a limit does *not* exist, we have to find just one sequence that does not satisfy the above property.\n",
        "\n",
        "**Example**: $\\lim_{x \\rightarrow 0} \\frac{1}{x}$ does not exist.\n",
        "\n",
        "To show this, let $x_n = 1/n$. We have already shown this sequence converges to $0$, which is also is not one of the elements of the sequence. However, if $f(n) = \\frac{1}{x}$ then $f(x_n) = 1 / ( 1 / n ) = n$, which does not converge.\n",
        "\n",
        "<hr>\n",
        "\n",
        "The above theorem can also be used to show the various formulas about limits we use all the time.\n",
        "\n",
        "**Thm 4:** Say $\\lim_{x \\rightarrow c}f(x) = L$ and $\\lim_{x \\rightarrow c}f(x) = M$, then\n",
        "\n",
        "$$\n",
        "\\lim_{x \\rightarrow c}f(x) + g(x) = L + M\n",
        "$$\n",
        "\n",
        "$$\n",
        "\\lim_{x \\rightarrow c} a f(x) = a L\n",
        "$$\n",
        "\n",
        "$$\n",
        "\\lim_{x \\rightarrow c}f(x) g(x) = L M\n",
        "$$\n",
        "\n",
        "and, when $M \\neq 0$,\n",
        "\n",
        "$$\n",
        "\\lim_{x \\rightarrow c}f(x) / g(x) = L / M .\n",
        "$$\n",
        "\n",
        "**Proof:** Let $x_n$ be any sequence that converges to $c$ but does not contain $c$. Then by Thm 3, $\\lim f(x_n) = L$ and $\\lim g(x_n) = M$. Thus, by Thm 2, $\\lim f(x_n) + g(x_n) = L+M$. Similar arguments hold for the remaining statements. &square;\n",
        "\n",
        "**Example:** $\\lim_{x \\rightarrow 1} \\frac{x^2 + 2}{x^3 + 1} = \\frac{3}{2}.$\n",
        "\n",
        "In general, limits of polynomials and quotients of polynomials can be computed this way.\n",
        "\n"
      ]
    },
    {
      "cell_type": "markdown",
      "metadata": {
        "id": "8vy9qhmlbRL2"
      },
      "source": [
        "## Limits with Sympy"
      ]
    },
    {
      "cell_type": "code",
      "execution_count": 21,
      "metadata": {
        "ExecuteTime": {
          "end_time": "2019-10-09T22:14:41.691013Z",
          "start_time": "2019-10-09T22:14:41.685845Z"
        },
        "colab": {
          "base_uri": "https://localhost:8080/",
          "height": 51
        },
        "id": "TusySDnwbRL3",
        "outputId": "26905478-5117-46f1-9bd4-d26039c943f9"
      },
      "outputs": [
        {
          "output_type": "execute_result",
          "data": {
            "text/plain": [
              "3/2"
            ],
            "text/latex": "$\\displaystyle \\frac{3}{2}$"
          },
          "metadata": {},
          "execution_count": 21
        }
      ],
      "source": [
        "x = sm.symbols(\"x\")\n",
        "\n",
        "sm.limit((x**2 + 2)/(x**3+1),x,1)"
      ]
    },
    {
      "cell_type": "code",
      "execution_count": 22,
      "metadata": {
        "ExecuteTime": {
          "end_time": "2019-10-09T22:14:42.167786Z",
          "start_time": "2019-10-09T22:14:42.162964Z"
        },
        "colab": {
          "base_uri": "https://localhost:8080/",
          "height": 37
        },
        "id": "QyuL41XGbRL4",
        "outputId": "408a0798-f724-4cf5-cf08-a17f52d9c6e3"
      },
      "outputs": [
        {
          "output_type": "execute_result",
          "data": {
            "text/plain": [
              "0"
            ],
            "text/latex": "$\\displaystyle 0$"
          },
          "metadata": {},
          "execution_count": 22
        }
      ],
      "source": [
        "sm.limit(x**(3/2),x,0)"
      ]
    },
    {
      "cell_type": "markdown",
      "metadata": {
        "collapsed": true,
        "id": "7RLtt1HcbRL4"
      },
      "source": [
        "# Continuous Functions"
      ]
    },
    {
      "cell_type": "markdown",
      "metadata": {
        "id": "BbEtusX_bRL5"
      },
      "source": [
        "**Def:** A function $f : A \\rightarrow \\mathbb{R}$ is continuous at $c$ if and only if for any $\\varepsilon$ there exists $\\delta$ such that for all $x \\in A$, if $|x-c| < \\delta$ then $|f(x) - f(c)| < \\varepsilon$.\n",
        "\n",
        "**Equivalent Def:** A function $f : A \\rightarrow \\mathbb{R}$ is continuous if and only if\n",
        "\n",
        "$$\n",
        "f(c) = \\lim_{x \\rightarrow c} f(x)\n",
        "$$\n",
        "\n",
        "**Example:** If $f(x) = x$, then $\\lim_{x \\rightarrow c} f(x) = c$. Also, $f(c) = c$. Thus, $f(x)$ is continuous at all points $c$.\n",
        "\n",
        "<hr>\n",
        "\n",
        "**Example:** If $f(x) = 1/x$ then if $c > 0$,  $\\lim_{x \\rightarrow c} f(x) = 1/c$. Also, $f(c) = 1/c$. So $f(x)$ is continuous at points $c > 0$.\n",
        "\n",
        "<hr>\n",
        "\n",
        "**Equivalent Def:** A function $f : A \\rightarrow \\mathbb{R}$ is continuous at $c$ if and only if for any sequence $(x_n)$ that converges to a value $c$, the sequence $(f(x_n))$ converges to $f(c)$. That is,\n",
        "\n",
        "$$\n",
        "\\lim x_n = c \\Rightarrow \\lim f(x_n) = f(c) .\n",
        "$$\n",
        "\n",
        "**Non-Convergence Criterion:** Find *some* sequence $(x_n)$ that converges to $c$ where $f(x_n)$ does not converge to $f(c)$.\n",
        "\n",
        "**Example:** $f(x) = 1/x$ is not continuous at $0$. To see this, let $(x_n)$ be defined by $x_n = 1/n$. Then as we have shown, $\\lim x_n = 0$. However, the sequence $(f(x_n)) = 1/(1/n) = n$ does not converge.\n",
        "\n",
        "<hr>\n",
        "\n",
        "**Example:** Dirichlet's Function (1829). Define $f$ by\n",
        "\n",
        "$$\n",
        "f(x) = \\left \\{\n",
        "\\begin{array}{ll}\n",
        "1 & \\mathrm{if}\\;x\\;\\mathrm{is\\;rational} \\\\\n",
        "0 & \\mathrm{otherwise}.\n",
        "\\end{array}\n",
        "\\right .\n",
        "$$\n",
        "\n",
        "Then $f$ is discontinuous everywhere.\n",
        "\n",
        "It turns out a fundamental property of the real numbers is the following. If $x<y$, then there exists a rational number $z$ with $x<z<y$. In addition, there exists an irrational number $w$ with $x<w<y$.\n",
        "\n",
        "Thus, if $c$ is rational, we can come up with an irrational sequence $(z_n)$ that converges to $c$. Then $f(c) = 1$ but $(f(z_n)) = 0$.\n",
        "\n",
        "Conversely, if $c$ is irrational, choose a sequence $(w_n)$ of rational numbers that converges to $c$.\n",
        "\n",
        "<hr>\n",
        "\n",
        "**Example:** Thomae's Function (1875). Define $f(x)$ as follows. If $x$ is irrational, then $f(x) = 0$. If $x$ is rational, then express it in reduced form (no common factors) as $m/n$. Then define $f(m/n) = 1/n$. This is plotted below."
      ]
    },
    {
      "cell_type": "code",
      "execution_count": 23,
      "metadata": {
        "ExecuteTime": {
          "end_time": "2019-10-09T22:14:46.057293Z",
          "start_time": "2019-10-09T22:14:45.875548Z"
        },
        "colab": {
          "base_uri": "https://localhost:8080/",
          "height": 472
        },
        "id": "v7qKd_HzbRL5",
        "outputId": "3035efc9-d000-4ec1-9e6e-65a4b06d97dd"
      },
      "outputs": [
        {
          "output_type": "display_data",
          "data": {
            "text/plain": [
              "<Figure size 640x480 with 1 Axes>"
            ],
            "image/png": "[encoded data removed]"
          },
          "metadata": {}
        }
      ],
      "source": [
        "x = []\n",
        "y = []\n",
        "\n",
        "for den in range(1,20):\n",
        "    for num in range(0,2*den+1):\n",
        "        x.append(num/den)\n",
        "        # Note that sympy's Rational function automatically reduces. Also, you can\n",
        "        # get the numerator and denominator with the .p and .q attributes.\n",
        "        y.append(sm.Rational(1,sm.Rational(num,den).q))\n",
        "plt.plot(x,y,'o',markersize=2)\n",
        "plt.title(\"Thomae's Function\")\n",
        "plt.xlabel(\"x\")\n",
        "plt.ylabel(\"f(x)\");"
      ]
    },
    {
      "cell_type": "markdown",
      "metadata": {
        "id": "rjTCcwnYbRL6"
      },
      "source": [
        "This function is discontinuous at rational numbers, but continuous at irrational numbers.\n",
        "\n",
        "If $c$ is rational, we can come up with an irrational sequence $(z_n)$ that converges to $c$. Then $f(c) = 1$ but $(f(z_n)) = 0$.\n",
        "\n",
        "However, if $c$ is irrational, then choose any $\\epsilon > 0$. Then there is some $n_0 \\in \\mathbb{N}$ such that $1/n_0 < \\epsilon$. There are only a finite number of rationals with denominator less than $n_0$ in $(c-1, c+1)$ (because there are only a finite number of possible denominators, and for each of those a finite number of numerators). Thus, $\\delta$ can be chosen so that if $(c-\\delta, c+\\delta)$ contains no rational numbers whose denominators are less than $n_0$. So if $|x-c| < \\delta$ then $|h(x) - h(c)| = |h(x)| < 1/n_0 < \\epsilon$. The last inequality comes from the fact that if $x$ is in $(c-\\delta, c+\\delta)$ it must have a denominator greater than $n_0$."
      ]
    },
    {
      "cell_type": "markdown",
      "metadata": {
        "id": "Bj2xP-a7bRL7"
      },
      "source": [
        "## Combinations of Continuous Functions\n",
        "\n",
        "Because of the combinations for limits, combinations $f+g$, $fg$, $f-g$, and $f/g$ of continuous functions $f$ and $g$ are also continuous. In addition, $f \\circ g$ is continuous if $f$ and $g$ are."
      ]
    },
    {
      "cell_type": "markdown",
      "metadata": {
        "id": "M_A-OzB9bRL7"
      },
      "source": [
        "## Intermediate Value Theorem\n",
        "\n",
        "**Thm 5:** Let $I$ be an interval in $\\mathbb{R}$ and suppose $f : I \\rightarrow \\mathbb{R}$ is continuous at all points in $I$. If $a,b \\in I$ and $a<b$ and if $k \\in \\mathbb{R}$ and $f(a) < k < f(b)$ then there exists a point $c \\in I$ with $f(c) = k$.\n",
        "\n",
        "The proof follows from the definition of *continuous*.\n",
        "\n",
        "<img src=\"https://upload.wikimedia.org/wikipedia/commons/thumb/8/83/Illustration_for_the_intermediate_value_theorem.svg/1200px-Illustration_for_the_intermediate_value_theorem.svg.png\" width=300>\n",
        "\n",
        "![](https://study.com/cimages/multimages/16/intermediate-value-theorem-two.jpg)\n",
        "\n",
        "**Example:** Say $f(x) = x^2 - 2$, $a = 1$, and $b = 2$. Then $f(a) = -1$ and $f(b) = 2$. Since $-1 < 0 < 2$, it must be the case that there exists $c$ with $-1<c<2$ with $f(c) = c^2 - 2 = 0$. That is $c = \\sqrt{2}$.\n",
        "\n",
        "Interesting consequences:\n",
        "\n",
        "- If a four legged table is not resting flat, it will if you rotate it.\n",
        "- If you take a long, round trip walk in the hills, then at some point other than where you started, you will be at the same height as where you started (assuming you don't start at the lowest or highest point).\n",
        "- Same applies to pressure, temperature, etc."
      ]
    },
    {
      "cell_type": "markdown",
      "metadata": {
        "id": "Kn7V2xTgbRL8"
      },
      "source": [
        "# Differentiation"
      ]
    },
    {
      "cell_type": "markdown",
      "metadata": {
        "id": "HBwr_qNUbRL8"
      },
      "source": [
        "**Def:** If $f:I \\mathbb{R}$ function $c \\in I$, then the derivative $f'$ of $f$ is defined by\n",
        "\n",
        "$$\n",
        "f'(c) = \\lim_{x \\rightarrow c} \\frac{f(x) - f(c)}{x-c}.\n",
        "$$\n",
        "\n",
        "assuming this limit exists.\n",
        "\n",
        "**Example:** Say $f(x) = x^2$. Then\n",
        "\n",
        "\\begin{eqnarray}\n",
        "f'(c) & = & \\lim_{x \\rightarrow c} \\frac{x^2 - c^2}{x-c}  \\\\\n",
        "      & = & \\lim_{x \\rightarrow c} x+c = 2c\n",
        "\\end{eqnarray}\n",
        "\n",
        "Thus, $f'(x) = 2x$.\n",
        "\n",
        "<hr>\n",
        "\n",
        "**Thm 6:** If $f$ has a derivative at $c$ then $f$ is continous at $c$.\n",
        "\n",
        "**Proof:** We have\n",
        "\n",
        "$$\n",
        "f(x) - f(c) = \\left ( \\frac{f(x)-f(c)}{x-c} \\right ) (x-c) \\\\\n",
        "$$\n",
        "\n",
        "Taking limits gives and using the product rule for limits gives\n",
        "\n",
        "\\begin{eqnarray}\n",
        "\\lim_{x \\rightarrow c} (f(x)-f(c)) & = & \\left ( \\lim_{x \\rightarrow c}\\frac{f(x)-f(c)}{x-c} \\right ) (\\lim_{x \\rightarrow c} (x-c) ) \\\\\n",
        " & = & f'(c) \\cdot 0 .\n",
        "\\end{eqnarray}\n",
        "\n",
        "Thus, $\\lim_{x \\rightarrow c} = f(c)$.\n",
        "\n",
        "&square;\n",
        "\n",
        "**Note:** The converse is not true! Weierstrauss showed in 1872 that\n",
        "\n",
        "$$f(x) = \\sum_{n=0}^\\infty \\frac{1}{2^n} \\cos(3^n x)$$\n",
        "\n",
        "is continuous at every point, but does not have a derivative at any point (look up this result for the proof)."
      ]
    },
    {
      "cell_type": "code",
      "execution_count": 24,
      "metadata": {
        "ExecuteTime": {
          "end_time": "2019-10-09T22:14:52.067000Z",
          "start_time": "2019-10-09T22:14:51.897217Z"
        },
        "colab": {
          "base_uri": "https://localhost:8080/",
          "height": 430
        },
        "id": "yetrC4t_bRL8",
        "outputId": "41bb16ba-7ca7-4554-d598-f22eb16ac0c0"
      },
      "outputs": [
        {
          "output_type": "display_data",
          "data": {
            "text/plain": [
              "<Figure size 640x480 with 1 Axes>"
            ],
            "image/png": "[encoded data removed]"
          },
          "metadata": {}
        }
      ],
      "source": [
        "x = np.linspace(0,1,100)\n",
        "f10 = sum([1/(2**n)*np.cos(3**n * x) for n in range(3)])\n",
        "f20 = sum([1/(2**n)*np.cos(3**n * x) for n in range(4)])\n",
        "f30 = sum([1/(2**n)*np.cos(3**n * x) for n in range(16)])\n",
        "plt.plot(x,f10,x,f20,x,f30);"
      ]
    },
    {
      "cell_type": "markdown",
      "metadata": {
        "ExecuteTime": {
          "end_time": "2019-10-09T20:20:39.092606Z",
          "start_time": "2019-10-09T20:20:39.088602Z"
        },
        "id": "BWpa_WzAbRL8"
      },
      "source": [
        "## Combinations of Derivatives\n",
        "\n",
        "**Thm 6:** If $f$ and $g$ are continuous at %c% then\n",
        "\n",
        "$$\n",
        "(af)'(x) = a f'(x)\n",
        "$$\n",
        "\n",
        "$$\n",
        "(f+g)'(x) = f'(x) + g'(x)\n",
        "$$\n",
        "\n",
        "$$\n",
        "(fg)'(x) = f'(x)g(x) + f(x)g'(x)\n",
        "$$\n",
        "\n",
        "$$\n",
        "\\left (\\frac{f}{g} \\right)'(x) = \\frac{f'(x)g(x) - f(x)g'(x)}{(g(x))^2}.\n",
        "$$\n",
        "\n",
        "**Example Proof of 3rd part:** Let $p = fg$. Then\n",
        "\n",
        "\\begin{eqnarray}\n",
        "\\frac{p(x) - p(c)}{x-c} & = & \\frac{f(x)g(x) - f(c)g(c)}{x-c} \\\\\n",
        "  & = & \\frac{f(x)g(x) - f(c)g(x) + f(c)g(x) - f(c)g(c)}{x-c} \\\\\n",
        "  & = & \\frac{f(x)-f(c)}{x-c} g(x) + f(c) \\frac{g(x)-g(c)}{x-c}\n",
        "\\end{eqnarray}\n",
        "\n",
        "Taking limits and noting that since $f$ and $g$ are continuous, the limits above equal $f(c)$ and $g(c)$ gives the desired result."
      ]
    },
    {
      "cell_type": "code",
      "execution_count": 25,
      "metadata": {
        "ExecuteTime": {
          "end_time": "2019-10-09T22:14:53.358905Z",
          "start_time": "2019-10-09T22:14:53.349004Z"
        },
        "colab": {
          "base_uri": "https://localhost:8080/",
          "height": 38
        },
        "id": "CLrx3H8tbRL9",
        "outputId": "4b86dab0-8269-4336-8ab5-7384aa309498"
      },
      "outputs": [
        {
          "output_type": "execute_result",
          "data": {
            "text/plain": [
              "⎛     x   ⎛ 2    ⎞  x       x   ⎛ 2    ⎞  x⎞\n",
              "⎝2⋅x⋅ℯ  + ⎝x  + 1⎠⋅ℯ , 2⋅x⋅ℯ  + ⎝x  + 1⎠⋅ℯ ⎠"
            ],
            "text/latex": "$\\displaystyle \\left( 2 x e^{x} + \\left(x^{2} + 1\\right) e^{x}, \\  2 x e^{x} + \\left(x^{2} + 1\\right) e^{x}\\right)$"
          },
          "metadata": {},
          "execution_count": 25
        }
      ],
      "source": [
        "# For example\n",
        "\n",
        "x = sm.symbols(\"x\")\n",
        "\n",
        "f = x**2 + 1\n",
        "g = sm.exp(x)\n",
        "\n",
        "(sm.diff(f,x)*g + f*sm.diff(g,x)), sm.diff(f*g,x)"
      ]
    },
    {
      "cell_type": "markdown",
      "metadata": {
        "id": "HwrnxZcNbRL9"
      },
      "source": [
        "Note that the product rule extends to arbitrary length sums, so that\n",
        "\n",
        "$$\n",
        "(f_1 f_2 ... + f_n)'(x) = f_1'(x)f_2(x)...f_n(x) + f_n(x)f_2'(x)...f_n(x) + ... + f_n(x)f_2(x)...f_n'(x).\n",
        "$$\n",
        "\n",
        "Even better, if $f_i = f$ then,\n",
        "\n",
        "$$\n",
        "(f^n)'(x) = n f'(x)f(x)^{n-1}.\n",
        "$$\n",
        "\n",
        "And finally, if $f(x) = x^n$ then,\n",
        "\n",
        "$$\n",
        "\\frac{d}{dx} x^n = n x^{n-1}.\n",
        "$$\n",
        "\n",
        "Cool!"
      ]
    },
    {
      "cell_type": "code",
      "execution_count": 26,
      "metadata": {
        "ExecuteTime": {
          "end_time": "2019-10-09T22:14:54.633365Z",
          "start_time": "2019-10-09T22:14:54.628486Z"
        },
        "colab": {
          "base_uri": "https://localhost:8080/",
          "height": 38
        },
        "id": "3LMvzDCbbRL-",
        "outputId": "686e55f3-e9ab-43b3-c28e-e7e2a0939e71"
      },
      "outputs": [
        {
          "output_type": "execute_result",
          "data": {
            "text/plain": [
              "      999\n",
              "1000⋅x   "
            ],
            "text/latex": "$\\displaystyle 1000 x^{999}$"
          },
          "metadata": {},
          "execution_count": 26
        }
      ],
      "source": [
        "sm.diff(x**1000,x)"
      ]
    },
    {
      "cell_type": "markdown",
      "metadata": {
        "id": "4j5dn-Z-bRL-"
      },
      "source": [
        "## The chain rule\n",
        "\n",
        "Since\n",
        "\n",
        "$$\n",
        "\\frac{g(f(x)) - g(f(c))}{x-c} =\n",
        "\\frac{g(f(x)) - g(f(c))}{f(x)-f(c)} \\cdot \\frac{f(x) - f(c)}{x-c}\n",
        "$$\n",
        "\n",
        "we get that\n",
        "\n",
        "$$\n",
        "(g \\circ f)'(x) = g'(f(x)) \\cdot f'(x).\n",
        "$$"
      ]
    },
    {
      "cell_type": "code",
      "execution_count": 27,
      "metadata": {
        "ExecuteTime": {
          "end_time": "2019-10-09T22:14:56.869760Z",
          "start_time": "2019-10-09T22:14:56.857493Z"
        },
        "colab": {
          "base_uri": "https://localhost:8080/",
          "height": 47
        },
        "id": "UAfXNEeFbRL_",
        "outputId": "8b897dae-ac67-4441-dff9-d50860589bbb"
      },
      "outputs": [
        {
          "output_type": "execute_result",
          "data": {
            "text/plain": [
              "⎛                       2            2            2    ⎞\n",
              "⎜ 2       x        x   x  + 1       x  + 1       x  + 1⎟\n",
              "⎝x  + 1, ℯ , 2⋅x, ℯ , ℯ      , 2⋅x⋅ℯ      , 2⋅x⋅ℯ      ⎠"
            ],
            "text/latex": "$\\displaystyle \\left( x^{2} + 1, \\  e^{x}, \\  2 x, \\  e^{x}, \\  e^{x^{2} + 1}, \\  2 x e^{x^{2} + 1}, \\  2 x e^{x^{2} + 1}\\right)$"
          },
          "metadata": {},
          "execution_count": 27
        }
      ],
      "source": [
        "# For example\n",
        "\n",
        "x = sm.symbols(\"x\")\n",
        "\n",
        "f = x**2 + 1\n",
        "g = sm.exp(x)\n",
        "gof = g.subs(x,f)\n",
        "\n",
        "df = sm.diff(f,x)\n",
        "dg = sm.diff(g,x)\n",
        "dgof = dg.subs(x,f)*df\n",
        "\n",
        "f, g, df, dg, gof, dgof, sm.diff(gof),"
      ]
    },
    {
      "cell_type": "markdown",
      "metadata": {
        "id": "r3wN3JbpbRL_"
      },
      "source": [
        "## L'Hospital's Rule (0/0) case\n",
        "\n",
        "**Thm 8:** If $f$ and $g$ are differentiable at $a$ and $f(a) = g(a) = 0$ then\n",
        "\n",
        "$$\n",
        "\\lim_{x \\rightarrow a} \\frac{f(x)}{g(x)} = \\frac{f'(x)}{g'(x)}.\n",
        "$$\n",
        "\n",
        "**Proof:** Since $f(a) = g(a) = 0$,\n",
        "$$\n",
        "\\frac{f(x)}{g(x)} = \\frac{f(x) -f(a)}{g(x)-g(a)} = \\frac{\n",
        "\\frac{f(x) -f(a)}{x-a}\n",
        "}{\n",
        "\\frac{g(x) -g(a)}{x-a}\n",
        "} .\n",
        "$$\n",
        "&square;\n",
        "\n",
        "Note: You get to come up with examples in homework.\n",
        "\n",
        "Note: We have to have $f(a) = g(a) = 0$. For example,\n",
        "\n",
        "$$\n",
        "\\lim_{x \\rightarrow 0} \\frac{x+17}{2x+3} = \\frac{17}{3}\n",
        "$$\n",
        "\n",
        "but\n",
        "\n",
        "$$\n",
        "\\lim_{x \\rightarrow 0} \\frac{1}{2} = \\frac{1}{2} .\n",
        "$$\n"
      ]
    },
    {
      "cell_type": "markdown",
      "metadata": {
        "id": "YoPG-GlbbRMA"
      },
      "source": [
        "## The Mean Value Theorem\n",
        "\n",
        "**Thm 7:** If $f : [a,b] \\rightarrow \\mathbb{reals}$ is continuous and has a derivative on $(a,b)$, then there is at least one point $c \\in (a,b)$ such that\n",
        "\n",
        "$$\n",
        "f(b) - f(a) = f'(c)(b-a) .\n",
        "$$\n",
        "\n",
        "We will not prove this here. See the reading.\n",
        "\n",
        "This theorem means that there is one point on the curve $y=f(x)$ at which the tangent line is parallel to the line from $(a,f(a))$ to $(b,f(b))$."
      ]
    },
    {
      "cell_type": "code",
      "execution_count": 28,
      "metadata": {
        "ExecuteTime": {
          "end_time": "2019-10-09T22:14:58.768167Z",
          "start_time": "2019-10-09T22:14:58.576805Z"
        },
        "colab": {
          "base_uri": "https://localhost:8080/",
          "height": 447
        },
        "id": "20wt3U9ObRMA",
        "outputId": "eabb03bb-f75c-4ce4-bf04-68a23102e11c"
      },
      "outputs": [
        {
          "output_type": "execute_result",
          "data": {
            "text/plain": [
              "[<matplotlib.lines.Line2D at 0x7bcfc11d1270>]"
            ]
          },
          "metadata": {},
          "execution_count": 28
        },
        {
          "output_type": "display_data",
          "data": {
            "text/plain": [
              "<Figure size 640x480 with 1 Axes>"
            ],
            "image/png": "[encoded data removed]"
          },
          "metadata": {}
        }
      ],
      "source": [
        "x = np.linspace(1, 2,100);\n",
        "f = 2*x + np.sin(7*x)\n",
        "fa = f[0]\n",
        "fb = f[-1]\n",
        "c = 1.6\n",
        "fc = 2*c + np.sin(7*c)\n",
        "plt.plot(\n",
        "    x,2*x + np.sin(7*x),\n",
        "    x,(fb-fa)/(2-1)*(x-2)+fb,\n",
        "    x,(fb-fa)/(2-1)*(x-c)+fc)\n",
        "plt.plot([c,c],[1,5])"
      ]
    },
    {
      "cell_type": "markdown",
      "metadata": {
        "id": "8v7KMzYVbRMA"
      },
      "source": [
        "## Example: Finding square roots\n",
        "\n",
        "**Example:** Find an approximation to $\\sqrt(105)$.\n",
        "\n",
        "Set $f(x) = \\sqrt{x}$. Then the MVT says that for some $c \\in (a,b)$\n",
        "\n",
        "$$\n",
        "f(b) - f(a) = \\frac{1}{2 \\sqrt{c}} (b-a)\n",
        "$$\n",
        "\n",
        "Choosing $a=100$ and $b=105$ we get that\n",
        "\n",
        "$$\n",
        "\\sqrt(105) - sqrt(100) = \\frac{5}{2 \\sqrt{c}}\n",
        "$$\n",
        "\n",
        "with $100 < c < 105$. Taking square roots gives $10 < \\sqrt{c} < \\sqrt{105}$. And since\n",
        "$\\sqrt{105} < \\sqrt{121} = 11$ we get\n",
        "\n",
        "$$\n",
        "10 < \\sqrt{c} < 11\n",
        "$$\n",
        "\n",
        "so that\n",
        "\n",
        "$$\n",
        "\\frac{5}{2\\cdot 11} < \\sqrt{105} - 10 < \\frac{5}{2 \\cdot 10}\n",
        "$$\n",
        "\n",
        "or $10.2272 < \\sqrt{105} < 10.2500$."
      ]
    },
    {
      "cell_type": "markdown",
      "metadata": {
        "id": "HV9g4lnvbRMB"
      },
      "source": [
        "## Example: Inequalities\n",
        "\n",
        "**Example:** Show that $e^x \\geq 1+x$ for $x \\geq 0$.\n",
        "\n",
        "For $x = 0$ we get equality. So suppose $x>0$ and consider the interval [0,x]$. Then by the MVT\n",
        "\n",
        "$$\n",
        "e^x - e^0 = e^c (x-0)\n",
        "$$\n",
        "\n",
        "for some $c$ with $0 < c < 1$. Since $e^0 = 1$ and $e^c > 1$ we get the result."
      ]
    },
    {
      "cell_type": "markdown",
      "metadata": {
        "id": "ypnZmclZbRMB"
      },
      "source": [
        "# Taylor's Theorem"
      ]
    },
    {
      "cell_type": "markdown",
      "metadata": {
        "id": "Lc4onsLPbRMB"
      },
      "source": [
        "Taylor's theorem can be regarded as an extension of the MVT for higher derivatives. It states:\n",
        "\n",
        "**Thm 9:** Say $f:I \\rightarrow \\mathbb{R}$is continuous and so are all of its derivatives. If $x_0 \\in I$, then\n",
        "\n",
        "$$\n",
        "f(x) = f(x_0) + f'(x_0)(x-x_0) + \\frac{f''(x_0)}{2!}(x-x_0)^2 + ...\n",
        "     + \\frac{f^{(n)}(x_0)}{n!}(x-x_0)^n\n",
        "     + ...\n",
        "$$\n",
        "\n",
        "If an approximation is desired, then you can use\n",
        "\n",
        "$$\n",
        "f(x) = f(x_0) + f'(x_0)(x-x_0) + \\frac{f''(x_0)}{2!}(x-x_0)^2 + ...\n",
        "     + \\frac{f^{(n)}(x_0)}{n!}(x-x_0)^n\n",
        "     + \\frac{f^{(n+1)}(c)}{(n+1)!}(x-x_0)^{n+1}\n",
        "$$\n",
        "\n",
        "for some $c$ with $x < c < x_0$.\n",
        "\n",
        "Taylor's theorem has many applications. We will return to it over and over. Some of the cooler observations are as follows.\n",
        "\n"
      ]
    },
    {
      "cell_type": "markdown",
      "metadata": {
        "id": "C7Lz0BlabRMB"
      },
      "source": [
        "**Example:** $e^x$\n",
        "\n",
        "Note that all derivatives of $e^x$ are $e^x$. To find $e$ itself we can take $x_0 = 0$ and use\n",
        "\n",
        "$$\n",
        "e^x = e^0 + e^0 x + e^0 \\frac{x^2}{2!} + e^0 \\frac{x^3}{3!} + ...\n",
        "$$\n",
        "\n",
        "Simplifying,\n",
        "\n",
        "$$\n",
        "e^x = 1 + x + \\frac{x^2}{2!} + \\frac{x^3}{3!} + ...\n",
        "$$\n",
        "\n",
        "If you take this as a definition of $e^x$ then you can actually see why $\\frac{d}{dx}e^x = e^x$ since\n",
        "\n",
        "\\begin{eqnarray}\n",
        "\\frac{d}{dx}e^x & = & \\frac{d}{dx} \\left ( 1 + x + \\frac{x^2}{2!} + \\frac{x^3}{3!} + ... \\right ) \\\\\n",
        "                & = & 0 + 1 + 2 \\frac{x}{2!} + 3 \\frac{x^2}{3!} + ... \\\\\n",
        "                & = & e^x.\n",
        "\\end{eqnarray}\n",
        "\n",
        "<hr>\n",
        "\n",
        "You can also make approximations to $e$ using the above.\n",
        "\n",
        "**Example:** Find $e$ with error less than $10^{-5}$.\n",
        "\n",
        "Taking $x=0$ and $x_0 = 1$ in Taylor's Theorem, the remainder is $\\frac{e^c}{(n+1)!}$ for some $c$ with $0 < c < 1$. Since we know that $e^c < 3$ we want $n$ so that\n",
        "\n",
        "$$\n",
        "\\frac{e^c}{(n+1)!} < \\frac{e^1}{(n+1)!} < \\frac{3}{(n+1)!} < 10^{-5}.\n",
        "$$\n",
        "\n",
        "or\n",
        "\n",
        "$$\n",
        "(n+1)! > 3 \\cdot 10^{5} = 300000.\n",
        "$$\n",
        "\n",
        "Since $9! = 362880$ but $8! = 40320$, we can take $n \\geq 9$. Then,\n",
        "\n",
        "$$\n",
        "e \\approx 1 + 1 + \\frac{1}{2!} + ... + \\frac{1}{8!} = 2.71827876984127 ...\n",
        "$$\n"
      ]
    },
    {
      "cell_type": "code",
      "execution_count": 29,
      "metadata": {
        "ExecuteTime": {
          "end_time": "2019-10-09T22:15:02.439480Z",
          "start_time": "2019-10-09T22:15:02.434372Z"
        },
        "colab": {
          "base_uri": "https://localhost:8080/"
        },
        "id": "BDIwGsNwbRMC",
        "outputId": "b322011b-0615-4517-9979-545275466d71"
      },
      "outputs": [
        {
          "output_type": "execute_result",
          "data": {
            "text/plain": [
              "(2.71827876984127, 2.718281828459045, True)"
            ]
          },
          "metadata": {},
          "execution_count": 29
        }
      ],
      "source": [
        "ep = sum([1/math.factorial(n) for n in range(9)])\n",
        "ep, math.e, abs(ep - math.e) < 10**(-5)"
      ]
    },
    {
      "cell_type": "markdown",
      "metadata": {
        "id": "aHOazkwGbRMC"
      },
      "source": [
        "# Conclusion"
      ]
    },
    {
      "cell_type": "markdown",
      "metadata": {
        "id": "RvSagHINbRMC"
      },
      "source": [
        "![](https://3.bp.blogspot.com/-CAihtz6xvGw/WfYt5Wm4l7I/AAAAAAAAKIw/5siM_rslPfwIGP8I6XfrAatWz8ZvoxOqwCLcBGAs/s1600/i-thought-you-were-smart1.gif)"
      ]
    },
    {
      "cell_type": "code",
      "execution_count": null,
      "metadata": {
        "id": "PmbYY26YbRMD"
      },
      "outputs": [],
      "source": []
    }
  ],
  "metadata": {
    "kernelspec": {
      "display_name": "Python 3",
      "language": "python",
      "name": "python3"
    },
    "language_info": {
      "codemirror_mode": {
        "name": "ipython",
        "version": 3
      },
      "file_extension": ".py",
      "mimetype": "text/x-python",
      "name": "python",
      "nbconvert_exporter": "python",
      "pygments_lexer": "ipython3",
      "version": "3.8.5"
    },
    "colab": {
      "provenance": []
    }
  },
  "nbformat": 4,
  "nbformat_minor": 0
}