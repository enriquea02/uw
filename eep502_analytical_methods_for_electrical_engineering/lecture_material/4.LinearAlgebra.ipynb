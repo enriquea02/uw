{
  "cells": [
    {
      "cell_type": "markdown",
      "metadata": {
        "id": "RVW91W1xfwe1"
      },
      "source": [
        "EE 502 P: Analytical Methods\n",
        "# 4. Linear Algebra\n",
        "## Prof. Eric Klavins, Electrical and Computer Engineering\n",
        "\n",
        "### Tamara Bonaci, Department of Electrical and Computer Engineering\n",
        "### October 16, 2024\n",
        "Copyright &copy; 2024, University of Washington"
      ]
    },
    {
      "cell_type": "markdown",
      "metadata": {
        "collapsed": true,
        "id": "Q8iLqtoPfwe5"
      },
      "source": [
        "Linear Algebra is arguably the most important branch of applied mathematics. It has applications to data analysis, machine learning, differential equations, network analysis, Internet search, computer graphics, robotic manipulation and more. The basic element of Linear Algebra is the matrix, which is simply a table of real (or complex) numbers. It is remarkable that this simple object can have so many interesting mathematical behaviors. This week we cover a lot of ground. It is assumed that at some point you took a Linear Algebra course, as is required by most engineering undergraduate degrees. However, in such courses, one usually spends a great deal of time doing Gaussian elimination, and computing determinants and inverses. Here, instead, we try to go into the properties of matrices that make them useful for engineering fields. These include: eigenvalues and matrix decomposition, arguable the most important aspects.\n",
        "\n",
        "**Topics Covered**\n",
        "\n",
        "- Basics\n",
        "    - Vector spaces\n",
        "    - Matrices\n",
        "    - Matrices as transformations\n",
        "        - Rotations\n",
        "        - Reflections\n",
        "        - Sheer\n",
        "        - Projections\n",
        "        - Data\n",
        "        - Images\n",
        "        - Networks\n",
        "    - Determinants\n",
        "    - Rank\n",
        "    - Inverses\n",
        "    - Non-singularity tests, including determinant\n",
        "    - Inner products and orthogonality\n",
        "    - Orthogonal matrices\n",
        "- Eigenvalues\n",
        "    - Definitions\n",
        "    - Characteristic polynomial\n",
        "    - Similarity\n",
        "    - Eigenvectors\n",
        "    - Diagonalization\n",
        "- Jordan Canonical Form\n",
        "    - Jordan form\n",
        "- The Cayley-Hamilton Theorem\n",
        "    - The minimal polynomial    \n",
        "- The Matrix Exponential\n",
        "    - Definition\n",
        "    - Example\n",
        "    - Using similarity to compute\n",
        "- Singular value decomposition\n",
        "    - Definitions\n",
        "    - Example\n",
        "    - Use in matrix approximation\n",
        "    - Use in least squares\n",
        "    - Principle component analysis"
      ]
    },
    {
      "cell_type": "code",
      "execution_count": 1,
      "metadata": {
        "ExecuteTime": {
          "end_time": "2019-10-24T01:46:46.860756Z",
          "start_time": "2019-10-24T01:46:45.282255Z"
        },
        "id": "P1DoR5BEfwe7"
      },
      "outputs": [],
      "source": [
        "import math\n",
        "import scipy # Has linear algebra\n",
        "import scipy.ndimage\n",
        "import numpy as np\n",
        "import sympy as sm\n",
        "sm.init_printing(use_latex='mathjax')\n",
        "import matplotlib.pyplot as plt\n",
        "import matplotlib.patches as pch\n",
        "%matplotlib inline"
      ]
    },
    {
      "cell_type": "markdown",
      "metadata": {
        "id": "VoEm_Dpnfwe9"
      },
      "source": [
        "## Vector Spaces"
      ]
    },
    {
      "cell_type": "markdown",
      "metadata": {
        "id": "IV94jZ3Mfwe9"
      },
      "source": [
        "Vectors are just lists of numbers. A set of vectors with the following properties shows up in many branches of mathematics and has many applications. We first study vectors before matrices because, for example, matrices are just vectors stacked together. Also, matrices can be said to be transformations on vectors.\n",
        "\n",
        "**Def:** A **vector space** over $\\mathbb{R}$ or $\\mathbb{C}$ is a set $V$ of objects which is\n",
        "- Closed under addition: $u+v \\in V$\n",
        "- Is associative under addition: $u + (v + w) = (u+v)+w$\n",
        "- Is commutative under addition: $u+v = v+u$\n",
        "- Has an additive identity: $v + 0 = 0 + v = v$.\n",
        "- Has additive inverses: $-v \\in V$.\n",
        "- Is closed under scalar multiplication: $a v \\in V$\n",
        "- Is distributive: $a(u+v) = au + av$ and $(a+b)u = au + bu$, $a(bu)= (ab)u$\n",
        "- Has a scalar multiplicative identity: $1 e = e$.\n",
        "Assuming $u,v,w \\in V$ and $a,b \\in \\mathbb{C}$.\n",
        "\n",
        "We usually deal with $n$ dimensional finite vectors of real ($\\mathbb{R}^n$) or imaginary ($\\mathbb{C}^n$) numbers and write vectors as columns. For example\n",
        "\n",
        "$$\n",
        "v = \\left (\n",
        "\\begin{array}{c}\n",
        "1.0 \\\\\n",
        "-3.5 \\\\\n",
        "0 \\\\\n",
        "2.3\n",
        "\\end{array}\n",
        "\\right ) \\in \\mathbb{R}^4\n",
        "$$\n",
        "\n",
        "However, infinite dimensional lists of of numbers (countable or not) can also form vector spaces.\n",
        "\n",
        "**Note:** Since it is annoying to write vectors as columns, we often will write $v = (1\\;2\\;3\\;4)^T \\in \\mathbb{R}^4$ where the $T$ operation means \"Transpose\", taking a column vector and turning it into a row vector. More on this in the section on matrices.\n",
        "\n",
        "Things that are not vector spaces:\n",
        "- The set of positive valued vectors (with normal addition and scalar multiplication)\n",
        "- The set of of points $x,y,z \\in \\mathbb{R}^3$ such that $x+y+z=1$, because $(0,0,0)$ is not in it\n",
        "- The set of pairs of points inside the unit circle (because not all scalar multiples are in the set)\n",
        "\n",
        "**Def:** A **subspace** of $V$ is a set $U \\subseteq V$ that is also a vector space.\n",
        "\n",
        "**Example:** Let $U \\subseteq \\mathbb{R}^n$ be defined by all vectors in $\\mathbb{R}^n$ for which the first element is zero. You can check that all the conditions above apply.\n",
        "\n",
        "**Def:** The span of a set of vectors $v_1, v_2, ..., v_m \\in \\mathbb{R}^n$ is the set\n",
        "\n",
        "$$\n",
        "span(v_1, ..., v_m) = \\{ a_1 v_1 + ..., a_n v_n \\;|\\; a_i \\in \\mathbb{R} \\}\n",
        "$$\n",
        "\n",
        "**Example:** Let $u = ( 1\\; 1\\; 0 )$ and $v = ( 0 \\; 1 \\; 1)$. Then\n",
        "\n",
        "$$\n",
        "span(u,v) = \\{\n",
        "\\left (\n",
        "\\begin{array}{c}\n",
        "a \\\\\n",
        "a+b \\\\\n",
        "b\n",
        "\\end{array}\n",
        "\\right ) \\;|\\; a, b, \\in \\mathbb{R} \\}\n",
        "$$\n",
        "\n",
        "For example, $(1 \\; 2 \\; 1)^T$ and $(-1 \\; 0 \\; 1)^T$ are in $span(u,v)$.\n",
        "\n",
        "**Thm:** The span of a set of vectors is a vector space.\n",
        "\n",
        "**Proof:** You can go through and check all the properties. For example, note that\n",
        "\n",
        "$$\n",
        "(a_1 v_1 + ..., a_n v_m) + (b_1 v_1 + ..., b_n v_m) = (a_1+b_1) v_1 + ..., (a_n+b_n) v_m\n",
        "$$\n",
        "\n",
        "since scalar multiplication is distributed for $\\mathbb{R}^n$. Thus, $span(v_1,...,v_m)$ is closed under addition.\n",
        "\n",
        "**Def:** A set of vectors $v_1,...,v_n$ is **linearly dependent** if there exist scalars $a_1, ..., a_n$ that are not all zero but for which\n",
        "\n",
        "$$\n",
        "a_1 v_1 + ... + a_n v_n = 0.\n",
        "$$\n",
        "\n",
        "**Example:** Come up with two vectors in $\\mathbb{R}$ that are linearly independent of each other, and two that are not.\n",
        "\n",
        "Not independent:\n",
        "$\n",
        "u = \\left (\n",
        "\\begin{array}{c}\n",
        "1 \\\\\n",
        "1\n",
        "\\end{array}\n",
        "\\right )$ and\n",
        "$v = \\left (\n",
        "\\begin{array}{c}\n",
        "2 \\\\\n",
        "2\n",
        "\\end{array}\n",
        "\\right )$ since $2 u + v = 0$.\n",
        "\n",
        "Independent:\n",
        "$\n",
        "u = \\left (\n",
        "\\begin{array}{c}\n",
        "1 \\\\\n",
        "0\n",
        "\\end{array}\n",
        "\\right )$ and\n",
        "$v = \\left (\n",
        "\\begin{array}{c}\n",
        "0 \\\\\n",
        "2\n",
        "\\end{array}\n",
        "\\right )$ since if  $a u + b v = 0$ then $a = 0$ and $2b=0$.\n",
        "\n",
        "**Def:** A linearly independent set of vectors $v_1,...,v_n$ is a basis for a vector space $V$ if $span(v_1,...,v_n) = V$.\n",
        "\n",
        "**Example:** The set $(1\\;0\\;0)^T$, $(0\\;1\\;0)^T$, and $(0\\;0\\;1)^T$ is a basis for $\\mathbb{R}^3$.\n",
        "\n",
        "**Example:** The set $(1\\;1)^T$, $(-1\\;1)^T$ is a basis for $\\mathbb{R}^2$.\n",
        "\n",
        "**Example:** Any set of two vectors is not a basis for $\\mathbb{R}^3$.\n",
        "\n",
        "**Def:** The dimension of a vector space is the number of elements in any basis for the space.\n",
        "\n",
        "**Example:** The dimension of $span(u,v)$ of the subspace described above is $2$. A basis for $span(u,v)$ is in fact $u$ and $v$.\n",
        "\n",
        "**Def:** The dot product of $u$ and $v$ is the pairwise sum of the products of the elements in $u$ and $v$:\n",
        "\n",
        "$$\n",
        "u \\cdot v = u^T v = u_1 v_1 + ... + u_n v_n \\in \\mathbb{R}.\n",
        "$$\n",
        "\n",
        "**Def:** Two vectors $u$ and $v$ are **orthogonal** if $u^Tv = 0$.\n",
        "\n",
        "**Example:** Show some dot products.\n",
        "\n",
        "**Def:** The magnitude of a vector $v$ is the square root of its dot product with itself:\n",
        "\n",
        "$$\n",
        "||v|| = \\sqrt{v^Tv}.\n",
        "$$\n",
        "\n",
        "**Example:** Show a magnitude calculation."
      ]
    },
    {
      "cell_type": "code",
      "execution_count": 2,
      "metadata": {
        "ExecuteTime": {
          "end_time": "2019-10-24T01:48:07.261792Z",
          "start_time": "2019-10-24T01:48:07.250694Z"
        },
        "colab": {
          "base_uri": "https://localhost:8080/"
        },
        "id": "eUc6yDDZfwe_",
        "outputId": "37fd66f0-25a7-473f-f1d1-d40c77b5dca0"
      },
      "outputs": [
        {
          "output_type": "stream",
          "name": "stdout",
          "text": [
            "[[1]\n",
            " [2]\n",
            " [3]]\n",
            "\n",
            "\n",
            "[[4]\n",
            " [5]\n",
            " [6]]\n"
          ]
        },
        {
          "output_type": "execute_result",
          "data": {
            "text/plain": [
              "array([[0.98056979],\n",
              "       [0.93773193],\n",
              "       [0.83157313],\n",
              "       [0.1387033 ],\n",
              "       [0.99930205],\n",
              "       [0.66201497],\n",
              "       [0.63514393],\n",
              "       [0.06181728],\n",
              "       [0.43925431],\n",
              "       [0.10015862],\n",
              "       [0.93427726],\n",
              "       [0.86916026],\n",
              "       [0.99361752],\n",
              "       [0.42748813],\n",
              "       [0.92946705],\n",
              "       [0.40230298],\n",
              "       [0.6423009 ],\n",
              "       [0.45620222],\n",
              "       [0.41955517],\n",
              "       [0.1422599 ],\n",
              "       [0.55306175],\n",
              "       [0.9225007 ],\n",
              "       [0.6399771 ],\n",
              "       [0.66365382],\n",
              "       [0.86687894],\n",
              "       [0.13190125],\n",
              "       [0.42492267],\n",
              "       [0.96054306],\n",
              "       [0.52107922],\n",
              "       [0.2600682 ],\n",
              "       [0.65160943],\n",
              "       [0.65024304],\n",
              "       [0.51357403],\n",
              "       [0.36516586],\n",
              "       [0.14243455],\n",
              "       [0.92777636],\n",
              "       [0.77190611],\n",
              "       [0.82447068],\n",
              "       [0.73384476],\n",
              "       [0.61262911],\n",
              "       [0.32976205],\n",
              "       [0.93773333],\n",
              "       [0.97390864],\n",
              "       [0.7474486 ],\n",
              "       [0.59877359],\n",
              "       [0.25892406],\n",
              "       [0.64807967],\n",
              "       [0.29646869],\n",
              "       [0.14322202],\n",
              "       [0.5376119 ],\n",
              "       [0.28488269],\n",
              "       [0.15283748],\n",
              "       [0.11266318],\n",
              "       [0.19418508],\n",
              "       [0.44251863],\n",
              "       [0.52236391],\n",
              "       [0.15166878],\n",
              "       [0.08705718],\n",
              "       [0.72088286],\n",
              "       [0.4099338 ],\n",
              "       [0.77290417],\n",
              "       [0.1795906 ],\n",
              "       [0.04971151],\n",
              "       [0.43303421],\n",
              "       [0.44676915],\n",
              "       [0.29681003],\n",
              "       [0.10445318],\n",
              "       [0.81415568],\n",
              "       [0.74658247],\n",
              "       [0.93678157],\n",
              "       [0.22348083],\n",
              "       [0.93587612],\n",
              "       [0.09371077],\n",
              "       [0.39830672],\n",
              "       [0.23842981],\n",
              "       [0.38614155],\n",
              "       [0.96996635],\n",
              "       [0.43757613],\n",
              "       [0.55838303],\n",
              "       [0.43730796],\n",
              "       [0.66375164],\n",
              "       [0.30685622],\n",
              "       [0.22413771],\n",
              "       [0.95322568],\n",
              "       [0.5428341 ],\n",
              "       [0.87692443],\n",
              "       [0.90974043],\n",
              "       [0.20978099],\n",
              "       [0.78818566],\n",
              "       [0.23969791],\n",
              "       [0.91715958],\n",
              "       [0.50094294],\n",
              "       [0.48719467],\n",
              "       [0.17249382],\n",
              "       [0.53817419],\n",
              "       [0.83192604],\n",
              "       [0.57489953],\n",
              "       [0.59718902],\n",
              "       [0.54476955],\n",
              "       [0.71556841]])"
            ]
          },
          "metadata": {},
          "execution_count": 2
        }
      ],
      "source": [
        "# Vectors in numpy are just arrays of arrays. To make them into column vectors, you need to do the following:\n",
        "\n",
        "u = np.array([\n",
        "    [1],\n",
        "    [2],\n",
        "    [3]\n",
        "])\n",
        "\n",
        "print(u)\n",
        "print(\"\\n\")\n",
        "\n",
        "# Or you can do\n",
        "\n",
        "v = np.array([[4,5,6]]).transpose()\n",
        "print(v)\n",
        "\n",
        "x = np.array([np.random.rand(100)]).transpose()\n",
        "x"
      ]
    },
    {
      "cell_type": "code",
      "execution_count": 3,
      "metadata": {
        "ExecuteTime": {
          "end_time": "2019-10-24T01:48:39.188692Z",
          "start_time": "2019-10-24T01:48:39.184499Z"
        },
        "colab": {
          "base_uri": "https://localhost:8080/"
        },
        "id": "ggQnFoRyfwfA",
        "outputId": "ced1fdcc-1c8e-496f-d9e8-09d6e13eb441"
      },
      "outputs": [
        {
          "output_type": "stream",
          "name": "stdout",
          "text": [
            "[[5]\n",
            " [7]\n",
            " [9]]\n",
            "\n",
            "\n",
            "[[-20]\n",
            " [-25]\n",
            " [-30]]\n"
          ]
        }
      ],
      "source": [
        "# Numpy supports all the standard vector operations\n",
        "\n",
        "print(u+v)\n",
        "print(\"\\n\")\n",
        "print(-5 * v)"
      ]
    },
    {
      "cell_type": "code",
      "execution_count": 4,
      "metadata": {
        "ExecuteTime": {
          "end_time": "2019-10-24T01:48:47.433463Z",
          "start_time": "2019-10-24T01:48:47.428514Z"
        },
        "colab": {
          "base_uri": "https://localhost:8080/"
        },
        "id": "G-GUB7GafwfC",
        "outputId": "6e86656d-5801-4209-b0fd-a74ac3554185"
      },
      "outputs": [
        {
          "output_type": "stream",
          "name": "stdout",
          "text": [
            "[[0.]\n",
            " [0.]\n",
            " [0.]\n",
            " [1.]\n",
            " [0.]\n",
            " [0.]\n",
            " [0.]\n",
            " [0.]\n",
            " [0.]\n",
            " [0.]]\n",
            "[[1.]\n",
            " [0.]\n",
            " [0.]\n",
            " [0.]\n",
            " [0.]\n",
            " [0.]\n",
            " [0.]\n",
            " [0.]\n",
            " [0.]\n",
            " [0.]]\n",
            "[[0.]\n",
            " [1.]\n",
            " [0.]\n",
            " [0.]\n",
            " [0.]\n",
            " [0.]\n",
            " [0.]\n",
            " [0.]\n",
            " [0.]\n",
            " [0.]]\n"
          ]
        }
      ],
      "source": [
        "# To make the standard basis for n dimensional vectors, you can do the following,\n",
        "# which gives the vector in R^10 with the fourth elemenet = 1 and the rest of the\n",
        "# elements equal to zero\n",
        "\n",
        "x1 = np.eye(1,10,3).transpose()\n",
        "x2 = np.eye(1,10,0).transpose()\n",
        "x3 = np.eye(1,10,1).transpose()\n",
        "\n",
        "print(x1)\n",
        "print(x2)\n",
        "print(x3)"
      ]
    },
    {
      "cell_type": "code",
      "execution_count": 5,
      "metadata": {
        "ExecuteTime": {
          "end_time": "2019-10-24T01:49:46.315611Z",
          "start_time": "2019-10-24T01:49:46.308742Z"
        },
        "colab": {
          "base_uri": "https://localhost:8080/",
          "height": 78
        },
        "id": "bB1o4xqwfwfC",
        "outputId": "465c65b9-9026-4e91-e8af-7ffd3ef58c59"
      },
      "outputs": [
        {
          "output_type": "execute_result",
          "data": {
            "text/plain": [
              "⎡-10⎤\n",
              "⎢   ⎥\n",
              "⎢-10⎥\n",
              "⎢   ⎥\n",
              "⎣-10⎦"
            ],
            "text/latex": "$\\displaystyle \\left[\\begin{matrix}-10\\\\-10\\\\-10\\end{matrix}\\right]$"
          },
          "metadata": {},
          "execution_count": 5
        }
      ],
      "source": [
        "# You can also use sympy to get exact values for your arrays. Here, vectors are just n x 1 matrices\n",
        "\n",
        "w = sm.Matrix([\n",
        "    [1],\n",
        "    [2],\n",
        "    [3]]\n",
        ")\n",
        "x = sm.Matrix([[3],[4],[5]])\n",
        "5*(w - x)"
      ]
    },
    {
      "cell_type": "code",
      "execution_count": 6,
      "metadata": {
        "ExecuteTime": {
          "end_time": "2019-10-24T01:49:58.930606Z",
          "start_time": "2019-10-24T01:49:58.924481Z"
        },
        "colab": {
          "base_uri": "https://localhost:8080/",
          "height": 220
        },
        "id": "dgPsLBMcfwfD",
        "outputId": "e3d64577-15bd-41b9-b597-0397838ea43d"
      },
      "outputs": [
        {
          "output_type": "execute_result",
          "data": {
            "text/plain": [
              "⎡0⎤\n",
              "⎢ ⎥\n",
              "⎢0⎥\n",
              "⎢ ⎥\n",
              "⎢0⎥\n",
              "⎢ ⎥\n",
              "⎢1⎥\n",
              "⎢ ⎥\n",
              "⎢0⎥\n",
              "⎢ ⎥\n",
              "⎢0⎥\n",
              "⎢ ⎥\n",
              "⎢0⎥\n",
              "⎢ ⎥\n",
              "⎢0⎥\n",
              "⎢ ⎥\n",
              "⎢0⎥\n",
              "⎢ ⎥\n",
              "⎣0⎦"
            ],
            "text/latex": "$\\displaystyle \\left[\\begin{matrix}0\\\\0\\\\0\\\\1\\\\0\\\\0\\\\0\\\\0\\\\0\\\\0\\end{matrix}\\right]$"
          },
          "metadata": {},
          "execution_count": 6
        }
      ],
      "source": [
        "# Similarly, you can make basis vectors. You have to first make a matrix though and take the mth column.\n",
        "\n",
        "sm.eye(10)[:,3]"
      ]
    },
    {
      "cell_type": "markdown",
      "metadata": {
        "id": "ILpoq_R_fwfE"
      },
      "source": [
        "## Matrices"
      ]
    },
    {
      "cell_type": "markdown",
      "metadata": {
        "id": "mr2qGUcAfwfE"
      },
      "source": [
        "Definitions\n",
        "---\n",
        "\n",
        "**Def:** A **matrix** is a rectangular array of real or complex elements. If a real valued matrix $M$ has $n$ rows and $m$ columns, we write that $M \\in \\mathbb{R}^{n \\times m}$.\n",
        "\n",
        "**Example:** The following is a $3 \\times 5$ matrix:\n",
        "\n",
        "$$\n",
        "\\begin{pmatrix}\n",
        "0&1&2&0&9\\\\\n",
        "1&-1&2&-3&4 \\\\\n",
        "0 & 0 & 1 & 1 & 1\n",
        "\\end{pmatrix}.\n",
        "$$\n",
        "\n",
        "**Example:** A gray scale bitmap can be thought of as a matrix with the $i,j$ entry corresponding to the gray level of the pixel at position $i,j$. Typically, values range from 0 (black) to 255 (white). Or they can be $0$ for black and $1$ for white, with $0.5$ for gray$.\n",
        "\n",
        "**Example:** Suppose we have 100 Senators in congress and 200 issues they have voted on in the present term. If Senator $i$ voted yes on issue $j$, put $M_{i,j} = 1$. If she voted no, put $M_{i,j} = -1$. If she didn't vote, put $M_{i,j} = 0$.\n",
        "\n",
        "**Example**: A matrix can represent a social network. For example, suppose that user $i$ is \"friends with\" user $j$. Then we would write $A_{i,j} = 1$ Otherwise, we would write $A_{i,j} = 0$.\n",
        "\n",
        "**Def:** A matrix can represent a **linear transformation** on other vectors. In this case we use **matrix multiplication** to take vectors to vectors:\n",
        "\n",
        "$$\n",
        "A x = y\n",
        "$$\n",
        "\n",
        "means\n",
        "\n",
        "$$\n",
        "\\begin{pmatrix}\n",
        "a_{1,1} & ... & a_{1,n} \\\\\n",
        "\\vdots & \\; & \\vdots \\\\\n",
        "a_{n,1} & ... & a_{n,n}\n",
        "\\end{pmatrix} \\begin{pmatrix}\n",
        "x_1 \\\\\n",
        "\\vdots \\\\\n",
        "x_n\n",
        "\\end{pmatrix} =\n",
        "\\begin{pmatrix}\n",
        "a_{1,1} x_1 & ... & a_{1,n}x_n \\\\\n",
        "\\vdots & & \\vdots \\\\\n",
        "a_{n,1} x_1 & ... & a_{n,n} x_n\n",
        "\\end{pmatrix} =\n",
        "\\begin{pmatrix}\n",
        "y_1 \\\\\n",
        "\\vdots \\\\\n",
        "y_n\n",
        "\\end{pmatrix}\n",
        "$$\n",
        "\n",
        "**Example:** Show some matrix-vector multiplications.\n",
        "\n",
        "**Example:** For example, given $\\theta \\in \\mathbb{R}$ define the rotation matrix\n",
        "\n",
        "$$\n",
        "R(\\theta) =\n",
        "\\begin{pmatrix}\n",
        "\\cos \\theta \\; \\sin \\theta \\\\\n",
        "-\\sin \\theta \\; \\cos \\theta\n",
        "\\end{pmatrix}.\n",
        "$$\n",
        "\n",
        "For example,\n",
        "\n",
        "$$\n",
        "R\\left(\\frac{\\pi}{4}\\right) =\n",
        "\\begin{pmatrix}\n",
        "\\frac{\\sqrt{2}}{2} & \\frac{\\sqrt{2}}{2} \\\\\n",
        "-\\frac{\\sqrt{2}}{2} & \\frac{\\sqrt{2}}{2}\n",
        "\\end{pmatrix}.\n",
        "$$\n",
        "\n",
        "These matrices when applied to vectors, rotate the vectors around the origin by $\\theta$ radians, preserving their magnitudes. For example,\n",
        "\n",
        "$$\n",
        "R\\left(\\frac{\\pi}{4}\\right)\n",
        "\\begin{pmatrix}\n",
        "1\\\\\n",
        "0\n",
        "\\end{pmatrix} =\n",
        "\\begin{pmatrix}\n",
        "\\frac{\\sqrt{2}}{2} & \\frac{\\sqrt{2}}{2} \\\\\n",
        "-\\frac{\\sqrt{2}}{2} & \\frac{\\sqrt{2}}{2}\n",
        "\\end{pmatrix}\\begin{pmatrix}\n",
        "1\\\\\n",
        "0\n",
        "\\end{pmatrix} =\n",
        "\\begin{pmatrix}\n",
        "\\frac{\\sqrt{2}}{2}\\\\\n",
        "-\\frac{\\sqrt{2}}{2}\n",
        "\\end{pmatrix}\n",
        "$$\n"
      ]
    },
    {
      "cell_type": "code",
      "execution_count": 7,
      "metadata": {
        "ExecuteTime": {
          "end_time": "2019-10-24T02:09:03.435385Z",
          "start_time": "2019-10-24T02:09:03.242477Z"
        },
        "colab": {
          "base_uri": "https://localhost:8080/",
          "height": 622
        },
        "id": "RObwEKAcfwfF",
        "outputId": "eb64c0bf-ad84-4cdc-b8a1-6f5ee927e872"
      },
      "outputs": [
        {
          "output_type": "stream",
          "name": "stdout",
          "text": [
            "[[-1.  -1. ]\n",
            " [ 0.  -1. ]\n",
            " [ 0.   0. ]\n",
            " [ 0.5  0. ]\n",
            " [ 0.5 -1. ]\n",
            " [ 1.  -1. ]\n",
            " [ 1.   1. ]\n",
            " [ 1.5  1. ]\n",
            " [ 0.   2. ]\n",
            " [-1.5  1. ]\n",
            " [-1.   1. ]]\n"
          ]
        },
        {
          "output_type": "display_data",
          "data": {
            "text/plain": [
              "<Figure size 640x480 with 1 Axes>"
            ],
            "image/png": "[encoded data removed]"
          },
          "metadata": {}
        }
      ],
      "source": [
        "# To see how matrices act as transformations of points, let's draw a picture of a house.\n",
        "\n",
        "points = np.array([\n",
        "    [-1,-1],\n",
        "    [0,-1],\n",
        "    [0,0],\n",
        "    [0.5,0],\n",
        "    [0.5,-1],\n",
        "    [1,-1],\n",
        "    [1,1],\n",
        "    [1.5,1],\n",
        "    [0,2],\n",
        "    [-1.5,1],\n",
        "    [-1,1]\n",
        "])\n",
        "\n",
        "print(points)\n",
        "\n",
        "shape = pch.Polygon(points)\n",
        "plt.gca().add_artist(shape)\n",
        "plt.xlim(-4,4)\n",
        "plt.ylim(-4,4)\n",
        "plt.gca().set_aspect(1)"
      ]
    },
    {
      "cell_type": "code",
      "execution_count": 8,
      "metadata": {
        "ExecuteTime": {
          "end_time": "2019-10-24T02:10:39.190338Z",
          "start_time": "2019-10-24T02:10:39.012654Z"
        },
        "colab": {
          "base_uri": "https://localhost:8080/",
          "height": 435
        },
        "id": "8INDpNbyfwfG",
        "outputId": "59fa9567-5f9b-4e0c-eb80-370de8c4d6e7"
      },
      "outputs": [
        {
          "output_type": "display_data",
          "data": {
            "text/plain": [
              "<Figure size 640x480 with 1 Axes>"
            ],
            "image/png": "[encoded data removed]"
          },
          "metadata": {}
        }
      ],
      "source": [
        "\n",
        "# Now we can rotate it by multiplying each point by a rotation matrix\n",
        "\n",
        "def R(theta):\n",
        "    return np.array([\n",
        "        [np.cos(theta), np.sin(theta)],\n",
        "        [-np.sin(theta), np.cos(theta)]\n",
        "    ])\n",
        "\n",
        "new_points = [np.dot(R(1),p) for p in points]\n",
        "\n",
        "shape = pch.Polygon(new_points)\n",
        "plt.gca().add_artist(shape)\n",
        "plt.xlim(-4,4)\n",
        "plt.ylim(-4,4)\n",
        "plt.gca().set_aspect(1)"
      ]
    },
    {
      "cell_type": "code",
      "execution_count": 9,
      "metadata": {
        "ExecuteTime": {
          "end_time": "2019-10-24T02:12:43.217934Z",
          "start_time": "2019-10-24T02:12:41.728189Z"
        },
        "colab": {
          "base_uri": "https://localhost:8080/",
          "height": 682
        },
        "id": "3q0w0HDTfwfG",
        "outputId": "1ec004da-a126-4525-dab6-22d6e4bbe066"
      },
      "outputs": [
        {
          "output_type": "display_data",
          "data": {
            "text/plain": [
              "<Figure size 800x800 with 16 Axes>"
            ],
            "image/png": "[encoded data removed]"
          },
          "metadata": {}
        }
      ],
      "source": [
        "# More generally, matrices as transformations can rotate, reflect, sheer, project, and permute.\n",
        "# Here aer some random transformations.\n",
        "\n",
        "fig,ax = plt.subplots(4,4,figsize=(8,8))\n",
        "\n",
        "for i in range(16):\n",
        "    A = 4*(np.random.rand(2,2) - 0.5*np.ones((2,2)))\n",
        "    new_points = [np.dot(A,p) for p in points]\n",
        "    shape = pch.Polygon(new_points)\n",
        "    a = ax[int(i/4), i%4]\n",
        "    a.add_artist(shape)\n",
        "    a.set_xlim(-4,4)\n",
        "    a.set_ylim(-4,4)\n",
        "    a.set_aspect(1)"
      ]
    },
    {
      "cell_type": "markdown",
      "metadata": {
        "id": "Huz_mKsBfwfH"
      },
      "source": [
        "Matrix Operations\n",
        "---\n",
        "\n",
        "Matrices are like numbers in that you can add them and multiply them, but you have to be careful not to treat them exactly like numbers. For example, you can't divide by a matrix (although you can multiply by its inverse if it exists). Also, with numbers you get properties like $xy = xy$, but that isn't always the case with matrices.\n",
        "\n",
        "**Addition:** If $A$ and $B$ are matrices, then they can be added together if they have the same dimensions. In this case $(A+B)_{i,j} = A_{i,j} + B_{i,j}$.\n",
        "\n",
        "**Multiplication:** If $A \\in \\mathbb{R}^{n \\times m}$ and $B \\in \\mathbb{R}^{m \\times p}$ then $AB \\in \\mathbb{R}^{n \\times p}$ is defined by\n",
        "\n",
        "$$\n",
        "AB = \\begin{pmatrix}\n",
        "a_{1,1} & ... & a_{1,n} \\\\\n",
        "\\vdots & \\; & \\vdots \\\\\n",
        "a_{m,1} & ... & a_{m,n}\n",
        "\\end{pmatrix} \\begin{pmatrix}\n",
        "b_{1,1} & ... & b_{1,p} \\\\\n",
        "\\vdots & \\; & \\vdots \\\\\n",
        "b_{n,1} & ... & b_{n,p}\n",
        "\\end{pmatrix} =\n",
        "\\begin{pmatrix}\n",
        "c_{1,1} & ... & c_{1,p} \\\\\n",
        "\\vdots & \\; & \\vdots \\\\\n",
        "c_{m,1} & ... & c_{m,p}\n",
        "\\end{pmatrix}\n",
        "$$\n",
        "\n",
        "where\n",
        "\n",
        "$$\n",
        "c_{i,j} = a_{i,1} b_{1,j} + ... + a_{1,n} b_{n,j}.\n",
        "$$\n",
        "\n",
        "Said differently, the $i,j$ entry of $AB$ is the dot product of the $i$the row of $A$ with the $j$th column of $B$.\n",
        "\n",
        "**Example:** Show a matrix multiplication.\n",
        "\n",
        "**Example:** Two transformations can be done in succession to get a new transformation, simply by multiplying the two transformations together. For example, $R(\\theta_1) R(\\theta_2) = R(\\theta_1 + \\theta_2)$. This is in fact a restatement of [Ptolemy’s identities](https://www2.clarku.edu/faculty/djoyce/trig/ptolemy.html).\n",
        "\n",
        "**Example:** If $A \\in \\mathbb{R}^{n \\times n}$ then $A^m$ is $A$ multiplied by itself $m$ times.\n",
        "\n",
        "**Not Commutative:** It is not always the case that $AB = BA$ for square matrices, as simple examples show.\n",
        "\n",
        "**Indentity:** The **identity matrix** for $\\mathbb{R}^{n \\times n}$ is\n",
        "\n",
        "$$\n",
        "I = \\begin{pmatrix}\n",
        "1 & 0 & ... & 0 \\\\\n",
        "0 & 1 & ... & 0  \\\\\n",
        "\\vdots & \\vdots & \\; & \\vdots \\\\\n",
        "0 & 0 & ... & 1\n",
        "\\end{pmatrix}\n",
        "$$\n",
        "\n",
        "and has the property that\n",
        "\n",
        "$$\n",
        "A I = I A = A\n",
        "$$\n",
        "\n",
        "for any $A \\in \\mathbb{R}^{n \\times n}$.\n",
        "\n",
        "**Inverses:** If $A \\in \\mathbb{R}^{n \\times n}$ then if $AB = I$, $B$ is said to be the inverse of $A$ and is denoted $A^{-1}$.\n",
        "\n",
        "**Example**: The inverse of the matrix\n",
        "\n",
        "$$\n",
        "\\begin{pmatrix}\n",
        "a & b \\\\\n",
        "c & d\n",
        "\\end{pmatrix}\n",
        "$$\n",
        "\n",
        "is\n",
        "\n",
        "$$\n",
        "\\frac{1}{ad - bc} \\begin{pmatrix}\n",
        "d & -b \\\\\n",
        "-c & a\n",
        "\\end{pmatrix}\n",
        "$$\n",
        "\n",
        "as can be shown by multiplying the two matrices together. Note that if $ad = bc$ then the matrix is *not invertible*.\n",
        "\n",
        "**Transpose:** If $A \\in \\mathbb{R}^{n \\times m}$, then $A^T$, the **transpose** of $A$, is the matrix obtained by setting the $i,j$ entry of $A^T$ to the $j,i$ entry of $A$. Thus, $A^T \\in \\mathbb{R}^{m \\times n}$.\n",
        "\n",
        "**Example:** Show a transpose of a matrix.\n",
        "\n",
        "**Property:** $(AB)^T = B^T A^T$. This can be shown be thinking about the dot product of rows and columns in computing the product."
      ]
    },
    {
      "cell_type": "code",
      "execution_count": 10,
      "metadata": {
        "ExecuteTime": {
          "end_time": "2019-10-24T02:32:26.352492Z",
          "start_time": "2019-10-24T02:32:26.340188Z"
        },
        "colab": {
          "base_uri": "https://localhost:8080/"
        },
        "id": "MznHlEQefwfI",
        "outputId": "fbaca890-5100-4f5e-c4ef-07390f3bb309"
      },
      "outputs": [
        {
          "output_type": "stream",
          "name": "stdout",
          "text": [
            "[[16 20 24]\n",
            " [-7 -3  1]]\n",
            "[[ 76 100 124]\n",
            " [  6   9  12]\n",
            " [ 36  48  60]]\n"
          ]
        }
      ],
      "source": [
        "# Examples in numpy\n",
        "\n",
        "A = np.array([\n",
        "    [1,0,3],\n",
        "    [-1,5,0]\n",
        "])\n",
        "\n",
        "B = np.array([\n",
        "    [7,8,9],\n",
        "    [0,1,2],\n",
        "    [3,4,5]\n",
        "])\n",
        "\n",
        "C = np.dot(A,B)\n",
        "\n",
        "print(C)\n",
        "\n",
        "D = np.dot(B,B)\n",
        "print(D)"
      ]
    },
    {
      "cell_type": "code",
      "execution_count": 11,
      "metadata": {
        "ExecuteTime": {
          "end_time": "2019-10-24T02:33:46.285193Z",
          "start_time": "2019-10-24T02:33:46.277448Z"
        },
        "colab": {
          "base_uri": "https://localhost:8080/"
        },
        "id": "_tx7KdqrfwfJ",
        "outputId": "98a034a9-ff3b-4f51-d72f-76b131db87ec"
      },
      "outputs": [
        {
          "output_type": "stream",
          "name": "stdout",
          "text": [
            "[[10 -1]\n",
            " [-1 26]]\n",
            "[[0.1003861  0.003861  ]\n",
            " [0.003861   0.03861004]]\n",
            "[[ 1.00000000e+00  0.00000000e+00]\n",
            " [-5.20417043e-18  1.00000000e+00]]\n"
          ]
        }
      ],
      "source": [
        "D = np.dot(A,A.transpose())\n",
        "print(D)\n",
        "E = np.linalg.inv(D)\n",
        "print(E)\n",
        "F = np.dot(D,E)\n",
        "print(F)\n",
        "F[np.abs(F) < 0.0001] = 0\n",
        "#F"
      ]
    },
    {
      "cell_type": "code",
      "execution_count": 12,
      "metadata": {
        "ExecuteTime": {
          "end_time": "2019-10-24T02:35:35.912461Z",
          "start_time": "2019-10-24T02:35:35.904273Z"
        },
        "colab": {
          "base_uri": "https://localhost:8080/",
          "height": 58
        },
        "id": "pTEprRavfwfK",
        "outputId": "461d07c6-8f30-43cb-ef24-ddc2e377f6de"
      },
      "outputs": [
        {
          "output_type": "execute_result",
          "data": {
            "text/plain": [
              "⎡16  20  24⎤\n",
              "⎢          ⎥\n",
              "⎣-7  -3  1 ⎦"
            ],
            "text/latex": "$\\displaystyle \\left[\\begin{matrix}16 & 20 & 24\\\\-7 & -3 & 1\\end{matrix}\\right]$"
          },
          "metadata": {},
          "execution_count": 12
        }
      ],
      "source": [
        "# In sympy, you can do things similarly, but get exact answers\n",
        "\n",
        "A = sm.Matrix([\n",
        "    [1,0,3],\n",
        "    [-1,5,0]\n",
        "])\n",
        "\n",
        "B = sm.Matrix([\n",
        "    [7,8,9],\n",
        "    [0,1,2],\n",
        "    [3,4,5]\n",
        "])\n",
        "\n",
        "C = A*B\n",
        "\n",
        "C"
      ]
    },
    {
      "cell_type": "code",
      "execution_count": 13,
      "metadata": {
        "ExecuteTime": {
          "end_time": "2019-10-24T02:35:29.458451Z",
          "start_time": "2019-10-24T02:35:29.450260Z"
        },
        "colab": {
          "base_uri": "https://localhost:8080/",
          "height": 75
        },
        "id": "iF-ZDaflfwfK",
        "outputId": "381d585e-f326-42c0-c08f-079b8f41b4d0"
      },
      "outputs": [
        {
          "output_type": "stream",
          "name": "stdout",
          "text": [
            "Matrix([[1, -1], [0, 5], [3, 0]])\n"
          ]
        },
        {
          "output_type": "execute_result",
          "data": {
            "text/plain": [
              "⎛          ⎡ 26         ⎤        ⎞\n",
              "⎜          ⎢ ───   1/259⎥        ⎟\n",
              "⎜⎡10  -1⎤  ⎢ 259        ⎥  ⎡1  0⎤⎟\n",
              "⎜⎢      ⎥, ⎢            ⎥, ⎢    ⎥⎟\n",
              "⎜⎣-1  26⎦  ⎢        10  ⎥  ⎣0  1⎦⎟\n",
              "⎜          ⎢1/259   ─── ⎥        ⎟\n",
              "⎝          ⎣        259 ⎦        ⎠"
            ],
            "text/latex": "$\\displaystyle \\left( \\left[\\begin{matrix}10 & -1\\\\-1 & 26\\end{matrix}\\right], \\  \\left[\\begin{matrix}\\frac{26}{259} & \\frac{1}{259}\\\\\\frac{1}{259} & \\frac{10}{259}\\end{matrix}\\right], \\  \\left[\\begin{matrix}1 & 0\\\\0 & 1\\end{matrix}\\right]\\right)$"
          },
          "metadata": {},
          "execution_count": 13
        }
      ],
      "source": [
        "print(A.T)\n",
        "D = A * A.T\n",
        "E = D.inv()\n",
        "F = D*E\n",
        "D, E, F"
      ]
    },
    {
      "cell_type": "markdown",
      "metadata": {
        "id": "lYAXosbafwfL"
      },
      "source": [
        "The Determinant\n",
        "---\n",
        "\n",
        "The determinant of a square matrix is a way to sum up the matrix with one number. For example, it helps us distinguish which matrices act like zero in the sense that they can't be inverted.\n",
        "\n",
        "**Def:** If $A \\in \\mathbb{R}^{n \\times n}$, the determinant of $A$, denoted $\\det(A)$ or $|A|$ is defined as follows.\n",
        "\n",
        "- If $n=1$, then $|A| = A$.\n",
        "- If $n=2$, then $|A| = a_{1,1} a_{2,2} - a_{2,1} a_{2,2}$\n",
        "- If $n=3$, then $|A| = a_{1,1} A(1,1) - a_{1,2} A(1,2) + a_{1,3} A(1,3)$ where $A(i,j)$ is the matrix obtained from $A$ by removing the $i$th row and $j$th column.\n",
        "- If $n=4$, then $|A| = a_{1,1} A(1,1) - a_{1,2} A(1,2) + a_{1,3} A(1,3) + a_{1,4}A(1,4)$\n",
        "- Etc.\n",
        "\n",
        "Note that any row or column can be used in the above definition, not just the first row.\n",
        "\n",
        "**Identity:** |I| = 1\n",
        "\n",
        "**Multiplication:** $|AB| = |A||B|$. Proof is a bit complicated.\n",
        "\n",
        "**Inverse:** $|A^{-1}| = \\frac{1}{|A|}$. This is because $1 = |I| = |A^{-1}A| = |A^{-1}||A|$.\n",
        "\n",
        "**Zero columns or rows:** The determinant of any matrix with a column (or row) of zeros is zero.\n",
        "\n",
        "**Transpose:** $|A^T| = |A|$.\n",
        "\n",
        "**The determinant of an upper triangular matrix**: If all entries below the diagonal of a matrix are zero, then the determinant is the product of the diagonal.\n",
        "\n",
        "**Example:** Show the computation of some determinants."
      ]
    },
    {
      "cell_type": "code",
      "execution_count": 14,
      "metadata": {
        "ExecuteTime": {
          "end_time": "2019-10-24T02:46:38.789690Z",
          "start_time": "2019-10-24T02:46:38.778636Z"
        },
        "colab": {
          "base_uri": "https://localhost:8080/",
          "height": 37
        },
        "id": "Vr4ENuYpfwfL",
        "outputId": "02c2e45a-978a-4175-c11f-4869fba0ec67"
      },
      "outputs": [
        {
          "output_type": "execute_result",
          "data": {
            "text/plain": [
              "-2.0000000000000004"
            ],
            "text/latex": "$\\displaystyle -2.0$"
          },
          "metadata": {},
          "execution_count": 14
        }
      ],
      "source": [
        "# In numpy\n",
        "\n",
        "A = np.array([[1,2],[3,4]])\n",
        "np.linalg.det(A)"
      ]
    },
    {
      "cell_type": "code",
      "execution_count": 15,
      "metadata": {
        "ExecuteTime": {
          "end_time": "2019-10-24T02:46:44.963882Z",
          "start_time": "2019-10-24T02:46:44.958824Z"
        },
        "colab": {
          "base_uri": "https://localhost:8080/",
          "height": 37
        },
        "id": "1ipbq30mfwfM",
        "outputId": "966c042e-46e3-41c9-84e7-7acb83aab02d"
      },
      "outputs": [
        {
          "output_type": "execute_result",
          "data": {
            "text/plain": [
              "-2"
            ],
            "text/latex": "$\\displaystyle -2$"
          },
          "metadata": {},
          "execution_count": 15
        }
      ],
      "source": [
        "# In sympy\n",
        "\n",
        "A = sm.Matrix([[1,2],[3,4]])\n",
        "A.det()"
      ]
    },
    {
      "cell_type": "markdown",
      "metadata": {
        "id": "bgjzi1bafwfM"
      },
      "source": [
        "Non-singular Matrices\n",
        "---\n",
        "\n",
        "Once again, not all matrices can be inverted. Those that can are special and in general are called non-singular.\n",
        "\n",
        "**Def:** The **rank** of a matrix is the number of independent columns (or rows) of the matrix.\n",
        "\n",
        "**Example:** Show 3D matrices with ranks 1, 2 and 3.\n",
        "\n",
        "**Def:** A matrix $A \\in \\mathbb{R}^{n \\times n}$ is called **nonsingular** if it has an inverse.\n",
        "\n",
        "**Thm:** The following are equivalent:\n",
        "\n",
        "- $A$ is non-singular.\n",
        "- $A$ is invertible.\n",
        "- $A$ has full rank (its rank is equal to its number of columns or rows).\n",
        "- $\\det(A) \\neq 0$.\n",
        "- The equation $y = Ax$ has one solution (namely $A^{-1}y$).\n",
        "- The only solution to $Ax = 0$ is $x = 0$.\n",
        "- The rows of $A$ are linearly independent.\n",
        "- The columns of $A$ are linearly independent.\n",
        "- Zero is not an eigenvalue (see next section).\n",
        "\n",
        "**Example:** Show some singular and non-singular matrices.\n",
        "\n",
        "**Example:** Show an example of the solution to $Ax=y$ where $A$ is singular."
      ]
    },
    {
      "cell_type": "code",
      "execution_count": 16,
      "metadata": {
        "ExecuteTime": {
          "end_time": "2019-10-24T02:54:34.745491Z",
          "start_time": "2019-10-24T02:54:34.182324Z"
        },
        "colab": {
          "base_uri": "https://localhost:8080/",
          "height": 143
        },
        "id": "zgnBsKdWfwfN",
        "outputId": "bbd02cd5-db76-456f-9842-0af51810d5d7"
      },
      "outputs": [
        {
          "output_type": "display_data",
          "data": {
            "text/plain": [
              "<Figure size 5000x3500 with 10 Axes>"
            ],
            "image/png": "[encoded data removed]"
          },
          "metadata": {}
        }
      ],
      "source": [
        "# Note that a singular matrix collapses a space to a lower dimensional\n",
        "# subspace when used as a transformation.\n",
        "\n",
        "fig,ax = plt.subplots(1,10,figsize=(50,35))\n",
        "\n",
        "for i in range(10):\n",
        "    A = np.array([\n",
        "        [1,0],\n",
        "        [0,1/(1+i**2)]\n",
        "    ])\n",
        "    new_points = [np.dot(A,p) for p in points]\n",
        "    shape = pch.Polygon(new_points)\n",
        "    a = ax[i]\n",
        "    a.add_artist(shape)\n",
        "    a.set_xlim(-4,4)\n",
        "    a.set_ylim(-4,4)\n",
        "    a.set_aspect(1)"
      ]
    },
    {
      "cell_type": "markdown",
      "metadata": {
        "id": "wu4D7FRbfwfO"
      },
      "source": [
        "Special Matrices\n",
        "---\n",
        "\n",
        "There are all sorts of special types of matrix. We cover a few here, but the list goes on and on.\n",
        "\n",
        "**Def:** A matrix $A$ is symmetric if $A^T = A$.\n",
        "\n",
        "**Property:** If $A$ and $B$ are symmetric then $AB$ is symmetric if and only if $A$ and $B$ commute (i.e. $AB = BA$). To show this, we have to show that $(AB)^T = AB$. We have,\n",
        "\n",
        "$$\n",
        "(AB)^T = (BA)^T = A^TB^T = AB.\n",
        "$$\n",
        "\n",
        "**Property:** $A A^T$ and $A^T A$ are symmetric for any $A$. This is because $(A A^T)^T = (A^T)^T A^T = A A^T$.\n",
        "\n",
        "**Def:** A matrix $A$ is **orthogonal** if $AA^T = A^T A = I$. Equivalently, $A$ is orthogonal if $A^{-1} = A^T$.\n",
        "\n",
        "**Example:** Rotations matrices and permutation matrices.\n",
        "\n",
        "**Property:** The columns of an orthogonal matrix $A \\in \\mathbb{R}^{n \\times n}$ form an **orthonormal basis** of $\\mathbb{R}^{n \\times n}$. That is\n",
        "\n",
        "- Each column is a unit vector\n",
        "- Each pair of columns is orthogonal\n",
        "- And they are all independent (follows from the second point).\n",
        "\n",
        "**Property:** The determinant of an orthogonal matrix $A$ is either 1 or -1. This is because\n",
        "\n",
        "$$\n",
        "1 = |I| = |AA^T| = |A||A^T| = |A|^2.\n",
        "$$"
      ]
    },
    {
      "cell_type": "code",
      "execution_count": 17,
      "metadata": {
        "ExecuteTime": {
          "end_time": "2019-10-22T21:53:53.760363Z",
          "start_time": "2019-10-22T21:53:53.755107Z"
        },
        "colab": {
          "base_uri": "https://localhost:8080/"
        },
        "id": "xjAGjr24fwfO",
        "outputId": "a10a9e2d-1afa-496f-9a02-9117e62676a0"
      },
      "outputs": [
        {
          "output_type": "stream",
          "name": "stdout",
          "text": [
            "[[-1  0  0  0 -1 -1  0]\n",
            " [-1  0  0 -1  0 -1  0]\n",
            " [ 0  0 -1 -1 -1 -1 -1]\n",
            " [ 0 -1  0  0 -1 -1  0]]\n"
          ]
        },
        {
          "output_type": "execute_result",
          "data": {
            "text/plain": [
              "array([[0, 0, 0, 0],\n",
              "       [0, 0, 0, 0],\n",
              "       [0, 0, 0, 0],\n",
              "       [0, 0, 0, 0]])"
            ]
          },
          "metadata": {},
          "execution_count": 17
        }
      ],
      "source": [
        "A = np.random.randint(-1,1,(4,7))\n",
        "print(A)\n",
        "B = np.dot(A,A.transpose())\n",
        "B - B.transpose()"
      ]
    },
    {
      "cell_type": "markdown",
      "metadata": {
        "id": "KxaCxgXGfwfO"
      },
      "source": [
        "## Eigenvalues"
      ]
    },
    {
      "cell_type": "markdown",
      "metadata": {
        "id": "jl8E6YOsfwfP"
      },
      "source": [
        "The eigenvalues of a matrix are a fundamental way to extract, for example, what the matrix *does*. It also allows us to describe how two matrices might be in fact quite similar to each other in the sense that they have the same eigenvalues. Really, the matrix itself becomes less important, and its eigenvalues become its defining characteristic (possibly shared by other matrices).\n",
        "\n",
        "**Def:** If $A \\in \\mathbb{R}^{n \\times n}$ then $\\lambda \\in \\mathbb{C}$ is an **eigenvalue** if there exists a **non-zero** vector $v \\in \\mathbb{C}^n$ such that\n",
        "\n",
        "$$\n",
        "A v = \\lambda v.\n",
        "$$\n",
        "\n",
        "In this case, $v$ is called an **eigenvalue**.\n",
        "\n",
        "Another way to write the above equation is to put everything on the left hand side to get:\n",
        "\n",
        "$$\n",
        "(\\lambda I - A)v = 0 .\n",
        "$$\n",
        "\n",
        "Since $v$ is non-zero, it must be the case that $\\lambda I - A$ is singular. Thus, to compute eigenvalues, we find values of $\\lambda$ that make $\\lambda I - A$ singular. That is, we solve the equation\n",
        "\n",
        "$$\n",
        "\\mathrm{det}(\\lambda I - A) = 0.\n",
        "$$\n",
        "\n",
        "**Def:** This last equation is super important and the term $\\mathrm{det}(\\lambda I - A)$ is called the **characteristic polynomial** of $A$.\n",
        "\n",
        "**Example:** Say\n",
        "$$\n",
        "A =\\begin{pmatrix}0&1\\\\1&-1\\end{pmatrix}.\n",
        "$$\n",
        "then the characteristic polynomial is\n",
        "\n",
        "\\begin{align}\n",
        "\\mathrm{det}(\\lambda I - A)\n",
        "& = \\left|\n",
        "\\left(\\begin{array}{cc}\n",
        "\\lambda & 0 \\\\\n",
        "0 & \\lambda\n",
        "\\end{array}\\right) -\n",
        "\\left(\\begin{array}{cc}\n",
        "0 & 1 \\\\\n",
        "1 & -1\n",
        "\\end{array}\\right)\n",
        "\\right| \\\\\n",
        "& =\\left|\n",
        "\\begin{array}{cc}\n",
        "\\lambda & -1 \\\\\n",
        "-1 & \\lambda+1\n",
        "\\end{array}\n",
        "\\right| \\\\\n",
        "& =\n",
        "\\lambda(\\lambda+1)-1 \\\\\n",
        "& =\n",
        "\\lambda^2 + \\lambda-1\n",
        "\\end{align}\n",
        "\n",
        "Hence,\n",
        "\n",
        "$$\n",
        "\\lambda = \\frac{-1\\pm\\sqrt{5}}{2}.\n",
        "$$\n",
        "\n",
        "or $-1.62$ and $0.62$.\n",
        "\n",
        "The eigenvectors of a system can be found with\n",
        "\n",
        "$$\n",
        "A x = \\lambda x\n",
        "$$\n",
        "\n",
        "In this case, we have\n",
        "\n",
        "$$\n",
        "\\begin{pmatrix}0&1\\\\1&-1\\end{pmatrix}\n",
        "\\begin{pmatrix}x_1\\\\x_2\\end{pmatrix} =\n",
        "\\lambda\n",
        "\\begin{pmatrix}x_1\\\\x_2\\end{pmatrix}\n",
        "$$\n",
        "\n",
        "This is an under-constrained set of equations, which amount to $x_2 = \\lambda x_1$ and $x_1 - x_2 = \\lambda x_2$. Choosing $x_1 = 1$ we use the first equation to get $x_2 = \\lambda$.\n",
        "\n",
        "So the first eigenvector can be chosen to be\n",
        "\n",
        "$$\n",
        "{\\bf x}_1 = \\begin{pmatrix}1\\\\\\frac{-1-\\sqrt{5}}{2}\\end{pmatrix} \\approx\n",
        "\\begin{pmatrix}1\\\\-1.62\\end{pmatrix}\n",
        "$$\n",
        "\n",
        "And similarly, the second can be chosen to be\n",
        "$$\n",
        "{\\bf x}_2 = \\begin{pmatrix}1\\\\\\frac{-1+\\sqrt{5}}{2}\\end{pmatrix} \\approx\n",
        "\\begin{pmatrix}1\\\\0.62\\end{pmatrix}.\n",
        "$$\n",
        "\n",
        "Note that these are not unique. You can choose any multiple of an eigenvector and it is still an eigenvector."
      ]
    },
    {
      "cell_type": "markdown",
      "metadata": {
        "id": "cPGNO5tmfwfP"
      },
      "source": [
        "Matrix Similarity\n",
        "---\n",
        "\n",
        "As we said above, if two matrices have the same eigenvalues, they are in some sense equivalent. The following definition captures this idea.\n",
        "\n",
        "**Def:** $A$ and $B$ are **similar** if there exists an invertible matrix $A$ such that $B = Q A Q^{-1}$.\n",
        "\n",
        "**Properties:**\n",
        "\n",
        "- Similar matrices have the same determinant. $|B| = |Q A Q^{-1}| = |Q||Q^{-1}||A| = |A|$.\n",
        "- Similar matrices have the same characteristic polynomial.\n",
        "\\begin{eqnarray}\n",
        "|\\lambda I - B| & = & |\\lambda I - Q A Q^{-1}| \\\\\n",
        "                & = & |\\lambda Q Q^{-1} -  Q A Q^{-1}| \\\\\n",
        "                & = & |Q ( \\lambda I - A ) Q^{-1}| \\\\\n",
        "                & = & |Q||Q^{-1}||\\lambda I - A| \\\\\n",
        "                & = & |\\lambda I - A|\n",
        "\\end{eqnarray}\n",
        "- Similar matrices have the same eigenvalues.\n",
        "\n",
        "**Example**: Show a $2 \\times 2$ example."
      ]
    },
    {
      "cell_type": "code",
      "execution_count": 18,
      "metadata": {
        "ExecuteTime": {
          "end_time": "2019-10-24T03:24:33.555527Z",
          "start_time": "2019-10-24T03:24:33.457319Z"
        },
        "scrolled": true,
        "colab": {
          "base_uri": "https://localhost:8080/",
          "height": 98
        },
        "id": "I6JBFKAnfwfQ",
        "outputId": "603374db-9a40-4e78-9d54-bbf458c2b3c5"
      },
      "outputs": [
        {
          "output_type": "execute_result",
          "data": {
            "text/plain": [
              "⎛⎡0   -1  -1  0 ⎤             ⎡-1   0     0     0  ⎤                           ⎞\n",
              "⎜⎢              ⎥          2  ⎢                    ⎥                           ⎟\n",
              "⎜⎢0   0   0   -1⎥  ⎛ 2    ⎞   ⎢-1  -1/2  -1/2  -1/2⎥          ⎛ 3    2        ⎞⎟\n",
              "⎜⎢              ⎥, ⎝s  - 1⎠ , ⎢                    ⎥, (s + 1)⋅⎝s  - s  - s + 1⎠⎟\n",
              "⎜⎢-1  -1  0   -1⎥             ⎢-1  -1/2  1/2   -1/2⎥                           ⎟\n",
              "⎜⎢              ⎥             ⎢                    ⎥                           ⎟\n",
              "⎝⎣0   -1  0   0 ⎦             ⎣-2   -1    0     1  ⎦                           ⎠"
            ],
            "text/latex": "$\\displaystyle \\left( \\left[\\begin{matrix}0 & -1 & -1 & 0\\\\0 & 0 & 0 & -1\\\\-1 & -1 & 0 & -1\\\\0 & -1 & 0 & 0\\end{matrix}\\right], \\  \\left(s^{2} - 1\\right)^{2}, \\  \\left[\\begin{matrix}-1 & 0 & 0 & 0\\\\-1 & - \\frac{1}{2} & - \\frac{1}{2} & - \\frac{1}{2}\\\\-1 & - \\frac{1}{2} & \\frac{1}{2} & - \\frac{1}{2}\\\\-2 & -1 & 0 & 1\\end{matrix}\\right], \\  \\left(s + 1\\right) \\left(s^{3} - s^{2} - s + 1\\right)\\right)$"
          },
          "metadata": {},
          "execution_count": 18
        }
      ],
      "source": [
        "# Here is an example showing that at least in this case, the above equality holds.\n",
        "\n",
        "A = sm.Matrix(np.random.randint(-1,1,(4,4)))\n",
        "Q = sm.Matrix(np.random.randint(-1,1,(4,4)))\n",
        "\n",
        "while Q.det() == 0: # Make sure Q is invertible\n",
        "    Q = sm.Matrix(np.random.randint(-1,1,(4,4)))\n",
        "\n",
        "B = Q * A * Q.inv()\n",
        "\n",
        "s = sm.symbols(\"s\")\n",
        "A, (s*sm.eye(4) - A).det(), B, (s*sm.eye(4) - B).det()"
      ]
    },
    {
      "cell_type": "markdown",
      "metadata": {
        "id": "wK0BeSDsfwfQ"
      },
      "source": [
        "Diagonalization\n",
        "---\n",
        "\n",
        "If whole sets of matrices are essentially the same, then there must be some way to write down the best representative of a such a set of equivalent matrices. If we could find it, it would be a **canonical form** for the matrix. It would be really useful as well if we could say something about **all** matrices having a given set of eigenvalues by simply looking at the canonical form of those matrices. Our first attempt is called **diagonalization**, which attempts to represent an equivalence class of matrices by one that has all the eigenvalues on the diagonal.\n",
        "\n",
        "Consider the matrix $A = \\mathbb{R}^{n \\times n}$. Say $A$ has distinct real eigenvalues $\\lambda_1$ and $\\lambda_2$ with eigenvectors $v_1$ and $v_2$. Then\n",
        "\n",
        "$$\n",
        "A v_1 = \\lambda_1 v_1 \\\\\n",
        "A v_2 = \\lambda_2 v_2\n",
        "$$\n",
        "\n",
        "which can be written\n",
        "\n",
        "$$\n",
        "\\left( A v_1 \\; A v_2 \\right) = ( \\lambda_1 v_1 \\; \\lambda_2 v_2 )\n",
        "$$\n",
        "\n",
        "or even better\n",
        "\n",
        "$$\n",
        "A ( v_1 \\; v_2 ) = ( v_1 \\; v_2 )\n",
        "\\begin{pmatrix}\\lambda_1 & 0\\\\ 0 & \\lambda_2\\end{pmatrix}\n",
        "$$\n",
        "\n",
        "If we define\n",
        "\n",
        "$$\n",
        "P = ( v_1 \\; v_2 )\n",
        "$$\n",
        "\n",
        "and\n",
        "\n",
        "$$\n",
        "D = \\begin{pmatrix}\\lambda_1 & 0\\\\ 0 & \\lambda_2\\end{pmatrix}\n",
        "$$\n",
        "\n",
        "then we get\n",
        "\n",
        "$$\n",
        "AP = PD\n",
        "$$\n",
        "\n",
        "or\n",
        "\n",
        "$$\n",
        "A = PDP^{-1}\n",
        "$$\n",
        "\n",
        "When there exists a $P$ that satisfies this last equation (whether $D$ is diagonal or not), then $A$ and $D$ are called *similar*.\n",
        "\n",
        "**Note:** More generally (i.e. when the eigenvalues are not distinct), any matrix is similar to one in *Jordan Form*, which is a canonical representation of a matrix. Having a matrix in a canonical form makes it easy to see what it does as a dynamical system. More on this later.\n",
        "\n",
        "The Eigenvalues of Similar Matrices are Equal\n",
        "---\n",
        "\n",
        "If $A = PQP^{-1}$ and $\\lambda$ is an eigenvalue of $A$, then for an eigenvector $x$ then\n",
        "\n",
        "$$\n",
        "Q P x = P A P^{-1} P x = P A x = P \\lambda x = \\lambda P x\n",
        "$$\n",
        "\n",
        "thus, $\\lambda$ is also an eigenvalue of $Q$ with eigenvector $P x$.\n",
        "\n",
        "**Theorem:** Define the relation $\\equiv$ by saying that $A \\equiv B$ if and only if $A$ and $B$ have the same eigenvalues. Then $\\equiv$ is an *equivalence relation*.\n",
        "\n",
        "**Proof:** Todo."
      ]
    },
    {
      "cell_type": "markdown",
      "metadata": {
        "id": "X6RlG8L7fwfS"
      },
      "source": [
        "Computing Eigenvalues Symbolically\n",
        "---\n",
        "\n",
        "Python can do symbolic math using the [SymPy](https://docs.sympy.org/latest/tutorial/index.html) library. For example, to get the eigenvalues of $A$ we do:"
      ]
    },
    {
      "cell_type": "code",
      "execution_count": 19,
      "metadata": {
        "ExecuteTime": {
          "end_time": "2019-10-24T03:39:48.115648Z",
          "start_time": "2019-10-24T03:39:48.109089Z"
        },
        "colab": {
          "base_uri": "https://localhost:8080/",
          "height": 38
        },
        "id": "_MP87mExfwfT",
        "outputId": "e63264fa-ac74-4d49-88d3-59ade81578e5"
      },
      "outputs": [
        {
          "output_type": "execute_result",
          "data": {
            "text/plain": [
              "(-ⅈ, ⅈ)"
            ],
            "text/latex": "$\\displaystyle \\left( - i, \\  i\\right)$"
          },
          "metadata": {},
          "execution_count": 19
        }
      ],
      "source": [
        "A = sm.Matrix([[0, 1], [-1,0]])\n",
        "lam1,lam2=A.eigenvals()\n",
        "lam1,lam2"
      ]
    },
    {
      "cell_type": "markdown",
      "metadata": {
        "id": "CrHBYUMgfwfV"
      },
      "source": [
        "Note that `lam1` and `lam2` are *symbolic expressions*. To get numerical values from them, use the `N` method."
      ]
    },
    {
      "cell_type": "code",
      "execution_count": 20,
      "metadata": {
        "ExecuteTime": {
          "end_time": "2019-10-24T03:40:09.564953Z",
          "start_time": "2019-10-24T03:40:09.558905Z"
        },
        "colab": {
          "base_uri": "https://localhost:8080/",
          "height": 38
        },
        "id": "e1JJKs1GfwfW",
        "outputId": "3cae9400-6c7d-405b-ec22-866aff7c334b"
      },
      "outputs": [
        {
          "output_type": "execute_result",
          "data": {
            "text/plain": [
              "(-1.0⋅ⅈ, 1.0⋅ⅈ)"
            ],
            "text/latex": "$\\displaystyle \\left( - 1.0 i, \\  1.0 i\\right)$"
          },
          "metadata": {},
          "execution_count": 20
        }
      ],
      "source": [
        "sm.N(lam1),sm.N(lam2)"
      ]
    },
    {
      "cell_type": "markdown",
      "metadata": {
        "id": "fK3tNch7fwfX"
      },
      "source": [
        "You can also get the eigenvectors. The method provided returns a list of tuples of the form\n",
        "\n",
        "    (eigenvalue:algebraic multiplicity, [eigenvectors])."
      ]
    },
    {
      "cell_type": "code",
      "execution_count": 21,
      "metadata": {
        "ExecuteTime": {
          "end_time": "2019-10-24T03:40:12.084859Z",
          "start_time": "2019-10-24T03:40:12.072500Z"
        },
        "colab": {
          "base_uri": "https://localhost:8080/",
          "height": 58
        },
        "id": "vG6fiEXQfwfX",
        "outputId": "bc55abfa-e2e9-4c7a-ff74-9aceccd6b55f"
      },
      "outputs": [
        {
          "output_type": "execute_result",
          "data": {
            "text/plain": [
              "⎡⎛       ⎡⎡ⅈ⎤⎤⎞  ⎛      ⎡⎡-ⅈ⎤⎤⎞⎤\n",
              "⎢⎜-ⅈ, 1, ⎢⎢ ⎥⎥⎟, ⎜ⅈ, 1, ⎢⎢  ⎥⎥⎟⎥\n",
              "⎣⎝       ⎣⎣1⎦⎦⎠  ⎝      ⎣⎣1 ⎦⎦⎠⎦"
            ],
            "text/latex": "$\\displaystyle \\left[ \\left( - i, \\  1, \\  \\left[ \\left[\\begin{matrix}i\\\\1\\end{matrix}\\right]\\right]\\right), \\  \\left( i, \\  1, \\  \\left[ \\left[\\begin{matrix}- i\\\\1\\end{matrix}\\right]\\right]\\right)\\right]$"
          },
          "metadata": {},
          "execution_count": 21
        }
      ],
      "source": [
        "A.eigenvects()"
      ]
    },
    {
      "cell_type": "markdown",
      "metadata": {
        "id": "B5XOmiukfwfY"
      },
      "source": [
        "A somewhat easier way to see the eigenvalues is to us *diagonalization*, which puts the eigenvectors as the columns of a matrix:"
      ]
    },
    {
      "cell_type": "code",
      "execution_count": 22,
      "metadata": {
        "ExecuteTime": {
          "end_time": "2019-10-24T03:40:21.690284Z",
          "start_time": "2019-10-24T03:40:21.678299Z"
        },
        "colab": {
          "base_uri": "https://localhost:8080/",
          "height": 58
        },
        "id": "HdGLXorafwfY",
        "outputId": "61cb8e61-8922-4e10-ee6f-7cd4573ab66d"
      },
      "outputs": [
        {
          "output_type": "execute_result",
          "data": {
            "text/plain": [
              "⎛⎡ⅈ  -ⅈ⎤  ⎡-ⅈ  0⎤⎞\n",
              "⎜⎢     ⎥, ⎢     ⎥⎟\n",
              "⎝⎣1  1 ⎦  ⎣0   ⅈ⎦⎠"
            ],
            "text/latex": "$\\displaystyle \\left( \\left[\\begin{matrix}i & - i\\\\1 & 1\\end{matrix}\\right], \\  \\left[\\begin{matrix}- i & 0\\\\0 & i\\end{matrix}\\right]\\right)$"
          },
          "metadata": {},
          "execution_count": 22
        }
      ],
      "source": [
        "P, D = A.diagonalize()\n",
        "P, D"
      ]
    },
    {
      "cell_type": "markdown",
      "metadata": {
        "id": "qt8QAGIQfwfZ"
      },
      "source": [
        "We can pick off the eigenvectors from `P` using the `row` and `col` operators on matricies."
      ]
    },
    {
      "cell_type": "code",
      "execution_count": 23,
      "metadata": {
        "ExecuteTime": {
          "end_time": "2019-10-24T03:40:26.551922Z",
          "start_time": "2019-10-24T03:40:26.546833Z"
        },
        "colab": {
          "base_uri": "https://localhost:8080/",
          "height": 58
        },
        "id": "_TxXutn4fwfa",
        "outputId": "0acc0d01-e149-490c-b0ad-c7e0f23a9a0c"
      },
      "outputs": [
        {
          "output_type": "execute_result",
          "data": {
            "text/plain": [
              "⎡ⅈ⎤\n",
              "⎢ ⎥\n",
              "⎣1⎦"
            ],
            "text/latex": "$\\displaystyle \\left[\\begin{matrix}i\\\\1\\end{matrix}\\right]$"
          },
          "metadata": {},
          "execution_count": 23
        }
      ],
      "source": [
        "x1=P.col(0)\n",
        "x2=P.col(1)\n",
        "x1"
      ]
    },
    {
      "cell_type": "markdown",
      "metadata": {
        "id": "IZV611Stfwfb"
      },
      "source": [
        "Notice that SymPy is also includes imaginary numbers. So you can get the eigenvalues of the more interesting spiral matrix from the pendulum example too"
      ]
    },
    {
      "cell_type": "code",
      "execution_count": 24,
      "metadata": {
        "ExecuteTime": {
          "end_time": "2019-10-24T03:40:35.483423Z",
          "start_time": "2019-10-24T03:40:35.472333Z"
        },
        "colab": {
          "base_uri": "https://localhost:8080/",
          "height": 68
        },
        "id": "paEcdeoWfwfb",
        "outputId": "d63cb86e-ff97-4313-946c-c591b7b895df"
      },
      "outputs": [
        {
          "output_type": "execute_result",
          "data": {
            "text/plain": [
              "⎛  1   √3⋅ⅈ    1   √3⋅ⅈ⎞\n",
              "⎜- ─ - ────, - ─ + ────⎟\n",
              "⎝  2    2      2    2  ⎠"
            ],
            "text/latex": "$\\displaystyle \\left( - \\frac{1}{2} - \\frac{\\sqrt{3} i}{2}, \\  - \\frac{1}{2} + \\frac{\\sqrt{3} i}{2}\\right)$"
          },
          "metadata": {},
          "execution_count": 24
        }
      ],
      "source": [
        "A = sm.Matrix([[0, 1], [-1,-1]])\n",
        "lam1,lam2=A.eigenvals()\n",
        "lam1,lam2"
      ]
    },
    {
      "cell_type": "code",
      "execution_count": 25,
      "metadata": {
        "ExecuteTime": {
          "end_time": "2019-10-24T03:40:42.772435Z",
          "start_time": "2019-10-24T03:40:42.758599Z"
        },
        "scrolled": true,
        "colab": {
          "base_uri": "https://localhost:8080/"
        },
        "id": "i5V6VgJgfwfc",
        "outputId": "06c82885-be92-4153-8c6e-92fa566d3b1a"
      },
      "outputs": [
        {
          "output_type": "stream",
          "name": "stdout",
          "text": [
            "-1/2\n",
            "-sqrt(3)/2\n",
            "1\n",
            "-1/2 + sqrt(3)*I/2\n"
          ]
        }
      ],
      "source": [
        "print(sm.re(lam1))\n",
        "print(sm.im(lam1))\n",
        "print(abs(lam1))\n",
        "print(sm.conjugate(lam1))"
      ]
    },
    {
      "cell_type": "markdown",
      "metadata": {
        "id": "YX3xRDCBfwfc"
      },
      "source": [
        "## Jordan Canonical Form"
      ]
    },
    {
      "cell_type": "markdown",
      "metadata": {
        "id": "nHZQJNXdfwfc"
      },
      "source": [
        "Not all matrices can be diagonalized. This is because the matrix of eignvectors, which we use for $P$ and $P^{-1}$ may not be invertible. However, all matrices can be put into *Jordan* form.\n",
        "\n",
        "A *Jordan Block* of size $m$ and value $\\lambda$ is a matrix\n",
        "$J_m(\\lambda)$ having the value $\\lambda$ repeated along the main\n",
        "diagonal, ones along the superdiagonal and zeros everywhere else. For\n",
        "example:\n",
        "\n",
        "$$\n",
        "J_2(4) = \\begin{pmatrix}\n",
        "4 & 1 \\\\\n",
        "0 & 4\n",
        "\\end{pmatrix} \\;\\;\\;\\;\\;\\;\\; \\mathrm{and}\\;\\;\\;\\;\\;\\;\\;\n",
        "J_4(-\\frac{1}{2}) = \\begin{pmatrix}\n",
        "-\\frac{1}{2} & 1 & 0 & 0 \\\\\n",
        "0 & -\\frac{1}{2} & 1 & 0 \\\\\n",
        "0 & 0 & -\\frac{1}{2} & 1 \\\\\n",
        "0 & 0 & 0 & -\\frac{1}{2}\n",
        "\\end{pmatrix} .\n",
        "$$\n",
        "\n",
        "A Matrix is in *Jordan Form* is a block diagonal matrix consisting of several Jordan blocks. For example,\n",
        "we can form a Jordan Form from two copies of $J_2(4)$ and one copy of $J_4(-\\frac{1}{2})$ as follows.\n",
        "$$\n",
        "J = \\begin{pmatrix}\n",
        "J_2(4) & 0 & 0 \\\\\n",
        "0 & J_2(4) & 0 \\\\\n",
        "0&  0 & J_4(-\\frac{1}{2})\n",
        "\\end{pmatrix} = \\begin{pmatrix}\n",
        "4 & 1 & 0 & 0 & 0 & 0 & 0 & 0 \\\\\n",
        "0 & 4 & 0 & 0 & 0 & 0 & 0 & 0 \\\\\n",
        "0 & 0 & 4 & 1 & 0 & 0 & 0 & 0 \\\\\n",
        "0 & 0 & 0 & 4 & 0 & 0 & 0 & 0 \\\\\n",
        "0 & 0 & 0 & 0 & -\\frac{1}{2} & 1 & 0 & 0 \\\\\n",
        "0 & 0 & 0 & 0 & 0 & -\\frac{1}{2} & 1 & 0 \\\\\n",
        "0 & 0 & 0 & 0 & 0 & 0 & -\\frac{1}{2} & 1 \\\\\n",
        "0 & 0 & 0 & 0 & 0 & 0 & 0 & -\\frac{1}{2} \\\\\n",
        "\\end{pmatrix} .\n",
        "$$\n",
        "\n",
        "Notice that the eigenvalues and eigenvectors of a matrix in Jordan\n",
        "Form can be read off without your having to do any work.\n",
        "- The eigenvalues are along the main diagonal (this is true of any upper-triangular matrix).\n",
        "- Eigenvectors can be found on the columns at the beginning of each block.\n",
        "\n",
        "For example, in the above form $J$, we have the eigenvalues $\\lambda =\n",
        "1$ with multiplicity $4$ and $\\lambda = \\frac{1}{2}$ with multiplicity\n",
        "$4$. Furthermore, there are two eigenvectors associated with $\\lambda =\n",
        "1$, namely\n",
        "\n",
        "$$\n",
        "v_1 = \\begin{pmatrix}\n",
        "1 \\\\ 0 \\\\ 0 \\\\ 0 \\\\ 0 \\\\ 0 \\\\ 0 \\\\ 0\n",
        "\\end{pmatrix}, \\;\\;\n",
        "v_2 = \\begin{pmatrix}\n",
        "0 \\\\ 0 \\\\ 1 \\\\ 0 \\\\ 0 \\\\ 0 \\\\ 0 \\\\ 0\n",
        "\\end{pmatrix}\n",
        "$$\n",
        "\n",
        "and one eigenvector associated with the eigenvalue $\\lambda = - \\frac{1}{2}$, namely\n",
        "\n",
        "$$\n",
        "v_3 = \\begin{pmatrix}\n",
        "0 \\\\ 0 \\\\ 0 \\\\ 0 \\\\ 1 \\\\ 0 \\\\ 0 \\\\ 0\n",
        "\\end{pmatrix} .\n",
        "$$\n",
        "\n",
        "These choices are not unique: any two basis vectors for $\\mathrm{span} ( v_1, v_2 )$ can\n",
        "be chosen as the eigenvectors for $\\lambda = 1$ and any non-zero\n",
        "scalar multiple of $v_3$ can be chosen as the eigenvector for $\\lambda\n",
        "= - \\frac{1}{2}$.\n",
        "\n",
        "**Theorem**: Any matrix can be put into Jordan Form.\n",
        "\n",
        "We will not prove this statement in this course. However, [here](https://github.com/klavins/ECE447/blob/master/lectures/jordan-form.pdf) is a proof you can read if you are interested.\n",
        "\n",
        "You can use `sympy` to put matrices into Jordan form. For example:"
      ]
    },
    {
      "cell_type": "code",
      "execution_count": 26,
      "metadata": {
        "ExecuteTime": {
          "end_time": "2019-10-24T03:44:27.479434Z",
          "start_time": "2019-10-24T03:44:27.472496Z"
        },
        "colab": {
          "base_uri": "https://localhost:8080/",
          "height": 98
        },
        "id": "cZFk-ZQTfwfd",
        "outputId": "f7d39714-0ec5-4ef2-eb0f-04e86c6d9c9a"
      },
      "outputs": [
        {
          "output_type": "execute_result",
          "data": {
            "text/plain": [
              "⎡6   5   -2  -3⎤\n",
              "⎢              ⎥\n",
              "⎢-3  -1  3   3 ⎥\n",
              "⎢              ⎥\n",
              "⎢2   1   -2  -3⎥\n",
              "⎢              ⎥\n",
              "⎣-1  1   5   5 ⎦"
            ],
            "text/latex": "$\\displaystyle \\left[\\begin{matrix}6 & 5 & -2 & -3\\\\-3 & -1 & 3 & 3\\\\2 & 1 & -2 & -3\\\\-1 & 1 & 5 & 5\\end{matrix}\\right]$"
          },
          "metadata": {},
          "execution_count": 26
        }
      ],
      "source": [
        "# Jordan form of a matrix\n",
        "\n",
        "A = sm.Matrix(4, 4, [6, 5, -2, -3, -3, -1, 3, 3, 2, 1, -2, -3, -1, 1, 5, 5])\n",
        "A"
      ]
    },
    {
      "cell_type": "code",
      "execution_count": 27,
      "metadata": {
        "ExecuteTime": {
          "end_time": "2019-10-24T03:44:32.451665Z",
          "start_time": "2019-10-24T03:44:32.296320Z"
        },
        "colab": {
          "base_uri": "https://localhost:8080/",
          "height": 282
        },
        "id": "uXh8k3q-fwfe",
        "outputId": "de38eaf4-c339-4493-e872-38ade6cc99db"
      },
      "outputs": [
        {
          "output_type": "error",
          "ename": "MatrixError",
          "evalue": "Matrix is not diagonalizable",
          "traceback": [
            "\u001b[0;31m---------------------------------------------------------------------------\u001b[0m",
            "\u001b[0;31mMatrixError\u001b[0m                               Traceback (most recent call last)",
            "\u001b[0;32m<ipython-input-27-842d3ad24c22>\u001b[0m in \u001b[0;36m<cell line: 1>\u001b[0;34m()\u001b[0m\n\u001b[0;32m----> 1\u001b[0;31m \u001b[0mA\u001b[0m\u001b[0;34m.\u001b[0m\u001b[0mdiagonalize\u001b[0m\u001b[0;34m(\u001b[0m\u001b[0;34m)\u001b[0m\u001b[0;34m\u001b[0m\u001b[0;34m\u001b[0m\u001b[0m\n\u001b[0m",
            "\u001b[0;32m/usr/local/lib/python3.10/dist-packages/sympy/matrices/matrixbase.py\u001b[0m in \u001b[0;36mdiagonalize\u001b[0;34m(self, reals_only, sort, normalize)\u001b[0m\n\u001b[1;32m   3341\u001b[0m \u001b[0;34m\u001b[0m\u001b[0m\n\u001b[1;32m   3342\u001b[0m     \u001b[0;32mdef\u001b[0m \u001b[0mdiagonalize\u001b[0m\u001b[0;34m(\u001b[0m\u001b[0mself\u001b[0m\u001b[0;34m,\u001b[0m \u001b[0mreals_only\u001b[0m\u001b[0;34m=\u001b[0m\u001b[0;32mFalse\u001b[0m\u001b[0;34m,\u001b[0m \u001b[0msort\u001b[0m\u001b[0;34m=\u001b[0m\u001b[0;32mFalse\u001b[0m\u001b[0;34m,\u001b[0m \u001b[0mnormalize\u001b[0m\u001b[0;34m=\u001b[0m\u001b[0;32mFalse\u001b[0m\u001b[0;34m)\u001b[0m\u001b[0;34m:\u001b[0m\u001b[0;34m\u001b[0m\u001b[0;34m\u001b[0m\u001b[0m\n\u001b[0;32m-> 3343\u001b[0;31m         return _diagonalize(self, reals_only=reals_only, sort=sort,\n\u001b[0m\u001b[1;32m   3344\u001b[0m                 normalize=normalize)\n\u001b[1;32m   3345\u001b[0m \u001b[0;34m\u001b[0m\u001b[0m\n",
            "\u001b[0;32m/usr/local/lib/python3.10/dist-packages/sympy/matrices/eigen.py\u001b[0m in \u001b[0;36m_diagonalize\u001b[0;34m(M, reals_only, sort, normalize)\u001b[0m\n\u001b[1;32m    698\u001b[0m \u001b[0;34m\u001b[0m\u001b[0m\n\u001b[1;32m    699\u001b[0m     \u001b[0;32mif\u001b[0m \u001b[0;32mnot\u001b[0m \u001b[0mis_diagonalizable\u001b[0m\u001b[0;34m:\u001b[0m\u001b[0;34m\u001b[0m\u001b[0;34m\u001b[0m\u001b[0m\n\u001b[0;32m--> 700\u001b[0;31m         \u001b[0;32mraise\u001b[0m \u001b[0mMatrixError\u001b[0m\u001b[0;34m(\u001b[0m\u001b[0;34m\"Matrix is not diagonalizable\"\u001b[0m\u001b[0;34m)\u001b[0m\u001b[0;34m\u001b[0m\u001b[0;34m\u001b[0m\u001b[0m\n\u001b[0m\u001b[1;32m    701\u001b[0m \u001b[0;34m\u001b[0m\u001b[0m\n\u001b[1;32m    702\u001b[0m     \u001b[0;32mif\u001b[0m \u001b[0msort\u001b[0m\u001b[0;34m:\u001b[0m\u001b[0;34m\u001b[0m\u001b[0;34m\u001b[0m\u001b[0m\n",
            "\u001b[0;31mMatrixError\u001b[0m: Matrix is not diagonalizable"
          ]
        }
      ],
      "source": [
        "A.diagonalize()"
      ]
    },
    {
      "cell_type": "code",
      "execution_count": 28,
      "metadata": {
        "ExecuteTime": {
          "end_time": "2019-10-24T03:45:04.261695Z",
          "start_time": "2019-10-24T03:45:04.231938Z"
        },
        "colab": {
          "base_uri": "https://localhost:8080/",
          "height": 98
        },
        "id": "amvdzwPhfwfe",
        "outputId": "2414b484-9a04-4927-8e37-7d8fd300a0d4"
      },
      "outputs": [
        {
          "output_type": "execute_result",
          "data": {
            "text/plain": [
              "⎡2  1  0  0⎤\n",
              "⎢          ⎥\n",
              "⎢0  2  0  0⎥\n",
              "⎢          ⎥\n",
              "⎢0  0  2  1⎥\n",
              "⎢          ⎥\n",
              "⎣0  0  0  2⎦"
            ],
            "text/latex": "$\\displaystyle \\left[\\begin{matrix}2 & 1 & 0 & 0\\\\0 & 2 & 0 & 0\\\\0 & 0 & 2 & 1\\\\0 & 0 & 0 & 2\\end{matrix}\\right]$"
          },
          "metadata": {},
          "execution_count": 28
        }
      ],
      "source": [
        "P,J = A.jordan_form()\n",
        "J"
      ]
    },
    {
      "cell_type": "markdown",
      "metadata": {
        "id": "bf9x61aefwff"
      },
      "source": [
        "## Cayley-Hamilton Theorem"
      ]
    },
    {
      "cell_type": "markdown",
      "metadata": {
        "id": "otr7fPwSfwff"
      },
      "source": [
        "\n",
        "\n",
        "**Caley-Hamilton Theorem**: A matrix solves its own characteristic polynomial.\n",
        "\n",
        "**Proof:** We proof this here for diagnonalizable matrices $A = Q D Q^{-1}$. In general, the argument extends to Jordan form, but it is more complicated. Also, as we will see when we get to Differential Equations, the theorem is very easy to prove using matrix exponentials.\n",
        "\n",
        "First note that since the roots of the characteristic polynomial $p(s)$ are the eigenvalues, we have\n",
        "\n",
        "$$\n",
        "p(s) = (s - \\lambda_1)(s - \\lambda_2) \\dots (s - \\lambda_n).\n",
        "$$\n",
        "\n",
        "Therefore,\n",
        "\n",
        "\\begin{eqnarray}\n",
        "p(A) & = & (A - \\lambda_1 I)(A - \\lambda_2 I) \\dots (A - \\lambda_n I) \\\\\n",
        "     & = & (Q D Q^{-1} - \\lambda_1 I)(Q D Q^{-1} - \\lambda_2 I) \\dots (Q D Q^{-1} - \\lambda_n I) \\\\\n",
        "     & = & Q (D - \\lambda_1 I)(D - \\lambda_2 I) \\dots (D - \\lambda_n I) Q^{-1} \\\\\n",
        "     & = & Q p(D) Q^{-1},\n",
        "\\end{eqnarray}\n",
        "\n",
        "which is zero if and only if $p(D)$ is zero. But,\n",
        "\n",
        "$$\n",
        "p(D) = \\begin{pmatrix}\n",
        "p(\\lambda_1) & & \\\\\n",
        "             & \\ddots & \\\\\n",
        "             & & p(\\lambda_n)\n",
        "\\end{pmatrix} = 0 .\n",
        "$$\n",
        "\n",
        "**Example: Computing Inverses** The theorem can be used to compute the inverse of a matrix. For example, let\n",
        "\n",
        "\n",
        "$$\n",
        "A = \\begin{pmatrix}\n",
        "1 & 2 \\\\\n",
        "-1 & 4\n",
        "\\end{pmatrix} .\n",
        "$$\n",
        "\n",
        "$A$ has characteristic polynomial\n",
        "\n",
        "$$\n",
        "s^2 - 5 s + 6\n",
        "$$\n",
        "\n",
        "Then\n",
        "\n",
        "$$\n",
        "A^{-1} = \\frac{5I - A}{6}\n",
        "$$\n",
        "\n",
        "Thus,\n",
        "\n",
        "$$\n",
        "A^{-1} = \\frac{1}{6} \\left [\n",
        "\\begin{pmatrix}\n",
        "5 & 0 \\\\\n",
        "0 & 5\n",
        "\\end{pmatrix} - \\begin{pmatrix}\n",
        "1 & 2 \\\\\n",
        "-1 & 4\n",
        "\\end{pmatrix}\n",
        "\\right ] =\n",
        "\\begin{pmatrix}\n",
        "\\frac{2}{3} & -\\frac{1}{3} \\\\\n",
        "\\frac{1}{6} & \\frac{1}{6}\n",
        "\\end{pmatrix} .\n",
        "$$\n",
        "\n",
        "**Example: Computing Powers:** The Cayley Hamilton Theorem can be used to compute powers of matrices. For example, consider the matrix finding $A^5$ where\n",
        "\n",
        "$$\n",
        "A = \\begin{pmatrix}\n",
        "1 & 2 \\\\\n",
        "-1 & 4\n",
        "\\end{pmatrix} .\n",
        "$$\n",
        "\n",
        "$A$ has characteristic polynomial\n",
        "\n",
        "$$\n",
        "s^2 - 5 s + 6\n",
        "$$\n",
        "\n",
        "which means that\n",
        "\n",
        "$$\n",
        "A^2 = 5A - 6I.\n",
        "$$\n",
        "\n",
        "Multiplying by $A$ on each side gives\n",
        "\n",
        "\\begin{eqnarray}\n",
        "A^3 & = & 5 A^2 - 6A  \\\\\n",
        "    & = & 5(5A-6I) - 6A  \\\\\n",
        "    & = & 19 A - 30 I\n",
        "\\end{eqnarray}\n",
        "\n",
        "Multiplying again by $A$ gives\n",
        "\n",
        "\\begin{eqnarray}\n",
        "A^4 & = & 19 A^2 - 30 A \\\\\n",
        "    & = & 19 (5A-6I) - 30 A \\\\\n",
        "    & = & 65 A - 114 I\n",
        "\\end{eqnarray}\n",
        "\n",
        "And\n",
        "\n",
        "\\begin{eqnarray}\n",
        "A^5 & = & 65 A^2 - 114 A \\\\\n",
        "    & = & 65 (5A-6I) - 114 A \\\\\n",
        "    & = & 211 A - 390 I\n",
        "\\end{eqnarray}"
      ]
    },
    {
      "cell_type": "code",
      "execution_count": 29,
      "metadata": {
        "ExecuteTime": {
          "end_time": "2019-10-23T18:21:31.969950Z",
          "start_time": "2019-10-23T18:21:31.965693Z"
        },
        "colab": {
          "base_uri": "https://localhost:8080/",
          "height": 37
        },
        "id": "7v7AvT0Pfwfg",
        "outputId": "c42367a9-1a88-4800-ce0c-b37ce1c1aeb3"
      },
      "outputs": [
        {
          "output_type": "execute_result",
          "data": {
            "text/plain": [
              "(211, 390)"
            ],
            "text/latex": "$\\displaystyle \\left( 211, \\  390\\right)$"
          },
          "metadata": {},
          "execution_count": 29
        }
      ],
      "source": [
        "65*5-114, 65*6"
      ]
    },
    {
      "cell_type": "code",
      "execution_count": 30,
      "metadata": {
        "ExecuteTime": {
          "end_time": "2019-10-24T04:18:29.238002Z",
          "start_time": "2019-10-24T04:18:29.230932Z"
        },
        "colab": {
          "base_uri": "https://localhost:8080/",
          "height": 38
        },
        "id": "mxeNvMM3fwfh",
        "outputId": "d5364f5d-632e-4bd1-f589-9dc003fb9bd6"
      },
      "outputs": [
        {
          "output_type": "execute_result",
          "data": {
            "text/plain": [
              " 2          \n",
              "s  - 5⋅s + 6"
            ],
            "text/latex": "$\\displaystyle s^{2} - 5 s + 6$"
          },
          "metadata": {},
          "execution_count": 30
        }
      ],
      "source": [
        "s = sm.symbols(\"s\")\n",
        "A = sm.Matrix([\n",
        "    [1,2],\n",
        "    [-1,4]\n",
        "])\n",
        "cp = (s*sm.eye(2)-A).det()\n",
        "cp"
      ]
    },
    {
      "cell_type": "code",
      "execution_count": 31,
      "metadata": {
        "ExecuteTime": {
          "end_time": "2019-10-24T04:18:31.660467Z",
          "start_time": "2019-10-24T04:18:31.655203Z"
        },
        "colab": {
          "base_uri": "https://localhost:8080/",
          "height": 58
        },
        "id": "FdwGOnhefwfh",
        "outputId": "5994e92d-77aa-4b47-dc56-4fe623294953"
      },
      "outputs": [
        {
          "output_type": "execute_result",
          "data": {
            "text/plain": [
              "⎡0  0⎤\n",
              "⎢    ⎥\n",
              "⎣0  0⎦"
            ],
            "text/latex": "$\\displaystyle \\left[\\begin{matrix}0 & 0\\\\0 & 0\\end{matrix}\\right]$"
          },
          "metadata": {},
          "execution_count": 31
        }
      ],
      "source": [
        "A**2 - 5*A + 6*sm.eye(2)"
      ]
    },
    {
      "cell_type": "code",
      "execution_count": 32,
      "metadata": {
        "ExecuteTime": {
          "end_time": "2019-10-24T04:18:41.921803Z",
          "start_time": "2019-10-24T04:18:41.915711Z"
        },
        "colab": {
          "base_uri": "https://localhost:8080/",
          "height": 58
        },
        "id": "yFHkUa5Dfwfi",
        "outputId": "d46aade9-692c-47a8-9d77-2fb107de1459"
      },
      "outputs": [
        {
          "output_type": "execute_result",
          "data": {
            "text/plain": [
              "⎛⎡-179  422⎤  ⎡-179  422⎤⎞\n",
              "⎜⎢         ⎥, ⎢         ⎥⎟\n",
              "⎝⎣-211  454⎦  ⎣-211  454⎦⎠"
            ],
            "text/latex": "$\\displaystyle \\left( \\left[\\begin{matrix}-179 & 422\\\\-211 & 454\\end{matrix}\\right], \\  \\left[\\begin{matrix}-179 & 422\\\\-211 & 454\\end{matrix}\\right]\\right)$"
          },
          "metadata": {},
          "execution_count": 32
        }
      ],
      "source": [
        "A**5, 211*A - 390*sm.eye(2)"
      ]
    },
    {
      "cell_type": "code",
      "execution_count": 33,
      "metadata": {
        "ExecuteTime": {
          "end_time": "2019-10-24T04:18:47.614916Z",
          "start_time": "2019-10-24T04:18:47.609738Z"
        },
        "colab": {
          "base_uri": "https://localhost:8080/",
          "height": 58
        },
        "id": "74fwkNfifwfj",
        "outputId": "1a32ffb4-c54d-4f3d-c6c4-99d192444454"
      },
      "outputs": [
        {
          "output_type": "execute_result",
          "data": {
            "text/plain": [
              "⎡2/3  -1/3⎤\n",
              "⎢         ⎥\n",
              "⎣1/6  1/6 ⎦"
            ],
            "text/latex": "$\\displaystyle \\left[\\begin{matrix}\\frac{2}{3} & - \\frac{1}{3}\\\\\\frac{1}{6} & \\frac{1}{6}\\end{matrix}\\right]$"
          },
          "metadata": {},
          "execution_count": 33
        }
      ],
      "source": [
        "A.inv()"
      ]
    },
    {
      "cell_type": "code",
      "execution_count": 34,
      "metadata": {
        "ExecuteTime": {
          "end_time": "2019-10-24T04:18:52.870316Z",
          "start_time": "2019-10-24T04:18:52.865670Z"
        },
        "colab": {
          "base_uri": "https://localhost:8080/",
          "height": 37
        },
        "id": "C67bl8_hfwfj",
        "outputId": "cdcaa93f-e729-410c-8e81-8f0a4421af54"
      },
      "outputs": [
        {
          "output_type": "execute_result",
          "data": {
            "text/plain": [
              "((5, 19, 65, 211), ())"
            ],
            "text/latex": "$\\displaystyle \\left( \\left( 5, \\  19, \\  65, \\  211\\right), \\  \\left( \\right)\\right)$"
          },
          "metadata": {},
          "execution_count": 34
        }
      ],
      "source": [
        "(5, 19, 65, 211), ()"
      ]
    },
    {
      "cell_type": "markdown",
      "metadata": {
        "id": "jRcz2luwfwfk"
      },
      "source": [
        "## Matrix Exponentials"
      ]
    },
    {
      "cell_type": "markdown",
      "metadata": {
        "id": "gMOxD_Ljfwfk"
      },
      "source": [
        "One remarkable things about the Taylor Series is that it applies to matrices too. In fact, you can use it to define all sorts of functions of matrices, like $\\sin$ and $\\cos$. Here, we define the matrix exponential, which will come back in full force next week when we talk about differential equations.\n",
        "\n",
        "**Def:** When $A \\in \\mathbb{R}^{n\\times n}$, then the we define the **matrix exponential** $e^{A}$ by\n",
        "\n",
        "$$\n",
        "e^{A} \\triangleq I + A + \\frac{A^2}{2!} + \\frac{A^3}{3!} + \\dots\n",
        "$$\n",
        "\n",
        "**Warning:** The matrix exponential is **not** just the elementwise exponentials."
      ]
    },
    {
      "cell_type": "markdown",
      "metadata": {
        "ExecuteTime": {
          "end_time": "2019-10-21T18:08:56.056979Z",
          "start_time": "2019-10-21T18:08:56.049713Z"
        },
        "id": "4ksAUYl7fwfl"
      },
      "source": [
        "If $A$ is diagonalizable, then $A = P D P^{-1}$ for some $P$ and $D$. In this case,\n",
        "\n",
        "\\begin{align}\n",
        "e^{A} & = e^{PDP^{-1}} \\\\\n",
        "       & = I + PDP^{-1} + \\frac{(PDP^{-1})^2}{2!} + \\dots \\\\\n",
        "       & = I + PDP^{-1} + \\frac{PDP^{-1}PDP^{-1}}{2!} + \\dots \\\\\n",
        "       & = I + PDP^{-1} + \\frac{PD^2P^{-1}}{2!} + \\dots \\\\\n",
        "       & = P \\left(I + D + \\frac{D^2}{2!} + \\dots \\right)P^{-1} \\\\\n",
        "       & = P e^{D} P^{-1}.\n",
        "\\end{align}\n"
      ]
    },
    {
      "cell_type": "markdown",
      "metadata": {
        "id": "eGXBVem4fwfl"
      },
      "source": [
        "Example: Matrix Exponential of a Jordan Block\n",
        "---\n",
        "\n",
        "The matrix exponential of a diagonal matrix is straightfoward to compute. However, with a Jordan block, the extra ones on the upper diagonal introduce new terms. Here is an example of what happens with a simple Jordan Block\n",
        "\n",
        "$$\n",
        "J = \\begin{pmatrix}\n",
        "-1 & 1 \\\\\n",
        " 0 & -1\n",
        "\\end{pmatrix}\n",
        "$$\n",
        "\n",
        "This matrix has a repeated eigenvalue (-1) and is not diagonalizable due to a one dimensional eigenspace.\n",
        "\n",
        "Using the definition of the matrix exponential, we compute:\n",
        "\n",
        "$$\n",
        "J^2 = \\begin{pmatrix}\n",
        "1 & -2 \\\\\n",
        " 0 & 1\n",
        "\\end{pmatrix}\n",
        "$$\n",
        "\n",
        "and\n",
        "\n",
        "$$\n",
        "J^2 = \\begin{pmatrix}\n",
        "-1 & 3 \\\\\n",
        " 0 & -1\n",
        "\\end{pmatrix} .\n",
        "$$\n",
        "\n",
        "You can see a pattern emerging. We have\n",
        "\n",
        "$$\n",
        "J^n = \\begin{pmatrix}\n",
        "(-1)^{n-1} & n(-1)^n \\\\\n",
        " 0 & (-1)^{n-1}\n",
        "\\end{pmatrix} .\n",
        "$$\n",
        "\n",
        "So the $(1,1)$ and $(2,2)$ entries of $e^{J}$ are\n",
        "\n",
        "$$\n",
        "1 + -1 + \\frac{1}{2!} - \\frac{1}{3!} + \\frac{1}{4!} + ... = e^{-1} = \\frac{1}{e}.\n",
        "$$\n",
        "\n",
        "And the $1,2$ entry is\n",
        "\n",
        "\\begin{align}\n",
        " & = 0 + 1 - 2\\frac{1}{2!} + 3\\frac{1}{3!} - 4\\frac{1}{4!} + ... \\\\\n",
        " & = 1 - 1 + \\frac{1}{2!} - \\frac{1}{3!} + ... \\\\\n",
        " & = e^{-1} = \\frac{1}{e}.\n",
        "\\end{align}\n",
        "\n",
        "Thus,\n",
        "\n",
        "$$\n",
        "e^{J} = \\begin{pmatrix}\n",
        "e^{-1} & e^{-1} \\\\\n",
        "0 & e^{-1}\n",
        "\\end{pmatrix} .\n",
        "$$\n",
        "\n",
        "**Property:** If $A$ and $B$ are similar, via the transform $Q$, then $e^B = Q e^A Q^{-1}$.\n",
        "\n",
        "**Property:** if $\\dot x = Ax$ then $x(t) = e^{At}x(0)$."
      ]
    },
    {
      "cell_type": "code",
      "execution_count": 35,
      "metadata": {
        "ExecuteTime": {
          "end_time": "2019-10-24T04:09:06.360711Z",
          "start_time": "2019-10-24T04:09:06.324057Z"
        },
        "colab": {
          "base_uri": "https://localhost:8080/",
          "height": 58
        },
        "id": "5nWBIj4xfwfm",
        "outputId": "fb54cda2-24a8-40d7-a58b-986046c7254b"
      },
      "outputs": [
        {
          "output_type": "execute_result",
          "data": {
            "text/plain": [
              "⎛          ⎡ -t     -t⎤⎞\n",
              "⎜⎡-t  t ⎤  ⎢ℯ    t⋅ℯ  ⎥⎟\n",
              "⎜⎢      ⎥, ⎢          ⎥⎟\n",
              "⎜⎣0   -t⎦  ⎢       -t ⎥⎟\n",
              "⎝          ⎣ 0    ℯ   ⎦⎠"
            ],
            "text/latex": "$\\displaystyle \\left( \\left[\\begin{matrix}- t & t\\\\0 & - t\\end{matrix}\\right], \\  \\left[\\begin{matrix}e^{- t} & t e^{- t}\\\\0 & e^{- t}\\end{matrix}\\right]\\right)$"
          },
          "metadata": {},
          "execution_count": 35
        }
      ],
      "source": [
        "# Sympy has this built in\n",
        "\n",
        "t = sm.symbols(\"t\")\n",
        "J = sm.Matrix([[-1,1],[0,-1]])*t\n",
        "J,sm.exp(J)"
      ]
    },
    {
      "cell_type": "code",
      "execution_count": 36,
      "metadata": {
        "ExecuteTime": {
          "end_time": "2019-10-24T04:10:25.615813Z",
          "start_time": "2019-10-24T04:10:25.577932Z"
        },
        "colab": {
          "base_uri": "https://localhost:8080/",
          "height": 78
        },
        "id": "NFH2JSLGfwfm",
        "outputId": "37ea59f1-4605-4fea-e22f-dd696140de89"
      },
      "outputs": [
        {
          "output_type": "execute_result",
          "data": {
            "text/plain": [
              "⎛             ⎡    -1          -1       ⎤⎞\n",
              "⎜             ⎢   ℯ           ℯ        0⎥⎟\n",
              "⎜             ⎢                         ⎥⎟\n",
              "⎜⎡-1  1   0⎤  ⎢                -1       ⎥⎟\n",
              "⎜⎢         ⎥  ⎢    0          ℯ        0⎥⎟\n",
              "⎜⎢0   -1  0⎥, ⎢                         ⎥⎟\n",
              "⎜⎢         ⎥  ⎢   -1           -1       ⎥⎟\n",
              "⎜⎣1   0   1⎦  ⎢  ℯ     ℯ    3⋅ℯ     ℯ   ⎥⎟\n",
              "⎜             ⎢- ─── + ─  - ───── + ─  ℯ⎥⎟\n",
              "⎝             ⎣   2    2      4     4   ⎦⎠"
            ],
            "text/latex": "$\\displaystyle \\left( \\left[\\begin{matrix}-1 & 1 & 0\\\\0 & -1 & 0\\\\1 & 0 & 1\\end{matrix}\\right], \\  \\left[\\begin{matrix}e^{-1} & e^{-1} & 0\\\\0 & e^{-1} & 0\\\\- \\frac{1}{2 e} + \\frac{e}{2} & - \\frac{3}{4 e} + \\frac{e}{4} & e\\end{matrix}\\right]\\right)$"
          },
          "metadata": {},
          "execution_count": 36
        }
      ],
      "source": [
        "J = sm.Matrix([\n",
        "    [-1,1,0],\n",
        "    [0,-1,0],\n",
        "    [1,0,1]\n",
        "])\n",
        "J,sm.exp(J)"
      ]
    },
    {
      "cell_type": "markdown",
      "metadata": {
        "id": "mS9kanQHfwfn"
      },
      "source": [
        "## Singular Value Decomposition"
      ]
    },
    {
      "cell_type": "markdown",
      "metadata": {
        "id": "Z6KQRRDIfwfn"
      },
      "source": [
        "Diagonalization is useful for showing the structure of a matrix, but it has two issues. First, it doesn't work on non-square matrices. Second, while the eigenvalues have many interpretations (which we will see when we get to  differential equations), there are somethings they do not tell you about a matrix. On the other hand, singular values can be computed for any matrix, and they tell you a great deal, especially about matrices with a lot of structure.\n",
        "\n",
        "**Theorem:** Any matrix $A \\in \\mathbb{R}^{m \\times n}$ can be factored into a **singular value decomposition** (SVD),\n",
        "\n",
        "$$\n",
        "A = U \\Sigma V^T,\n",
        "$$\n",
        "\n",
        "where $U \\in \\mathrm{R}^{m \\times m}$ and $V \\in \\mathrm{R}^{n \\times n}$ are orthogonal matrices and $\\Sigma \\in \\mathbb{R}^{m \\times n}$ is a diagonal matrix with $r = \\mathrm{rank}(A)$ leading positive diagonal entries.\n",
        "\n",
        "Let $p = \\min(m,n)$. Then the diagonal entries of $S$ are denoted by $\\sigma_1, ..., \\sigma_p$ are are called the **singular values** of $A$.\n",
        "\n",
        "Interestingly, the singular values satisfy\n",
        "\n",
        "$$\n",
        "\\sigma_1 > \\sigma_2 > ... > \\sigma_p .\n",
        "$$\n",
        "\n",
        "The columns of $U$ are called the **left-singular vectors** of $A$ and the columns of $V$ are called the **right-singular vectors** of $A$. The singular values essentially say how important these vectors are in describing the matrix."
      ]
    },
    {
      "cell_type": "code",
      "execution_count": 37,
      "metadata": {
        "ExecuteTime": {
          "end_time": "2019-10-24T04:28:52.489033Z",
          "start_time": "2019-10-24T04:28:52.479148Z"
        },
        "colab": {
          "base_uri": "https://localhost:8080/"
        },
        "id": "V3-aE1J6fwfn",
        "outputId": "749558e6-a034-475f-dbd4-0ab8d27cf8a0"
      },
      "outputs": [
        {
          "output_type": "stream",
          "name": "stdout",
          "text": [
            "U =  [[-0.16097514 -0.55900274 -0.81338978]\n",
            " [-0.43793718 -0.69810585  0.5664444 ]\n",
            " [-0.88447613  0.44739709 -0.1324304 ]]\n",
            "\n",
            "\n",
            "Singular Values =  [10.62302402  2.92102308  0.78675585]\n",
            "\n",
            "\n",
            "V =  [[-0.55513075 -0.14253048  0.28444838 -0.69298409 -0.33223046]\n",
            " [-0.69476976 -0.41973182 -0.19775431  0.54890746  0.02672124]\n",
            " [-0.20774588  0.06733543  0.38332553 -0.11667757  0.88980642]\n",
            " [-0.23462747  0.6508658   0.52887893  0.40483083 -0.27878798]\n",
            " [-0.33304119  0.61265807 -0.67329857 -0.20241541  0.13939399]]\n"
          ]
        }
      ],
      "source": [
        "import numpy as np\n",
        "\n",
        "# Example: Compute the SVD of a matrix\n",
        "\n",
        "# Example Matrix\n",
        "A = np.array([\n",
        "    [1, 2, 0, -1, 0],\n",
        "    [3, 4, 1,  0, 0],\n",
        "    [5, 6, 2,  3, 4]\n",
        "])\n",
        "\n",
        "# Compute the SVD\n",
        "U, s, VT = np.linalg.svd(A)\n",
        "\n",
        "print(\"U = \", U)\n",
        "print(\"\\n\")\n",
        "print(\"Singular Values = \", s)\n",
        "print(\"\\n\")\n",
        "print(\"V = \", VT.T)"
      ]
    },
    {
      "cell_type": "code",
      "execution_count": 38,
      "metadata": {
        "ExecuteTime": {
          "end_time": "2019-10-24T04:30:40.026894Z",
          "start_time": "2019-10-24T04:30:40.021246Z"
        },
        "colab": {
          "base_uri": "https://localhost:8080/"
        },
        "id": "5FoR7fU2fwfo",
        "outputId": "5eb28a99-be34-4c99-9d03-66482410ab21"
      },
      "outputs": [
        {
          "output_type": "execute_result",
          "data": {
            "text/plain": [
              "array([[10.62302402,  0.        ,  0.        ,  0.        ,  0.        ],\n",
              "       [ 0.        ,  2.92102308,  0.        ,  0.        ,  0.        ],\n",
              "       [ 0.        ,  0.        ,  0.78675585,  0.        ,  0.        ]])"
            ]
          },
          "metadata": {},
          "execution_count": 38
        }
      ],
      "source": [
        "# The SVD function does not give you the Sigma matrix, so we construct it here.\n",
        "\n",
        "# Create m x n Sigma matrix\n",
        "Sigma = np.zeros((A.shape[0], A.shape[1]))\n",
        "\n",
        "# populate Sigma with n x n diagonal matrix\n",
        "for i in range(len(s)):\n",
        "    Sigma[i,i] = s[i]\n",
        "\n",
        "Sigma"
      ]
    },
    {
      "cell_type": "code",
      "execution_count": 39,
      "metadata": {
        "ExecuteTime": {
          "end_time": "2019-10-24T04:30:42.642285Z",
          "start_time": "2019-10-24T04:30:42.631892Z"
        },
        "colab": {
          "base_uri": "https://localhost:8080/"
        },
        "id": "xbXqUdnRfwfo",
        "outputId": "a9af22d8-34b9-41b9-8057-c1a7e048aa70"
      },
      "outputs": [
        {
          "output_type": "stream",
          "name": "stdout",
          "text": [
            "[[ 1.  2.  0. -1.  0.]\n",
            " [ 3.  4.  1.  0.  0.]\n",
            " [ 5.  6.  2.  3.  4.]]\n"
          ]
        }
      ],
      "source": [
        "# Now we can reconstruct the matrix to make sure it worked.\n",
        "\n",
        "B = np.matmul(np.matmul(U,Sigma),VT)\n",
        "B[np.abs(B) < 0.0001] = 0\n",
        "print(B)"
      ]
    },
    {
      "cell_type": "markdown",
      "metadata": {
        "id": "xHYPnJ0Wfwfo"
      },
      "source": [
        "SVD For Image Compression\n",
        "---\n",
        "\n",
        "The remarkable thing about the SVD is that the singular values rank the importance of the columns of $U$ (or the columns of V). This idea is captured by the **Ekhart-Young** theorem, which states:\n",
        "\n",
        "**Theorem:** Define $\\hat\\Sigma$ to be the first $k$ columns of $\\Sigma$. Define $\\hat V$ to the the first $k$ rows of $V$ and put\n",
        "\n",
        "$$\n",
        "B  = U \\hat \\Sigma \\hat V .\n",
        "$$\n",
        "\n",
        "If $k < \\mathrm{rank}(A)$ then $B$ is the closed rank $k$ matrix to $A$ among all matrices (using essentially any norm on matrices). Furthermore, $||A-B|| \\approx \\sigma_{k+1}$.\n",
        "\n",
        "We can use this in many ways. For example, $B$ can be considered a bitmap of an image, so that $A_{i,j}$ is the gray scale intensity of the pixel at position $(i,j)$.\n",
        "\n",
        "In this case, we define\n",
        "\n",
        "$$\n",
        "T = U \\hat \\Sigma\n",
        "$$\n",
        "\n",
        "and note that $U$ is $n \\times n$ and $\\Sigma$ is $k \\times k$ so $T$ is $n \\times k$. Also, $V$ is $k \\times k$. Thus, the total number of elements needed to store $B$ is\n",
        "\n",
        "$$\n",
        "nk + k^2\n",
        "$$\n",
        "\n",
        "compared to the original image's $n \\times m$ elements.\n",
        "\n",
        "An algorithm for selecting $k$ is to (a) compute the SVD and choose $k$ so that $\\sigma_{k+1}$ is less than some threshold set by the user. Then just take the first $k$ elements of $U$, $\\Sigma$ and $V$."
      ]
    },
    {
      "cell_type": "markdown",
      "metadata": {
        "id": "2sSp_6TNfwfp"
      },
      "source": [
        "Principal Component Analysis\n",
        "---\n",
        "\n",
        "In statistics, principle component analysis (PCA) entails computing the SVD of a dataset after centering the data for each attribute around the mean. That is, write\n",
        "\n",
        "$$\n",
        "X = A - \\mu_A I\n",
        "$$\n",
        "\n",
        "where $\\mu_A = \\mathrm{mean}(A)$ is the mean of the values in $A$.\n",
        "\n",
        "We can then decompose the matrix $X$ to get\n",
        "\n",
        "$$\n",
        "X  = U \\Sigma V^T\n",
        "$$\n",
        "\n",
        "We take the first two principle components of $X$ and form $\\hat\\Sigma$ and $\\hat V$. The matrix $U\\hat\\Sigma$ is then $n \\times 2$ and it represents the data in $X$ collapsed into two columns for each row, instead of $m$ columns for each row.\n",
        "\n",
        "One of the properties of the PCA is that it chooses the direction in which the data is the most variable for the first principle component direction (the first column of $V$). The second principle component direction (the second column of $V$), is the direction of most variability that is orthogonal to the first direction.\n",
        "\n",
        "PCA is used to visualize high dimensional data. For example, in [this paper](https://www.pnas.org/content/102/20/7057/tab-figures-data0), the authors looked at the voting habits of senators in congress, wondering if you could tell if the voting habits of any given senator were predictable. Since that data is a matter of public record, we can try this method out to see what happens.\n",
        "\n",
        "First, let the $n$ senators be numbered $0$, $1$, $2$, ... $n$. Then, let the $m$ issues they have voted on in a given session of congress be numbered $1$, ..., $m$. Write\n",
        "\n",
        "$$\n",
        "A_{i,j} = \\left \\{\n",
        "\\begin{array}{ll}\n",
        "1 & \\mathrm{voted\\;yes} \\\\\n",
        "-1 & \\mathrm{voted\\;no} \\\\\n",
        "0 & \\mathrm{did\\;not\\;vote} \\\\\n",
        "\\end{array}\n",
        "\\right .\n",
        "$$\n",
        "\n",
        "Then $A \\in \\mathbb{R}^{n \\times m}$. Said differently:\n",
        "\n",
        "> The $i$th row of $A$ is the row-vector of votes of Senator $i$.\n",
        "\n",
        "Next, let $X = A - \\mu_A I$ be the zero centered version of $A$. Computing $T = U \\hat \\Sigma$ with $k=2$ gives a new matrix $T \\in \\mathbb{R}^{n \\times 2})$ The we have:  \n",
        "\n",
        "> The $i$th row of $T$ sums up Senator i's voting habits in two numbers."
      ]
    },
    {
      "cell_type": "code",
      "execution_count": 44,
      "metadata": {
        "ExecuteTime": {
          "end_time": "2019-10-24T04:46:46.273795Z",
          "start_time": "2019-10-24T04:46:45.949199Z"
        },
        "id": "kqMPskF8fwfp"
      },
      "outputs": [],
      "source": [
        "# You can get all sorts of data bout how congress  votes at https://voteview.com/data\n",
        "# Here I have downloaded the data for the Senate in the 116th congress.\n",
        "\n",
        "my_data = np.genfromtxt('/S116_votes.csv', delimiter=',', dtype=np.int8)"
      ]
    },
    {
      "cell_type": "code",
      "execution_count": 45,
      "metadata": {
        "ExecuteTime": {
          "end_time": "2019-10-24T04:46:58.117535Z",
          "start_time": "2019-10-24T04:46:57.774281Z"
        },
        "id": "oKrIGp4Xfwfp",
        "colab": {
          "base_uri": "https://localhost:8080/",
          "height": 457
        },
        "outputId": "7b8dfaae-f4f5-4949-8121-954fa3bc717d"
      },
      "outputs": [
        {
          "output_type": "execute_result",
          "data": {
            "text/plain": [
              "'Number of senators: 87. Number of issues: 128'"
            ],
            "application/vnd.google.colaboratory.intrinsic+json": {
              "type": "string"
            }
          },
          "metadata": {},
          "execution_count": 45
        },
        {
          "output_type": "display_data",
          "data": {
            "text/plain": [
              "<Figure size 640x480 with 1 Axes>"
            ],
            "image/png": "[encoded data removed]"
          },
          "metadata": {}
        }
      ],
      "source": [
        "# The data is not in the form we want, so we have to transform it.\n",
        "# The data's columns are\n",
        "#    _, _, issue id, member id, vote outcome, _\n",
        "# where _ means we don't need this colum.\n",
        "\n",
        "issues = my_data[:,2]\n",
        "\n",
        "members = my_data[:,3]\n",
        "member_ids = np.unique(members)\n",
        "members = [np.where(member_ids == m)[0][0] for m in members]\n",
        "\n",
        "votes = my_data[:,4]\n",
        "\n",
        "yn = [ 0, 1, 1, 1, -1, -1, -1, 0, 0, 0 ]\n",
        "votes = np.array([yn[v] for v in votes])\n",
        "\n",
        "A = np.zeros((len(member_ids), max(issues)+1))\n",
        "for member, issue, vote in zip(members, issues, votes):\n",
        "    A[int(member),int(issue)] = vote\n",
        "\n",
        "plt.imshow(A,cmap=\"gray\");\n",
        "plt.title(\"Senate voting outcomes\")\n",
        "plt.xlabel(\"Issue\")\n",
        "plt.ylabel(\"Senator\")\n",
        "\n",
        "\"Number of senators: %d. Number of issues: %d\" % A.shape"
      ]
    },
    {
      "cell_type": "code",
      "execution_count": 46,
      "metadata": {
        "ExecuteTime": {
          "end_time": "2019-10-24T04:47:42.928437Z",
          "start_time": "2019-10-24T04:47:42.302092Z"
        },
        "id": "Hgl80SuFfwfq",
        "colab": {
          "base_uri": "https://localhost:8080/",
          "height": 504
        },
        "outputId": "a700d29a-b183-440a-cd73-ccb2eafcc596"
      },
      "outputs": [
        {
          "output_type": "execute_result",
          "data": {
            "text/plain": [
              "Text(0, 0.5, 'Value')"
            ]
          },
          "metadata": {},
          "execution_count": 46
        },
        {
          "output_type": "display_data",
          "data": {
            "text/plain": [
              "<Figure size 1400x500 with 2 Axes>"
            ],
            "image/png": "[encoded data removed]"
          },
          "metadata": {}
        }
      ],
      "source": [
        "# Center the data at zero\n",
        "X = A - np.mean(A)\n",
        "\n",
        "# Singular-value decomposition\n",
        "U, s, VT = np.linalg.svd(X)\n",
        "\n",
        "# create m x n Sigma matrix\n",
        "Sigma = np.zeros((A.shape[0], A.shape[1]))\n",
        "\n",
        "# populate Sigma with n x n diagonal matrix\n",
        "Sigma[:A.shape[0], :A.shape[0]] = np.diag(s)\n",
        "\n",
        "# select\n",
        "n_elements = 2\n",
        "Sigma = Sigma[:, :n_elements]\n",
        "VT = VT[:n_elements, :]\n",
        "\n",
        "# reconstruct\n",
        "T = U.dot(Sigma)\n",
        "B = T.dot(VT)\n",
        "\n",
        "fig,ax = plt.subplots(1,2, figsize=(14,5))\n",
        "ax[0].imshow(B,cmap=\"gray\");\n",
        "ax[0].set_title(\"Image reconstruction\\nwith %d components\" % n_elements)\n",
        "ax[1].semilogy(s);\n",
        "ax[1].set_title(\"Singular values\")\n",
        "ax[1].set_xlabel(\"Index\")\n",
        "ax[1].set_ylabel(\"Value\")"
      ]
    },
    {
      "cell_type": "code",
      "execution_count": 47,
      "metadata": {
        "ExecuteTime": {
          "end_time": "2019-10-24T04:48:27.884424Z",
          "start_time": "2019-10-24T04:48:27.879163Z"
        },
        "id": "cppHWLj5fwfq",
        "colab": {
          "base_uri": "https://localhost:8080/"
        },
        "outputId": "02341c83-766c-49fe-f3a5-12e27997c386"
      },
      "outputs": [
        {
          "output_type": "execute_result",
          "data": {
            "text/plain": [
              "array([ 1.,  1.,  1.,  1., -1.,  1.,  1.,  0.,  0.,  0.,  0.,  0.,  0.,\n",
              "        0.,  0.,  0.,  0.,  0.,  0.,  0.,  0.,  0.,  0.,  0.,  0.,  0.,\n",
              "        0.,  0.,  0.,  0.,  0.,  0.,  0.,  0.,  0.,  0.,  0.,  0.,  0.,\n",
              "        1.,  1.,  1.,  1.,  1.,  1.,  1., -1.,  1.,  1., -1.,  1.,  1.,\n",
              "        1.,  1., -1.,  1.,  1.,  1.,  1.,  1.,  1.,  0.,  1.,  1.,  1.,\n",
              "        1.,  1.,  1.,  1.,  1.,  1.,  1.,  1.,  1.,  1.,  1.,  1.,  1.,\n",
              "        1., -1., -1.,  1.,  1.,  1.,  1.,  1.,  1.,  1.,  1.,  1.,  1.,\n",
              "        1.,  1.,  1., -1., -1.,  1.,  1.,  1.,  1.,  1.,  1.,  1., -1.,\n",
              "       -1., -1.,  1.,  1.,  1.,  1.,  1.,  1.,  1.,  1.,  1.,  1.,  1.,\n",
              "        1.,  1.,  1.,  1.,  1.,  1.,  1.,  1.,  1.,  1.,  1.])"
            ]
          },
          "metadata": {},
          "execution_count": 47
        }
      ],
      "source": [
        "# Voting habits of Senator number 50\n",
        "A[50]"
      ]
    },
    {
      "cell_type": "code",
      "execution_count": 48,
      "metadata": {
        "ExecuteTime": {
          "end_time": "2019-10-24T04:48:35.076174Z",
          "start_time": "2019-10-24T04:48:35.072076Z"
        },
        "id": "TSh91Nlsfwfq",
        "colab": {
          "base_uri": "https://localhost:8080/"
        },
        "outputId": "7f79a928-ac8f-46c1-a6aa-b9a10548a65f"
      },
      "outputs": [
        {
          "output_type": "execute_result",
          "data": {
            "text/plain": [
              "array([ 2.88946408, -4.08894449])"
            ]
          },
          "metadata": {},
          "execution_count": 48
        }
      ],
      "source": [
        "# Voting habits of Senator number 50 summed into two numbers\n",
        "T[50]"
      ]
    },
    {
      "cell_type": "code",
      "execution_count": 49,
      "metadata": {
        "ExecuteTime": {
          "end_time": "2019-10-24T04:48:51.023740Z",
          "start_time": "2019-10-24T04:48:50.806215Z"
        },
        "id": "5E5pDvHefwfr",
        "colab": {
          "base_uri": "https://localhost:8080/",
          "height": 510
        },
        "outputId": "17451cf5-308e-4204-c62f-2daa7cb9056c"
      },
      "outputs": [
        {
          "output_type": "execute_result",
          "data": {
            "text/plain": [
              "Text(0, 0.5, 'Second component')"
            ]
          },
          "metadata": {},
          "execution_count": 49
        },
        {
          "output_type": "display_data",
          "data": {
            "text/plain": [
              "<Figure size 640x480 with 1 Axes>"
            ],
            "image/png": "[encoded data removed]"
          },
          "metadata": {}
        }
      ],
      "source": [
        "# Here's a plot of the data. It shows the senators clustering into two\n",
        "# main clusters. One of the clusters is more varied than the other, suggesting\n",
        "# more independence within that cluster. It also shows there are a number of\n",
        "# senators who do not really vote with either cluster.\n",
        "\n",
        "T = U.dot(Sigma)\n",
        "plt.scatter(T[:,0], T[:,1])\n",
        "plt.gca().set_aspect(2)\n",
        "plt.title(\"Senators clustered by\\nvoting habits in 2019-2020\")\n",
        "plt.xlabel(\"First component\")\n",
        "plt.ylabel(\"Second component\")"
      ]
    },
    {
      "cell_type": "code",
      "execution_count": null,
      "metadata": {
        "id": "wsgiD2bBfwfr"
      },
      "outputs": [],
      "source": []
    }
  ],
  "metadata": {
    "kernelspec": {
      "display_name": "Python 3",
      "language": "python",
      "name": "python3"
    },
    "language_info": {
      "codemirror_mode": {
        "name": "ipython",
        "version": 3
      },
      "file_extension": ".py",
      "mimetype": "text/x-python",
      "name": "python",
      "nbconvert_exporter": "python",
      "pygments_lexer": "ipython3",
      "version": "3.8.5"
    },
    "colab": {
      "provenance": []
    }
  },
  "nbformat": 4,
  "nbformat_minor": 0
}