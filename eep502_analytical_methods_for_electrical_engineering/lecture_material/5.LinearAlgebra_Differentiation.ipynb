{
  "cells": [
    {
      "cell_type": "markdown",
      "metadata": {
        "id": "zEGWgLQJizNV"
      },
      "source": [
        "EE 502 P: Analytical Methods\n",
        "# 5. Linear Algebra II. Introduction to Differentiation.\n",
        "## Prof. Eric Klavins, Electrical and Computer Engineering\n",
        "\n",
        "### Tamara Bonaci, Department of Electrical and Computer Engineering\n",
        "### October 23, 2024\n",
        "Copyright &copy; 2024, University of Washington"
      ]
    },
    {
      "cell_type": "markdown",
      "metadata": {
        "collapsed": true,
        "id": "Oc5KLMJdizNZ"
      },
      "source": [
        "Linear Algebra is arguably the most important branch of applied mathematics. It has applications to data analysis, machine learning, differential equations, network analysis, Internet search, computer graphics, robotic manipulation and more. The basic element of Linear Algebra is the matrix, which is simply a table of real (or complex) numbers. It is remarkable that this simple object can have so many interesting mathematical behaviors. This week we cover a lot of ground. It is assumed that at some point you took a Linear Algebra course, as is required by most engineering undergraduate degrees. However, in such courses, one usually spends a great deal of time doing Gaussian elimination, and computing determinants and inverses. Here, instead, we try to go into the properties of matrices that make them useful for engineering fields. These include: eigenvalues and matrix decomposition, arguable the most important aspects.\n",
        "\n",
        "**Topics Covered**\n",
        "\n",
        "- Basics\n",
        "    - Vector spaces\n",
        "    - Matrices\n",
        "    - Matrices as transformations\n",
        "        - Rotations\n",
        "        - Reflections\n",
        "        - Sheer\n",
        "        - Projections\n",
        "        - Data\n",
        "        - Images\n",
        "        - Networks\n",
        "    - Determinants\n",
        "    - Rank\n",
        "    - Inverses\n",
        "    - Non-singularity tests, including determinant\n",
        "    - Inner products and orthogonality\n",
        "    - Orthogonal matrices\n",
        "- Eigenvalues\n",
        "    - Definitions\n",
        "    - Characteristic polynomial\n",
        "    - Similarity\n",
        "    - Eigenvectors\n",
        "    - Diagonalization\n",
        "- Jordan Canonical Form\n",
        "    - Jordan form\n",
        "- The Cayley-Hamilton Theorem\n",
        "    - The minimal polynomial    \n",
        "- The Matrix Exponential\n",
        "    - Definition\n",
        "    - Example\n",
        "    - Using similarity to compute\n",
        "- Singular value decomposition\n",
        "    - Definitions\n",
        "    - Example\n",
        "    - Use in matrix approximation\n",
        "    - Use in least squares\n",
        "    - Principle component analysis"
      ]
    },
    {
      "cell_type": "code",
      "execution_count": 1,
      "metadata": {
        "ExecuteTime": {
          "end_time": "2019-10-24T01:46:46.860756Z",
          "start_time": "2019-10-24T01:46:45.282255Z"
        },
        "id": "tSNx8y-VizNb"
      },
      "outputs": [],
      "source": [
        "import math\n",
        "import scipy # Has linear algebra\n",
        "import scipy.ndimage\n",
        "import numpy as np\n",
        "import sympy as sm\n",
        "sm.init_printing(use_latex='mathjax')\n",
        "import matplotlib.pyplot as plt\n",
        "import matplotlib.patches as pch\n",
        "%matplotlib inline"
      ]
    },
    {
      "cell_type": "markdown",
      "metadata": {
        "id": "L59i9lTzizNd"
      },
      "source": [
        "## Vector Spaces"
      ]
    },
    {
      "cell_type": "markdown",
      "metadata": {
        "id": "T4_xCMWzizNd"
      },
      "source": [
        "Vectors are just lists of numbers. A set of vectors with the following properties shows up in many branches of mathematics and has many applications. We first study vectors before matrices because, for example, matrices are just vectors stacked together. Also, matrices can be said to be transformations on vectors.\n",
        "\n",
        "**Def:** A **vector space** over $\\mathbb{R}$ or $\\mathbb{C}$ is a set $V$ of objects which is\n",
        "- Closed under addition: $u+v \\in V$\n",
        "- Is associative under addition: $u + (v + w) = (u+v)+w$\n",
        "- Is commutative under addition: $u+v = v+u$\n",
        "- Has an additive identity: $v + 0 = 0 + v = v$.\n",
        "- Has additive inverses: $-v \\in V$.\n",
        "- Is closed under scalar multiplication: $a v \\in V$\n",
        "- Is distributive: $a(u+v) = au + av$ and $(a+b)u = au + bu$, $a(bu)= (ab)u$\n",
        "- Has a scalar multiplicative identity: $1 e = e$.\n",
        "Assuming $u,v,w \\in V$ and $a,b \\in \\mathbb{C}$.\n",
        "\n",
        "We usually deal with $n$ dimensional finite vectors of real ($\\mathbb{R}^n$) or imaginary ($\\mathbb{C}^n$) numbers and write vectors as columns. For example\n",
        "\n",
        "$$\n",
        "v = \\left (\n",
        "\\begin{array}{c}\n",
        "1.0 \\\\\n",
        "-3.5 \\\\\n",
        "0 \\\\\n",
        "2.3\n",
        "\\end{array}\n",
        "\\right ) \\in \\mathbb{R}^4\n",
        "$$\n",
        "\n",
        "However, infinite dimensional lists of of numbers (countable or not) can also form vector spaces.\n",
        "\n",
        "**Note:** Since it is annoying to write vectors as columns, we often will write $v = (1\\;2\\;3\\;4)^T \\in \\mathbb{R}^4$ where the $T$ operation means \"Transpose\", taking a column vector and turning it into a row vector. More on this in the section on matrices.\n",
        "\n",
        "Things that are not vector spaces:\n",
        "- The set of positive valued vectors (with normal addition and scalar multiplication)\n",
        "- The set of of points $x,y,z \\in \\mathbb{R}^3$ such that $x+y+z=1$, because $(0,0,0)$ is not in it\n",
        "- The set of pairs of points inside the unit circle (because not all scalar multiples are in the set)\n",
        "\n",
        "**Def:** A **subspace** of $V$ is a set $U \\subseteq V$ that is also a vector space.\n",
        "\n",
        "**Example:** Let $U \\subseteq \\mathbb{R}^n$ be defined by all vectors in $\\mathbb{R}^n$ for which the first element is zero. You can check that all the conditions above apply.\n",
        "\n",
        "**Def:** The span of a set of vectors $v_1, v_2, ..., v_m \\in \\mathbb{R}^n$ is the set\n",
        "\n",
        "$$\n",
        "span(v_1, ..., v_m) = \\{ a_1 v_1 + ..., a_n v_n \\;|\\; a_i \\in \\mathbb{R} \\}\n",
        "$$\n",
        "\n",
        "**Example:** Let $u = ( 1\\; 1\\; 0 )$ and $v = ( 0 \\; 1 \\; 1)$. Then\n",
        "\n",
        "$$\n",
        "span(u,v) = \\{\n",
        "\\left (\n",
        "\\begin{array}{c}\n",
        "a \\\\\n",
        "a+b \\\\\n",
        "b\n",
        "\\end{array}\n",
        "\\right ) \\;|\\; a, b, \\in \\mathbb{R} \\}\n",
        "$$\n",
        "\n",
        "For example, $(1 \\; 2 \\; 1)^T$ and $(-1 \\; 0 \\; 1)^T$ are in $span(u,v)$.\n",
        "\n",
        "**Thm:** The span of a set of vectors is a vector space.\n",
        "\n",
        "**Proof:** You can go through and check all the properties. For example, note that\n",
        "\n",
        "$$\n",
        "(a_1 v_1 + ..., a_n v_m) + (b_1 v_1 + ..., b_n v_m) = (a_1+b_1) v_1 + ..., (a_n+b_n) v_m\n",
        "$$\n",
        "\n",
        "since scalar multiplication is distributed for $\\mathbb{R}^n$. Thus, $span(v_1,...,v_m)$ is closed under addition.\n",
        "\n",
        "**Def:** A set of vectors $v_1,...,v_n$ is **linearly independent** if there exist scalars $a_1, ..., a_n$ that are not all zero but for which\n",
        "\n",
        "$$\n",
        "a_1 v_1 + ... + a_n v_n = 0.\n",
        "$$\n",
        "\n",
        "**Example:** Come up with two vectors in $\\mathbb{R}$ that are linearly independent of each other, and two that are not.\n",
        "\n",
        "Not independent:\n",
        "$\n",
        "u = \\left (\n",
        "\\begin{array}{c}\n",
        "1 \\\\\n",
        "1\n",
        "\\end{array}\n",
        "\\right )$ and\n",
        "$v = \\left (\n",
        "\\begin{array}{c}\n",
        "2 \\\\\n",
        "2\n",
        "\\end{array}\n",
        "\\right )$ since $2 u + v = 0$.\n",
        "\n",
        "Independent:\n",
        "$\n",
        "u = \\left (\n",
        "\\begin{array}{c}\n",
        "1 \\\\\n",
        "0\n",
        "\\end{array}\n",
        "\\right )$ and\n",
        "$v = \\left (\n",
        "\\begin{array}{c}\n",
        "0 \\\\\n",
        "2\n",
        "\\end{array}\n",
        "\\right )$ since if  $a u + b v = 0$ then $a = 0$ and $2b=0$.\n",
        "\n",
        "**Def:** A linearly independent set of vectors $v_1,...,v_n$ is a basis for a vector space $V$ if $span(v_1,...,v_n) = V$.\n",
        "\n",
        "**Example:** The set $(1\\;0\\;0)^T$, $(0\\;1\\;0)^T$, and $(0\\;0\\;1)^T$ is a basis for $\\mathbb{R}^3$.\n",
        "\n",
        "**Example:** The set $(1\\;1)^T$, $(-1\\;1)^T$ is a basis for $\\mathbb{R}^2$.\n",
        "\n",
        "**Example:** Any set of two vectors is not a basis for $\\mathbb{R}^3$.\n",
        "\n",
        "**Def:** The dimension of a vector space is the number of elements in any basis for the space.\n",
        "\n",
        "**Example:** The dimension of $span(u,v)$ of the subspace described above is $2$. A basis for $span(u,v)$ is in fact $u$ and $v$.\n",
        "\n",
        "**Def:** The dot product of $u$ and $v$ is the pairwise sum of the products of the elements in $u$ and $v$:\n",
        "\n",
        "$$\n",
        "u \\cdot v = u^T v = u_1 v_1 + ... + u_n v_n \\in \\mathbb{R}.\n",
        "$$\n",
        "\n",
        "**Def:** Two vectors $u$ and $v$ are **orthogonal** if $u^Tv = 0$.\n",
        "\n",
        "**Example:** Show some dot products.\n",
        "\n",
        "**Def:** The magnitude of a vector $v$ is the square root of its dot product with itself:\n",
        "\n",
        "$$\n",
        "||v|| = \\sqrt{v^Tv}.\n",
        "$$\n",
        "\n",
        "**Example:** Show a magnitude calculation."
      ]
    },
    {
      "cell_type": "code",
      "execution_count": 2,
      "metadata": {
        "ExecuteTime": {
          "end_time": "2019-10-24T01:48:07.261792Z",
          "start_time": "2019-10-24T01:48:07.250694Z"
        },
        "colab": {
          "base_uri": "https://localhost:8080/"
        },
        "id": "OssArV3UizNe",
        "outputId": "1971f01d-fdc2-43de-b06f-d085e45f8f10"
      },
      "outputs": [
        {
          "output_type": "stream",
          "name": "stdout",
          "text": [
            "[[1]\n",
            " [2]\n",
            " [3]]\n",
            "\n",
            "\n",
            "[[4]\n",
            " [5]\n",
            " [6]]\n"
          ]
        },
        {
          "output_type": "execute_result",
          "data": {
            "text/plain": [
              "array([[0.47359981],\n",
              "       [0.96023835],\n",
              "       [0.68088757],\n",
              "       [0.48125409],\n",
              "       [0.66660366],\n",
              "       [0.36689873],\n",
              "       [0.14891024],\n",
              "       [0.36534909],\n",
              "       [0.2443088 ],\n",
              "       [0.47755597],\n",
              "       [0.03846651],\n",
              "       [0.20545836],\n",
              "       [0.91086487],\n",
              "       [0.23495098],\n",
              "       [0.2319357 ],\n",
              "       [0.84521688],\n",
              "       [0.49758662],\n",
              "       [0.49948336],\n",
              "       [0.27043087],\n",
              "       [0.75022208],\n",
              "       [0.28973536],\n",
              "       [0.52730075],\n",
              "       [0.9557103 ],\n",
              "       [0.91982496],\n",
              "       [0.29973953],\n",
              "       [0.20193763],\n",
              "       [0.82439358],\n",
              "       [0.61933983],\n",
              "       [0.89325421],\n",
              "       [0.72767404],\n",
              "       [0.92121758],\n",
              "       [0.4682404 ],\n",
              "       [0.45534152],\n",
              "       [0.02006727],\n",
              "       [0.51623115],\n",
              "       [0.72211566],\n",
              "       [0.31968515],\n",
              "       [0.03277464],\n",
              "       [0.22514125],\n",
              "       [0.89161548],\n",
              "       [0.84920534],\n",
              "       [0.05666576],\n",
              "       [0.73283696],\n",
              "       [0.80275098],\n",
              "       [0.22637011],\n",
              "       [0.55049837],\n",
              "       [0.3940233 ],\n",
              "       [0.2928466 ],\n",
              "       [0.87640046],\n",
              "       [0.35210337],\n",
              "       [0.6979462 ],\n",
              "       [0.64153645],\n",
              "       [0.69775402],\n",
              "       [0.71513537],\n",
              "       [0.54629065],\n",
              "       [0.68636102],\n",
              "       [0.67510226],\n",
              "       [0.13902585],\n",
              "       [0.5233136 ],\n",
              "       [0.63296423],\n",
              "       [0.66755451],\n",
              "       [0.83284747],\n",
              "       [0.40111514],\n",
              "       [0.75443611],\n",
              "       [0.39598011],\n",
              "       [0.5835105 ],\n",
              "       [0.94708768],\n",
              "       [0.31905548],\n",
              "       [0.68840692],\n",
              "       [0.31257376],\n",
              "       [0.00882823],\n",
              "       [0.06920032],\n",
              "       [0.35303091],\n",
              "       [0.13705603],\n",
              "       [0.19142354],\n",
              "       [0.84846254],\n",
              "       [0.88893951],\n",
              "       [0.87538336],\n",
              "       [0.27719029],\n",
              "       [0.20354162],\n",
              "       [0.58021589],\n",
              "       [0.86840071],\n",
              "       [0.69880631],\n",
              "       [0.57976025],\n",
              "       [0.80917342],\n",
              "       [0.27487069],\n",
              "       [0.65311809],\n",
              "       [0.44387771],\n",
              "       [0.40697419],\n",
              "       [0.80517167],\n",
              "       [0.86053996],\n",
              "       [0.02143433],\n",
              "       [0.45621052],\n",
              "       [0.1849704 ],\n",
              "       [0.70487311],\n",
              "       [0.65320751],\n",
              "       [0.04396061],\n",
              "       [0.59706109],\n",
              "       [0.98614051],\n",
              "       [0.13240535]])"
            ]
          },
          "metadata": {},
          "execution_count": 2
        }
      ],
      "source": [
        "# Vectors in numpy are just arrays of arrays. To make them into column vectors, you need to do the following:\n",
        "\n",
        "u = np.array([\n",
        "    [1],\n",
        "    [2],\n",
        "    [3]\n",
        "])\n",
        "\n",
        "print(u)\n",
        "print(\"\\n\")\n",
        "\n",
        "# Or you can do\n",
        "\n",
        "v = np.array([[4,5,6]]).transpose()\n",
        "print(v)\n",
        "\n",
        "x = np.array([np.random.rand(100)]).transpose()\n",
        "x"
      ]
    },
    {
      "cell_type": "code",
      "execution_count": 3,
      "metadata": {
        "ExecuteTime": {
          "end_time": "2019-10-24T01:48:39.188692Z",
          "start_time": "2019-10-24T01:48:39.184499Z"
        },
        "colab": {
          "base_uri": "https://localhost:8080/"
        },
        "id": "DC1tvdA6izNg",
        "outputId": "08e96e2c-cb76-4a67-8019-334dbc7ede4e"
      },
      "outputs": [
        {
          "output_type": "stream",
          "name": "stdout",
          "text": [
            "[[5]\n",
            " [7]\n",
            " [9]]\n",
            "\n",
            "\n",
            "[[-20]\n",
            " [-25]\n",
            " [-30]]\n"
          ]
        }
      ],
      "source": [
        "# Numpy supports all the standard vector operations\n",
        "\n",
        "print(u+v)\n",
        "print(\"\\n\")\n",
        "print(-5 * v)"
      ]
    },
    {
      "cell_type": "code",
      "execution_count": 4,
      "metadata": {
        "ExecuteTime": {
          "end_time": "2019-10-24T01:48:47.433463Z",
          "start_time": "2019-10-24T01:48:47.428514Z"
        },
        "colab": {
          "base_uri": "https://localhost:8080/"
        },
        "id": "Sn0tz8xJizNh",
        "outputId": "85f5af0c-7523-422d-bd57-8976669e782c"
      },
      "outputs": [
        {
          "output_type": "execute_result",
          "data": {
            "text/plain": [
              "array([[0.],\n",
              "       [0.],\n",
              "       [0.],\n",
              "       [1.],\n",
              "       [0.],\n",
              "       [0.],\n",
              "       [0.],\n",
              "       [0.],\n",
              "       [0.],\n",
              "       [0.]])"
            ]
          },
          "metadata": {},
          "execution_count": 4
        }
      ],
      "source": [
        "# To make the standard basis for n dimensional vectors, you can do the following,\n",
        "# which gives the vector in R^10 with the fourth elemenet = 1 and the rest of the\n",
        "# elements equal to zero\n",
        "\n",
        "np.eye(1,10,3).transpose()"
      ]
    },
    {
      "cell_type": "code",
      "execution_count": 5,
      "metadata": {
        "ExecuteTime": {
          "end_time": "2019-10-24T01:49:46.315611Z",
          "start_time": "2019-10-24T01:49:46.308742Z"
        },
        "colab": {
          "base_uri": "https://localhost:8080/",
          "height": 112
        },
        "id": "s7HrdSNdizNh",
        "outputId": "caae2c9a-27a1-4bfa-e99e-1eac1df01221"
      },
      "outputs": [
        {
          "output_type": "stream",
          "name": "stdout",
          "text": [
            "Matrix([[1], [2], [3]])\n",
            "Matrix([[3], [4], [5]])\n"
          ]
        },
        {
          "output_type": "execute_result",
          "data": {
            "text/plain": [
              "⎡-10⎤\n",
              "⎢   ⎥\n",
              "⎢-10⎥\n",
              "⎢   ⎥\n",
              "⎣-10⎦"
            ],
            "text/latex": "$\\displaystyle \\left[\\begin{matrix}-10\\\\-10\\\\-10\\end{matrix}\\right]$"
          },
          "metadata": {},
          "execution_count": 5
        }
      ],
      "source": [
        "# You can also use sympy to get exact values for your arrays. Here, vectors are just n x 1 matrices\n",
        "\n",
        "w = sm.Matrix([\n",
        "    [1],\n",
        "    [2],\n",
        "    [3]]\n",
        ")\n",
        "print(w)\n",
        "x = sm.Matrix([[3],[4],[5]])\n",
        "print(x)\n",
        "5*(w - x)"
      ]
    },
    {
      "cell_type": "code",
      "execution_count": 6,
      "metadata": {
        "ExecuteTime": {
          "end_time": "2019-10-24T01:49:58.930606Z",
          "start_time": "2019-10-24T01:49:58.924481Z"
        },
        "colab": {
          "base_uri": "https://localhost:8080/",
          "height": 220
        },
        "id": "Chxo2TpdizNi",
        "outputId": "c00fb761-35e8-4d8c-c978-88322614f371"
      },
      "outputs": [
        {
          "output_type": "execute_result",
          "data": {
            "text/plain": [
              "⎡0⎤\n",
              "⎢ ⎥\n",
              "⎢0⎥\n",
              "⎢ ⎥\n",
              "⎢0⎥\n",
              "⎢ ⎥\n",
              "⎢1⎥\n",
              "⎢ ⎥\n",
              "⎢0⎥\n",
              "⎢ ⎥\n",
              "⎢0⎥\n",
              "⎢ ⎥\n",
              "⎢0⎥\n",
              "⎢ ⎥\n",
              "⎢0⎥\n",
              "⎢ ⎥\n",
              "⎢0⎥\n",
              "⎢ ⎥\n",
              "⎣0⎦"
            ],
            "text/latex": "$\\displaystyle \\left[\\begin{matrix}0\\\\0\\\\0\\\\1\\\\0\\\\0\\\\0\\\\0\\\\0\\\\0\\end{matrix}\\right]$"
          },
          "metadata": {},
          "execution_count": 6
        }
      ],
      "source": [
        "# Similarly, you can make basis vectors. You have to first make a matrix though and take the mth column.\n",
        "\n",
        "sm.eye(10)[:,3]"
      ]
    },
    {
      "cell_type": "markdown",
      "metadata": {
        "id": "I3JrqgI8izNi"
      },
      "source": [
        "## Matrices"
      ]
    },
    {
      "cell_type": "markdown",
      "metadata": {
        "id": "CC2N_67gizNj"
      },
      "source": [
        "Definitions\n",
        "---\n",
        "\n",
        "**Def:** A **matrix** is a rectangular array of real or complex elements. If a real valued matrix $M$ has $n$ rows and $m$ columns, we write that $M \\in \\mathbb{R}^{n \\times m}$.\n",
        "\n",
        "**Example:** The following is a $3 \\times 5$ matrix:\n",
        "\n",
        "$$\n",
        "\\begin{pmatrix}\n",
        "0&1&2&0&9\\\\\n",
        "1&-1&2&-3&4 \\\\\n",
        "0 & 0 & 1 & 1 & 1\n",
        "\\end{pmatrix}.\n",
        "$$\n",
        "\n",
        "**Example:** A gray scale bitmap can be thought of as a matrix with the $i,j$ entry corresponding to the gray level of the pixel at position $i,j$. Typically, values range from 0 (black) to 255 (white). Or they can be $0$ for black and $1$ for white, with $0.5$ for gray$.\n",
        "\n",
        "**Example:** Suppose we have 100 Senators in congress and 200 issues they have voted on in the present term. If Senator $i$ voted yes on issue $j$, put $M_{i,j} = 1$. If she voted no, put $M_{i,j} = -1$. If she didn't vote, put $M_{i,j} = 0$.\n",
        "\n",
        "**Example**: A matrix can represent a social network. For example, suppose that user $i$ is \"friends with\" user $j$. Then we would write $A_{i,j} = 1$ Otherwise, we would write $A_{i,j} = 0$.\n",
        "\n",
        "**Def:** A matrix can represent a **linear transformation** on other vectors. In this case we use **matrix multiplication** to take vectors to vectors:\n",
        "\n",
        "$$\n",
        "A x = y\n",
        "$$\n",
        "\n",
        "means\n",
        "\n",
        "$$\n",
        "\\begin{pmatrix}\n",
        "a_{1,1} & ... & a_{1,n} \\\\\n",
        "\\vdots & \\; & \\vdots \\\\\n",
        "a_{n,1} & ... & a_{n,n}\n",
        "\\end{pmatrix} \\begin{pmatrix}\n",
        "x_1 \\\\\n",
        "\\vdots \\\\\n",
        "x_n\n",
        "\\end{pmatrix} =\n",
        "\\begin{pmatrix}\n",
        "a_{1,1} x_1 & ... & a_{1,n}x_n \\\\\n",
        "\\vdots & & \\vdots \\\\\n",
        "a_{n,1} x_1 & ... & a_{n,n} x_n\n",
        "\\end{pmatrix} =\n",
        "\\begin{pmatrix}\n",
        "y_1 \\\\\n",
        "\\vdots \\\\\n",
        "y_n\n",
        "\\end{pmatrix}\n",
        "$$\n",
        "\n",
        "**Example:** Show some matrix-vector multiplications.\n",
        "\n",
        "**Example:** For example, given $\\theta \\in \\mathbb{R}$ define the rotation matrix\n",
        "\n",
        "$$\n",
        "R(\\theta) =\n",
        "\\begin{pmatrix}\n",
        "\\cos \\theta \\; \\sin \\theta \\\\\n",
        "-\\sin \\theta \\; \\cos \\theta\n",
        "\\end{pmatrix}.\n",
        "$$\n",
        "\n",
        "For example,\n",
        "\n",
        "$$\n",
        "R\\left(\\frac{\\pi}{4}\\right) =\n",
        "\\begin{pmatrix}\n",
        "\\frac{\\sqrt{2}}{2} & \\frac{\\sqrt{2}}{2} \\\\\n",
        "-\\frac{\\sqrt{2}}{2} & \\frac{\\sqrt{2}}{2}\n",
        "\\end{pmatrix}.\n",
        "$$\n",
        "\n",
        "These matrices when applied to vectors, rotate the vectors around the origin by $\\theta$ radians, preserving their magnitudes. For example,\n",
        "\n",
        "$$\n",
        "R\\left(\\frac{\\pi}{4}\\right)\n",
        "\\begin{pmatrix}\n",
        "1\\\\\n",
        "0\n",
        "\\end{pmatrix} =\n",
        "\\begin{pmatrix}\n",
        "\\frac{\\sqrt{2}}{2} & \\frac{\\sqrt{2}}{2} \\\\\n",
        "-\\frac{\\sqrt{2}}{2} & \\frac{\\sqrt{2}}{2}\n",
        "\\end{pmatrix}\\begin{pmatrix}\n",
        "1\\\\\n",
        "0\n",
        "\\end{pmatrix} =\n",
        "\\begin{pmatrix}\n",
        "\\frac{\\sqrt{2}}{2}\\\\\n",
        "-\\frac{\\sqrt{2}}{2}\n",
        "\\end{pmatrix}\n",
        "$$\n"
      ]
    },
    {
      "cell_type": "code",
      "execution_count": 7,
      "metadata": {
        "ExecuteTime": {
          "end_time": "2019-10-24T02:09:03.435385Z",
          "start_time": "2019-10-24T02:09:03.242477Z"
        },
        "colab": {
          "base_uri": "https://localhost:8080/",
          "height": 622
        },
        "id": "xzLjqspzizNk",
        "outputId": "1664ab8d-d4be-4f30-91b7-99a9f48de5e7"
      },
      "outputs": [
        {
          "output_type": "stream",
          "name": "stdout",
          "text": [
            "[[-1.  -1. ]\n",
            " [ 0.  -1. ]\n",
            " [ 0.   0. ]\n",
            " [ 0.5  0. ]\n",
            " [ 0.5 -1. ]\n",
            " [ 1.  -1. ]\n",
            " [ 1.   1. ]\n",
            " [ 1.5  1. ]\n",
            " [ 0.   2. ]\n",
            " [-1.5  1. ]\n",
            " [-1.   1. ]]\n"
          ]
        },
        {
          "output_type": "display_data",
          "data": {
            "text/plain": [
              "<Figure size 640x480 with 1 Axes>"
            ],
            "image/png": "[encoded data removed]"
          },
          "metadata": {}
        }
      ],
      "source": [
        "# To see how matrices act as transformations of points, let's draw a picture of a house.\n",
        "\n",
        "points = np.array([\n",
        "    [-1,-1],\n",
        "    [0,-1],\n",
        "    [0,0],\n",
        "    [0.5,0],\n",
        "    [0.5,-1],\n",
        "    [1,-1],\n",
        "    [1,1],\n",
        "    [1.5,1],\n",
        "    [0,2],\n",
        "    [-1.5,1],\n",
        "    [-1,1]\n",
        "])\n",
        "print(points)\n",
        "\n",
        "shape = pch.Polygon(points)\n",
        "plt.gca().add_artist(shape)\n",
        "plt.xlim(-4,4)\n",
        "plt.ylim(-4,4)\n",
        "plt.gca().set_aspect(1)"
      ]
    },
    {
      "cell_type": "code",
      "execution_count": 8,
      "metadata": {
        "ExecuteTime": {
          "end_time": "2019-10-24T02:10:39.190338Z",
          "start_time": "2019-10-24T02:10:39.012654Z"
        },
        "colab": {
          "base_uri": "https://localhost:8080/",
          "height": 435
        },
        "id": "8g2s2rSaizNk",
        "outputId": "cd5e1a50-5262-4f9f-d4be-0c2cc5f066b6"
      },
      "outputs": [
        {
          "output_type": "display_data",
          "data": {
            "text/plain": [
              "<Figure size 640x480 with 1 Axes>"
            ],
            "image/png": "[encoded data removed]"
          },
          "metadata": {}
        }
      ],
      "source": [
        "# Now we can rotate it by multiplying each point by a rotation matrix\n",
        "\n",
        "def R(theta):\n",
        "    return np.array([\n",
        "        [np.cos(theta), np.sin(theta)],\n",
        "        [-np.sin(theta), np.cos(theta)]\n",
        "    ])\n",
        "\n",
        "new_points = [np.dot(R(7),p) for p in points]\n",
        "\n",
        "shape = pch.Polygon(new_points)\n",
        "plt.gca().add_artist(shape)\n",
        "plt.xlim(-4,4)\n",
        "plt.ylim(-4,4)\n",
        "plt.gca().set_aspect(1)\n"
      ]
    },
    {
      "cell_type": "code",
      "execution_count": 9,
      "metadata": {
        "ExecuteTime": {
          "end_time": "2019-10-24T02:12:43.217934Z",
          "start_time": "2019-10-24T02:12:41.728189Z"
        },
        "colab": {
          "base_uri": "https://localhost:8080/",
          "height": 682
        },
        "id": "DEcIXi5aizNl",
        "outputId": "baefed4c-6c4e-4c4c-fc61-d46031611053"
      },
      "outputs": [
        {
          "output_type": "display_data",
          "data": {
            "text/plain": [
              "<Figure size 800x800 with 16 Axes>"
            ],
            "image/png": "[encoded data removed]"
          },
          "metadata": {}
        }
      ],
      "source": [
        "# More generally, matrices as transformations can rotate, reflect, sheer, project, and permute.\n",
        "# Here aer some random transformations.\n",
        "\n",
        "fig,ax = plt.subplots(4,4,figsize=(8,8))\n",
        "\n",
        "for i in range(16):\n",
        "    A = 3*(np.random.rand(2,2) - 0.75*np.ones((2,2)))\n",
        "    new_points = [np.dot(A,p) for p in points]\n",
        "    shape = pch.Polygon(new_points)\n",
        "    a = ax[int(i/4), i%4]\n",
        "    a.add_artist(shape)\n",
        "    a.set_xlim(-4,4)\n",
        "    a.set_ylim(-4,4)\n",
        "    a.set_aspect(1)"
      ]
    },
    {
      "cell_type": "markdown",
      "metadata": {
        "id": "FrMOCWlVizNm"
      },
      "source": [
        "Matrix Operations\n",
        "---\n",
        "\n",
        "Matrices are like numbers in that you can add them and multiply them, but you have to be careful not to treat them exactly like numbers. For example, you can't divide by a matrix (although you can multiply by its inverse if it exists). Also, with numbers you get properties like $xy = xy$, but that isn't always the case with matrices.\n",
        "\n",
        "**Addition:** If $A$ and $B$ are matrices, then they can be added together if they have the same dimensions. In this case $(A+B)_{i,j} = A_{i,j} + B_{i,j}$.\n",
        "\n",
        "**Multiplication:** If $A \\in \\mathbb{R}^{n \\times m}$ and $B \\in \\mathbb{R}^{m \\times p}$ then $AB \\in \\mathbb{R}^{n \\times p}$ is defined by\n",
        "\n",
        "$$\n",
        "AB = \\begin{pmatrix}\n",
        "a_{1,1} & ... & a_{1,n} \\\\\n",
        "\\vdots & \\; & \\vdots \\\\\n",
        "a_{m,1} & ... & a_{m,n}\n",
        "\\end{pmatrix} \\begin{pmatrix}\n",
        "b_{1,1} & ... & b_{1,p} \\\\\n",
        "\\vdots & \\; & \\vdots \\\\\n",
        "b_{n,1} & ... & b_{n,p}\n",
        "\\end{pmatrix} =\n",
        "\\begin{pmatrix}\n",
        "c_{1,1} & ... & c_{1,p} \\\\\n",
        "\\vdots & \\; & \\vdots \\\\\n",
        "c_{m,1} & ... & c_{m,p}\n",
        "\\end{pmatrix}\n",
        "$$\n",
        "\n",
        "where\n",
        "\n",
        "$$\n",
        "c_{i,j} = a_{i,1} b_{1,j} + ... + a_{1,n} b_{n,j}.\n",
        "$$\n",
        "\n",
        "Said differently, the $i,j$ entry of $AB$ is the dot product of the $i$the row of $A$ with the $j$th column of $B$.\n",
        "\n",
        "**Example:** Show a matrix multiplication.\n",
        "\n",
        "**Example:** Two transformations can be done in succession to get a new transformation, simply by multiplying the two transformations together. For example, $R(\\theta_1) R(\\theta_2) = R(\\theta_1 + \\theta_2)$. This is in fact a restatement of [Ptolemy’s identities](https://www2.clarku.edu/faculty/djoyce/trig/ptolemy.html).\n",
        "\n",
        "**Example:** If $A \\in \\mathbb{R}^{n \\times n}$ then $A^m$ is $A$ multiplied by itself $m$ times.\n",
        "\n",
        "**Not Commutative:** It is not always the case that $AB = BA$ for square matrices, as simple examples show.\n",
        "\n",
        "**Indentity:** The **identity matrix** for $\\mathbb{R}^{n \\times n}$ is\n",
        "\n",
        "$$\n",
        "I = \\begin{pmatrix}\n",
        "1 & 0 & ... & 0 \\\\\n",
        "0 & 1 & ... & 0  \\\\\n",
        "\\vdots & \\vdots & \\; & \\vdots \\\\\n",
        "0 & 0 & ... & 1\n",
        "\\end{pmatrix}\n",
        "$$\n",
        "\n",
        "and has the property that\n",
        "\n",
        "$$\n",
        "A I = I A = A\n",
        "$$\n",
        "\n",
        "for any $A \\in \\mathbb{R}^{n \\times n}$.\n",
        "\n",
        "**Inverses:** If $A \\in \\mathbb{R}^{n \\times n}$ then if $AB = I$, $B$ is said to be the inverse of $A$ and is denoted $A^{-1}$.\n",
        "\n",
        "**Example**: The inverse of the matrix\n",
        "\n",
        "$$\n",
        "\\begin{pmatrix}\n",
        "a & b \\\\\n",
        "c & d\n",
        "\\end{pmatrix}\n",
        "$$\n",
        "\n",
        "is\n",
        "\n",
        "$$\n",
        "\\frac{1}{ad - bc} \\begin{pmatrix}\n",
        "d & -b \\\\\n",
        "-c & a\n",
        "\\end{pmatrix}\n",
        "$$\n",
        "\n",
        "as can be shown by multiplying the two matrices together. Note that if $ad = bc$ then the matrix is *not invertible*.\n",
        "\n",
        "**Transpose:** If $A \\in \\mathbb{R}^{n \\times m}$, then $A^T$, the **transpose** of $A$, is the matrix obtained by setting the $i,j$ entry of $A^T$ to the $j,i$ entry of $A$. Thus, $A^T \\in \\mathbb{R}^{m \\times n}$.\n",
        "\n",
        "**Example:** Show a transpose of a matrix.\n",
        "\n",
        "**Property:** $(AB)^T = B^T A^T$. This can be shown be thinking about the dot product of rows and columns in computing the product."
      ]
    },
    {
      "cell_type": "code",
      "execution_count": 10,
      "metadata": {
        "ExecuteTime": {
          "end_time": "2019-10-24T02:32:26.352492Z",
          "start_time": "2019-10-24T02:32:26.340188Z"
        },
        "colab": {
          "base_uri": "https://localhost:8080/"
        },
        "id": "jnO6Ufp9izNn",
        "outputId": "8cab77d9-6741-474b-d345-8e801d50da88"
      },
      "outputs": [
        {
          "output_type": "stream",
          "name": "stdout",
          "text": [
            "[[ 1  0  3]\n",
            " [-1  5  0]]\n",
            "[[7 8 9]\n",
            " [0 1 2]\n",
            " [3 4 5]]\n",
            "[[16 20 24]\n",
            " [-7 -3  1]]\n"
          ]
        }
      ],
      "source": [
        "# Examples in numpy\n",
        "\n",
        "A = np.array([\n",
        "    [1,0,3],\n",
        "    [-1,5,0]\n",
        "])\n",
        "print(A)\n",
        "\n",
        "B = np.array([\n",
        "    [7,8,9],\n",
        "    [0,1,2],\n",
        "    [3,4,5]\n",
        "])\n",
        "print(B)\n",
        "\n",
        "C = np.dot(A,B)\n",
        "\n",
        "print(C)"
      ]
    },
    {
      "cell_type": "code",
      "execution_count": 11,
      "metadata": {
        "ExecuteTime": {
          "end_time": "2019-10-24T02:33:46.285193Z",
          "start_time": "2019-10-24T02:33:46.277448Z"
        },
        "colab": {
          "base_uri": "https://localhost:8080/"
        },
        "id": "X1Edd_TTizNn",
        "outputId": "e8cce88e-155b-4d11-f63f-5d8e526ead57"
      },
      "outputs": [
        {
          "output_type": "stream",
          "name": "stdout",
          "text": [
            "[[ 1  0  3]\n",
            " [-1  5  0]]\n",
            "[[ 1 -1]\n",
            " [ 0  5]\n",
            " [ 3  0]]\n",
            "[[10 -1]\n",
            " [-1 26]]\n",
            "[[0.1003861  0.003861  ]\n",
            " [0.003861   0.03861004]]\n"
          ]
        },
        {
          "output_type": "execute_result",
          "data": {
            "text/plain": [
              "array([[1., 0.],\n",
              "       [0., 1.]])"
            ]
          },
          "metadata": {},
          "execution_count": 11
        }
      ],
      "source": [
        "print(A)\n",
        "\n",
        "A1 = A.transpose()\n",
        "print(A1)\n",
        "\n",
        "D = np.dot(A,A.transpose())\n",
        "print(D)\n",
        "\n",
        "E = np.linalg.inv(D)\n",
        "print(E)\n",
        "\n",
        "F = np.dot(D,E)\n",
        "F[np.abs(F) < 0.0001] = 0\n",
        "F"
      ]
    },
    {
      "cell_type": "code",
      "execution_count": 12,
      "metadata": {
        "ExecuteTime": {
          "end_time": "2019-10-24T02:35:35.912461Z",
          "start_time": "2019-10-24T02:35:35.904273Z"
        },
        "colab": {
          "base_uri": "https://localhost:8080/",
          "height": 58
        },
        "id": "EAAjOsk0izNo",
        "outputId": "c41cf8a6-4bf9-4da2-b728-71114eea3bce"
      },
      "outputs": [
        {
          "output_type": "execute_result",
          "data": {
            "text/plain": [
              "⎡16  20  24⎤\n",
              "⎢          ⎥\n",
              "⎣-7  -3  1 ⎦"
            ],
            "text/latex": "$\\displaystyle \\left[\\begin{matrix}16 & 20 & 24\\\\-7 & -3 & 1\\end{matrix}\\right]$"
          },
          "metadata": {},
          "execution_count": 12
        }
      ],
      "source": [
        "# In sympy, you can do things similarly, but get exact answers\n",
        "\n",
        "A = sm.Matrix([\n",
        "    [1,0,3],\n",
        "    [-1,5,0]\n",
        "])\n",
        "\n",
        "B = sm.Matrix([\n",
        "    [7,8,9],\n",
        "    [0,1,2],\n",
        "    [3,4,5]\n",
        "])\n",
        "\n",
        "C = A*B\n",
        "\n",
        "C"
      ]
    },
    {
      "cell_type": "code",
      "execution_count": 13,
      "metadata": {
        "ExecuteTime": {
          "end_time": "2019-10-24T02:35:29.458451Z",
          "start_time": "2019-10-24T02:35:29.450260Z"
        },
        "colab": {
          "base_uri": "https://localhost:8080/",
          "height": 58
        },
        "id": "-95YlzFwizNp",
        "outputId": "f0b2853b-74d9-4453-a561-166d9e2fbb88"
      },
      "outputs": [
        {
          "output_type": "execute_result",
          "data": {
            "text/plain": [
              "⎛          ⎡ 26         ⎤        ⎞\n",
              "⎜          ⎢ ───   1/259⎥        ⎟\n",
              "⎜⎡10  -1⎤  ⎢ 259        ⎥  ⎡1  0⎤⎟\n",
              "⎜⎢      ⎥, ⎢            ⎥, ⎢    ⎥⎟\n",
              "⎜⎣-1  26⎦  ⎢        10  ⎥  ⎣0  1⎦⎟\n",
              "⎜          ⎢1/259   ─── ⎥        ⎟\n",
              "⎝          ⎣        259 ⎦        ⎠"
            ],
            "text/latex": "$\\displaystyle \\left( \\left[\\begin{matrix}10 & -1\\\\-1 & 26\\end{matrix}\\right], \\  \\left[\\begin{matrix}\\frac{26}{259} & \\frac{1}{259}\\\\\\frac{1}{259} & \\frac{10}{259}\\end{matrix}\\right], \\  \\left[\\begin{matrix}1 & 0\\\\0 & 1\\end{matrix}\\right]\\right)$"
          },
          "metadata": {},
          "execution_count": 13
        }
      ],
      "source": [
        "D = A * A.T\n",
        "E = D.inv()\n",
        "F = D*E\n",
        "\n",
        "\n",
        "D, E, F"
      ]
    },
    {
      "cell_type": "markdown",
      "metadata": {
        "id": "SQGFzTv5izNp"
      },
      "source": [
        "The Determinant\n",
        "---\n",
        "\n",
        "The determinant of a square matrix is a way to sum up the matrix with one number. For example, it helps us distinguish which matrices act like zero in the sense that they can't be inverted.\n",
        "\n",
        "**Def:** If $A \\in \\mathbb{R}^{n \\times n}$, the determinant of $A$, denoted $\\det(A)$ or $|A|$ is defined as follows.\n",
        "\n",
        "- If $n=1$, then $|A| = A$.\n",
        "- If $n=2$, then $|A| = a_{1,1} a_{2,2} - a_{2,1} a_{2,2}$\n",
        "- If $n=3$, then $|A| = a_{1,1} A(1,1) - a_{1,2} A(1,2) + a_{1,3} A(1,3)$ where $A(i,j)$ is the matrix obtained from $A$ by removing the $i$th row and $j$th column.\n",
        "- If $n=4$, then $|A| = a_{1,1} A(1,1) - a_{1,2} A(1,2) + a_{1,3} A(1,3) + a_{1,4}A(1,4)$\n",
        "- Etc.\n",
        "\n",
        "Note that any row or column can be used in the above definition, not just the first row.\n",
        "\n",
        "**Identity:** |I| = 1\n",
        "\n",
        "**Multiplication:** $|AB| = |A||B|$. Proof is a bit complicated.\n",
        "\n",
        "**Inverse:** $|A^{-1}| = \\frac{1}{|A|}$. This is because $1 = |I| = |A^{-1}A| = |A^{-1}||A|$.\n",
        "\n",
        "**Zero columns or rows:** The determinant of any matrix with a column (or row) of zeros is zero.\n",
        "\n",
        "**Transpose:** $|A^T| = |A|$.\n",
        "\n",
        "**The determinant of an upper triangular matrix**: If all entries below the diagonal of a matrix are zero, then the determinant is the product of the diagonal.\n",
        "\n",
        "**Example:** Show the computation of some determinants."
      ]
    },
    {
      "cell_type": "code",
      "execution_count": 14,
      "metadata": {
        "ExecuteTime": {
          "end_time": "2019-10-24T02:46:38.789690Z",
          "start_time": "2019-10-24T02:46:38.778636Z"
        },
        "colab": {
          "base_uri": "https://localhost:8080/",
          "height": 71
        },
        "id": "TlcsD56YizNp",
        "outputId": "8923a6a5-bb46-4a76-a468-8758f587ff5c"
      },
      "outputs": [
        {
          "output_type": "stream",
          "name": "stdout",
          "text": [
            "[[1 2]\n",
            " [3 4]]\n"
          ]
        },
        {
          "output_type": "execute_result",
          "data": {
            "text/plain": [
              "-2.0000000000000004"
            ],
            "text/latex": "$\\displaystyle -2.0$"
          },
          "metadata": {},
          "execution_count": 14
        }
      ],
      "source": [
        "# In numpy\n",
        "\n",
        "A = np.array([[1,2],[3,4]])\n",
        "print(A)\n",
        "np.linalg.det(A)"
      ]
    },
    {
      "cell_type": "code",
      "execution_count": 15,
      "metadata": {
        "ExecuteTime": {
          "end_time": "2019-10-24T02:46:44.963882Z",
          "start_time": "2019-10-24T02:46:44.958824Z"
        },
        "colab": {
          "base_uri": "https://localhost:8080/",
          "height": 37
        },
        "id": "Opoad0ovizNq",
        "outputId": "3f660aab-f2fb-46b8-c5d9-b5ab4429d6e1"
      },
      "outputs": [
        {
          "output_type": "execute_result",
          "data": {
            "text/plain": [
              "-2"
            ],
            "text/latex": "$\\displaystyle -2$"
          },
          "metadata": {},
          "execution_count": 15
        }
      ],
      "source": [
        "# In sympy\n",
        "\n",
        "A = sm.Matrix([[1,2],[3,4]])\n",
        "A.det()"
      ]
    },
    {
      "cell_type": "markdown",
      "metadata": {
        "id": "qaOF38jFizNq"
      },
      "source": [
        "Non-singular Matrices\n",
        "---\n",
        "\n",
        "Once again, not all matrices can be inverted. Those that can are special and in general are called non-singular.\n",
        "\n",
        "**Def:** The **rank** of a matrix is the number of independent columns (or rows) of the matrix.\n",
        "\n",
        "**Example:** Show 3D matrices with ranks 1, 2 and 3.\n",
        "\n",
        "**Def:** A matrix $A \\in \\mathbb{R}^{n \\times n}$ is called **nonsingular** if it has an inverse.\n",
        "\n",
        "**Thm:** The following are equivalent:\n",
        "\n",
        "- $A$ is non-singular.\n",
        "- $A$ is invertible.\n",
        "- $A$ has full rank (its rank is equal to its number of columns or rows).\n",
        "- $\\det(A) \\neq 0$.\n",
        "- The equation $y = Ax$ has one solution (namely $A^{-1}y$).\n",
        "- The only solution to $Ax = 0$ is $x = 0$.\n",
        "- The rows of $A$ are linearly independent.\n",
        "- The columns of $A$ are linearly independent.\n",
        "- Zero is not an eigenvalue (see next section).\n",
        "\n",
        "**Example:** Show some singular and non-singular matrices.\n",
        "\n",
        "**Example:** Show an example of the solution to $Ax=y$ where $A$ is singular."
      ]
    },
    {
      "cell_type": "code",
      "execution_count": 16,
      "metadata": {
        "ExecuteTime": {
          "end_time": "2019-10-24T02:54:34.745491Z",
          "start_time": "2019-10-24T02:54:34.182324Z"
        },
        "colab": {
          "base_uri": "https://localhost:8080/",
          "height": 197
        },
        "id": "GVfxj4_BizNr",
        "outputId": "cd7f8d71-b8e1-4e8c-eecb-0c9778480bf2"
      },
      "outputs": [
        {
          "output_type": "display_data",
          "data": {
            "text/plain": [
              "<Figure size 1500x500 with 6 Axes>"
            ],
            "image/png": "[encoded data removed]"
          },
          "metadata": {}
        }
      ],
      "source": [
        "# Note that a singular matrix collapses a space to a lower dimensional\n",
        "# subspace when used as a transformation.\n",
        "\n",
        "fig,ax = plt.subplots(1,6,figsize=(15,5))\n",
        "\n",
        "for i in range(6):\n",
        "    A = np.array([\n",
        "        [1,0],\n",
        "        [0,1/(1+i**2)]\n",
        "    ])\n",
        "    new_points = [np.dot(A,p) for p in points]\n",
        "    shape = pch.Polygon(new_points)\n",
        "    a = ax[i]\n",
        "    a.add_artist(shape)\n",
        "    a.set_xlim(-4,4)\n",
        "    a.set_ylim(-4,4)\n",
        "    a.set_aspect(1)"
      ]
    },
    {
      "cell_type": "markdown",
      "metadata": {
        "id": "VYLCoVLSizNr"
      },
      "source": [
        "Special Matrices\n",
        "---\n",
        "\n",
        "There are all sorts of special types of matrix. We cover a few here, but the list goes on and on.\n",
        "\n",
        "**Def:** A matrix $A$ is symmetric if $A^T = A$.\n",
        "\n",
        "**Property:** If $A$ and $B$ are symmetric then $AB$ is symmetric if and only if $A$ and $B$ commute (i.e. $AB = BA$). To show this, we have to show that $(AB)^T = AB$. We have,\n",
        "\n",
        "$$\n",
        "(AB)^T = (BA)^T = A^TB^T = AB.\n",
        "$$\n",
        "\n",
        "**Property:** $A A^T$ and $A^T A$ are symmetric for any $A$. This is because $(A A^T)^T = (A^T)^T A^T = A A^T$.\n",
        "\n",
        "**Def:** A matrix $A$ is **orthogonal** if $AA^T = A^T A = I$. Equivalently, $A$ is orthogonal if $A^{-1} = A^T$.\n",
        "\n",
        "**Example:** Rotations matrices and permutation matrices.\n",
        "\n",
        "**Property:** The columns of an orthogonal matrix $A \\in \\mathbb{R}^{n \\times n}$ form an **orthonormal basis** of $\\mathbb{R}^{n \\times n}$. That is\n",
        "\n",
        "- Each column is a unit vector\n",
        "- Each pair of columns is orthogonal\n",
        "- And they are all independent (follows from the second point).\n",
        "\n",
        "**Property:** The determinant of an orthogonal matrix $A$ is either 1 or -1. This is because\n",
        "\n",
        "$$\n",
        "1 = |I| = |AA^T| = |A||A^T| = |A|^2.\n",
        "$$"
      ]
    },
    {
      "cell_type": "code",
      "execution_count": 17,
      "metadata": {
        "ExecuteTime": {
          "end_time": "2019-10-22T21:53:53.760363Z",
          "start_time": "2019-10-22T21:53:53.755107Z"
        },
        "colab": {
          "base_uri": "https://localhost:8080/"
        },
        "id": "aCOWIKhZizNs",
        "outputId": "407a9470-1e7e-4d12-b0cd-cbd43076b507"
      },
      "outputs": [
        {
          "output_type": "execute_result",
          "data": {
            "text/plain": [
              "array([[0, 0, 0, 0],\n",
              "       [0, 0, 0, 0],\n",
              "       [0, 0, 0, 0],\n",
              "       [0, 0, 0, 0]])"
            ]
          },
          "metadata": {},
          "execution_count": 17
        }
      ],
      "source": [
        "A = np.random.randint(-1,1,(4,7))\n",
        "B = np.dot(A,A.transpose())\n",
        "B - B.transpose()"
      ]
    },
    {
      "cell_type": "markdown",
      "metadata": {
        "id": "L5VPjidkizNs"
      },
      "source": [
        "## Eigenvalues"
      ]
    },
    {
      "cell_type": "markdown",
      "metadata": {
        "id": "GNCp0ha7izNs"
      },
      "source": [
        "The eigenvalues of a matrix are a fundamental way to extract, for example, what the matrix *does*. It also allows us to describe how two matrices might be in fact quite similar to each other in the sense that they have the same eigenvalues. Really, the matrix itself becomes less important, and its eigenvalues become its defining characteristic (possibly shared by other matrices).\n",
        "\n",
        "**Def:** If $A \\in \\mathbb{R}^{n \\times n}$ then $\\lambda \\in \\mathbb{C}$ is an **eigenvalue** if there exists a **non-zero** vector $v \\in \\mathbb{C}^n$ such that\n",
        "\n",
        "$$\n",
        "A v = \\lambda v.\n",
        "$$\n",
        "\n",
        "In this case, $v$ is called an **eigenvalue**.\n",
        "\n",
        "Another way to write the above equation is to put everything on the left hand side to get:\n",
        "\n",
        "$$\n",
        "(\\lambda I - A)v = 0 .\n",
        "$$\n",
        "\n",
        "Since $v$ is non-zero, it must be the case that $\\lambda I - A$ is singular. Thus, to compute eigenvalues, we find values of $\\lambda$ that make $\\lambda I - A$ singular. That is, we solve the equation\n",
        "\n",
        "$$\n",
        "\\mathrm{det}(\\lambda I - A) = 0.\n",
        "$$\n",
        "\n",
        "**Def:** This last equation is super important and the term $\\mathrm{det}(\\lambda I - A)$ is called the **characteristic polynomial** of $A$.\n",
        "\n",
        "**Example:** Say\n",
        "$$\n",
        "A =\\begin{pmatrix}0&1\\\\1&-1\\end{pmatrix}.\n",
        "$$\n",
        "then the characteristic polynomial is\n",
        "\n",
        "\\begin{align}\n",
        "\\mathrm{det}(\\lambda I - A)\n",
        "& = \\left|\n",
        "\\left(\\begin{array}{cc}\n",
        "\\lambda & 0 \\\\\n",
        "0 & \\lambda\n",
        "\\end{array}\\right) -\n",
        "\\left(\\begin{array}{cc}\n",
        "0 & 1 \\\\\n",
        "1 & -1\n",
        "\\end{array}\\right)\n",
        "\\right| \\\\\n",
        "& =\\left|\n",
        "\\begin{array}{cc}\n",
        "\\lambda & -1 \\\\\n",
        "-1 & \\lambda+1\n",
        "\\end{array}\n",
        "\\right| \\\\\n",
        "& =\n",
        "\\lambda(\\lambda+1)-1 \\\\\n",
        "& =\n",
        "\\lambda^2 + \\lambda-1\n",
        "\\end{align}\n",
        "\n",
        "Hence,\n",
        "\n",
        "$$\n",
        "\\lambda = \\frac{-1\\pm\\sqrt{5}}{2}.\n",
        "$$\n",
        "\n",
        "or $-1.62$ and $0.62$.\n",
        "\n",
        "The eigenvectors of a system can be found with\n",
        "\n",
        "$$\n",
        "A x = \\lambda x\n",
        "$$\n",
        "\n",
        "In this case, we have\n",
        "\n",
        "$$\n",
        "\\begin{pmatrix}0&1\\\\1&-1\\end{pmatrix}\n",
        "\\begin{pmatrix}x_1\\\\x_2\\end{pmatrix} =\n",
        "\\lambda\n",
        "\\begin{pmatrix}x_1\\\\x_2\\end{pmatrix}\n",
        "$$\n",
        "\n",
        "This is an under-constrained set of equations, which amount to $x_2 = \\lambda x_1$ and $x_1 - x_2 = \\lambda x_2$. Choosing $x_1 = 1$ we use the first equation to get $x_2 = \\lambda$.\n",
        "\n",
        "So the first eigenvector can be chosen to be\n",
        "\n",
        "$$\n",
        "{\\bf x}_1 = \\begin{pmatrix}1\\\\\\frac{-1-\\sqrt{5}}{2}\\end{pmatrix} \\approx\n",
        "\\begin{pmatrix}1\\\\-1.62\\end{pmatrix}\n",
        "$$\n",
        "\n",
        "And similarly, the second can be chosen to be\n",
        "$$\n",
        "{\\bf x}_2 = \\begin{pmatrix}1\\\\\\frac{-1+\\sqrt{5}}{2}\\end{pmatrix} \\approx\n",
        "\\begin{pmatrix}1\\\\0.62\\end{pmatrix}.\n",
        "$$\n",
        "\n",
        "Note that these are not unique. You can choose any multiple of an eigenvector and it is still an eigenvector."
      ]
    },
    {
      "cell_type": "markdown",
      "metadata": {
        "id": "UabkOOiqizNt"
      },
      "source": [
        "Matrix Similarity\n",
        "---\n",
        "\n",
        "As we said above, if two matrices have the same eigenvalues, they are in some sense equivalent. The following definition captures this idea.\n",
        "\n",
        "**Def:** $A$ and $B$ are **similar** if there exists an invertible matrix $A$ such that $B = Q A Q^{-1}$.\n",
        "\n",
        "**Properties:**\n",
        "\n",
        "- Similar matrices have the same determinant. $|B| = |Q A Q^{-1}| = |Q||Q^{-1}||A| = |A|$.\n",
        "- Similar matrices have the same characteristic polynomial.\n",
        "\\begin{eqnarray}\n",
        "|\\lambda I - B| & = & |\\lambda I - Q A Q^{-1}| \\\\\n",
        "                & = & |\\lambda Q Q^{-1} -  Q A Q^{-1}| \\\\\n",
        "                & = & |Q ( \\lambda I - A ) Q^{-1}| \\\\\n",
        "                & = & |Q||Q^{-1}||\\lambda I - A| \\\\\n",
        "                & = & |\\lambda I - A|\n",
        "\\end{eqnarray}\n",
        "- Similar matrices have the same eigenvalues.\n",
        "\n",
        "**Example**: Show a $2 \\times 2$ example."
      ]
    },
    {
      "cell_type": "code",
      "execution_count": 18,
      "metadata": {
        "ExecuteTime": {
          "end_time": "2019-10-24T03:24:33.555527Z",
          "start_time": "2019-10-24T03:24:33.457319Z"
        },
        "scrolled": true,
        "colab": {
          "base_uri": "https://localhost:8080/",
          "height": 38
        },
        "id": "spm_w23BizNt",
        "outputId": "b0d7b17c-28eb-4844-9570-0c10884aca56"
      },
      "outputs": [
        {
          "output_type": "execute_result",
          "data": {
            "text/plain": [
              "{-2: 1, -1: 1, -ⅈ: 1, ⅈ: 1}"
            ],
            "text/latex": "$\\displaystyle \\left\\{ -2 : 1, \\  -1 : 1, \\  - i : 1, \\  i : 1\\right\\}$"
          },
          "metadata": {},
          "execution_count": 18
        }
      ],
      "source": [
        "# Here is an example showing that at least in this case, the above equality holds.\n",
        "\n",
        "A = sm.Matrix(np.random.randint(-1,1,(4,4)))\n",
        "Q = sm.Matrix(np.random.randint(-1,1,(4,4)))\n",
        "\n",
        "while Q.det() == 0: # Make sure Q is invertible\n",
        "    Q = sm.Matrix(np.random.randint(-1,1,(4,4)))\n",
        "\n",
        "B = Q * A * Q.inv()\n",
        "\n",
        "s = sm.symbols(\"s\")\n",
        "A, (s*sm.eye(4) - A).det(), B, (s*sm.eye(4) - B).det(), A.det(), B.det()\n",
        "\n",
        "# numpy.linalg.eigs\n",
        "A.eigenvals()"
      ]
    },
    {
      "cell_type": "markdown",
      "metadata": {
        "id": "G_vOYVIVizNu"
      },
      "source": [
        "Diagonalization\n",
        "---\n",
        "\n",
        "If whole sets of matrices are essentially the same, then there must be some way to write down the best representative of a such a set of equivalent matrices. If we could find it, it would be a **canonical form** for the matrix. It would be really useful as well if we could say something about **all** matrices having a given set of eigenvalues by simply looking at the canonical form of those matrices. Our first attempt is called **diagonalization**, which attempts to represent an equivalence class of matrices by one that has all the eigenvalues on the diagonal.\n",
        "\n",
        "Consider the matrix $A = \\mathbb{R}^{n \\times n}$. Say $A$ has distinct real eigenvalues $\\lambda_1$ and $\\lambda_2$ with eigenvectors $v_1$ and $v_2$. Then\n",
        "\n",
        "$$\n",
        "A v_1 = \\lambda_1 v_1 \\\\\n",
        "A v_2 = \\lambda_2 v_2\n",
        "$$\n",
        "\n",
        "which can be written\n",
        "\n",
        "$$\n",
        "\\left( A v_1 \\; A v_2 \\right) = ( \\lambda_1 v_1 \\; \\lambda_2 v_2 )\n",
        "$$\n",
        "\n",
        "or even better\n",
        "\n",
        "$$\n",
        "A ( v_1 \\; v_2 ) = ( v_1 \\; v_2 )\n",
        "\\begin{pmatrix}\\lambda_1 & 0\\\\ 0 & \\lambda_2\\end{pmatrix}\n",
        "$$\n",
        "\n",
        "If we define\n",
        "\n",
        "$$\n",
        "P = ( v_1 \\; v_2 )\n",
        "$$\n",
        "\n",
        "and\n",
        "\n",
        "$$\n",
        "D = \\begin{pmatrix}\\lambda_1 & 0\\\\ 0 & \\lambda_2\\end{pmatrix}\n",
        "$$\n",
        "\n",
        "then we get\n",
        "\n",
        "$$\n",
        "AP = PD\n",
        "$$\n",
        "\n",
        "or\n",
        "\n",
        "$$\n",
        "A = PDP^{-1}\n",
        "$$\n",
        "\n",
        "When there exists a $P$ that satisfies this last equation (whether $D$ is diagonal or not), then $A$ and $D$ are called *similar*.\n",
        "\n",
        "**Note:** More generally (i.e. when the eigenvalues are not distinct), any matrix is similar to one in *Jordan Form*, which is a canonical representation of a matrix. Having a matrix in a canonical form makes it easy to see what it does as a dynamical system. More on this later.\n",
        "\n",
        "The Eigenvalues of Similar Matrices are Equal\n",
        "---\n",
        "\n",
        "If $A = PQP^{-1}$ and $\\lambda$ is an eigenvalue of $A$, then for an eigenvector $x$ then\n",
        "\n",
        "$$\n",
        "Q P x = P A P^{-1} P x = P A x = P \\lambda x = \\lambda P x\n",
        "$$\n",
        "\n",
        "thus, $\\lambda$ is also an eigenvalue of $Q$ with eigenvector $P x$.\n",
        "\n",
        "**Theorem:** Define the relation $\\equiv$ by saying that $A \\equiv B$ if and only if $A$ and $B$ have the same eigenvalues. Then $\\equiv$ is an *equivalence relation*.\n",
        "\n",
        "**Proof:** Todo."
      ]
    },
    {
      "cell_type": "markdown",
      "metadata": {
        "id": "Ru79MLDeizNv"
      },
      "source": [
        "Computing Eigenvalues Symbolically\n",
        "---\n",
        "\n",
        "Python can do symbolic math using the [SymPy](https://docs.sympy.org/latest/tutorial/index.html) library. For example, to get the eigenvalues of $A$ we do:"
      ]
    },
    {
      "cell_type": "code",
      "execution_count": 19,
      "metadata": {
        "ExecuteTime": {
          "end_time": "2019-10-24T03:39:48.115648Z",
          "start_time": "2019-10-24T03:39:48.109089Z"
        },
        "colab": {
          "base_uri": "https://localhost:8080/",
          "height": 38
        },
        "id": "cf7fa0akizNw",
        "outputId": "e7e42c6d-99e3-4562-84dc-30c6b8a7f39f"
      },
      "outputs": [
        {
          "output_type": "execute_result",
          "data": {
            "text/plain": [
              "(-ⅈ, ⅈ)"
            ],
            "text/latex": "$\\displaystyle \\left( - i, \\  i\\right)$"
          },
          "metadata": {},
          "execution_count": 19
        }
      ],
      "source": [
        "A = sm.Matrix([[0, 1], [-1,0]])\n",
        "lam1,lam2=A.eigenvals()\n",
        "lam1,lam2"
      ]
    },
    {
      "cell_type": "markdown",
      "metadata": {
        "id": "RMZqtaZrizNy"
      },
      "source": [
        "Note that `lam1` and `lam2` are *symbolic expressions*. To get numerical values from them, use the `N` method."
      ]
    },
    {
      "cell_type": "code",
      "execution_count": 20,
      "metadata": {
        "ExecuteTime": {
          "end_time": "2019-10-24T03:40:09.564953Z",
          "start_time": "2019-10-24T03:40:09.558905Z"
        },
        "colab": {
          "base_uri": "https://localhost:8080/",
          "height": 38
        },
        "id": "CoIhGnVNizNy",
        "outputId": "b616345b-180a-47f9-a2c1-00846d0ba030"
      },
      "outputs": [
        {
          "output_type": "execute_result",
          "data": {
            "text/plain": [
              "(-1.0⋅ⅈ, 1.0⋅ⅈ)"
            ],
            "text/latex": "$\\displaystyle \\left( - 1.0 i, \\  1.0 i\\right)$"
          },
          "metadata": {},
          "execution_count": 20
        }
      ],
      "source": [
        "sm.N(lam1),sm.N(lam2)"
      ]
    },
    {
      "cell_type": "markdown",
      "metadata": {
        "id": "cC8PuCxNizNz"
      },
      "source": [
        "You can also get the eigenvectors. The method provided returns a list of tuples of the form\n",
        "\n",
        "    (eigenvalue:algebraic multiplicity, [eigenvectors])."
      ]
    },
    {
      "cell_type": "code",
      "execution_count": 21,
      "metadata": {
        "ExecuteTime": {
          "end_time": "2019-10-24T03:40:12.084859Z",
          "start_time": "2019-10-24T03:40:12.072500Z"
        },
        "colab": {
          "base_uri": "https://localhost:8080/",
          "height": 58
        },
        "id": "5EDu-GdMizNz",
        "outputId": "f2924479-0209-4f52-e2f1-3e4efc491a02"
      },
      "outputs": [
        {
          "output_type": "execute_result",
          "data": {
            "text/plain": [
              "⎡⎛       ⎡⎡ⅈ⎤⎤⎞  ⎛      ⎡⎡-ⅈ⎤⎤⎞⎤\n",
              "⎢⎜-ⅈ, 1, ⎢⎢ ⎥⎥⎟, ⎜ⅈ, 1, ⎢⎢  ⎥⎥⎟⎥\n",
              "⎣⎝       ⎣⎣1⎦⎦⎠  ⎝      ⎣⎣1 ⎦⎦⎠⎦"
            ],
            "text/latex": "$\\displaystyle \\left[ \\left( - i, \\  1, \\  \\left[ \\left[\\begin{matrix}i\\\\1\\end{matrix}\\right]\\right]\\right), \\  \\left( i, \\  1, \\  \\left[ \\left[\\begin{matrix}- i\\\\1\\end{matrix}\\right]\\right]\\right)\\right]$"
          },
          "metadata": {},
          "execution_count": 21
        }
      ],
      "source": [
        "A.eigenvects()"
      ]
    },
    {
      "cell_type": "markdown",
      "metadata": {
        "id": "rvinRac3izN0"
      },
      "source": [
        "A somewhat easier way to see the eigenvalues is to us *diagonalization*, which puts the eigenvectors as the columns of a matrix:"
      ]
    },
    {
      "cell_type": "code",
      "execution_count": 22,
      "metadata": {
        "ExecuteTime": {
          "end_time": "2019-10-24T03:40:21.690284Z",
          "start_time": "2019-10-24T03:40:21.678299Z"
        },
        "colab": {
          "base_uri": "https://localhost:8080/",
          "height": 58
        },
        "id": "h87pJO3SizN0",
        "outputId": "f26dcdde-9bff-40a7-be53-1bf5416ffda7"
      },
      "outputs": [
        {
          "output_type": "execute_result",
          "data": {
            "text/plain": [
              "⎛⎡ⅈ  -ⅈ⎤  ⎡-ⅈ  0⎤⎞\n",
              "⎜⎢     ⎥, ⎢     ⎥⎟\n",
              "⎝⎣1  1 ⎦  ⎣0   ⅈ⎦⎠"
            ],
            "text/latex": "$\\displaystyle \\left( \\left[\\begin{matrix}i & - i\\\\1 & 1\\end{matrix}\\right], \\  \\left[\\begin{matrix}- i & 0\\\\0 & i\\end{matrix}\\right]\\right)$"
          },
          "metadata": {},
          "execution_count": 22
        }
      ],
      "source": [
        "P, D = A.diagonalize()\n",
        "P, D"
      ]
    },
    {
      "cell_type": "markdown",
      "metadata": {
        "id": "u61B2ifkizN0"
      },
      "source": [
        "We can pick off the eigenvectors from `P` using the `row` and `col` operators on matricies."
      ]
    },
    {
      "cell_type": "code",
      "execution_count": 23,
      "metadata": {
        "ExecuteTime": {
          "end_time": "2019-10-24T03:40:26.551922Z",
          "start_time": "2019-10-24T03:40:26.546833Z"
        },
        "colab": {
          "base_uri": "https://localhost:8080/",
          "height": 58
        },
        "id": "hYPaB90VizN1",
        "outputId": "c955ee2d-edbd-48ee-bb7c-cf4d24341c54"
      },
      "outputs": [
        {
          "output_type": "execute_result",
          "data": {
            "text/plain": [
              "⎡ⅈ⎤\n",
              "⎢ ⎥\n",
              "⎣1⎦"
            ],
            "text/latex": "$\\displaystyle \\left[\\begin{matrix}i\\\\1\\end{matrix}\\right]$"
          },
          "metadata": {},
          "execution_count": 23
        }
      ],
      "source": [
        "x1=P.col(0)\n",
        "x2=P.col(1)\n",
        "x1"
      ]
    },
    {
      "cell_type": "markdown",
      "metadata": {
        "id": "hlXvxeaSizN1"
      },
      "source": [
        "Notice that SymPy is also includes imaginary numbers. So you can get the eigenvalues of the more interesting spiral matrix from the pendulum example too"
      ]
    },
    {
      "cell_type": "code",
      "execution_count": 24,
      "metadata": {
        "ExecuteTime": {
          "end_time": "2019-10-24T03:40:35.483423Z",
          "start_time": "2019-10-24T03:40:35.472333Z"
        },
        "colab": {
          "base_uri": "https://localhost:8080/",
          "height": 68
        },
        "id": "kd0UPY5oizN2",
        "outputId": "bfeb3667-74c7-446b-e2fc-186d0c347d1a"
      },
      "outputs": [
        {
          "output_type": "execute_result",
          "data": {
            "text/plain": [
              "⎛  1   √3⋅ⅈ    1   √3⋅ⅈ⎞\n",
              "⎜- ─ - ────, - ─ + ────⎟\n",
              "⎝  2    2      2    2  ⎠"
            ],
            "text/latex": "$\\displaystyle \\left( - \\frac{1}{2} - \\frac{\\sqrt{3} i}{2}, \\  - \\frac{1}{2} + \\frac{\\sqrt{3} i}{2}\\right)$"
          },
          "metadata": {},
          "execution_count": 24
        }
      ],
      "source": [
        "A = sm.Matrix([[0, 1], [-1,-1]])\n",
        "lam1,lam2=A.eigenvals()\n",
        "lam1,lam2"
      ]
    },
    {
      "cell_type": "code",
      "execution_count": 25,
      "metadata": {
        "ExecuteTime": {
          "end_time": "2019-10-24T03:40:42.772435Z",
          "start_time": "2019-10-24T03:40:42.758599Z"
        },
        "scrolled": true,
        "colab": {
          "base_uri": "https://localhost:8080/"
        },
        "id": "vr2rF7tJizN2",
        "outputId": "0c17f264-bc21-47a2-f4bd-fae783387a2d"
      },
      "outputs": [
        {
          "output_type": "stream",
          "name": "stdout",
          "text": [
            "-1/2\n",
            "-sqrt(3)/2\n",
            "1\n",
            "-1/2 + sqrt(3)*I/2\n"
          ]
        }
      ],
      "source": [
        "print(sm.re(lam1))\n",
        "print(sm.im(lam1))\n",
        "print(abs(lam1))\n",
        "print(sm.conjugate(lam1))"
      ]
    },
    {
      "cell_type": "markdown",
      "metadata": {
        "id": "heSmVobGizN3"
      },
      "source": [
        "## Jordan Canonical Form"
      ]
    },
    {
      "cell_type": "markdown",
      "metadata": {
        "id": "7G1J-7uLizN3"
      },
      "source": [
        "Not all matrices can be diagonalized. This is because the matrix of eignvectors, which we use for $P$ and $P^{-1}$ may not be invertible. However, all matrices can be put into *Jordan* form.\n",
        "\n",
        "A *Jordan Block* of size $m$ and value $\\lambda$ is a matrix\n",
        "$J_m(\\lambda)$ having the value $\\lambda$ repeated along the main\n",
        "diagonal, ones along the superdiagonal and zeros everywhere else. For\n",
        "example:\n",
        "\n",
        "$$\n",
        "J_2(4) = \\begin{pmatrix}\n",
        "4 & 1 \\\\\n",
        "0 & 4\n",
        "\\end{pmatrix} \\;\\;\\;\\;\\;\\;\\; \\mathrm{and}\\;\\;\\;\\;\\;\\;\\;\n",
        "J_4(-\\frac{1}{2}) = \\begin{pmatrix}\n",
        "-\\frac{1}{2} & 1 & 0 & 0 \\\\\n",
        "0 & -\\frac{1}{2} & 1 & 0 \\\\\n",
        "0 & 0 & -\\frac{1}{2} & 1 \\\\\n",
        "0 & 0 & 0 & -\\frac{1}{2}\n",
        "\\end{pmatrix} .\n",
        "$$\n",
        "\n",
        "A Matrix is in *Jordan Form* is a block diagonal matrix consisting of several Jordan blocks. For example,\n",
        "we can form a Jordan Form from two copies of $J_2(4)$ and one copy of $J_4(-\\frac{1}{2})$ as follows.\n",
        "$$\n",
        "J = \\begin{pmatrix}\n",
        "J_2(4) & 0 & 0 \\\\\n",
        "0 & J_2(4) & 0 \\\\\n",
        "0&  0 & J_4(-\\frac{1}{2})\n",
        "\\end{pmatrix} = \\begin{pmatrix}\n",
        "4 & 1 & 0 & 0 & 0 & 0 & 0 & 0 \\\\\n",
        "0 & 4 & 0 & 0 & 0 & 0 & 0 & 0 \\\\\n",
        "0 & 0 & 4 & 1 & 0 & 0 & 0 & 0 \\\\\n",
        "0 & 0 & 0 & 4 & 0 & 0 & 0 & 0 \\\\\n",
        "0 & 0 & 0 & 0 & -\\frac{1}{2} & 1 & 0 & 0 \\\\\n",
        "0 & 0 & 0 & 0 & 0 & -\\frac{1}{2} & 1 & 0 \\\\\n",
        "0 & 0 & 0 & 0 & 0 & 0 & -\\frac{1}{2} & 1 \\\\\n",
        "0 & 0 & 0 & 0 & 0 & 0 & 0 & -\\frac{1}{2} \\\\\n",
        "\\end{pmatrix} .\n",
        "$$\n",
        "\n",
        "Notice that the eigenvalues and eigenvectors of a matrix in Jordan\n",
        "Form can be read off without your having to do any work.\n",
        "- The eigenvalues are along the main diagonal (this is true of any upper-triangular matrix).\n",
        "- Eigenvectors can be found on the columns at the beginning of each block.\n",
        "\n",
        "For example, in the above form $J$, we have the eigenvalues $\\lambda =\n",
        "1$ with multiplicity $4$ and $\\lambda = \\frac{1}{2}$ with multiplicity\n",
        "$4$. Furthermore, there are two eigenvectors associated with $\\lambda =\n",
        "1$, namely\n",
        "\n",
        "$$\n",
        "v_1 = \\begin{pmatrix}\n",
        "1 \\\\ 0 \\\\ 0 \\\\ 0 \\\\ 0 \\\\ 0 \\\\ 0 \\\\ 0\n",
        "\\end{pmatrix}, \\;\\;\n",
        "v_2 = \\begin{pmatrix}\n",
        "0 \\\\ 0 \\\\ 1 \\\\ 0 \\\\ 0 \\\\ 0 \\\\ 0 \\\\ 0\n",
        "\\end{pmatrix}\n",
        "$$\n",
        "\n",
        "and one eigenvector associated with the eigenvalue $\\lambda = - \\frac{1}{2}$, namely\n",
        "\n",
        "$$\n",
        "v_3 = \\begin{pmatrix}\n",
        "0 \\\\ 0 \\\\ 0 \\\\ 0 \\\\ 1 \\\\ 0 \\\\ 0 \\\\ 0\n",
        "\\end{pmatrix} .\n",
        "$$\n",
        "\n",
        "These choices are not unique: any two basis vectors for $\\mathrm{span} ( v_1, v_2 )$ can\n",
        "be chosen as the eigenvectors for $\\lambda = 1$ and any non-zero\n",
        "scalar multiple of $v_3$ can be chosen as the eigenvector for $\\lambda\n",
        "= - \\frac{1}{2}$.\n",
        "\n",
        "**Theorem**: Any matrix can be put into Jordan Form.\n",
        "\n",
        "We will not prove this statement in this course. However, [here](https://github.com/klavins/ECE447/blob/master/lectures/jordan-form.pdf) is a proof you can read if you are interested.\n",
        "\n",
        "You can use `sympy` to put matrices into Jordan form. For example:"
      ]
    },
    {
      "cell_type": "code",
      "execution_count": 26,
      "metadata": {
        "ExecuteTime": {
          "end_time": "2019-10-24T03:44:27.479434Z",
          "start_time": "2019-10-24T03:44:27.472496Z"
        },
        "colab": {
          "base_uri": "https://localhost:8080/",
          "height": 98
        },
        "id": "AI8fXYCjizN3",
        "outputId": "784e4ee1-365a-400c-9649-d3caac24ab29"
      },
      "outputs": [
        {
          "output_type": "execute_result",
          "data": {
            "text/plain": [
              "⎡6   5   -2  -3⎤\n",
              "⎢              ⎥\n",
              "⎢-3  -1  3   3 ⎥\n",
              "⎢              ⎥\n",
              "⎢2   1   0   -3⎥\n",
              "⎢              ⎥\n",
              "⎣-1  1   0   5 ⎦"
            ],
            "text/latex": "$\\displaystyle \\left[\\begin{matrix}6 & 5 & -2 & -3\\\\-3 & -1 & 3 & 3\\\\2 & 1 & 0 & -3\\\\-1 & 1 & 0 & 5\\end{matrix}\\right]$"
          },
          "metadata": {},
          "execution_count": 26
        }
      ],
      "source": [
        "# Jordan form of a matrix\n",
        "\n",
        "A = sm.Matrix(4, 4, [6, 5, -2, -3, -3, -1, 3, 3, 2, 1, 0, -3, -1, 1, 0, 5])\n",
        "A"
      ]
    },
    {
      "cell_type": "code",
      "execution_count": 27,
      "metadata": {
        "ExecuteTime": {
          "end_time": "2019-10-24T03:44:32.451665Z",
          "start_time": "2019-10-24T03:44:32.296320Z"
        },
        "colab": {
          "base_uri": "https://localhost:8080/",
          "height": 47
        },
        "id": "xMYn7RuLizN4",
        "outputId": "42e9b4c7-5254-47b5-8ef9-d0fc155d5bc6"
      },
      "outputs": [
        {
          "output_type": "execute_result",
          "data": {
            "text/plain": [
              "{2: 2, 3 - 2⋅√2: 1, 2⋅√2 + 3: 1}"
            ],
            "text/latex": "$\\displaystyle \\left\\{ 2 : 2, \\  3 - 2 \\sqrt{2} : 1, \\  2 \\sqrt{2} + 3 : 1\\right\\}$"
          },
          "metadata": {},
          "execution_count": 27
        }
      ],
      "source": [
        "A.eigenvals()\n",
        "#A.diagonalize()\n"
      ]
    },
    {
      "cell_type": "code",
      "execution_count": 28,
      "metadata": {
        "ExecuteTime": {
          "end_time": "2019-10-24T03:45:04.261695Z",
          "start_time": "2019-10-24T03:45:04.231938Z"
        },
        "colab": {
          "base_uri": "https://localhost:8080/",
          "height": 101
        },
        "id": "3O16N3jSizN5",
        "outputId": "ca6f699d-51c4-419f-c953-8b4b9aa9829c"
      },
      "outputs": [
        {
          "output_type": "execute_result",
          "data": {
            "text/plain": [
              "⎡2  1     0         0    ⎤\n",
              "⎢                        ⎥\n",
              "⎢0  2     0         0    ⎥\n",
              "⎢                        ⎥\n",
              "⎢0  0  3 - 2⋅√2     0    ⎥\n",
              "⎢                        ⎥\n",
              "⎣0  0     0      2⋅√2 + 3⎦"
            ],
            "text/latex": "$\\displaystyle \\left[\\begin{matrix}2 & 1 & 0 & 0\\\\0 & 2 & 0 & 0\\\\0 & 0 & 3 - 2 \\sqrt{2} & 0\\\\0 & 0 & 0 & 2 \\sqrt{2} + 3\\end{matrix}\\right]$"
          },
          "metadata": {},
          "execution_count": 28
        }
      ],
      "source": [
        "P,J = A.jordan_form()\n",
        "J"
      ]
    },
    {
      "cell_type": "markdown",
      "metadata": {
        "id": "ehlC4QH4izN6"
      },
      "source": [
        "## Cayley-Hamilton Theorem"
      ]
    },
    {
      "cell_type": "markdown",
      "metadata": {
        "id": "1nksz8KXizN7"
      },
      "source": [
        "\n",
        "\n",
        "**Caley-Hamilton Theorem**: A matrix solves its own characteristic polynomial.\n",
        "\n",
        "**Proof:** We proof this here for diagnonalizable matrices $A = Q D Q^{-1}$. In general, the argument extends to Jordan form, but it is more complicated. Also, as we will see when we get to Differential Equations, the theorem is very easy to prove using matrix exponentials.\n",
        "\n",
        "First note that since the roots of the characteristic polynomial $p(s)$ are the eigenvalues, we have\n",
        "\n",
        "$$\n",
        "p(s) = (s - \\lambda_1)(s - \\lambda_2) \\dots (s - \\lambda_n).\n",
        "$$\n",
        "\n",
        "Therefore,\n",
        "\n",
        "\\begin{eqnarray}\n",
        "p(A) & = & (A - \\lambda_1 I)(A - \\lambda_2 I) \\dots (A - \\lambda_n I) \\\\\n",
        "     & = & (Q D Q^{-1} - \\lambda_1 I)(Q D Q^{-1} - \\lambda_2 I) \\dots (Q D Q^{-1} - \\lambda_n I) \\\\\n",
        "     & = & Q (D - \\lambda_1 I)(D - \\lambda_2 I) \\dots (D - \\lambda_n I) Q^{-1} \\\\\n",
        "     & = & Q p(D) Q^{-1},\n",
        "\\end{eqnarray}\n",
        "\n",
        "which is zero if and only if $p(D)$ is zero. But,\n",
        "\n",
        "$$\n",
        "p(D) = \\begin{pmatrix}\n",
        "p(\\lambda_1) & & \\\\\n",
        "             & \\ddots & \\\\\n",
        "             & & p(\\lambda_n)\n",
        "\\end{pmatrix} = 0 .\n",
        "$$\n",
        "\n",
        "**Example: Computing Inverses** The theorem can be used to compute the inverse of a matrix. For example, let\n",
        "\n",
        "\n",
        "$$\n",
        "A = \\begin{pmatrix}\n",
        "1 & 2 \\\\\n",
        "-1 & 4\n",
        "\\end{pmatrix} .\n",
        "$$\n",
        "\n",
        "$A$ has characteristic polynomial\n",
        "\n",
        "$$\n",
        "s^2 - 5 s + 6\n",
        "$$\n",
        "\n",
        "Then\n",
        "\n",
        "$$\n",
        "A^{-1} = \\frac{5I - A}{6}\n",
        "$$\n",
        "\n",
        "Thus,\n",
        "\n",
        "$$\n",
        "A^{-1} = \\frac{1}{6} \\left [\n",
        "\\begin{pmatrix}\n",
        "5 & 0 \\\\\n",
        "0 & 5\n",
        "\\end{pmatrix} - \\begin{pmatrix}\n",
        "1 & 2 \\\\\n",
        "-1 & 4\n",
        "\\end{pmatrix}\n",
        "\\right ] =\n",
        "\\begin{pmatrix}\n",
        "\\frac{2}{3} & -\\frac{1}{3} \\\\\n",
        "\\frac{1}{6} & \\frac{1}{6}\n",
        "\\end{pmatrix} .\n",
        "$$\n",
        "\n",
        "**Example: Computing Powers:** The Cayley Hamilton Theorem can be used to compute powers of matrices. For example, consider the matrix finding $A^5$ where\n",
        "\n",
        "$$\n",
        "A = \\begin{pmatrix}\n",
        "1 & 2 \\\\\n",
        "-1 & 4\n",
        "\\end{pmatrix} .\n",
        "$$\n",
        "\n",
        "$A$ has characteristic polynomial\n",
        "\n",
        "$$\n",
        "s^2 - 5 s + 6\n",
        "$$\n",
        "\n",
        "which means that\n",
        "\n",
        "$$\n",
        "A^2 = 5A - 6I.\n",
        "$$\n",
        "\n",
        "Multiplying by $A$ on each side gives\n",
        "\n",
        "\\begin{eqnarray}\n",
        "A^3 & = & 5 A^2 - 6A  \\\\\n",
        "    & = & 5(5A-6I) - 6A  \\\\\n",
        "    & = & 19 A - 30 I\n",
        "\\end{eqnarray}\n",
        "\n",
        "Multiplying again by $A$ gives\n",
        "\n",
        "\\begin{eqnarray}\n",
        "A^4 & = & 19 A^2 - 30 A \\\\\n",
        "    & = & 19 (5A-6I) - 30 A \\\\\n",
        "    & = & 65 A - 114 I\n",
        "\\end{eqnarray}\n",
        "\n",
        "And\n",
        "\n",
        "\\begin{eqnarray}\n",
        "A^5 & = & 65 A^2 - 114 A \\\\\n",
        "    & = & 65 (5A-6I) - 114 A \\\\\n",
        "    & = & 211 A - 390 I\n",
        "\\end{eqnarray}"
      ]
    },
    {
      "cell_type": "code",
      "execution_count": 29,
      "metadata": {
        "ExecuteTime": {
          "end_time": "2019-10-23T18:21:31.969950Z",
          "start_time": "2019-10-23T18:21:31.965693Z"
        },
        "colab": {
          "base_uri": "https://localhost:8080/",
          "height": 37
        },
        "id": "smxQ1uKIizN7",
        "outputId": "4eb28a2f-a573-4d2f-ccdb-e892b1331e3f"
      },
      "outputs": [
        {
          "output_type": "execute_result",
          "data": {
            "text/plain": [
              "(211, 390)"
            ],
            "text/latex": "$\\displaystyle \\left( 211, \\  390\\right)$"
          },
          "metadata": {},
          "execution_count": 29
        }
      ],
      "source": [
        "65*5-114, 65*6"
      ]
    },
    {
      "cell_type": "code",
      "execution_count": 30,
      "metadata": {
        "ExecuteTime": {
          "end_time": "2019-10-24T04:18:29.238002Z",
          "start_time": "2019-10-24T04:18:29.230932Z"
        },
        "colab": {
          "base_uri": "https://localhost:8080/",
          "height": 38
        },
        "id": "BfxIJ2LlizN8",
        "outputId": "ab07fb7e-7908-4d42-8a19-ee2e25cd4728"
      },
      "outputs": [
        {
          "output_type": "execute_result",
          "data": {
            "text/plain": [
              " 2          \n",
              "s  - 5⋅s + 6"
            ],
            "text/latex": "$\\displaystyle s^{2} - 5 s + 6$"
          },
          "metadata": {},
          "execution_count": 30
        }
      ],
      "source": [
        "s = sm.symbols(\"s\")\n",
        "A = sm.Matrix([\n",
        "    [1,2],\n",
        "    [-1,4]\n",
        "])\n",
        "cp = (s*sm.eye(2)-A).det()\n",
        "cp"
      ]
    },
    {
      "cell_type": "code",
      "execution_count": 31,
      "metadata": {
        "ExecuteTime": {
          "end_time": "2019-10-24T04:18:31.660467Z",
          "start_time": "2019-10-24T04:18:31.655203Z"
        },
        "colab": {
          "base_uri": "https://localhost:8080/",
          "height": 58
        },
        "id": "sEquAR-aizN9",
        "outputId": "96515ac4-b154-4fe3-f90c-86f519c44283"
      },
      "outputs": [
        {
          "output_type": "execute_result",
          "data": {
            "text/plain": [
              "⎡0  0⎤\n",
              "⎢    ⎥\n",
              "⎣0  0⎦"
            ],
            "text/latex": "$\\displaystyle \\left[\\begin{matrix}0 & 0\\\\0 & 0\\end{matrix}\\right]$"
          },
          "metadata": {},
          "execution_count": 31
        }
      ],
      "source": [
        "A**2 - 5*A + 6*sm.eye(2)"
      ]
    },
    {
      "cell_type": "code",
      "execution_count": 32,
      "metadata": {
        "ExecuteTime": {
          "end_time": "2019-10-24T04:18:41.921803Z",
          "start_time": "2019-10-24T04:18:41.915711Z"
        },
        "colab": {
          "base_uri": "https://localhost:8080/",
          "height": 58
        },
        "id": "Ix2vyRSOizN-",
        "outputId": "029019db-dd82-45c5-841b-335d2061f9a4"
      },
      "outputs": [
        {
          "output_type": "execute_result",
          "data": {
            "text/plain": [
              "⎛⎡-179  422⎤  ⎡-179  422⎤⎞\n",
              "⎜⎢         ⎥, ⎢         ⎥⎟\n",
              "⎝⎣-211  454⎦  ⎣-211  454⎦⎠"
            ],
            "text/latex": "$\\displaystyle \\left( \\left[\\begin{matrix}-179 & 422\\\\-211 & 454\\end{matrix}\\right], \\  \\left[\\begin{matrix}-179 & 422\\\\-211 & 454\\end{matrix}\\right]\\right)$"
          },
          "metadata": {},
          "execution_count": 32
        }
      ],
      "source": [
        "A**5, 211*A - 390*sm.eye(2)"
      ]
    },
    {
      "cell_type": "code",
      "execution_count": 33,
      "metadata": {
        "ExecuteTime": {
          "end_time": "2019-10-24T04:18:47.614916Z",
          "start_time": "2019-10-24T04:18:47.609738Z"
        },
        "colab": {
          "base_uri": "https://localhost:8080/",
          "height": 58
        },
        "id": "RzXmSI07izN-",
        "outputId": "785129a7-fec1-4a59-885b-4682ad9d8b56"
      },
      "outputs": [
        {
          "output_type": "execute_result",
          "data": {
            "text/plain": [
              "⎡2/3  -1/3⎤\n",
              "⎢         ⎥\n",
              "⎣1/6  1/6 ⎦"
            ],
            "text/latex": "$\\displaystyle \\left[\\begin{matrix}\\frac{2}{3} & - \\frac{1}{3}\\\\\\frac{1}{6} & \\frac{1}{6}\\end{matrix}\\right]$"
          },
          "metadata": {},
          "execution_count": 33
        }
      ],
      "source": [
        "A.inv()"
      ]
    },
    {
      "cell_type": "code",
      "execution_count": 34,
      "metadata": {
        "ExecuteTime": {
          "end_time": "2019-10-24T04:18:52.870316Z",
          "start_time": "2019-10-24T04:18:52.865670Z"
        },
        "colab": {
          "base_uri": "https://localhost:8080/",
          "height": 37
        },
        "id": "wt69kxyLizN-",
        "outputId": "49a253bb-5455-4932-9cfe-1499eb82ea68"
      },
      "outputs": [
        {
          "output_type": "execute_result",
          "data": {
            "text/plain": [
              "((5, 19, 65, 211), ())"
            ],
            "text/latex": "$\\displaystyle \\left( \\left( 5, \\  19, \\  65, \\  211\\right), \\  \\left( \\right)\\right)$"
          },
          "metadata": {},
          "execution_count": 34
        }
      ],
      "source": [
        "(5, 19, 65, 211), ()"
      ]
    },
    {
      "cell_type": "markdown",
      "metadata": {
        "id": "FB4kOrtwizN_"
      },
      "source": [
        "## Matrix Exponentials"
      ]
    },
    {
      "cell_type": "markdown",
      "metadata": {
        "id": "-gJrmn1_izN_"
      },
      "source": [
        "One remarkable things about the Taylor Series is that it applies to matrices too. In fact, you can use it to define all sorts of functions of matrices, like $\\sin$ and $\\cos$. Here, we define the matrix exponential, which will come back in full force next week when we talk about differential equations.\n",
        "\n",
        "**Def:** When $A \\in \\mathbb{R}^{n\\times n}$, then the we define the **matrix exponential** $e^{A}$ by\n",
        "\n",
        "$$\n",
        "e^{A} \\triangleq I + A + \\frac{A^2}{2!} + \\frac{A^3}{3!} + \\dots\n",
        "$$\n",
        "\n",
        "**Warning:** The matrix exponential is **not** just the elementwise exponentials."
      ]
    },
    {
      "cell_type": "markdown",
      "metadata": {
        "ExecuteTime": {
          "end_time": "2019-10-21T18:08:56.056979Z",
          "start_time": "2019-10-21T18:08:56.049713Z"
        },
        "id": "Lx_eWMERizN_"
      },
      "source": [
        "If $A$ is diagonalizable, then $A = P D P^{-1}$ for some $P$ and $D$. In this case,\n",
        "\n",
        "\\begin{align}\n",
        "e^{A} & = e^{PDP^{-1}} \\\\\n",
        "       & = I + PDP^{-1} + \\frac{(PDP^{-1})^2}{2!} + \\dots \\\\\n",
        "       & = I + PDP^{-1} + \\frac{PDP^{-1}PDP^{-1}}{2!} + \\dots \\\\\n",
        "       & = I + PDP^{-1} + \\frac{PD^2P^{-1}}{2!} + \\dots \\\\\n",
        "       & = P \\left(I + D + \\frac{D^2}{2!} + \\dots \\right)P^{-1} \\\\\n",
        "       & = P e^{D} P^{-1}.\n",
        "\\end{align}\n"
      ]
    },
    {
      "cell_type": "markdown",
      "metadata": {
        "id": "ut9-LBDaizOA"
      },
      "source": [
        "Example: Matrix Exponential of a Jordan Block\n",
        "---\n",
        "\n",
        "The matrix exponential of a diagonal matrix is straightfoward to compute. However, with a Jordan block, the extra ones on the upper diagonal introduce new terms. Here is an example of what happens with a simple Jordan Block\n",
        "\n",
        "$$\n",
        "J = \\begin{pmatrix}\n",
        "-1 & 1 \\\\\n",
        " 0 & -1\n",
        "\\end{pmatrix}\n",
        "$$\n",
        "\n",
        "This matrix has a repeated eigenvalue (-1) and is not diagonalizable due to a one dimensional eigenspace.\n",
        "\n",
        "Using the definition of the matrix exponential, we compute:\n",
        "\n",
        "$$\n",
        "J^2 = \\begin{pmatrix}\n",
        "1 & -2 \\\\\n",
        " 0 & 1\n",
        "\\end{pmatrix}\n",
        "$$\n",
        "\n",
        "and\n",
        "\n",
        "$$\n",
        "J^2 = \\begin{pmatrix}\n",
        "-1 & 3 \\\\\n",
        " 0 & -1\n",
        "\\end{pmatrix} .\n",
        "$$\n",
        "\n",
        "You can see a pattern emerging. We have\n",
        "\n",
        "$$\n",
        "J^n = \\begin{pmatrix}\n",
        "(-1)^{n-1} & n(-1)^n \\\\\n",
        " 0 & (-1)^{n-1}\n",
        "\\end{pmatrix} .\n",
        "$$\n",
        "\n",
        "So the $(1,1)$ and $(2,2)$ entries of $e^{J}$ are\n",
        "\n",
        "$$\n",
        "1 + -1 + \\frac{1}{2!} - \\frac{1}{3!} + \\frac{1}{4!} + ... = e^{-1} = \\frac{1}{e}.\n",
        "$$\n",
        "\n",
        "And the $1,2$ entry is\n",
        "\n",
        "\\begin{align}\n",
        " & = 0 + 1 - 2\\frac{1}{2!} + 3\\frac{1}{3!} - 4\\frac{1}{4!} + ... \\\\\n",
        " & = 1 - 1 + \\frac{1}{2!} - \\frac{1}{3!} + ... \\\\\n",
        " & = e^{-1} = \\frac{1}{e}.\n",
        "\\end{align}\n",
        "\n",
        "Thus,\n",
        "\n",
        "$$\n",
        "e^{J} = \\begin{pmatrix}\n",
        "e^{-1} & e^{-1} \\\\\n",
        "0 & e^{-1}\n",
        "\\end{pmatrix} .\n",
        "$$\n",
        "\n",
        "**Property:** If $A$ and $B$ are similar, via the transform $Q$, then $e^B = Q e^A Q^{-1}$.\n",
        "\n",
        "**Property:** if $\\dot x = Ax$ then $x(t) = e^{At}x(0)$."
      ]
    },
    {
      "cell_type": "code",
      "execution_count": 35,
      "metadata": {
        "ExecuteTime": {
          "end_time": "2019-10-24T04:09:06.360711Z",
          "start_time": "2019-10-24T04:09:06.324057Z"
        },
        "colab": {
          "base_uri": "https://localhost:8080/",
          "height": 58
        },
        "id": "qi36eISpizOA",
        "outputId": "d9c56797-52a6-4051-c97c-ac165b30c404"
      },
      "outputs": [
        {
          "output_type": "execute_result",
          "data": {
            "text/plain": [
              "⎛          ⎡ -t     -t⎤⎞\n",
              "⎜⎡-t  t ⎤  ⎢ℯ    t⋅ℯ  ⎥⎟\n",
              "⎜⎢      ⎥, ⎢          ⎥⎟\n",
              "⎜⎣0   -t⎦  ⎢       -t ⎥⎟\n",
              "⎝          ⎣ 0    ℯ   ⎦⎠"
            ],
            "text/latex": "$\\displaystyle \\left( \\left[\\begin{matrix}- t & t\\\\0 & - t\\end{matrix}\\right], \\  \\left[\\begin{matrix}e^{- t} & t e^{- t}\\\\0 & e^{- t}\\end{matrix}\\right]\\right)$"
          },
          "metadata": {},
          "execution_count": 35
        }
      ],
      "source": [
        "# Sympy has this built in\n",
        "\n",
        "t = sm.symbols(\"t\")\n",
        "J = sm.Matrix([[-1,1],[0,-1]])*t\n",
        "J,sm.exp(J)"
      ]
    },
    {
      "cell_type": "code",
      "execution_count": 36,
      "metadata": {
        "ExecuteTime": {
          "end_time": "2019-10-24T04:10:25.615813Z",
          "start_time": "2019-10-24T04:10:25.577932Z"
        },
        "colab": {
          "base_uri": "https://localhost:8080/",
          "height": 78
        },
        "id": "a0cjfOm2izOB",
        "outputId": "9f539b6a-dee5-4722-cf2f-0b13e52e52bb"
      },
      "outputs": [
        {
          "output_type": "execute_result",
          "data": {
            "text/plain": [
              "⎛             ⎡    -1          -1       ⎤⎞\n",
              "⎜             ⎢   ℯ           ℯ        0⎥⎟\n",
              "⎜             ⎢                         ⎥⎟\n",
              "⎜⎡-1  1   0⎤  ⎢                -1       ⎥⎟\n",
              "⎜⎢         ⎥  ⎢    0          ℯ        0⎥⎟\n",
              "⎜⎢0   -1  0⎥, ⎢                         ⎥⎟\n",
              "⎜⎢         ⎥  ⎢   -1           -1       ⎥⎟\n",
              "⎜⎣1   0   1⎦  ⎢  ℯ     ℯ    3⋅ℯ     ℯ   ⎥⎟\n",
              "⎜             ⎢- ─── + ─  - ───── + ─  ℯ⎥⎟\n",
              "⎝             ⎣   2    2      4     4   ⎦⎠"
            ],
            "text/latex": "$\\displaystyle \\left( \\left[\\begin{matrix}-1 & 1 & 0\\\\0 & -1 & 0\\\\1 & 0 & 1\\end{matrix}\\right], \\  \\left[\\begin{matrix}e^{-1} & e^{-1} & 0\\\\0 & e^{-1} & 0\\\\- \\frac{1}{2 e} + \\frac{e}{2} & - \\frac{3}{4 e} + \\frac{e}{4} & e\\end{matrix}\\right]\\right)$"
          },
          "metadata": {},
          "execution_count": 36
        }
      ],
      "source": [
        "J = sm.Matrix([\n",
        "    [-1,1,0],\n",
        "    [0,-1,0],\n",
        "    [1,0,1]\n",
        "])\n",
        "J,sm.exp(J)"
      ]
    },
    {
      "cell_type": "markdown",
      "metadata": {
        "id": "BOZUbY_XizOB"
      },
      "source": [
        "## Singular Value Decomposition"
      ]
    },
    {
      "cell_type": "markdown",
      "metadata": {
        "id": "Jzhj42fqizOB"
      },
      "source": [
        "Diagonalization is useful for showing the structure of a matrix, but it has two issues. First, it doesn't work on non-square matrices. Second, while the eigenvalues have many interpretations (which we will see when we get to  differential equations), there are somethings they do not tell you about a matrix. On the other hand, singular values can be computed for any matrix, and they tell you a great deal, especially about matrices with a lot of structure.\n",
        "\n",
        "**Theorem:** Any matrix $A \\in \\mathbb{R}^{m \\times n}$ can be factored into a **singular value decomposition** (SVD),\n",
        "\n",
        "$$\n",
        "A = U \\Sigma V^T,\n",
        "$$\n",
        "\n",
        "where $U \\in \\mathrm{R}^{m \\times m}$ and $V \\in \\mathrm{R}^{n \\times n}$ are orthogonal matrices and $\\Sigma \\in \\mathbb{R}^{m \\times n}$ is a diagonal matrix with $r = \\mathrm{rank}(A)$ leading positive diagonal entries.\n",
        "\n",
        "Let $p = \\min(m,n)$. Then the diagonal entries of $S$ are denoted by $\\sigma_1, ..., \\sigma_p$ are are called the **singular values** of $A$.\n",
        "\n",
        "Interestingly, the singular values satisfy\n",
        "\n",
        "$$\n",
        "\\sigma_1 > \\sigma_2 > ... > \\sigma_p .\n",
        "$$\n",
        "\n",
        "The columns of $U$ are called the **left-singular vectors** of $A$ and the columns of $V$ are called the **right-singular vectors** of $A$. The singular values essentially say how important these vectors are in describing the matrix."
      ]
    },
    {
      "cell_type": "code",
      "execution_count": 37,
      "metadata": {
        "ExecuteTime": {
          "end_time": "2019-10-24T04:28:52.489033Z",
          "start_time": "2019-10-24T04:28:52.479148Z"
        },
        "colab": {
          "base_uri": "https://localhost:8080/"
        },
        "id": "lr-0AcHVizOB",
        "outputId": "e62dc7c2-9bb7-4913-cee8-7b919ee774b3"
      },
      "outputs": [
        {
          "output_type": "stream",
          "name": "stdout",
          "text": [
            "U =  [[-0.16097514 -0.55900274 -0.81338978]\n",
            " [-0.43793718 -0.69810585  0.5664444 ]\n",
            " [-0.88447613  0.44739709 -0.1324304 ]]\n",
            "\n",
            "\n",
            "Singular Values =  [10.62302402  2.92102308  0.78675585]\n",
            "\n",
            "\n",
            "V =  [[-0.55513075 -0.14253048  0.28444838 -0.69298409 -0.33223046]\n",
            " [-0.69476976 -0.41973182 -0.19775431  0.54890746  0.02672124]\n",
            " [-0.20774588  0.06733543  0.38332553 -0.11667757  0.88980642]\n",
            " [-0.23462747  0.6508658   0.52887893  0.40483083 -0.27878798]\n",
            " [-0.33304119  0.61265807 -0.67329857 -0.20241541  0.13939399]]\n"
          ]
        }
      ],
      "source": [
        "import numpy as np\n",
        "\n",
        "# Example: Compute the SVD of a matrix\n",
        "\n",
        "# Example Matrix\n",
        "A = np.array([\n",
        "    [1, 2, 0, -1, 0],\n",
        "    [3, 4, 1,  0, 0],\n",
        "    [5, 6, 2,  3, 4]\n",
        "])\n",
        "\n",
        "# Compute the SVD\n",
        "U, s, VT = np.linalg.svd(A)\n",
        "\n",
        "print(\"U = \", U)\n",
        "print(\"\\n\")\n",
        "print(\"Singular Values = \", s)\n",
        "print(\"\\n\")\n",
        "print(\"V = \", VT.T)"
      ]
    },
    {
      "cell_type": "code",
      "execution_count": 38,
      "metadata": {
        "ExecuteTime": {
          "end_time": "2019-10-24T04:30:40.026894Z",
          "start_time": "2019-10-24T04:30:40.021246Z"
        },
        "colab": {
          "base_uri": "https://localhost:8080/"
        },
        "id": "L-kJMPUrizOC",
        "outputId": "aa22d1da-bfab-4d77-917a-2cd2079e371d"
      },
      "outputs": [
        {
          "output_type": "execute_result",
          "data": {
            "text/plain": [
              "array([[10.62302402,  0.        ,  0.        ,  0.        ,  0.        ],\n",
              "       [ 0.        ,  2.92102308,  0.        ,  0.        ,  0.        ],\n",
              "       [ 0.        ,  0.        ,  0.78675585,  0.        ,  0.        ]])"
            ]
          },
          "metadata": {},
          "execution_count": 38
        }
      ],
      "source": [
        "# The SVD function does not give you the Sigma matrix, so we construct it here.\n",
        "\n",
        "# Create m x n Sigma matrix\n",
        "Sigma = np.zeros((A.shape[0], A.shape[1]))\n",
        "\n",
        "# populate Sigma with n x n diagonal matrix\n",
        "for i in range(len(s)):\n",
        "    Sigma[i,i] = s[i]\n",
        "\n",
        "Sigma"
      ]
    },
    {
      "cell_type": "code",
      "execution_count": 39,
      "metadata": {
        "ExecuteTime": {
          "end_time": "2019-10-24T04:30:42.642285Z",
          "start_time": "2019-10-24T04:30:42.631892Z"
        },
        "colab": {
          "base_uri": "https://localhost:8080/"
        },
        "id": "QWaqSBUnizOC",
        "outputId": "bd73508e-3519-4aa6-f8be-9a75d38d9ef7"
      },
      "outputs": [
        {
          "output_type": "stream",
          "name": "stdout",
          "text": [
            "[[ 1.  2.  0. -1.  0.]\n",
            " [ 3.  4.  1.  0.  0.]\n",
            " [ 5.  6.  2.  3.  4.]]\n"
          ]
        }
      ],
      "source": [
        "# Now we can reconstruct the matrix to make sure it worked.\n",
        "\n",
        "B = np.matmul(np.matmul(U,Sigma),VT)\n",
        "B[np.abs(B) < 0.0001] = 0\n",
        "print(B)"
      ]
    },
    {
      "cell_type": "markdown",
      "metadata": {
        "id": "U7_HuFXnizOC"
      },
      "source": [
        "SVD For Image Compression\n",
        "---\n",
        "\n",
        "The remarkable thing about the SVD is that the singular values rank the importance of the columns of $U$ (or the columns of V). This idea is captured by the **Ekhart-Young** theorem, which states:\n",
        "\n",
        "**Theorem:** Define $\\hat\\Sigma$ to be the first $k$ columns of $\\Sigma$. Define $\\hat V$ to the the first $k$ rows of $V$ and put\n",
        "\n",
        "$$\n",
        "B  = U \\hat \\Sigma \\hat V .\n",
        "$$\n",
        "\n",
        "If $k < \\mathrm{rank}(A)$ then $B$ is the closed rank $k$ matrix to $A$ among all matrices (using essentially any norm on matrices). Furthermore, $||A-B|| \\approx \\sigma_{k+1}$.\n",
        "\n",
        "We can use this in many ways. For example, $B$ can be considered a bitmap of an image, so that $A_{i,j}$ is the gray scale intensity of the pixel at position $(i,j)$.\n",
        "\n",
        "In this case, we define\n",
        "\n",
        "$$\n",
        "T = U \\hat \\Sigma\n",
        "$$\n",
        "\n",
        "and note that $U$ is $n \\times n$ and $\\Sigma$ is $k \\times k$ so $T$ is $n \\times k$. Also, $V$ is $k \\times k$. Thus, the total number of elements needed to store $B$ is\n",
        "\n",
        "$$\n",
        "nk + k^2\n",
        "$$\n",
        "\n",
        "compared to the original image's $n \\times m$ elements.\n",
        "\n",
        "An algorithm for selecting $k$ is to (a) compute the SVD and choose $k$ so that $\\sigma_{k+1}$ is less than some threshold set by the user. Then just take the first $k$ elements of $U$, $\\Sigma$ and $V$."
      ]
    },
    {
      "cell_type": "markdown",
      "metadata": {
        "id": "C1K7Zs3ZizOD"
      },
      "source": [
        "Principal Component Analysis\n",
        "---\n",
        "\n",
        "In statistics, principle component analysis (PCA) entails computing the SVD of a dataset after centering the data for each attribute around the mean. That is, write\n",
        "\n",
        "$$\n",
        "X = A - \\mu_A I\n",
        "$$\n",
        "\n",
        "where $\\mu_A = \\mathrm{mean}(A)$ is the mean of the values in $A$.\n",
        "\n",
        "We can then decompose the matrix $X$ to get\n",
        "\n",
        "$$\n",
        "X  = U \\Sigma V^T\n",
        "$$\n",
        "\n",
        "We take the first two principle components of $X$ and form $\\hat\\Sigma$ and $\\hat V$. The matrix $U\\hat\\Sigma$ is then $n \\times 2$ and it represents the data in $X$ collapsed into two columns for each row, instead of $m$ columns for each row.\n",
        "\n",
        "One of the properties of the PCA is that it chooses the direction in which the data is the most variable for the first principle component direction (the first column of $V$). The second principle component direction (the second column of $V$), is the direction of most variability that is orthogonal to the first direction.\n",
        "\n",
        "PCA is used to visualize high dimensional data. For example, in [this paper](https://www.pnas.org/content/102/20/7057/tab-figures-data0), the authors looked at the voting habits of senators in congress, wondering if you could tell if the voting habits of any given senator were predictable. Since that data is a matter of public record, we can try this method out to see what happens.\n",
        "\n",
        "First, let the $n$ senators be numbered $0$, $1$, $2$, ... $n$. Then, let the $m$ issues they have voted on in a given session of congress be numbered $1$, ..., $m$. Write\n",
        "\n",
        "$$\n",
        "A_{i,j} = \\left \\{\n",
        "\\begin{array}{ll}\n",
        "1 & \\mathrm{voted\\;yes} \\\\\n",
        "-1 & \\mathrm{voted\\;no} \\\\\n",
        "0 & \\mathrm{did\\;not\\;vote} \\\\\n",
        "\\end{array}\n",
        "\\right .\n",
        "$$\n",
        "\n",
        "Then $A \\in \\mathbb{R}^{n \\times m}$. Said differently:\n",
        "\n",
        "> The $i$th row of $A$ is the row-vector of votes of Senator $i$.\n",
        "\n",
        "Next, let $X = A - \\mu_A I$ be the zero centered version of $A$. Computing $T = U \\hat \\Sigma$ with $k=2$ gives a new matrix $T \\in \\mathbb{R}^{n \\times 2})$ The we have:  \n",
        "\n",
        "> The $i$th row of $T$ sums up Senator i's voting habits in two numbers."
      ]
    },
    {
      "cell_type": "code",
      "execution_count": 41,
      "metadata": {
        "ExecuteTime": {
          "end_time": "2019-10-24T04:46:46.273795Z",
          "start_time": "2019-10-24T04:46:45.949199Z"
        },
        "id": "3h-3AEZtizOD"
      },
      "outputs": [],
      "source": [
        "# You can get all sorts of data bout how congress  votes at https://voteview.com/data\n",
        "# Here I have downloaded the data for the Senate in the 116th congress.\n",
        "\n",
        "my_data = np.genfromtxt('/content/S116_votes.csv', delimiter=',', dtype=np.int8)"
      ]
    },
    {
      "cell_type": "code",
      "execution_count": 42,
      "metadata": {
        "ExecuteTime": {
          "end_time": "2019-10-24T04:46:58.117535Z",
          "start_time": "2019-10-24T04:46:57.774281Z"
        },
        "id": "p4xPB2NwizOD",
        "outputId": "2a5fd0c9-624a-4047-87cd-c90fa602e4b4",
        "colab": {
          "base_uri": "https://localhost:8080/",
          "height": 457
        }
      },
      "outputs": [
        {
          "output_type": "execute_result",
          "data": {
            "text/plain": [
              "'Number of senators: 87. Number of issues: 128'"
            ],
            "application/vnd.google.colaboratory.intrinsic+json": {
              "type": "string"
            }
          },
          "metadata": {},
          "execution_count": 42
        },
        {
          "output_type": "display_data",
          "data": {
            "text/plain": [
              "<Figure size 640x480 with 1 Axes>"
            ],
            "image/png": "[encoded data removed]"
          },
          "metadata": {}
        }
      ],
      "source": [
        "# The data is not in the form we want, so we have to transform it.\n",
        "# The data's columns are\n",
        "#    _, _, issue id, member id, vote outcome, _\n",
        "# where _ means we don't need this colum.\n",
        "\n",
        "issues = my_data[:,2]\n",
        "\n",
        "members = my_data[:,3]\n",
        "member_ids = np.unique(members)\n",
        "members = [np.where(member_ids == m)[0][0] for m in members]\n",
        "\n",
        "votes = my_data[:,4]\n",
        "\n",
        "yn = [ 0, 1, 1, 1, -1, -1, -1, 0, 0, 0 ]\n",
        "votes = np.array([yn[v] for v in votes])\n",
        "\n",
        "A = np.zeros((len(member_ids), max(issues)+1))\n",
        "for member, issue, vote in zip(members, issues, votes):\n",
        "    A[int(member),int(issue)] = vote\n",
        "\n",
        "plt.imshow(A,cmap=\"gray\");\n",
        "plt.title(\"Senate voting outcomes\")\n",
        "plt.xlabel(\"Issue\")\n",
        "plt.ylabel(\"Senator\")\n",
        "\n",
        "\"Number of senators: %d. Number of issues: %d\" % A.shape"
      ]
    },
    {
      "cell_type": "code",
      "execution_count": 43,
      "metadata": {
        "ExecuteTime": {
          "end_time": "2019-10-24T04:47:42.928437Z",
          "start_time": "2019-10-24T04:47:42.302092Z"
        },
        "id": "Wr33hGzoizOE",
        "outputId": "8aae6e81-06ad-4c82-af73-4873ec15f219",
        "colab": {
          "base_uri": "https://localhost:8080/",
          "height": 455
        }
      },
      "outputs": [
        {
          "output_type": "execute_result",
          "data": {
            "text/plain": [
              "Text(0, 0.5, 'Value')"
            ]
          },
          "metadata": {},
          "execution_count": 43
        },
        {
          "output_type": "display_data",
          "data": {
            "text/plain": [
              "<Figure size 1400x500 with 2 Axes>"
            ],
            "image/png": "[encoded data removed]"
          },
          "metadata": {}
        }
      ],
      "source": [
        "# Center the data at zero\n",
        "X = A - np.mean(A)\n",
        "\n",
        "# Singular-value decomposition\n",
        "U, s, VT = np.linalg.svd(X)\n",
        "\n",
        "# create m x n Sigma matrix\n",
        "Sigma = np.zeros((A.shape[0], A.shape[1]))\n",
        "\n",
        "# populate Sigma with n x n diagonal matrix\n",
        "Sigma[:A.shape[0], :A.shape[0]] = np.diag(s)\n",
        "\n",
        "# select\n",
        "n_elements = 2\n",
        "Sigma = Sigma[:, :n_elements]\n",
        "VT = VT[:n_elements, :]\n",
        "\n",
        "# reconstruct\n",
        "T = U.dot(Sigma)\n",
        "B = T.dot(VT)\n",
        "\n",
        "fig,ax = plt.subplots(1,2, figsize=(14,5))\n",
        "ax[0].imshow(B,cmap=\"gray\");\n",
        "ax[0].set_title(\"Image reconstruction\\nwith %d components\" % n_elements)\n",
        "ax[1].semilogy(s);\n",
        "ax[1].set_title(\"Singular values\")\n",
        "ax[1].set_xlabel(\"Index\")\n",
        "ax[1].set_ylabel(\"Value\")"
      ]
    },
    {
      "cell_type": "code",
      "execution_count": 44,
      "metadata": {
        "ExecuteTime": {
          "end_time": "2019-10-24T04:48:27.884424Z",
          "start_time": "2019-10-24T04:48:27.879163Z"
        },
        "id": "DXdO1xtYizOE",
        "outputId": "72f1678b-c555-4792-ac2a-496f7c6e8019",
        "colab": {
          "base_uri": "https://localhost:8080/"
        }
      },
      "outputs": [
        {
          "output_type": "execute_result",
          "data": {
            "text/plain": [
              "array([ 1.,  1.,  1.,  1., -1.,  1.,  1.,  0.,  0.,  0.,  0.,  0.,  0.,\n",
              "        0.,  0.,  0.,  0.,  0.,  0.,  0.,  0.,  0.,  0.,  0.,  0.,  0.,\n",
              "        0.,  0.,  0.,  0.,  0.,  0.,  0.,  0.,  0.,  0.,  0.,  0.,  0.,\n",
              "        1.,  1.,  1.,  1.,  1.,  1.,  1., -1.,  1.,  1., -1.,  1.,  1.,\n",
              "        1.,  1., -1.,  1.,  1.,  1.,  1.,  1.,  1.,  0.,  1.,  1.,  1.,\n",
              "        1.,  1.,  1.,  1.,  1.,  1.,  1.,  1.,  1.,  1.,  1.,  1.,  1.,\n",
              "        1., -1., -1.,  1.,  1.,  1.,  1.,  1.,  1.,  1.,  1.,  1.,  1.,\n",
              "        1.,  1.,  1., -1., -1.,  1.,  1.,  1.,  1.,  1.,  1.,  1., -1.,\n",
              "       -1., -1.,  1.,  1.,  1.,  1.,  1.,  1.,  1.,  1.,  1.,  1.,  1.,\n",
              "        1.,  1.,  1.,  1.,  1.,  1.,  1.,  1.,  1.,  1.,  1.])"
            ]
          },
          "metadata": {},
          "execution_count": 44
        }
      ],
      "source": [
        "# Voting habits of Senator number 50\n",
        "A[50]"
      ]
    },
    {
      "cell_type": "code",
      "execution_count": 45,
      "metadata": {
        "ExecuteTime": {
          "end_time": "2019-10-24T04:48:35.076174Z",
          "start_time": "2019-10-24T04:48:35.072076Z"
        },
        "id": "KecAZB9LizOF",
        "outputId": "deea3290-8c06-4f6b-c81d-2a6f66bb0921",
        "colab": {
          "base_uri": "https://localhost:8080/"
        }
      },
      "outputs": [
        {
          "output_type": "execute_result",
          "data": {
            "text/plain": [
              "array([ 2.88946408, -4.08894449])"
            ]
          },
          "metadata": {},
          "execution_count": 45
        }
      ],
      "source": [
        "# Voting habits of Senator number 50 summed into two numbers\n",
        "T[50]"
      ]
    },
    {
      "cell_type": "code",
      "execution_count": 46,
      "metadata": {
        "ExecuteTime": {
          "end_time": "2019-10-24T04:48:51.023740Z",
          "start_time": "2019-10-24T04:48:50.806215Z"
        },
        "id": "Uug8ip2OizOF",
        "outputId": "1225214c-9b96-4dea-ade4-3a2149abb799",
        "colab": {
          "base_uri": "https://localhost:8080/",
          "height": 510
        }
      },
      "outputs": [
        {
          "output_type": "execute_result",
          "data": {
            "text/plain": [
              "Text(0, 0.5, 'Second component')"
            ]
          },
          "metadata": {},
          "execution_count": 46
        },
        {
          "output_type": "display_data",
          "data": {
            "text/plain": [
              "<Figure size 640x480 with 1 Axes>"
            ],
            "image/png": "[encoded data removed]"
          },
          "metadata": {}
        }
      ],
      "source": [
        "# Here's a plot of the data. It shows the senators clustering into two\n",
        "# main clusters. One of the clusters is more varied than the other, suggesting\n",
        "# more independence within that cluster. It also shows there are a number of\n",
        "# senators who do not really vote with either cluster.\n",
        "\n",
        "T = U.dot(Sigma)\n",
        "plt.scatter(T[:,0], T[:,1])\n",
        "plt.gca().set_aspect(2)\n",
        "plt.title(\"Senators clustered by\\nvoting habits in 2019-2020\")\n",
        "plt.xlabel(\"First component\")\n",
        "plt.ylabel(\"Second component\")"
      ]
    },
    {
      "cell_type": "markdown",
      "metadata": {
        "id": "ZGfbJuaHizOF"
      },
      "source": [
        "## Review: Limits of sequences\n",
        "\n",
        "**Def:** Let $X = (x_n)$ be a sequence. $x$ is a **limit** of $X$ if for every $\\varepsilon > 0$ there exists $K(\\varepsilon) \\in \\mathbb{N}$ such that for all $n \\geq K(\\varepsilon)$,\n",
        "\n",
        "  $$\n",
        "  x - \\varepsilon < x_n < x + \\varepsilon .\n",
        "  $$\n",
        "  \n",
        "In this case we write $\\lim x_n = x$ and say that $x_n$ converges to $x$.\n",
        "  \n",
        "**Example:** Show that the limit of the sequence $x_n = \\frac{1}{n}$ is 0.\n",
        "\n",
        "Suppose $\\varepsilon > 0$ is chosen. Then we need\n",
        "\n",
        "$$\n",
        "\\frac{1}{n} < \\varepsilon .\n",
        "$$\n",
        "\n",
        "Multiplying by $n/\\varepsilon$ (which is positive) gives\n",
        "\n",
        "$$\n",
        "\\frac{1}{\\varepsilon} < n .\n",
        "$$\n",
        "\n",
        "Thus, we choose $K(\\varepsilon) = \\left \\lceil \\frac{1}{\\varepsilon} \\right \\rceil$ to satisfy the definition."
      ]
    },
    {
      "cell_type": "markdown",
      "metadata": {
        "id": "jGuNDirtizOG"
      },
      "source": [
        "An equivalent way to show that a sequence converges to a limit point is to use the following theorem, which can be shown by using the above definition.\n",
        "\n",
        "**Thm 1:** Let $(a_n)$ and $(x_n)$ be sequences with $\\lim a_n = 0$ and let $x \\in \\mathbb{R}$. If for some $C > 0$ and some $m > 0$ it is the case that\n",
        "\n",
        "$$\n",
        "\\left |x_n - x \\right | \\leq C\\left |a_n\\right |\n",
        "$$\n",
        "\n",
        "for all $n > m$, then $\\lim x_n = x$.\n",
        "\n",
        "**Example:** Show that the limit of the sequence $x_n = \\frac{1}{2^n}$ is 0.\n",
        "\n",
        "First, note that $0 < n < 2^n$ when $n > 0$. Then, dividing by $n2^n$,\n",
        "\n",
        "  $$\n",
        "  0 < \\frac{1}{2^n} < \\frac{1}{n}.\n",
        "  $$\n",
        "  \n",
        "Then, subtracting 0 and taking absolute values gives\n",
        "\n",
        "  $$\n",
        "  \\left | \\frac{1}{2^n} - 0 \\right | \\leq \\frac{1}{n} .\n",
        "  $$\n",
        "  \n",
        "Thus, using the theorem above with $C = 1$ and $m=1$ we can conclude that\n",
        "\n",
        "$$\\lim \\frac{1}{2^n} = 0$$"
      ]
    },
    {
      "cell_type": "code",
      "execution_count": 47,
      "metadata": {
        "id": "sZKzWTXWizOG",
        "outputId": "0b2cc46c-1b5e-49af-dee5-7abfa21d4bac",
        "colab": {
          "base_uri": "https://localhost:8080/",
          "height": 449
        }
      },
      "outputs": [
        {
          "output_type": "display_data",
          "data": {
            "text/plain": [
              "<Figure size 640x480 with 1 Axes>"
            ],
            "image/png": "[encoded data removed]"
          },
          "metadata": {}
        }
      ],
      "source": [
        "# You can see the above graphically.\n",
        "\n",
        "A = [1/n for n in range(1,20)]\n",
        "X = [1/(2**n) for n in range(1,20)]\n",
        "\n",
        "plt.plot(A,\"o\",label=\"a_n\")\n",
        "plt.plot(X,\"o\",label=\"x_n\")\n",
        "plt.xlabel(\"n\")\n",
        "plt.legend();\n",
        "\n"
      ]
    },
    {
      "cell_type": "markdown",
      "metadata": {
        "id": "Er1rVVOdizOG"
      },
      "source": [
        "## Review: Limits of Combined sequences\n",
        "\n",
        "**Thm 2:** If $\\lim x_n = L$ and $\\lim y_n = M$ then\n",
        "\n",
        "$$\n",
        "\\lim x_n + y_n = L + M\n",
        "$$\n",
        "\n",
        "$$\n",
        "\\lim a x_n = a L\n",
        "$$\n",
        "\n",
        "$$\n",
        "\\lim x_n y_n = L M\n",
        "$$\n",
        "\n",
        "and when $y_n \\neq 0$,\n",
        "\n",
        "$$\n",
        "\\lim \\frac{x_n}{y_n} = \\frac{L}{M}.\n",
        "$$\n",
        "\n",
        "**Proof:** For $\\lim x_n + y_n = L + M$, note that by the [triangle inequality](https://en.wikipedia.org/wiki/Triangle_inequality),\n",
        "\n",
        "\\begin{eqnarray}\n",
        "\\left | (x_n + y_n ) - ( L+M ) \\right | & = & \\left | (x_n-L) + (y_n - M) \\right | \\\\\n",
        "                                        & \\leq & \\left |(x_n - L) \\right | + \\left |(y_n - M ) \\right |,\n",
        "\\end{eqnarray}\n",
        "\n",
        "If $\\varepsilon > 0$ is given, then there exist natural numbers $K_1$ and $K_2$ such that if $n > \\max(K_1,K_2)$ then\n",
        "\n",
        "$$\\left |(x_n - L) \\right | < \\frac{\\varepsilon}{2}$$\n",
        "\n",
        "and\n",
        "\n",
        "$$\\left |(y_n - M) \\right | < \\frac{\\varepsilon}{2}$$\n",
        "\n",
        "so that\n",
        "\n",
        "$$\n",
        "\\left |(x_n - L) \\right | + \\left |(y_n - M ) \\right | < \\frac{\\varepsilon}{2} + \\frac{\\varepsilon}{2} = \\varepsilon .\n",
        "$$\n",
        "\n",
        "The other properties are demonstrated similarly.\n",
        "\n",
        "&square;\n",
        "\n",
        "**Example**: $\\lim \\frac{1}{n} + \\frac{1}{2^n} = 0$."
      ]
    },
    {
      "cell_type": "markdown",
      "metadata": {
        "id": "xJJVQDT1izOH"
      },
      "source": [
        "# Limits of Functions"
      ]
    },
    {
      "cell_type": "markdown",
      "metadata": {
        "id": "B3oUNIkzizOH"
      },
      "source": [
        "\n",
        "\n",
        "**Def:** Let $f : A \\rightarrow \\mathbb{R}$ and $c \\in A$ be a cluster point (which we won't define here, but it is just non-isolated point). Then\n",
        "\n",
        "$$\n",
        "\\lim_{x \\rightarrow c} f(x) = L\n",
        "$$\n",
        "\n",
        "if and only if for every $\\varepsilon > 0$, there exists a $\\delta > 0$ such that if $x \\in A$ and\n",
        "\n",
        "$$0 < |x-c| < \\delta$$\n",
        "\n",
        "then\n",
        "\n",
        "$$|f(x)-L| < \\epsilon. $$\n",
        "\n",
        "**Example:** Show $\\lim_{x \\rightarrow c} x = c$.\n",
        "\n",
        "Given $\\varepsilon$ simply choose $\\delta = \\varepsilon$. Then\n",
        "\n",
        "$$\n",
        "0 < |x-c| < \\varepsilon\n",
        "$$\n",
        "\n",
        "is equivalent to\n",
        "\n",
        "$$\n",
        "0 < |x-c| < \\delta .\n",
        "$$\n",
        "\n",
        "<hr>\n",
        "\n",
        "The following is an alternative way to define the limit. It is shown here as a theorem, meaning that you can prove it by assume the definition above of a limit. Or you can\n",
        "\n",
        "**Thm 3:** Let $f:A \\rightarrow \\mathbb{N}$. Then $\\lim_{x \\rightarrow c} f(x) = L$ if and only if for every sequence $(x_n) \\in A$ that converges to $c$ such that $x_n \\neq c$, the sequence $f(x_n)$ converges to $L$.\n",
        "\n",
        "One use of this theorem to show a limit does *not* exist, we have to find just one sequence that does not satisfy the above property.\n",
        "\n",
        "**Example**: $\\lim_{x \\rightarrow 0} \\frac{1}{x}$ does not exist.\n",
        "\n",
        "To show this, let $x_n = 1/n$. We have already shown this sequence converges to $0$, which is also is not one of the elements of the sequence. However, if $f(n) = \\frac{1}{x}$ then $f(x_n) = 1 / ( 1 / n ) = n$, which does not converge.\n",
        "\n",
        "<hr>\n",
        "\n",
        "The above theorem can also be used to show the various formulas about limits we use all the time.\n",
        "\n",
        "**Thm 4:** Say $\\lim_{x \\rightarrow c}f(x) = L$ and $\\lim_{x \\rightarrow c}f(x) = M$, then\n",
        "\n",
        "$$\n",
        "\\lim_{x \\rightarrow c}f(x) + g(x) = L + M\n",
        "$$\n",
        "\n",
        "$$\n",
        "\\lim_{x \\rightarrow c} a f(x) = a L\n",
        "$$\n",
        "\n",
        "$$\n",
        "\\lim_{x \\rightarrow c}f(x) g(x) = L M\n",
        "$$\n",
        "\n",
        "and, when $M \\neq 0$,\n",
        "\n",
        "$$\n",
        "\\lim_{x \\rightarrow c}f(x) / g(x) = L / M .\n",
        "$$\n",
        "\n",
        "**Proof:** Let $x_n$ be any sequence that converges to $c$ but does not contain $c$. Then by Thm 3, $\\lim f(x_n) = L$ and $\\lim g(x_n) = M$. Thus, by Thm 2, $\\lim f(x_n) + g(x_n) = L+M$. Similar arguments hold for the remaining statements. &square;\n",
        "\n",
        "**Example:** $\\lim_{x \\rightarrow 1} \\frac{x^2 + 2}{x^3 + 1} = \\frac{3}{2}.$\n",
        "\n",
        "In general, limits of polynomials and quotients of polynomials can be computed this way.\n",
        "\n",
        "\n"
      ]
    },
    {
      "cell_type": "markdown",
      "metadata": {
        "id": "xtjMnGdAizOH"
      },
      "source": [
        "# Continuous Functions"
      ]
    },
    {
      "cell_type": "markdown",
      "metadata": {
        "id": "ZgUAAClNizOI"
      },
      "source": [
        "**Def:** A function $f : A \\rightarrow \\mathbb{R}$ is continuous at $c$ if and only if for any $\\varepsilon$ there exists $\\delta$ such that for all $x \\in A$, if $|x-c| < \\delta$ then $|f(x) - f(c)| < \\varepsilon$.\n",
        "\n",
        "**Equivalent Def:** A function $f : A \\rightarrow \\mathbb{R}$ is continuous if and only if\n",
        "\n",
        "$$\n",
        "f(c) = \\lim_{x \\rightarrow c} f(x)\n",
        "$$\n",
        "\n",
        "**Example:** If $f(x) = x$, then $\\lim_{x \\rightarrow c} f(x) = c$. Also, $f(c) = c$. Thus, $f(x)$ is continuous at all points $c$.\n",
        "\n",
        "<hr>\n",
        "\n",
        "**Example:** If $f(x) = 1/x$ then if $c > 0$,  $\\lim_{x \\rightarrow c} f(x) = 1/c$. Also, $f(c) = 1/c$. So $f(x)$ is continuous at points $c > 0$.\n",
        "\n",
        "<hr>\n",
        "\n",
        "**Equivalent Def:** A function $f : A \\rightarrow \\mathbb{R}$ is continuous at $c$ if and only if for any sequence $(x_n)$ that converges to a value $c$, the sequence $(f(x_n))$ converges to $f(c)$. That is,\n",
        "\n",
        "$$\n",
        "\\lim x_n = c \\Rightarrow \\lim f(x_n) = f(c) .\n",
        "$$\n",
        "\n",
        "**Non-Convergence Criterion:** Find *some* sequence $(x_n)$ that converges to $c$ where $f(x_n)$ does not converge to $f(c)$.\n",
        "\n",
        "**Example:** $f(x) = 1/x$ is not continuous at $0$. To see this, let $(x_n)$ be defined by $x_n = 1/n$. Then as we have shown, $\\lim x_n = 0$. However, the sequence $(f(x_n)) = 1/(1/n) = n$ does not converge.\n",
        "\n",
        "<hr>\n",
        "\n",
        "**Example:** Dirichlet's Function (1829). Define $f$ by\n",
        "\n",
        "$$\n",
        "f(x) = \\left \\{\n",
        "\\begin{array}{ll}\n",
        "1 & \\mathrm{if}\\;x\\;\\mathrm{is\\;rational} \\\\\n",
        "0 & \\mathrm{otherwise}.\n",
        "\\end{array}\n",
        "\\right .\n",
        "$$\n",
        "\n",
        "Then $f$ is discontinuous everywhere.\n",
        "\n",
        "It turns out a fundamental property of the real numbers is the following. If $x<y$, then there exists a rational number $z$ with $x<z<y$. In addition, there exists an irrational number $w$ with $x<w<y$.\n",
        "\n",
        "Thus, if $c$ is rational, we can come up with an irrational sequence $(z_n)$ that converges to $c$. Then $f(c) = 1$ but $(f(z_n)) = 0$.\n",
        "\n",
        "Conversely, if $c$ is irrational, choose a sequence $(w_n)$ of rational numbers that converges to $c$.\n",
        "\n",
        "<hr>\n",
        "\n",
        "**Example:** Thomae's Function (1875). Define $f(x)$ as follows. If $x$ is irrational, then $f(x) = 0$. If $x$ is rational, then express it in reduced form (no common factors) as $m/n$. Then define $f(m/n) = 1/n$. This is plotted below."
      ]
    },
    {
      "cell_type": "code",
      "execution_count": 48,
      "metadata": {
        "id": "Fl-10hs6izOI",
        "outputId": "dea9eb6d-f9d0-44d2-bf6c-8aa50aaa6ccd",
        "colab": {
          "base_uri": "https://localhost:8080/",
          "height": 472
        }
      },
      "outputs": [
        {
          "output_type": "display_data",
          "data": {
            "text/plain": [
              "<Figure size 640x480 with 1 Axes>"
            ],
            "image/png": "[encoded data removed]"
          },
          "metadata": {}
        }
      ],
      "source": [
        "x = []\n",
        "y = []\n",
        "\n",
        "for den in range(1,20):\n",
        "    for num in range(0,2*den+1):\n",
        "        x.append(num/den)\n",
        "        # Note that sympy's Rational function automatically reduces. Also, you can\n",
        "        # get the numerator and denominator with the .p and .q attributes.\n",
        "        y.append(sm.Rational(1,sm.Rational(num,den).q))\n",
        "plt.plot(x,y,'o',markersize=2)\n",
        "plt.title(\"Thomae's Function\")\n",
        "plt.xlabel(\"x\")\n",
        "plt.ylabel(\"f(x)\");"
      ]
    },
    {
      "cell_type": "markdown",
      "metadata": {
        "id": "evT0hMQlizOI"
      },
      "source": [
        "This function is discontinuous at rational numbers, but continuous at irrational numbers.\n",
        "\n",
        "If $c$ is rational, we can come up with an irrational sequence $(z_n)$ that converges to $c$. Then $f(c) = 1$ but $(f(z_n)) = 0$.\n",
        "\n",
        "However, if $c$ is irrational, then choose any $\\epsilon > 0$. Then there is some $n_0 \\in \\mathbb{N}$ such that $1/n_0 < \\epsilon$. There are only a finite number of rationals with denominator less than $n_0$ in $(c-1, c+1)$ (because there are only a finite number of possible denominators, and for each of those a finite number of numerators). Thus, $\\delta$ can be chosen so that if $(c-\\delta, c+\\delta)$ contains no rational numbers whose denominators are less than $n_0$. So if $|x-c| < \\delta$ then $|h(x) - h(c)| = |h(x)| < 1/n_0 < \\epsilon$. The last inequality comes from the fact that if $x$ is in $(c-\\delta, c+\\delta)$ it must have a denominator greater than $n_0$."
      ]
    },
    {
      "cell_type": "markdown",
      "metadata": {
        "id": "vHX0B2HDizOI"
      },
      "source": [
        "## Combinations of Continuous Functions\n",
        "\n",
        "Because of the combinations for limits, combinations $f+g$, $fg$, $f-g$, and $f/g$ of continuous functions $f$ and $g$ are also continuous. In addition, $f \\circ g$ is continuous if $f$ and $g$ are."
      ]
    },
    {
      "cell_type": "markdown",
      "metadata": {
        "id": "5zpD1DaOizOJ"
      },
      "source": [
        "## Intermediate Value Theorem\n",
        "\n",
        "**Thm 5:** Let $I$ be an interval in $\\mathbb{R}$ and suppose $f : I \\rightarrow \\mathbb{R}$ is continuous at all points in $I$. If $a,b \\in I$ and $a<b$ and if $k \\in \\mathbb{R}$ and $f(a) < k < f(b)$ then there exists a point $c \\in I$ with $f(c) = k$.\n",
        "\n",
        "The proof follows from the definition of *continuous*.\n",
        "\n",
        "<img src=\"https://upload.wikimedia.org/wikipedia/commons/thumb/8/83/Illustration_for_the_intermediate_value_theorem.svg/1200px-Illustration_for_the_intermediate_value_theorem.svg.png\" width=300>\n",
        "\n",
        "![](https://study.com/cimages/multimages/16/intermediate-value-theorem-two.jpg)\n",
        "\n",
        "**Example:** Say $f(x) = x^2 - 2$, $a = 1$, and $b = 2$. Then $f(a) = -1$ and $f(b) = 2$. Since $-1 < 0 < 2$, it must be the case that there exists $c$ with $-1<c<2$ with $f(c) = c^2 - 2 = 0$. That is $c = \\sqrt{2}$.\n",
        "\n",
        "Interesting consequences:\n",
        "\n",
        "- If a four legged table is not resting flat, it will if you rotate it.\n",
        "- If you take a long, round trip walk in the hills, then at some point other than where you started, you will be at the same height as where you started (assuming you don't start at the lowest or highest point).\n",
        "- Same applies to pressure, temperature, etc."
      ]
    },
    {
      "cell_type": "markdown",
      "metadata": {
        "id": "nyvI0eIsizOJ"
      },
      "source": [
        "# Differentiation"
      ]
    },
    {
      "cell_type": "markdown",
      "metadata": {
        "id": "v0hBaWi6izOJ"
      },
      "source": [
        "**Def:** If $f:I \\mathbb{R}$ function $c \\in I$, then the derivative $f'$ of $f$ is defined by\n",
        "\n",
        "$$\n",
        "f'(c) = \\lim_{x \\rightarrow c} \\frac{f(x) - f(c)}{x-c}.\n",
        "$$\n",
        "\n",
        "assuming this limit exists.\n",
        "\n",
        "**Example:** Say $f(x) = x^2$. Then\n",
        "\n",
        "\\begin{eqnarray}\n",
        "f'(c) & = & \\lim_{x \\rightarrow c} \\frac{x^2 - c^2}{x-c}  \\\\\n",
        "      & = & \\lim_{x \\rightarrow c} x+c = 2c\n",
        "\\end{eqnarray}\n",
        "\n",
        "Thus, $f'(x) = 2x$.\n",
        "\n",
        "<hr>\n",
        "\n",
        "**Thm 6:** If $f$ has a derivative at $c$ then $f$ is continous at $c$.\n",
        "\n",
        "**Proof:** We have\n",
        "\n",
        "$$\n",
        "f(x) - f(c) = \\left ( \\frac{f(x)-f(c)}{x-c} \\right ) (x-c) \\\\\n",
        "$$\n",
        "\n",
        "Taking limits gives and using the product rule for limits gives\n",
        "\n",
        "\\begin{eqnarray}\n",
        "\\lim_{x \\rightarrow c} (f(x)-f(c)) & = & \\left ( \\lim_{x \\rightarrow c}\\frac{f(x)-f(c)}{x-c} \\right ) (\\lim_{x \\rightarrow c} (x-c) ) \\\\\n",
        " & = & f'(c) \\cdot 0 .\n",
        "\\end{eqnarray}\n",
        "\n",
        "Thus, $\\lim_{x \\rightarrow c} = f(c)$.\n",
        "\n",
        "&square;\n",
        "\n",
        "**Note:** The converse is not true! Weierstrauss showed in 1872 that\n",
        "\n",
        "$$f(x) = \\sum_{n=0}^\\infty \\frac{1}{2^n} \\cos(3^n x)$$\n",
        "\n",
        "is continuous at every point, but does not have a derivative at any point (look up this result for the proof)."
      ]
    },
    {
      "cell_type": "code",
      "execution_count": 49,
      "metadata": {
        "id": "TWzfmAiFizOJ",
        "outputId": "5b772bd3-adf4-46e0-8d53-d4df21399ceb",
        "colab": {
          "base_uri": "https://localhost:8080/",
          "height": 430
        }
      },
      "outputs": [
        {
          "output_type": "display_data",
          "data": {
            "text/plain": [
              "<Figure size 640x480 with 1 Axes>"
            ],
            "image/png": "[encoded data removed]"
          },
          "metadata": {}
        }
      ],
      "source": [
        "x = np.linspace(0,1,100)\n",
        "f10 = sum([1/(2**n)*np.cos(3**n * x) for n in range(3)])\n",
        "f20 = sum([1/(2**n)*np.cos(3**n * x) for n in range(4)])\n",
        "f30 = sum([1/(2**n)*np.cos(3**n * x) for n in range(16)])\n",
        "plt.plot(x,f10,x,f20,x,f30);"
      ]
    },
    {
      "cell_type": "markdown",
      "metadata": {
        "id": "p4yh-pJzizOK"
      },
      "source": [
        "## Combinations of Derivatives\n",
        "\n",
        "**Thm 6:** If $f$ and $g$ are continuous at %c% then\n",
        "\n",
        "$$\n",
        "(af)'(x) = a f'(x)\n",
        "$$\n",
        "\n",
        "$$\n",
        "(f+g)'(x) = f'(x) + g'(x)\n",
        "$$\n",
        "\n",
        "$$\n",
        "(fg)'(x) = f'(x)g(x) + f(x)g'(x)\n",
        "$$\n",
        "\n",
        "$$\n",
        "\\left (\\frac{f}{g} \\right)'(x) = \\frac{f'(x)g(x) - f(x)g'(x)}{(g(x))^2}.\n",
        "$$\n",
        "\n",
        "**Example Proof of 3rd part:** Let $p = fg$. Then\n",
        "\n",
        "\\begin{eqnarray}\n",
        "\\frac{p(x) - p(c)}{x-c} & = & \\frac{f(x)g(x) - f(c)g(c)}{x-c} \\\\\n",
        "  & = & \\frac{f(x)g(x) - f(c)g(x) + f(c)g(x) - f(c)g(c)}{x-c} \\\\\n",
        "  & = & \\frac{f(x)-f(c)}{x-c} g(x) + f(c) \\frac{g(x)-g(c)}{x-c}\n",
        "\\end{eqnarray}\n",
        "\n",
        "Taking limits and noting that since $f$ and $g$ are continuous, the limits above equal $f(c)$ and $g(c)$ gives the desired result."
      ]
    },
    {
      "cell_type": "code",
      "execution_count": 50,
      "metadata": {
        "id": "MQJTICMMizOK",
        "outputId": "0ae53154-92bc-4290-925a-bb1883f41bf6",
        "colab": {
          "base_uri": "https://localhost:8080/",
          "height": 38
        }
      },
      "outputs": [
        {
          "output_type": "execute_result",
          "data": {
            "text/plain": [
              "⎛     x   ⎛ 2    ⎞  x       x   ⎛ 2    ⎞  x⎞\n",
              "⎝2⋅x⋅ℯ  + ⎝x  + 1⎠⋅ℯ , 2⋅x⋅ℯ  + ⎝x  + 1⎠⋅ℯ ⎠"
            ],
            "text/latex": "$\\displaystyle \\left( 2 x e^{x} + \\left(x^{2} + 1\\right) e^{x}, \\  2 x e^{x} + \\left(x^{2} + 1\\right) e^{x}\\right)$"
          },
          "metadata": {},
          "execution_count": 50
        }
      ],
      "source": [
        "# For example\n",
        "\n",
        "x = sm.symbols(\"x\")\n",
        "\n",
        "f = x**2 + 1\n",
        "g = sm.exp(x)\n",
        "\n",
        "(sm.diff(f,x)*g + f*sm.diff(g,x)), sm.diff(f*g,x)"
      ]
    },
    {
      "cell_type": "markdown",
      "metadata": {
        "id": "CQSOczEeizOL"
      },
      "source": [
        "Note that the product rule extends to arbitrary length sums, so that\n",
        "\n",
        "$$\n",
        "(f_1 f_2 ... + f_n)'(x) = f_1'(x)f_2(x)...f_n(x) + f_n(x)f_2'(x)...f_n(x) + ... + f_n(x)f_2(x)...f_n'(x).\n",
        "$$\n",
        "\n",
        "Even better, if $f_i = f$ then,\n",
        "\n",
        "$$\n",
        "(f^n)'(x) = n f'(x)f(x)^{n-1}.\n",
        "$$\n",
        "\n",
        "And finally, if $f(x) = x^n$ then,\n",
        "\n",
        "$$\n",
        "\\frac{d}{dx} x^n = n x^{n-1}.\n",
        "$$\n",
        "\n",
        "Cool!"
      ]
    },
    {
      "cell_type": "code",
      "execution_count": 51,
      "metadata": {
        "id": "z8bebrxQizOL",
        "outputId": "cfe7d1bc-4639-4b27-ddaa-808e35bb5ad2",
        "colab": {
          "base_uri": "https://localhost:8080/",
          "height": 38
        }
      },
      "outputs": [
        {
          "output_type": "execute_result",
          "data": {
            "text/plain": [
              "      999\n",
              "1000⋅x   "
            ],
            "text/latex": "$\\displaystyle 1000 x^{999}$"
          },
          "metadata": {},
          "execution_count": 51
        }
      ],
      "source": [
        "sm.diff(x**1000,x)"
      ]
    },
    {
      "cell_type": "markdown",
      "metadata": {
        "id": "Hzty705UizOL"
      },
      "source": [
        "## The chain rule\n",
        "\n",
        "Since\n",
        "\n",
        "$$\n",
        "\\frac{g(f(x)) - g(f(c))}{x-c} =\n",
        "\\frac{g(f(x)) - g(f(c))}{f(x)-f(c)} \\cdot \\frac{f(x) - f(c)}{x-c}\n",
        "$$\n",
        "\n",
        "we get that\n",
        "\n",
        "$$\n",
        "(g \\circ f)'(x) = g'(f(x)) \\cdot f'(x).\n",
        "$$"
      ]
    },
    {
      "cell_type": "code",
      "execution_count": 52,
      "metadata": {
        "id": "n1dVguvwizOL",
        "outputId": "a77d8771-6c86-47c5-8ccc-23f01d20ff6a",
        "colab": {
          "base_uri": "https://localhost:8080/",
          "height": 47
        }
      },
      "outputs": [
        {
          "output_type": "execute_result",
          "data": {
            "text/plain": [
              "⎛                       2            2            2    ⎞\n",
              "⎜ 2       x        x   x  + 1       x  + 1       x  + 1⎟\n",
              "⎝x  + 1, ℯ , 2⋅x, ℯ , ℯ      , 2⋅x⋅ℯ      , 2⋅x⋅ℯ      ⎠"
            ],
            "text/latex": "$\\displaystyle \\left( x^{2} + 1, \\  e^{x}, \\  2 x, \\  e^{x}, \\  e^{x^{2} + 1}, \\  2 x e^{x^{2} + 1}, \\  2 x e^{x^{2} + 1}\\right)$"
          },
          "metadata": {},
          "execution_count": 52
        }
      ],
      "source": [
        "# For example\n",
        "\n",
        "x = sm.symbols(\"x\")\n",
        "\n",
        "f = x**2 + 1\n",
        "g = sm.exp(x)\n",
        "gof = g.subs(x,f)\n",
        "\n",
        "df = sm.diff(f,x)\n",
        "dg = sm.diff(g,x)\n",
        "dgof = dg.subs(x,f)*df\n",
        "\n",
        "f, g, df, dg, gof, dgof, sm.diff(gof),"
      ]
    },
    {
      "cell_type": "markdown",
      "metadata": {
        "id": "Wf3kC7q_izOM"
      },
      "source": [
        "## L'Hospital's Rule (0/0) case\n",
        "\n",
        "**Thm 8:** If $f$ and $g$ are differentiable at $a$ and $f(a) = g(a) = 0$ then\n",
        "\n",
        "$$\n",
        "\\lim_{x \\rightarrow a} \\frac{f(x)}{g(x)} = \\frac{f'(x)}{g'(x)}.\n",
        "$$\n",
        "\n",
        "**Proof:** Since $f(a) = g(a) = 0$,\n",
        "$$\n",
        "\\frac{f(x)}{g(x)} = \\frac{f(x) -f(a)}{g(x)-g(a)} = \\frac{\n",
        "\\frac{f(x) -f(a)}{x-a}\n",
        "}{\n",
        "\\frac{g(x) -g(a)}{x-a}\n",
        "} .\n",
        "$$\n",
        "&square;\n",
        "\n",
        "Note: You get to come up with examples in homework.\n",
        "\n",
        "Note: We have to have $f(a) = g(a) = 0$. For example,\n",
        "\n",
        "$$\n",
        "\\lim_{x \\rightarrow 0} \\frac{x+17}{2x+3} = \\frac{17}{3}\n",
        "$$\n",
        "\n",
        "but\n",
        "\n",
        "$$\n",
        "\\lim_{x \\rightarrow 0} \\frac{1}{2} = \\frac{1}{2} .\n",
        "$$\n",
        "\n"
      ]
    },
    {
      "cell_type": "markdown",
      "metadata": {
        "id": "s3uSBfSSizOM"
      },
      "source": [
        "## The Mean Value Theorem\n",
        "\n",
        "**Thm 7:** If $f : [a,b] \\rightarrow \\mathbb{reals}$ is continuous and has a derivative on $(a,b)$, then there is at least one point $c \\in (a,b)$ such that\n",
        "\n",
        "$$\n",
        "f(b) - f(a) = f'(c)(b-a) .\n",
        "$$\n",
        "\n",
        "We will not prove this here. See the reading.\n",
        "\n",
        "This theorem means that there is one point on the curve $y=f(x)$ at which the tangent line is parallel to the line from $(a,f(a))$ to $(b,f(b))$."
      ]
    },
    {
      "cell_type": "code",
      "execution_count": 53,
      "metadata": {
        "id": "ovyU_NUuizOM",
        "outputId": "c98d3711-5226-4eec-816c-368d01b4b49d",
        "colab": {
          "base_uri": "https://localhost:8080/",
          "height": 447
        }
      },
      "outputs": [
        {
          "output_type": "execute_result",
          "data": {
            "text/plain": [
              "[<matplotlib.lines.Line2D at 0x7f760dc862f0>]"
            ]
          },
          "metadata": {},
          "execution_count": 53
        },
        {
          "output_type": "display_data",
          "data": {
            "text/plain": [
              "<Figure size 640x480 with 1 Axes>"
            ],
            "image/png": "[encoded data removed]"
          },
          "metadata": {}
        }
      ],
      "source": [
        "x = np.linspace(1, 2,100);\n",
        "f = 2*x + np.sin(7*x)\n",
        "fa = f[0]\n",
        "fb = f[-1]\n",
        "c = 1.6\n",
        "fc = 2*c + np.sin(7*c)\n",
        "plt.plot(\n",
        "    x,2*x + np.sin(7*x),\n",
        "    x,(fb-fa)/(2-1)*(x-2)+fb,\n",
        "    x,(fb-fa)/(2-1)*(x-c)+fc)\n",
        "plt.plot([c,c],[1,5])"
      ]
    },
    {
      "cell_type": "markdown",
      "metadata": {
        "id": "f4wAVw3JizON"
      },
      "source": [
        "## Example: Finding square roots\n",
        "\n",
        "**Example:** Find an approximation to $\\sqrt(105)$.\n",
        "\n",
        "Set $f(x) = \\sqrt{x}$. Then the MVT says that for some $c \\in (a,b)$\n",
        "\n",
        "$$\n",
        "f(b) - f(a) = \\frac{1}{2 \\sqrt{c}} (b-a)\n",
        "$$\n",
        "\n",
        "Choosing $a=100$ and $b=105$ we get that\n",
        "\n",
        "$$\n",
        "\\sqrt(105) - sqrt(100) = \\frac{5}{2 \\sqrt{c}}\n",
        "$$\n",
        "\n",
        "with $100 < c < 105$. Taking square roots gives $10 < \\sqrt{c} < \\sqrt{105}$. And since\n",
        "$\\sqrt{105} < \\sqrt{121} = 11$ we get\n",
        "\n",
        "$$\n",
        "10 < \\sqrt{c} < 11\n",
        "$$\n",
        "\n",
        "so that\n",
        "\n",
        "$$\n",
        "\\frac{5}{2\\cdot 11} < \\sqrt{105} - 10 < \\frac{5}{2 \\cdot 10}\n",
        "$$\n",
        "\n",
        "or $10.2272 < \\sqrt{105} < 10.2500$."
      ]
    },
    {
      "cell_type": "markdown",
      "metadata": {
        "id": "kwZd5R1jizON"
      },
      "source": [
        "## Example: Inequalities\n",
        "\n",
        "**Example:** Show that $e^x \\geq 1+x$ for $x \\geq 0$.\n",
        "\n",
        "For $x = 0$ we get equality. So suppose $x>0$ and consider the interval [0,x]$. Then by the MVT\n",
        "\n",
        "$$\n",
        "e^x - e^0 = e^c (x-0)\n",
        "$$\n",
        "\n",
        "for some $c$ with $0 < c < 1$. Since $e^0 = 1$ and $e^c > 1$ we get the result."
      ]
    },
    {
      "cell_type": "markdown",
      "metadata": {
        "id": "K1nW4uOaizON"
      },
      "source": [
        "**Example:** $e^x$\n",
        "\n",
        "Note that all derivatives of $e^x$ are $e^x$. To find $e$ itself we can take $x_0 = 0$ and use\n",
        "\n",
        "$$\n",
        "e^x = e^0 + e^0 x + e^0 \\frac{x^2}{2!} + e^0 \\frac{x^3}{3!} + ...\n",
        "$$\n",
        "\n",
        "Simplifying,\n",
        "\n",
        "$$\n",
        "e^x = 1 + x + \\frac{x^2}{2!} + \\frac{x^3}{3!} + ...\n",
        "$$\n",
        "\n",
        "If you take this as a definition of $e^x$ then you can actually see why $\\frac{d}{dx}e^x = e^x$ since\n",
        "\n",
        "\\begin{eqnarray}\n",
        "\\frac{d}{dx}e^x & = & \\frac{d}{dx} \\left ( 1 + x + \\frac{x^2}{2!} + \\frac{x^3}{3!} + ... \\right ) \\\\\n",
        "                & = & 0 + 1 + 2 \\frac{x}{2!} + 3 \\frac{x^2}{3!} + ... \\\\\n",
        "                & = & e^x.\n",
        "\\end{eqnarray}\n",
        "\n",
        "<hr>\n",
        "\n",
        "You can also make approximations to $e$ using the above.\n",
        "\n",
        "**Example:** Find $e$ with error less than $10^{-5}$.\n",
        "\n",
        "Taking $x=0$ and $x_0 = 1$ in Taylor's Theorem, the remainder is $\\frac{e^c}{(n+1)!}$ for some $c$ with $0 < c < 1$. Since we know that $e^c < 3$ we want $n$ so that\n",
        "\n",
        "$$\n",
        "\\frac{e^c}{(n+1)!} < \\frac{e^1}{(n+1)!} < \\frac{3}{(n+1)!} < 10^{-5}.\n",
        "$$\n",
        "\n",
        "or\n",
        "\n",
        "$$\n",
        "(n+1)! > 3 \\cdot 10^{5} = 300000.\n",
        "$$\n",
        "\n",
        "Since $9! = 362880$ but $8! = 40320$, we can take $n \\geq 9$. Then,\n",
        "\n",
        "$$\n",
        "e \\approx 1 + 1 + \\frac{1}{2!} + ... + \\frac{1}{8!} = 2.71827876984127 ...\n",
        "$$\n",
        "\n"
      ]
    },
    {
      "cell_type": "markdown",
      "metadata": {
        "id": "TT358HP-izOO"
      },
      "source": [
        "# Taylor's Theorem\n",
        "\n",
        "Taylor's theorem can be regarded as an extension of the MVT for higher derivatives. It states:\n",
        "\n",
        "**Thm 9:** Say $f:I \\rightarrow \\mathbb{R}$is continuous and so are all of its derivatives. If $x_0 \\in I$, then\n",
        "\n",
        "$$\n",
        "f(x) = f(x_0) + f'(x_0)(x-x_0) + \\frac{f''(x_0)}{2!}(x-x_0)^2 + ...\n",
        "     + \\frac{f^{(n)}(x_0)}{n!}(x-x_0)^n\n",
        "     + ...\n",
        "$$\n",
        "\n",
        "If an approximation is desired, then you can use\n",
        "\n",
        "$$\n",
        "f(x) = f(x_0) + f'(x_0)(x-x_0) + \\frac{f''(x_0)}{2!}(x-x_0)^2 + ...\n",
        "     + \\frac{f^{(n)}(x_0)}{n!}(x-x_0)^n\n",
        "     + \\frac{f^{(n+1)}(c)}{(n+1)!}(x-x_0)^{n+1}\n",
        "$$\n",
        "\n",
        "for some $c$ with $x < c < x_0$.\n",
        "\n",
        "Taylor's theorem has many applications. We will return to it over and over. Some of the cooler observations are as follows.\n",
        "\n",
        "\n"
      ]
    },
    {
      "cell_type": "markdown",
      "metadata": {
        "id": "cafmZedNizOO"
      },
      "source": [
        "**Example:** $e^x$\n",
        "\n",
        "Note that all derivatives of $e^x$ are $e^x$. To find $e$ itself we can take $x_0 = 0$ and use\n",
        "\n",
        "$$\n",
        "e^x = e^0 + e^0 x + e^0 \\frac{x^2}{2!} + e^0 \\frac{x^3}{3!} + ...\n",
        "$$\n",
        "\n",
        "Simplifying,\n",
        "\n",
        "$$\n",
        "e^x = 1 + x + \\frac{x^2}{2!} + \\frac{x^3}{3!} + ...\n",
        "$$\n",
        "\n",
        "If you take this as a definition of $e^x$ then you can actually see why $\\frac{d}{dx}e^x = e^x$ since\n",
        "\n",
        "\\begin{eqnarray}\n",
        "\\frac{d}{dx}e^x & = & \\frac{d}{dx} \\left ( 1 + x + \\frac{x^2}{2!} + \\frac{x^3}{3!} + ... \\right ) \\\\\n",
        "                & = & 0 + 1 + 2 \\frac{x}{2!} + 3 \\frac{x^2}{3!} + ... \\\\\n",
        "                & = & e^x.\n",
        "\\end{eqnarray}\n",
        "\n",
        "<hr>\n",
        "\n",
        "You can also make approximations to $e$ using the above.\n",
        "\n",
        "**Example:** Find $e$ with error less than $10^{-5}$.\n",
        "\n",
        "Taking $x=0$ and $x_0 = 1$ in Taylor's Theorem, the remainder is $\\frac{e^c}{(n+1)!}$ for some $c$ with $0 < c < 1$. Since we know that $e^c < 3$ we want $n$ so that\n",
        "\n",
        "$$\n",
        "\\frac{e^c}{(n+1)!} < \\frac{e^1}{(n+1)!} < \\frac{3}{(n+1)!} < 10^{-5}.\n",
        "$$\n",
        "\n",
        "or\n",
        "\n",
        "$$\n",
        "(n+1)! > 3 \\cdot 10^{5} = 300000.\n",
        "$$\n",
        "\n",
        "Since $9! = 362880$ but $8! = 40320$, we can take $n \\geq 9$. Then,\n",
        "\n",
        "$$\n",
        "e \\approx 1 + 1 + \\frac{1}{2!} + ... + \\frac{1}{8!} = 2.71827876984127 ...\n",
        "$$\n",
        "\n"
      ]
    },
    {
      "cell_type": "code",
      "execution_count": 54,
      "metadata": {
        "id": "lszZvYEsizOO",
        "outputId": "020b1c43-325e-4c3d-ee6a-4204689a5c2c",
        "colab": {
          "base_uri": "https://localhost:8080/"
        }
      },
      "outputs": [
        {
          "output_type": "execute_result",
          "data": {
            "text/plain": [
              "(2.71827876984127, 2.718281828459045, True)"
            ]
          },
          "metadata": {},
          "execution_count": 54
        }
      ],
      "source": [
        "ep = sum([1/math.factorial(n) for n in range(9)])\n",
        "ep, math.e, abs(ep - math.e) < 10**(-5)"
      ]
    },
    {
      "cell_type": "code",
      "execution_count": null,
      "metadata": {
        "id": "go-eECUWizOP"
      },
      "outputs": [],
      "source": []
    }
  ],
  "metadata": {
    "kernelspec": {
      "display_name": "Python 3",
      "language": "python",
      "name": "python3"
    },
    "language_info": {
      "codemirror_mode": {
        "name": "ipython",
        "version": 3
      },
      "file_extension": ".py",
      "mimetype": "text/x-python",
      "name": "python",
      "nbconvert_exporter": "python",
      "pygments_lexer": "ipython3",
      "version": "3.8.5"
    },
    "colab": {
      "provenance": []
    }
  },
  "nbformat": 4,
  "nbformat_minor": 0
}