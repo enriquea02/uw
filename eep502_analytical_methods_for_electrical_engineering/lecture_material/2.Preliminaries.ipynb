{
  "cells": [
    {
      "cell_type": "markdown",
      "metadata": {
        "id": "tj5B6JMKX7tr"
      },
      "source": [
        "EE 502 P: Analytical Methods\n",
        "# 2: Mathematical Preliminaries\n",
        "## Prof. Eric Klavins, Electrical and Computer Engineering\n",
        "\n",
        "### Tamara Bonaci, Department of Electrical and Computer Engineering\n",
        "### October 2, 2024\n",
        "Copyright &copy; 2024, University of Washington"
      ]
    },
    {
      "cell_type": "markdown",
      "metadata": {
        "id": "ert8S5sJX7tt"
      },
      "source": [
        "In this lecture, we will describe the fundamental objects of mathematics: Sets, relations, functions, and cardinality. Understanding these concepts are the key to mathematical literacy. For this lecture, we will follow the **chapter one** of the following textbook fairly closely:\n",
        "\n",
        "> [An Introduction to Real Analysis](https://www.math.ucdavis.edu/~hunter/intro_analysis_pdf/ch1.pdf) by John K. Hunter,\n",
        "\n",
        "which is available for free online.\n",
        "\n",
        "Rather than repeating that chapter in this notebook, we will present our own take on the subject at the whiteboard using the following outline.\n",
        "\n",
        "- Sets\n",
        "  - Defs: sets, elements, the empty set\n",
        "  - Representation: finite, with ellipses, in words, set builder\n",
        "  - Examples\n",
        "    - Finite sets of numbers, strings, other sets,\n",
        "    - Naturals, integers, rationals, reals, complexes\n",
        "  - Subsets, Equality (in terms of subsets)\n",
        "  - The power set and an example\n",
        "  - Intersection, union, difference, complement (universe)\n",
        "  - Cartesian products, tuples\n",
        "  - Example: Dice, two dice, two dice summing to 7\n",
        "  - $\\mathbb{R}^n$ and vector notation\n",
        "  - Set proofs\n",
        "    - What is a proof?\n",
        "    - $ (A \\cap B) \\subseteq A$\n",
        "    - $A \\cup ( B \\cap C ) = (A \\cup B) \\cap (A \\cup C)$\n",
        "- Functions\n",
        "  - Definition (and synonyms). domain, codomain\n",
        "  - As a list of tuples, the identity function, characteristic function\n",
        "  - Example functions on $\\mathbb{Z}$\n",
        "  - Graph of a function as a subset of domain cross co-domain\n",
        "  - Range, surjection (onto), injection(1-1), bijection\n",
        "  - Note positive proofs vs negative counterexamples\n",
        "  - Examples: Which of the above are surjections, injections, and/or bijections?\n",
        "  - Composition and inverse, definition, domains, and codomains\n",
        "  - Examples from real numbers\n",
        "- Relations\n",
        "  - Definitions\n",
        "  - Examples\n",
        "    - List of tuples, \"has read\", has a common factor\n",
        "    - Function graphs are relations, but not conversely (in general)\n",
        "  - Order relations\n",
        "    - Less than, subset, divides\n",
        "  - Equivalence relations\n",
        "    - reduces to (for fractions), equal mod\n",
        "- Cardinality, and types of infinity\n",
        "  - Countable\n",
        "    - Definition\n",
        "    - Examples: Even numbers, rationals\n",
        "  - Uncountable\n",
        "    - Reals\n",
        "    - [0,1]\n",
        "    - Binary sequences\n",
        "    - Functions from {0,...,9} to {0,...,9}\n",
        "  - Uncomputable functions\n",
        "\n",
        "We will then discuss how to represent sets, relations, functions and cardinality in Python using the remainder of this notebook."
      ]
    },
    {
      "cell_type": "code",
      "execution_count": 1,
      "metadata": {
        "ExecuteTime": {
          "end_time": "2019-10-03T03:59:13.135630Z",
          "start_time": "2019-10-03T03:59:12.214706Z"
        },
        "id": "3P67WrwnX7tv"
      },
      "outputs": [],
      "source": [
        "import math\n",
        "import sympy as sm\n",
        "sm.init_printing(use_latex='mathjax')\n",
        "import matplotlib.pyplot as plt\n",
        "import matplotlib.patches as pch\n",
        "%matplotlib inline"
      ]
    },
    {
      "cell_type": "markdown",
      "metadata": {
        "id": "YQUa441vX7tw"
      },
      "source": [
        "# Sets"
      ]
    },
    {
      "cell_type": "markdown",
      "metadata": {
        "id": "lx2NvZ0IX7tx"
      },
      "source": [
        "Python has a built-in set object, which is documented here:\n",
        "\n",
        "> https://docs.python.org/2/library/stdtypes.html#set\n",
        "\n",
        "It is intended for representing finite sets of objects. Note that these objects are *not* the same as lists. There is no implicit ordering and each element can only show up once.\n",
        "\n",
        "All of the standard relations and operations on sets are supported, including $\\in$, $\\subseteq$, $=$, $\\cap$, $\\cup$, and $-$. In addition, you can use `len` to get the size of the set.\n",
        "\n",
        "To construct sets, you can simply use curly braces. You can also create sets from lists and lists from sets, using `set(L)` and `list(S)` where `L` is a list and `S` is a set.\n",
        "\n",
        "Sets can be constructed with comprehensions, just like lists. Use curly braces instead of square brackets.\n",
        "\n",
        "The empty set is constructed using `set()` (i.e. with no arguments)."
      ]
    },
    {
      "cell_type": "code",
      "execution_count": 2,
      "metadata": {
        "ExecuteTime": {
          "end_time": "2019-10-03T04:04:17.647153Z",
          "start_time": "2019-10-03T04:04:17.642394Z"
        },
        "colab": {
          "base_uri": "https://localhost:8080/"
        },
        "id": "apES4JeRX7ty",
        "outputId": "5c022f07-2663-4e45-966c-859b3a95ca0f"
      },
      "outputs": [
        {
          "output_type": "execute_result",
          "data": {
            "text/plain": [
              "({1, 2, 3, 4, 5}, set, 5)"
            ]
          },
          "metadata": {},
          "execution_count": 2
        }
      ],
      "source": [
        "# Listing elements\n",
        "\n",
        "A = { 1, 2, 3, 3, 3, 3, 3, 3, 4, 4, 5}\n",
        "A, type(A), len(A)"
      ]
    },
    {
      "cell_type": "code",
      "execution_count": 3,
      "metadata": {
        "ExecuteTime": {
          "end_time": "2019-10-03T04:00:38.882313Z",
          "start_time": "2019-10-03T04:00:38.877506Z"
        },
        "colab": {
          "base_uri": "https://localhost:8080/"
        },
        "id": "fljqqD90X7ty",
        "outputId": "a7f0b3e9-15dc-431f-9dc7-7e928eae0a14"
      },
      "outputs": [
        {
          "output_type": "execute_result",
          "data": {
            "text/plain": [
              "('My other set', set(), 0)"
            ]
          },
          "metadata": {},
          "execution_count": 3
        }
      ],
      "source": [
        "# The empty set\n",
        "\n",
        "E = {}\n",
        "E, len(E)\n",
        "F = set()\n",
        "\"My other set\", F, len(F)"
      ]
    },
    {
      "cell_type": "code",
      "execution_count": 4,
      "metadata": {
        "ExecuteTime": {
          "end_time": "2019-10-03T04:01:05.249737Z",
          "start_time": "2019-10-03T04:01:05.244353Z"
        },
        "colab": {
          "base_uri": "https://localhost:8080/",
          "height": 37
        },
        "id": "LL2gJJWgX7tz",
        "outputId": "841de66c-a660-4ded-9371-38a9bbbf0c41"
      },
      "outputs": [
        {
          "output_type": "execute_result",
          "data": {
            "text/plain": [
              "{1, 3, 5, 7, 9}"
            ],
            "text/latex": "$\\displaystyle \\left\\{1, 3, 5, 7, 9\\right\\}$"
          },
          "metadata": {},
          "execution_count": 4
        }
      ],
      "source": [
        "# Using a set comprehension, which is like set builder notation\n",
        "\n",
        "B = { x for x in range(10) if x%2 != 0 }\n",
        "B"
      ]
    },
    {
      "cell_type": "code",
      "execution_count": 5,
      "metadata": {
        "ExecuteTime": {
          "end_time": "2019-10-03T04:01:30.520264Z",
          "start_time": "2019-10-03T04:01:30.516156Z"
        },
        "colab": {
          "base_uri": "https://localhost:8080/"
        },
        "id": "ZhuEoeZ5X7t0",
        "outputId": "19ff4269-7c17-401e-b805-344094af8749"
      },
      "outputs": [
        {
          "output_type": "execute_result",
          "data": {
            "text/plain": [
              "(True, False)"
            ]
          },
          "metadata": {},
          "execution_count": 5
        }
      ],
      "source": [
        "# Checking whether an element is in a set\n",
        "1 in A, 3 not in B"
      ]
    },
    {
      "cell_type": "code",
      "execution_count": 6,
      "metadata": {
        "ExecuteTime": {
          "end_time": "2019-10-03T04:03:17.800081Z",
          "start_time": "2019-10-03T04:03:17.790502Z"
        },
        "colab": {
          "base_uri": "https://localhost:8080/"
        },
        "id": "-ZYXljhRX7t0",
        "outputId": "8a4c3b5a-2f59-4afa-866d-f91a953a0996"
      },
      "outputs": [
        {
          "output_type": "stream",
          "name": "stdout",
          "text": [
            "{1, 3, 5}\n",
            "{1, 2, 3, 4, 5, 7, 9}\n",
            "{2, 4}\n",
            "{9, 7}\n",
            "False\n",
            "True\n",
            "True\n"
          ]
        },
        {
          "output_type": "execute_result",
          "data": {
            "text/plain": [
              "({2, 4, 7, 9}, {2, 4, 7, 9}, True)"
            ]
          },
          "metadata": {},
          "execution_count": 6
        }
      ],
      "source": [
        "# Set relations\n",
        "\n",
        "print(A.intersection(B))\n",
        "print(A.union(B))\n",
        "print(A.difference(B))\n",
        "print(B.difference(A))\n",
        "print(A.isdisjoint(B))\n",
        "print({3,5}.issubset(B))\n",
        "print({3,5} <= B) # equivalent\n",
        "\n",
        "D1 = A.symmetric_difference(B)\n",
        "D2 = A.union(B).difference(A.intersection(B))\n",
        "D1, D2, D1 == D2"
      ]
    },
    {
      "cell_type": "code",
      "execution_count": 7,
      "metadata": {
        "ExecuteTime": {
          "end_time": "2019-10-03T04:04:22.247182Z",
          "start_time": "2019-10-03T04:04:22.242460Z"
        },
        "colab": {
          "base_uri": "https://localhost:8080/",
          "height": 54
        },
        "id": "g3HmPlXZX7t1",
        "outputId": "6f81f70d-61a8-4958-86ba-7683de251a5d"
      },
      "outputs": [
        {
          "output_type": "stream",
          "name": "stdout",
          "text": [
            "{1, 2, 3, 4, 5}\n"
          ]
        },
        {
          "output_type": "execute_result",
          "data": {
            "text/plain": [
              "(1, {2, 3, 4, 5})"
            ],
            "text/latex": "$\\displaystyle \\left( 1, \\  \\left\\{2, 3, 4, 5\\right\\}\\right)$"
          },
          "metadata": {},
          "execution_count": 7
        }
      ],
      "source": [
        "# Removing elements\n",
        "print(A)\n",
        "a = A.pop()\n",
        "a, A"
      ]
    },
    {
      "cell_type": "code",
      "execution_count": 8,
      "metadata": {
        "ExecuteTime": {
          "end_time": "2019-10-03T04:04:23.574220Z",
          "start_time": "2019-10-03T04:04:23.569426Z"
        },
        "colab": {
          "base_uri": "https://localhost:8080/",
          "height": 37
        },
        "id": "GWPM_hXUX7t2",
        "outputId": "4ca25c4c-6521-44b6-a109-e0221d0d8ec7"
      },
      "outputs": [
        {
          "output_type": "execute_result",
          "data": {
            "text/plain": [
              "{2, 3, 4, 5, 12}"
            ],
            "text/latex": "$\\displaystyle \\left\\{2, 3, 4, 5, 12\\right\\}$"
          },
          "metadata": {},
          "execution_count": 8
        }
      ],
      "source": [
        "# Adding elements\n",
        "\n",
        "A.add(12)\n",
        "A"
      ]
    },
    {
      "cell_type": "code",
      "execution_count": 9,
      "metadata": {
        "ExecuteTime": {
          "end_time": "2019-10-03T04:04:34.751441Z",
          "start_time": "2019-10-03T04:04:34.745878Z"
        },
        "colab": {
          "base_uri": "https://localhost:8080/",
          "height": 37
        },
        "id": "5W8P-E_UX7t2",
        "outputId": "d2c28ad0-6e8a-401e-a6e3-8c5a5cddaeb1"
      },
      "outputs": [
        {
          "output_type": "execute_result",
          "data": {
            "text/plain": [
              "({3, 4, 5}, {2, 3, 4, 5, 12})"
            ],
            "text/latex": "$\\displaystyle \\left( \\left\\{3, 4, 5\\right\\}, \\  \\left\\{2, 3, 4, 5, 12\\right\\}\\right)$"
          },
          "metadata": {},
          "execution_count": 9
        }
      ],
      "source": [
        "# Copying\n",
        "\n",
        "C = A.copy()\n",
        "A.remove(12)\n",
        "A.discard(2)\n",
        "A, C"
      ]
    },
    {
      "cell_type": "code",
      "execution_count": 10,
      "metadata": {
        "ExecuteTime": {
          "end_time": "2019-10-03T04:04:58.349584Z",
          "start_time": "2019-10-03T04:04:58.345242Z"
        },
        "colab": {
          "base_uri": "https://localhost:8080/",
          "height": 37
        },
        "id": "27bUpE-kX7t3",
        "outputId": "c06eb477-1bb9-4918-ee13-945a5b3b0c8a"
      },
      "outputs": [
        {
          "output_type": "execute_result",
          "data": {
            "text/plain": [
              "set()"
            ],
            "text/latex": "$\\displaystyle \\left\\{\\right\\}$"
          },
          "metadata": {},
          "execution_count": 10
        }
      ],
      "source": [
        "C.clear()\n",
        "C"
      ]
    },
    {
      "cell_type": "code",
      "execution_count": 11,
      "metadata": {
        "ExecuteTime": {
          "end_time": "2019-10-03T04:06:05.416014Z",
          "start_time": "2019-10-03T04:06:05.412733Z"
        },
        "id": "Aa-Ok_9rX7t4"
      },
      "outputs": [],
      "source": [
        "# To do the cartesian product, you can define a function\n",
        "# Try: Define a function that takes a list of sets and returns their n-fold cartesian product\n",
        "\n",
        "def cartesian_product(X,Y):\n",
        "    return {(x,y) for x in X for y in Y}"
      ]
    },
    {
      "cell_type": "code",
      "execution_count": 12,
      "metadata": {
        "ExecuteTime": {
          "end_time": "2019-10-03T04:06:43.307393Z",
          "start_time": "2019-10-03T04:06:43.302290Z"
        },
        "colab": {
          "base_uri": "https://localhost:8080/"
        },
        "id": "4YfIAkk1X7t4",
        "outputId": "be9e78ac-58ee-4be1-cd13-800875cff537"
      },
      "outputs": [
        {
          "output_type": "stream",
          "name": "stdout",
          "text": [
            "{(3, 4), (4, 3), (3, 1), (5, 4), (4, 6), (5, 1), (2, 2), (1, 6), (2, 5), (1, 3), (6, 2), (6, 5), (4, 2), (4, 5), (3, 3), (5, 6), (3, 6), (5, 3), (2, 4), (1, 2), (2, 1), (1, 5), (6, 1), (6, 4), (3, 2), (4, 1), (3, 5), (5, 2), (4, 4), (5, 5), (1, 1), (1, 4), (2, 3), (2, 6), (6, 6), (6, 3)} \n",
            "\n",
            "{(3, 4), (4, 3), (6, 1), (1, 6), (2, 5), (5, 2)}\n"
          ]
        }
      ],
      "source": [
        "# Dice example\n",
        "\n",
        "die = {1,2,3,4,5,6}\n",
        "twodice = cartesian_product(die,die)\n",
        "seven = { p for p in twodice if p[0] + p[1] == 7 }\n",
        "print(twodice, \"\\n\")\n",
        "print(seven)"
      ]
    },
    {
      "cell_type": "code",
      "execution_count": 13,
      "metadata": {
        "ExecuteTime": {
          "end_time": "2019-10-03T04:08:51.286969Z",
          "start_time": "2019-10-03T04:08:51.278314Z"
        },
        "colab": {
          "base_uri": "https://localhost:8080/",
          "height": 207
        },
        "id": "w2-AHvvDX7t5",
        "outputId": "c8ddeff5-55e6-4bd8-a715-4fce10b08b26"
      },
      "outputs": [
        {
          "output_type": "error",
          "ename": "TypeError",
          "evalue": "unhashable type: 'set'",
          "traceback": [
            "\u001b[0;31m---------------------------------------------------------------------------\u001b[0m",
            "\u001b[0;31mTypeError\u001b[0m                                 Traceback (most recent call last)",
            "\u001b[0;32m<ipython-input-13-7cd7c0ee64a9>\u001b[0m in \u001b[0;36m<cell line: 6>\u001b[0;34m()\u001b[0m\n\u001b[1;32m      4\u001b[0m \u001b[0;34m\u001b[0m\u001b[0m\n\u001b[1;32m      5\u001b[0m \u001b[0mA\u001b[0m \u001b[0;34m=\u001b[0m \u001b[0;34m{\u001b[0m\u001b[0;36m1\u001b[0m\u001b[0;34m,\u001b[0m\u001b[0;36m2\u001b[0m\u001b[0;34m}\u001b[0m\u001b[0;34m\u001b[0m\u001b[0;34m\u001b[0m\u001b[0m\n\u001b[0;32m----> 6\u001b[0;31m \u001b[0mS\u001b[0m \u001b[0;34m=\u001b[0m \u001b[0;34m{\u001b[0m \u001b[0mA\u001b[0m \u001b[0;34m}\u001b[0m\u001b[0;34m\u001b[0m\u001b[0;34m\u001b[0m\u001b[0m\n\u001b[0m\u001b[1;32m      7\u001b[0m \u001b[0mA\u001b[0m\u001b[0;34m.\u001b[0m\u001b[0madd\u001b[0m\u001b[0;34m(\u001b[0m\u001b[0;36m3\u001b[0m\u001b[0;34m)\u001b[0m\u001b[0;34m\u001b[0m\u001b[0;34m\u001b[0m\u001b[0m\n\u001b[1;32m      8\u001b[0m \u001b[0mS\u001b[0m\u001b[0;34m\u001b[0m\u001b[0;34m\u001b[0m\u001b[0m\n",
            "\u001b[0;31mTypeError\u001b[0m: unhashable type: 'set'"
          ]
        }
      ],
      "source": [
        "# Sets of sets: This won't work becuase Python sets need to have immutable elements.\n",
        "# But with the definition below, if you had a variable pointing to {1,2} you could change it,\n",
        "# thereby changing the set.\n",
        "\n",
        "A = {1,2}\n",
        "S = { A }\n",
        "A.add(3)\n",
        "S"
      ]
    },
    {
      "cell_type": "code",
      "execution_count": 14,
      "metadata": {
        "ExecuteTime": {
          "end_time": "2019-10-03T04:10:02.819135Z",
          "start_time": "2019-10-03T04:10:02.813819Z"
        },
        "colab": {
          "base_uri": "https://localhost:8080/",
          "height": 37
        },
        "id": "EVPEvmJ8X7t6",
        "outputId": "bddb6dfe-57ca-493c-8d61-8baff731ace7"
      },
      "outputs": [
        {
          "output_type": "execute_result",
          "data": {
            "text/plain": [
              "{frozenset({1, 2})}"
            ],
            "text/latex": "$\\displaystyle \\left\\{\\left\\{1, 2\\right\\}\\right\\}$"
          },
          "metadata": {},
          "execution_count": 14
        }
      ],
      "source": [
        "# To solve this problem, you use the built in type `frozenset`, which supports\n",
        "# all the functions that `set` does, except for those that modify the set.\n",
        "\n",
        "A = {1,2}\n",
        "S = { frozenset(A) }\n",
        "S"
      ]
    },
    {
      "cell_type": "markdown",
      "metadata": {
        "id": "2sZZ11coX7t7"
      },
      "source": [
        "### The Power Set\n",
        "\n",
        "The Power Set is also easy to define. This definition uses recursion. In particular,\n",
        "we use the fact that the power set of $S$ is equal to the set of sets resulting from removing\n",
        "a single element from $S$, unioned together with the their power sets. That is,\n",
        "\n",
        "$$\n",
        "\\mathcal{P}(S) = \\{ S \\} \\cup \\bigcup_{x \\in S} \\{ S - \\{x\\} \\} \\cup \\mathcal{P}(S - \\{x\\})\n",
        "$$"
      ]
    },
    {
      "cell_type": "code",
      "execution_count": 15,
      "metadata": {
        "ExecuteTime": {
          "end_time": "2019-10-03T04:11:59.661140Z",
          "start_time": "2019-10-03T04:11:59.651476Z"
        },
        "colab": {
          "base_uri": "https://localhost:8080/"
        },
        "id": "4L0h1HF7X7t7",
        "outputId": "72c72ddb-5656-4985-c78b-503bc1af7017"
      },
      "outputs": [
        {
          "output_type": "stream",
          "name": "stdout",
          "text": [
            "{1, 4}\n",
            "{2, 3, 4}\n",
            "{2, 3}\n",
            "{1, 2, 3}\n",
            "{1}\n",
            "{1, 2, 3, 4}\n",
            "{4}\n",
            "{3, 4}\n",
            "{2}\n",
            "{1, 2, 4}\n",
            "{1, 2}\n",
            "{3}\n",
            "{2, 4}\n",
            "set()\n",
            "{1, 3}\n",
            "{1, 3, 4}\n"
          ]
        }
      ],
      "source": [
        "def power_set(S):\n",
        "    P = set()\n",
        "    P.add(frozenset(S))\n",
        "    for x in S:\n",
        "        T = S.copy()\n",
        "        T.remove(x)\n",
        "        P = P.union(power_set(T))\n",
        "    return P\n",
        "\n",
        "S = {1,2,3,4}\n",
        "for s in power_set(S):\n",
        "    print(set(s))"
      ]
    },
    {
      "cell_type": "markdown",
      "metadata": {
        "id": "MeSvG_bwX7t8"
      },
      "source": [
        "# Tuples"
      ]
    },
    {
      "cell_type": "code",
      "execution_count": 16,
      "metadata": {
        "ExecuteTime": {
          "end_time": "2019-10-03T04:13:43.367283Z",
          "start_time": "2019-10-03T04:13:43.360977Z"
        },
        "colab": {
          "base_uri": "https://localhost:8080/"
        },
        "id": "94kjW8XsX7t9",
        "outputId": "83f11a23-9b7f-4212-8eab-77001431e57d"
      },
      "outputs": [
        {
          "output_type": "stream",
          "name": "stdout",
          "text": [
            "S = {(1, 2, 3), (4, 5, 6)}\n",
            "x = (1, 2, 3)\n",
            "x[0] = 1\n"
          ]
        }
      ],
      "source": [
        "# Tuples are a built in type in Python. You can treat them somewhat like lists.\n",
        "\n",
        "x = (1,2,3)\n",
        "y = (4,5,6)\n",
        "S = { x, y }\n",
        "print(\"S =\", S )\n",
        "print(\"x =\", x )\n",
        "print(\"x[0] =\", x[0])"
      ]
    },
    {
      "cell_type": "code",
      "execution_count": 17,
      "metadata": {
        "ExecuteTime": {
          "end_time": "2019-10-03T04:13:43.979971Z",
          "start_time": "2019-10-03T04:13:43.975627Z"
        },
        "colab": {
          "base_uri": "https://localhost:8080/"
        },
        "id": "cqfA5VQ7X7t9",
        "outputId": "85cabf8b-124d-4d77-fe51-fda6875120bb"
      },
      "outputs": [
        {
          "output_type": "stream",
          "name": "stdout",
          "text": [
            "1\n",
            "2\n",
            "3\n"
          ]
        }
      ],
      "source": [
        "# Python supports multiple assignments in one step using tuples (or lists for that matter)\n",
        "\n",
        "a,b,c = x\n",
        "print(a)\n",
        "print(b)\n",
        "print(c)"
      ]
    },
    {
      "cell_type": "markdown",
      "metadata": {
        "id": "5gwPFZ1JX7t9"
      },
      "source": [
        "# Relations"
      ]
    },
    {
      "cell_type": "code",
      "execution_count": 18,
      "metadata": {
        "ExecuteTime": {
          "end_time": "2019-10-03T04:14:32.586734Z",
          "start_time": "2019-10-03T04:14:32.581290Z"
        },
        "colab": {
          "base_uri": "https://localhost:8080/"
        },
        "id": "tujKtNCKX7t-",
        "outputId": "9deb125d-394d-4f55-fee3-1637763a698c"
      },
      "outputs": [
        {
          "output_type": "execute_result",
          "data": {
            "text/plain": [
              "(False, True)"
            ]
          },
          "metadata": {},
          "execution_count": 18
        }
      ],
      "source": [
        "# Recall that a relation is just a set of tuples.\n",
        "\n",
        "R = {\n",
        "    (1,2),\n",
        "    (2,3),\n",
        "    (3,4)\n",
        "}\n",
        "\n",
        "# This is how you have to write 1 R 3 and 1 R 2\n",
        "(1,3) in R, (1,2) in R"
      ]
    },
    {
      "cell_type": "code",
      "execution_count": 19,
      "metadata": {
        "ExecuteTime": {
          "end_time": "2019-10-03T04:14:40.661229Z",
          "start_time": "2019-10-03T04:14:40.657018Z"
        },
        "colab": {
          "base_uri": "https://localhost:8080/"
        },
        "id": "ZFFcB4IDX7t-",
        "outputId": "59560e22-8177-4e66-8bc8-e027676f9059"
      },
      "outputs": [
        {
          "output_type": "execute_result",
          "data": {
            "text/plain": [
              "True"
            ]
          },
          "metadata": {},
          "execution_count": 19
        }
      ],
      "source": [
        "# Of course, Python has all sorts of relations predefined\n",
        "\n",
        "1 < 2\n",
        "4 != 5"
      ]
    },
    {
      "cell_type": "code",
      "execution_count": 20,
      "metadata": {
        "ExecuteTime": {
          "end_time": "2019-10-03T04:15:19.149905Z",
          "start_time": "2019-10-03T04:15:19.144861Z"
        },
        "colab": {
          "base_uri": "https://localhost:8080/"
        },
        "id": "KvF6mBh-X7t_",
        "outputId": "c140d216-1e1f-45b8-90e0-7dc3c94deea5"
      },
      "outputs": [
        {
          "output_type": "execute_result",
          "data": {
            "text/plain": [
              "True"
            ]
          },
          "metadata": {},
          "execution_count": 20
        }
      ],
      "source": [
        "# Since Python's relations are on (essentially) infinite sets, they are defined as functions.\n",
        "# You can also define relations in infinte sets. Such definitions take a pair of elements and\n",
        "# return true or false.\n",
        "\n",
        "def divides(x,y):\n",
        "    return x != y and x != 0 and y % x == 0\n",
        "\n",
        "divides(3,12)"
      ]
    },
    {
      "cell_type": "code",
      "execution_count": 21,
      "metadata": {
        "ExecuteTime": {
          "end_time": "2019-10-03T04:16:06.990893Z",
          "start_time": "2019-10-03T04:16:06.971936Z"
        },
        "colab": {
          "base_uri": "https://localhost:8080/",
          "height": 57
        },
        "id": "eiuFMCAQX7t_",
        "outputId": "be07eaf0-d02a-4ab3-ec25-f822cf011e5f"
      },
      "outputs": [
        {
          "output_type": "execute_result",
          "data": {
            "text/plain": [
              "{(1, 2), (1, 3), (1, 4), (1, 5), (1, 6), (1, 7), (1, 8), (1, 9), (1, 10), (1, 11), (1, 12), (1, 13 ↪\n",
              "\n",
              "↪ ), (1, 14), (1, 15), (1, 16), (1, 17), (1, 18), (1, 19), (2, 4), (2, 6), (2, 8), (2, 10), (2, 12 ↪\n",
              "\n",
              "↪ ), (2, 14), (2, 16), (2, 18), (3, 6), (3, 9), (3, 12), (3, 15), (3, 18), (4, 8), (4, 12), (4, 16 ↪\n",
              "\n",
              "↪ ), (5, 10), (5, 15), (6, 12), (6, 18), (7, 14), (8, 16), (9, 18)}"
            ],
            "text/latex": "$\\displaystyle \\left\\{\\left( 1, \\  2\\right), \\left( 1, \\  3\\right), \\left( 1, \\  4\\right), \\left( 1, \\  5\\right), \\left( 1, \\  6\\right), \\left( 1, \\  7\\right), \\left( 1, \\  8\\right), \\left( 1, \\  9\\right), \\left( 1, \\  10\\right), \\left( 1, \\  11\\right), \\left( 1, \\  12\\right), \\left( 1, \\  13\\right), \\left( 1, \\  14\\right), \\left( 1, \\  15\\right), \\left( 1, \\  16\\right), \\left( 1, \\  17\\right), \\left( 1, \\  18\\right), \\left( 1, \\  19\\right), \\left( 2, \\  4\\right), \\left( 2, \\  6\\right), \\left( 2, \\  8\\right), \\left( 2, \\  10\\right), \\left( 2, \\  12\\right), \\left( 2, \\  14\\right), \\left( 2, \\  16\\right), \\left( 2, \\  18\\right), \\left( 3, \\  6\\right), \\left( 3, \\  9\\right), \\left( 3, \\  12\\right), \\left( 3, \\  15\\right), \\left( 3, \\  18\\right), \\left( 4, \\  8\\right), \\left( 4, \\  12\\right), \\left( 4, \\  16\\right), \\left( 5, \\  10\\right), \\left( 5, \\  15\\right), \\left( 6, \\  12\\right), \\left( 6, \\  18\\right), \\left( 7, \\  14\\right), \\left( 8, \\  16\\right), \\left( 9, \\  18\\right)\\right\\}$"
          },
          "metadata": {},
          "execution_count": 21
        }
      ],
      "source": [
        "# ... and combined with set builder notation\n",
        "\n",
        "n = 20\n",
        "D = { (x,y) for x in range(1,n) for y in range(1,n) if divides(x,y)}\n",
        "D"
      ]
    },
    {
      "cell_type": "code",
      "execution_count": 22,
      "metadata": {
        "ExecuteTime": {
          "end_time": "2019-10-03T04:16:26.177909Z",
          "start_time": "2019-10-03T04:16:25.961111Z"
        },
        "colab": {
          "base_uri": "https://localhost:8080/",
          "height": 471
        },
        "id": "1x9YqFIBX7uA",
        "outputId": "9c47b771-13df-429f-9a05-ddad927d6564"
      },
      "outputs": [
        {
          "output_type": "display_data",
          "data": {
            "text/plain": [
              "<Figure size 640x480 with 1 Axes>"
            ],
            "image/png": "[encoded data removed]"
          },
          "metadata": {}
        }
      ],
      "source": [
        "# ... and plotted. The is a common way to draw finite relations, with arrows from a to b\n",
        "# for every (a,b) in R.\n",
        "\n",
        "points = [\n",
        "    (\n",
        "        math.cos(2*math.pi*i / n),\n",
        "        math.sin(2*math.pi*i / n)\n",
        "    ) for i in range(1,n)\n",
        "]\n",
        "\n",
        "for i,p in enumerate(points):\n",
        "    if i != 0:\n",
        "        plt.text(1.1*p[0],1.1*p[1],i+1)\n",
        "\n",
        "for x in range(1,n):\n",
        "    for y in range(1,n):\n",
        "        if x != 1 and (x,y) in D:\n",
        "            plt.arrow(\n",
        "                points[x-1][0],\n",
        "                points[x-1][1],\n",
        "                0.95*(points[y-1][0] - points[x-1][0]),\n",
        "                0.95*(points[y-1][1] - points[x-1][1]),\n",
        "                head_width=0.03,\n",
        "                length_includes_head=True)\n",
        "\n",
        "plt.xlim(-1,1)\n",
        "plt.ylim(-1,1)\n",
        "plt.axis(\"off\");\n",
        "plt.title(\"Divides relation on [2,19]\\n\");"
      ]
    },
    {
      "cell_type": "code",
      "execution_count": 23,
      "metadata": {
        "ExecuteTime": {
          "end_time": "2019-10-03T04:19:22.252056Z",
          "start_time": "2019-10-03T04:19:22.245175Z"
        },
        "colab": {
          "base_uri": "https://localhost:8080/",
          "height": 37
        },
        "id": "1LAAkPdDX7uA",
        "outputId": "baf55cc5-2e35-4151-fa5d-4ccfc02be4f6"
      },
      "outputs": [
        {
          "output_type": "execute_result",
          "data": {
            "text/plain": [
              "{2, 3, 5, 7, 11, 13, 17, 19}"
            ],
            "text/latex": "$\\displaystyle \\left\\{2, 3, 5, 7, 11, 13, 17, 19\\right\\}$"
          },
          "metadata": {},
          "execution_count": 23
        }
      ],
      "source": [
        "# A predecessor of y with respect to the relation R is the set { x | x R y }\n",
        "# The elements that only have 1 as predecessor in the relation are prime\n",
        "\n",
        "def preds(y):\n",
        "    return { x for x in range(n) if (x,y) in D }\n",
        "\n",
        "{ y for (x,y) in D if len(preds(y)) == 1 }"
      ]
    },
    {
      "cell_type": "markdown",
      "metadata": {
        "id": "mJJkMNmQX7uB"
      },
      "source": [
        "# Functions"
      ]
    },
    {
      "cell_type": "code",
      "execution_count": 24,
      "metadata": {
        "ExecuteTime": {
          "end_time": "2019-10-03T04:20:46.970456Z",
          "start_time": "2019-10-03T04:20:46.966040Z"
        },
        "colab": {
          "base_uri": "https://localhost:8080/",
          "height": 37
        },
        "id": "72bvLKuYX7uB",
        "outputId": "a64240eb-8ee6-4f26-8ade-2a344ded481a"
      },
      "outputs": [
        {
          "output_type": "execute_result",
          "data": {
            "text/plain": [
              "2"
            ],
            "text/latex": "$\\displaystyle 2$"
          },
          "metadata": {},
          "execution_count": 24
        }
      ],
      "source": [
        "# In Python you can represent functions with a finite numbner of elements as dictionaries\n",
        "\n",
        "f = { 1: 2, 2: 3 }\n",
        "f[1]"
      ]
    },
    {
      "cell_type": "code",
      "execution_count": 25,
      "metadata": {
        "ExecuteTime": {
          "end_time": "2019-10-03T04:21:08.188620Z",
          "start_time": "2019-10-03T04:21:08.183986Z"
        },
        "colab": {
          "base_uri": "https://localhost:8080/",
          "height": 37
        },
        "id": "Gn_Dyi8fX7uB",
        "outputId": "0b1c24d7-a36b-4802-c58b-b5b97eeec9b0"
      },
      "outputs": [
        {
          "output_type": "execute_result",
          "data": {
            "text/plain": [
              "{1: 3}"
            ],
            "text/latex": "$\\displaystyle \\left\\{ 1 : 3\\right\\}$"
          },
          "metadata": {},
          "execution_count": 25
        }
      ],
      "source": [
        "# Note that the dictionary format prevents you from mapping a single element to two elements in the range\n",
        "\n",
        "f = { 1: 2, 1: 3 }\n",
        "f"
      ]
    },
    {
      "cell_type": "code",
      "execution_count": 26,
      "metadata": {
        "ExecuteTime": {
          "end_time": "2019-10-03T04:21:37.808611Z",
          "start_time": "2019-10-03T04:21:37.801274Z"
        },
        "colab": {
          "base_uri": "https://localhost:8080/",
          "height": 37
        },
        "id": "GZPoEt4sX7uC",
        "outputId": "cc8b9250-2c51-4336-f869-20f175202e4d"
      },
      "outputs": [
        {
          "output_type": "execute_result",
          "data": {
            "text/plain": [
              "({1, 2}, {2, 3})"
            ],
            "text/latex": "$\\displaystyle \\left( \\left\\{1, 2\\right\\}, \\  \\left\\{2, 3\\right\\}\\right)$"
          },
          "metadata": {},
          "execution_count": 26
        }
      ],
      "source": [
        "# You can compute the domain and range of a function\n",
        "\n",
        "def domain(F):\n",
        "    return set(F.keys())\n",
        "\n",
        "def frange(F):\n",
        "    return set(F.values())\n",
        "\n",
        "f = {1: 2, 2: 3}\n",
        "\n",
        "domain(f), frange(f)"
      ]
    },
    {
      "cell_type": "code",
      "execution_count": 27,
      "metadata": {
        "ExecuteTime": {
          "end_time": "2019-10-03T04:22:28.148909Z",
          "start_time": "2019-10-03T04:22:28.141638Z"
        },
        "colab": {
          "base_uri": "https://localhost:8080/",
          "height": 37
        },
        "id": "t66gZdQvX7uC",
        "outputId": "42d599fa-93e6-4284-dfad-a9c47e95f723"
      },
      "outputs": [
        {
          "output_type": "execute_result",
          "data": {
            "text/plain": [
              "{1: 20, 2: 30}"
            ],
            "text/latex": "$\\displaystyle \\left\\{ 1 : 20, \\  2 : 30\\right\\}$"
          },
          "metadata": {},
          "execution_count": 27
        }
      ],
      "source": [
        "# You can write a simple function to compute the composition of two functions\n",
        "\n",
        "def compose(F, G):\n",
        "    H = {}\n",
        "    for x in domain(F):\n",
        "        H[x] = G[F[x]]\n",
        "    return H\n",
        "\n",
        "\n",
        "f = {1: 2, 2: 3}\n",
        "g = {2: 20, 3: 30}\n",
        "compose(f,g)"
      ]
    },
    {
      "cell_type": "markdown",
      "metadata": {
        "id": "6Ny8Csf2X7uD"
      },
      "source": [
        "### Functions in Python\n",
        "\n",
        "Of course, functions in Python are defined using `def`. They can actually be treated as objects as well, and passed around as arguments, and so on.\n",
        "\n",
        "Another way to define functions is with a `lambda` expression, a concept available in most programming languages. This is used when you may not want to name the function, or if you need to write a function that returns another function."
      ]
    },
    {
      "cell_type": "code",
      "execution_count": 28,
      "metadata": {
        "ExecuteTime": {
          "end_time": "2019-10-03T04:24:04.010438Z",
          "start_time": "2019-10-03T04:24:04.007810Z"
        },
        "id": "0miQHC5eX7uD"
      },
      "outputs": [],
      "source": [
        "def F(x):\n",
        "    return x + 1"
      ]
    },
    {
      "cell_type": "code",
      "execution_count": 29,
      "metadata": {
        "ExecuteTime": {
          "end_time": "2019-10-03T04:24:25.691420Z",
          "start_time": "2019-10-03T04:24:25.686875Z"
        },
        "colab": {
          "base_uri": "https://localhost:8080/",
          "height": 37
        },
        "id": "m19k6VffX7uD",
        "outputId": "ea94ab03-bb5f-4832-820e-ec60bf7a47be"
      },
      "outputs": [
        {
          "output_type": "execute_result",
          "data": {
            "text/plain": [
              "124"
            ],
            "text/latex": "$\\displaystyle 124$"
          },
          "metadata": {},
          "execution_count": 29
        }
      ],
      "source": [
        "# Lambda example\n",
        "\n",
        "F = lambda x : x + 1\n",
        "\n",
        "F(123)"
      ]
    },
    {
      "cell_type": "code",
      "execution_count": 30,
      "metadata": {
        "ExecuteTime": {
          "end_time": "2019-10-03T04:25:05.872569Z",
          "start_time": "2019-10-03T04:25:05.868963Z"
        },
        "id": "ZB-t-8_0X7uD"
      },
      "outputs": [],
      "source": [
        "# Using this idea, we can convert a dictionary into a full fledged lambda function.\n",
        "\n",
        "def dict_to_function(F):\n",
        "    return lambda x : F[x] if x in domain(F) else None\n",
        "\n",
        "F = dict_to_function(f)"
      ]
    },
    {
      "cell_type": "code",
      "execution_count": 31,
      "metadata": {
        "ExecuteTime": {
          "end_time": "2019-10-03T04:25:15.273606Z",
          "start_time": "2019-10-03T04:25:15.235348Z"
        },
        "colab": {
          "base_uri": "https://localhost:8080/"
        },
        "id": "xOEVSti8X7uE",
        "outputId": "c767ed4c-167f-4879-c43a-5f77bfee18f3"
      },
      "outputs": [
        {
          "output_type": "execute_result",
          "data": {
            "text/plain": [
              "(dict, function)"
            ]
          },
          "metadata": {},
          "execution_count": 31
        }
      ],
      "source": [
        "type(f), type(F)"
      ]
    },
    {
      "cell_type": "code",
      "execution_count": 32,
      "metadata": {
        "ExecuteTime": {
          "end_time": "2019-10-03T04:25:43.752893Z",
          "start_time": "2019-10-03T04:25:43.748714Z"
        },
        "colab": {
          "base_uri": "https://localhost:8080/",
          "height": 37
        },
        "id": "2uWXpXV8X7uE",
        "outputId": "36a41deb-8b4c-4535-b459-514af6b8efaf"
      },
      "outputs": [
        {
          "output_type": "execute_result",
          "data": {
            "text/plain": [
              "(2, 3)"
            ],
            "text/latex": "$\\displaystyle \\left( 2, \\  3\\right)$"
          },
          "metadata": {},
          "execution_count": 32
        }
      ],
      "source": [
        "f[1], F(2)"
      ]
    },
    {
      "cell_type": "code",
      "execution_count": 33,
      "metadata": {
        "ExecuteTime": {
          "end_time": "2019-10-02T18:53:49.092862Z",
          "start_time": "2019-10-02T18:53:49.088512Z"
        },
        "colab": {
          "base_uri": "https://localhost:8080/",
          "height": 37
        },
        "id": "6r-3hog8X7uF",
        "outputId": "cd64d10f-e34b-49e2-beb8-a82482a2b372"
      },
      "outputs": [
        {
          "output_type": "execute_result",
          "data": {
            "text/plain": [
              "30"
            ],
            "text/latex": "$\\displaystyle 30$"
          },
          "metadata": {},
          "execution_count": 33
        }
      ],
      "source": [
        "FOG = dict_to_function(compose(f,g))\n",
        "FOG(2)"
      ]
    },
    {
      "cell_type": "code",
      "execution_count": 34,
      "metadata": {
        "ExecuteTime": {
          "end_time": "2019-10-03T04:27:47.838263Z",
          "start_time": "2019-10-03T04:27:47.834085Z"
        },
        "colab": {
          "base_uri": "https://localhost:8080/",
          "height": 37
        },
        "id": "pazAlqhFX7uF",
        "outputId": "8e1e1cbb-115a-48ad-9ca7-72b84d81faeb"
      },
      "outputs": [
        {
          "output_type": "execute_result",
          "data": {
            "text/plain": [
              "168"
            ],
            "text/latex": "$\\displaystyle 168$"
          },
          "metadata": {},
          "execution_count": 34
        }
      ],
      "source": [
        "(lambda x, y : x + y)(45,123)"
      ]
    },
    {
      "cell_type": "code",
      "execution_count": 35,
      "metadata": {
        "ExecuteTime": {
          "end_time": "2019-10-03T04:28:05.626291Z",
          "start_time": "2019-10-03T04:28:05.622315Z"
        },
        "colab": {
          "base_uri": "https://localhost:8080/"
        },
        "id": "YSY4qQDYX7uF",
        "outputId": "108bef4d-e511-4a86-9b51-72d48f909b30"
      },
      "outputs": [
        {
          "output_type": "execute_result",
          "data": {
            "text/plain": [
              "function"
            ]
          },
          "metadata": {},
          "execution_count": 35
        }
      ],
      "source": [
        "type(lambda x, y : x + y)"
      ]
    },
    {
      "cell_type": "markdown",
      "metadata": {
        "id": "zyfPR_3tX7uF"
      },
      "source": [
        "# Numbers"
      ]
    },
    {
      "cell_type": "code",
      "execution_count": 36,
      "metadata": {
        "ExecuteTime": {
          "end_time": "2019-10-03T04:29:07.498449Z",
          "start_time": "2019-10-03T04:29:07.493625Z"
        },
        "colab": {
          "base_uri": "https://localhost:8080/",
          "height": 37
        },
        "id": "gYMXt0P0X7uG",
        "outputId": "f90dc3d7-ebae-4952-90e4-13907098fd9e"
      },
      "outputs": [
        {
          "output_type": "execute_result",
          "data": {
            "text/plain": [
              "1"
            ],
            "text/latex": "$\\displaystyle 1$"
          },
          "metadata": {},
          "execution_count": 36
        }
      ],
      "source": [
        "# The set Z of Integers is formally represented via sympy. But you can also just use\n",
        "# Python ints, but they have size limits.\n",
        "\n",
        "import sympy as sm\n",
        "\n",
        "sm.Integer(1)"
      ]
    },
    {
      "cell_type": "code",
      "execution_count": 37,
      "metadata": {
        "ExecuteTime": {
          "end_time": "2019-10-03T04:29:11.796857Z",
          "start_time": "2019-10-03T04:29:11.792550Z"
        },
        "colab": {
          "base_uri": "https://localhost:8080/",
          "height": 51
        },
        "id": "MG1BBprKX7uG",
        "outputId": "bffcd4d6-abe4-4e24-d9a7-976ff28120f7"
      },
      "outputs": [
        {
          "output_type": "execute_result",
          "data": {
            "text/plain": [
              "1/2"
            ],
            "text/latex": "$\\displaystyle \\frac{1}{2}$"
          },
          "metadata": {},
          "execution_count": 37
        }
      ],
      "source": [
        "# Rationals\n",
        "\n",
        "sm.Rational(1,2)"
      ]
    },
    {
      "cell_type": "code",
      "execution_count": 38,
      "metadata": {
        "ExecuteTime": {
          "end_time": "2019-10-03T04:29:14.084262Z",
          "start_time": "2019-10-03T04:29:14.079483Z"
        },
        "colab": {
          "base_uri": "https://localhost:8080/",
          "height": 38
        },
        "id": "HAiCL9MXX7uG",
        "outputId": "d252ff09-1564-4ffa-d2b3-af6637e713d4"
      },
      "outputs": [
        {
          "output_type": "execute_result",
          "data": {
            "text/plain": [
              "√2"
            ],
            "text/latex": "$\\displaystyle \\sqrt{2}$"
          },
          "metadata": {},
          "execution_count": 38
        }
      ],
      "source": [
        "# Algebraic and not rational\n",
        "\n",
        "sm.sqrt(2)"
      ]
    },
    {
      "cell_type": "code",
      "execution_count": 39,
      "metadata": {
        "ExecuteTime": {
          "end_time": "2019-10-03T04:29:20.721414Z",
          "start_time": "2019-10-03T04:29:20.717036Z"
        },
        "colab": {
          "base_uri": "https://localhost:8080/",
          "height": 38
        },
        "id": "rwfe4UAfX7uG",
        "outputId": "8994302e-a8cb-4ac1-a9f9-b0e5b78c54c2"
      },
      "outputs": [
        {
          "output_type": "execute_result",
          "data": {
            "text/plain": [
              "(π, ℯ)"
            ],
            "text/latex": "$\\displaystyle \\left( \\pi, \\  e\\right)$"
          },
          "metadata": {},
          "execution_count": 39
        }
      ],
      "source": [
        "# Transcendental\n",
        "\n",
        "sm.pi, sm.E"
      ]
    },
    {
      "cell_type": "code",
      "execution_count": 40,
      "metadata": {
        "ExecuteTime": {
          "end_time": "2019-10-03T04:29:53.490490Z",
          "start_time": "2019-10-03T04:29:53.486051Z"
        },
        "colab": {
          "base_uri": "https://localhost:8080/"
        },
        "id": "j6O3Pg7MX7uH",
        "outputId": "7233d0d5-a844-46bb-d951-c826055177ea"
      },
      "outputs": [
        {
          "output_type": "execute_result",
          "data": {
            "text/plain": [
              "True"
            ]
          },
          "metadata": {},
          "execution_count": 40
        }
      ],
      "source": [
        "# Working with transcendental numbers\n",
        "# And my favorite equation\n",
        "\n",
        "sm.E**(sm.pi * sm.I) == -1"
      ]
    },
    {
      "cell_type": "markdown",
      "metadata": {
        "id": "fcfPQmlfX7uH"
      },
      "source": [
        "# Interesting Sets"
      ]
    },
    {
      "cell_type": "code",
      "execution_count": 41,
      "metadata": {
        "ExecuteTime": {
          "end_time": "2019-10-03T04:30:17.754418Z",
          "start_time": "2019-10-03T04:30:14.911935Z"
        },
        "scrolled": true,
        "colab": {
          "base_uri": "https://localhost:8080/"
        },
        "id": "BJfvDiIQX7uH",
        "outputId": "63814006-b950-423d-ded8-944ed31c7352"
      },
      "outputs": [
        {
          "output_type": "execute_result",
          "data": {
            "text/plain": [
              "True"
            ]
          },
          "metadata": {},
          "execution_count": 41
        }
      ],
      "source": [
        "# Python programs\n",
        "\n",
        "import ast\n",
        "\n",
        "def is_python(expr):\n",
        "    try:\n",
        "        ast.parse(expr)\n",
        "        return True\n",
        "    except:\n",
        "        return False\n",
        "\n",
        "chars = '0123456789abcdefghijklmnopqrstuvwxyzABCDEFGHIJKLMNOPQRSTUVWXYZ!\"#$%&\\'()*+,-./:;<=>?@[\\\\]^_`{|}~ '\n",
        "strings = chars\n",
        "p = { expr for expr in s if is_python(expr) }\n",
        "\n",
        "strings = [s + c for s in strings for c in chars]\n",
        "p = p.union({ s for s in strings if is_python(s)})\n",
        "\n",
        "strings = [s + c for s in strings for c in chars]\n",
        "p = p.union({ s for s in strings if is_python(s)})\n",
        "\n",
        "\"f()\" in p"
      ]
    },
    {
      "cell_type": "code",
      "execution_count": null,
      "metadata": {
        "id": "q_L7Dyr1X7uI"
      },
      "outputs": [],
      "source": []
    }
  ],
  "metadata": {
    "kernelspec": {
      "display_name": "Python 3",
      "language": "python",
      "name": "python3"
    },
    "language_info": {
      "codemirror_mode": {
        "name": "ipython",
        "version": 3
      },
      "file_extension": ".py",
      "mimetype": "text/x-python",
      "name": "python",
      "nbconvert_exporter": "python",
      "pygments_lexer": "ipython3",
      "version": "3.8.5"
    },
    "colab": {
      "provenance": []
    }
  },
  "nbformat": 4,
  "nbformat_minor": 0
}