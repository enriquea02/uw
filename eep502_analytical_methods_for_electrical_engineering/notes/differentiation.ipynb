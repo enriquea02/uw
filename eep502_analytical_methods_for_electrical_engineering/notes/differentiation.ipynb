{
 "cells": [
  {
   "cell_type": "markdown",
   "metadata": {},
   "source": [
    "## Lecture 4 Differentiation\n",
    "## Additional References\n",
    "| Subject                                           | Reference                                         |\n",
    "| ---                                               | ---                                               |\n",
    "| | |\n",
    "\n",
    "## Notation\n",
    "\n",
    "## Language\n",
    "| Math Language             | English Translation                   |\n",
    "| ---                       | ---                                   |\n",
    "| | |\n",
    "\n",
    "### Functions\n",
    "| Math Language             | English Translation                   |\n",
    "| ---                       | ---                                   |\n",
    "| | |\n",
    "\n",
    "## Dictionary\n",
    "### Vectors\n",
    "| Math Word                 | Definition                                        |\n",
    "| ---                       | ---                                               |\n",
    "| | |\n",
    "   \n",
    "### Matrices\n",
    "| Math Word                 | Definition                                                            |\n",
    "| ---                       | ---                                                                   |\n",
    "| rank                      | is the number of linearly independent rows (or columns) in a matrix   |\n",
    "\n",
    "## Notes\n",
    "### Vector Spaces\n",
    "\n",
    "### Matrices\n",
    "\n",
    "### Determinant of Matrix\n",
    "Defines the space that matrix will occupy. Visualize size through graph area encompassed. <br>\n",
    "\n",
    "Determinants for $3x3$ matrices, okay to hand eval if contains lots of zeroes. Google or $nxn$ > $3x3$.\n",
    "\n",
    "## Questions\n",
    "1. Why does a vector space equal zero when determining linear independence?\n",
    "2. How did people figure out matrix operation properities? Is it born through set operations?\n",
    "3. Do vector spaces composed of complex numbers still fall under Real Analysis?\n",
    "4. How are matrices graphed? What maps to x and y, or is it a multi-axes graph >2 axes?\n",
    "5. Is matrix rank related to vector linear independence? yes, ideal is to have a matrix $nxn$ has all linearly independent rows, meaning all rows are unique "
   ]
  },
  {
   "cell_type": "markdown",
   "metadata": {},
   "source": [
    "Note that `lam1` and `lam2` are *symbolic expressions*. To get numerical values from them, use the `N` method."
   ]
  }
 ],
 "metadata": {
  "language_info": {
   "name": "python"
  }
 },
 "nbformat": 4,
 "nbformat_minor": 2
}
