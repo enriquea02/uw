{
 "cells": [
  {
   "cell_type": "markdown",
   "metadata": {},
   "source": [
    "## Lecture 4 Linear Algebra\n",
    "## Additional References\n",
    "| Subject                                           | Reference                                         |\n",
    "| ---                                               | ---                                               |\n",
    "| | |\n",
    "\n",
    "## Notation\n",
    "\n",
    "## Language\n",
    "| Math Language             | English Translation                   |\n",
    "| ---                       | ---                                   |\n",
    "| $\\|X\\|$                   | determinant                           |\n",
    "| $det(X)$                  | determinant                           |\n",
    "\n",
    "### Functions\n",
    "| Math Language             | English Translation                   |\n",
    "| ---                       | ---                                   |\n",
    "| | |\n",
    "\n",
    "## Dictionary\n",
    "### Vectors\n",
    "| Math Word                 | Definition                                        |\n",
    "| ---                       | ---                                               |\n",
    "| subspace                  | subspace = subset of vector space                 |\n",
    "| span                      | span = num of sets of vectors                     |\n",
    "| basis                     | linearly independent set of vectors across span   |\n",
    "| vector space              | span of a basis                                   |    \n",
    "### Matrices\n",
    "| Math Word                 | Definition                                                            |\n",
    "| ---                       | ---                                                                   |\n",
    "| rank                      | is the number of linearly independent rows (or columns) in a matrix   |\n",
    "\n",
    "### Functions\n",
    "| Math Word                 | Definition                                        |\n",
    "| ---                       | ---                                               |\n",
    "| | |\n",
    "\n",
    "\n",
    "## Notes\n",
    "### Vector Spaces\n",
    "\n",
    "### Matrices\n",
    "\n",
    "### Determinant of Matrix\n",
    "Defines the space that matrix will occupy. Visualize size through graph area encompassed. <br>\n",
    "\n",
    "Determinants for $3x3$ matrices, okay to hand eval if contains lots of zeroes. Google or $nxn$ > $3x3$.\n",
    "\n",
    "## Questions\n",
    "1. Why does a vector space equal zero when determining linear independence?\n",
    "2. How did people figure out matrix operation properities? Is it born through set operations?\n",
    "3. Do vector spaces composed of complex numbers still fall under Real Analysis?\n",
    "4. How are matrices graphed? What maps to x and y, or is it a multi-axes graph >2 axes?\n",
    "5. Is matrix rank related to vector linear independence? yes, ideal is to have a matrix $nxn$ has all linearly independent rows, meaning all rows are unique "
   ]
  }
 ],
 "metadata": {
  "kernelspec": {
   "display_name": ".venv",
   "language": "python",
   "name": "python3"
  },
  "language_info": {
   "codemirror_mode": {
    "name": "ipython",
    "version": 3
   },
   "file_extension": ".py",
   "mimetype": "text/x-python",
   "name": "python",
   "nbconvert_exporter": "python",
   "pygments_lexer": "ipython3",
   "version": "3.11.9"
  }
 },
 "nbformat": 4,
 "nbformat_minor": 2
}
