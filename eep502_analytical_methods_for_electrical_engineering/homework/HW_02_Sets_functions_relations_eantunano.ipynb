{
  "cells": [
    {
      "cell_type": "markdown",
      "metadata": {
        "ExecuteTime": {
          "end_time": "2019-09-24T16:05:23.746666Z",
          "start_time": "2019-09-24T16:05:23.741461Z"
        },
        "id": "cQyrxzHgdQJP"
      },
      "source": [
        "## EE 502 P: Analytical Methods for Electrical Engineering\n",
        "    \n",
        "# Homework 2: Sets, functions, and relations\n",
        "## Due October 13, 2024 by 11:59 PM\n",
        "### <span style=\"color: red\">Enrique Antunano</span>\n",
        "\n",
        "Copyright &copy; 2024, University of Washington\n",
        "\n",
        "<hr>\n",
        "\n",
        "**Instructions**: Please use this notebook as a template. Answer all questions using well formatted Markdown with embedded LaTeX equations, executable Jupyter cells, or both. Submit your homework solutions as an `.ipynb` file via Canvas.\n",
        "\n",
        "<span style=\"color: red'\">\n",
        "Although you may discuss the homework with others, you must turn in your own, original work.\n",
        "</span>\n",
        "\n",
        "**Things to remember:**\n",
        "- Use complete sentences. Equations should appear in text as grammatical elements.\n",
        "- Comment your code.\n",
        "- Label your axes. Title your plots. Use legends where appropriate.\n",
        "- Before submitting a notebook, choose Kernel -> Restart and Run All to make sure your notebook runs when the cells are evaluated in order.\n",
        "\n",
        "Note : Late homework will be accepted up to one week after the due date and will be worth 50% of its full credit score."
      ]
    },
    {
      "cell_type": "markdown",
      "metadata": {
        "id": "9hLs-rWCdQJS"
      },
      "source": [
        "### 0. Warmup (Do not turn in)\n",
        "\n",
        "- Make sure you download and run the notebook for lecture 2. Work through the notebook, and see what happens when you change the expressions, and make up some of your own.\n",
        "- Read chapter one of [An Introduction to Real Analysis](https://www.math.ucdavis.edu/~hunter/intro_analysis_pdf/intro_analysis.html) by John K. Hunter. You can skim the sections on index sets and infinite unions and intersections.\n",
        "- Read up on [sets](https://www.w3schools.com/python/python_sets.asp), [tuples](https://www.w3schools.com/python/python_tuples.asp), and [lambdas](https://www.w3schools.com/python/python_lambda.asp) at python.org."
      ]
    },
    {
      "cell_type": "code",
      "execution_count": 1,
      "metadata": {},
      "outputs": [],
      "source": [
        "import math\n",
        "import sympy as sm\n",
        "sm.init_printing(use_latex='mathjax')\n",
        "import matplotlib.pyplot as plt\n",
        "import matplotlib.patches as pch\n",
        "%matplotlib inline"
      ]
    },
    {
      "cell_type": "markdown",
      "metadata": {
        "id": "CUReWLrbdQJT"
      },
      "source": [
        "### 1. Set properties\n",
        "\n",
        "Given the follow definitions of sets\n",
        "\n",
        "$$A = \\{1,2,3\\}$$\n",
        "$$B = \\{3,4,5\\}$$\n",
        "$$C = \\{3,4,5,6,7\\}$$\n",
        "\n",
        "determine which of the following properties hold:\n",
        "\n",
        "$$0 \\in A$$\n",
        "\n",
        "$$4 \\in B \\cap C$$\n",
        "\n",
        "$$5 \\in C-B$$\n",
        "\n",
        "$$A \\subseteq B$$\n",
        "\n",
        "$$A \\subseteq C$$\n",
        "\n",
        "$$A \\cap B \\subseteq A$$\n",
        "\n",
        "$$B \\subseteq C$$\n",
        "\n",
        "If the property holds, say why. If it does not hold, give a counterexample showing the definition is not satisfied."
      ]
    },
    {
      "cell_type": "markdown",
      "metadata": {},
      "source": [
        "1. $ 0 \\in A $ <br>\n",
        "Property does not hold. <br>\n",
        "$0$ is not an element of set $A$. Rather, the following statement would hold because 1 is an element of set $A$. <br> $ 1 \\in A $ <br>\n",
        "\n",
        "2. $ 4 \\in B \\cap C $ <br>\n",
        "Property holds. <br>\n",
        "The following values are common to both sets {3,4,5}. Meaning 4 is an element of the resulting set from the intersection of B and C. <br>\n",
        "\n",
        "3. $ 5 \\in C - B $ <br>\n",
        "Property does not hold. <br>\n",
        "$R = C-B$ = {6,7} and 5 is not an element of the $R$ set. Rather, the following statement would hold because 6 is an element of set $R$. <br> $ 6 \\in R $ <br>\n",
        "\n",
        "4. $ A \\subseteq B $ <br>\n",
        "Property does not hold. <br>\n",
        "D = {3,4} would be a subset of set B = {3,4,5} because $\\forall d(d \\in D \\rightarrow d \\in B) $ <br>\n",
        "\n",
        "5. $ A \\subseteq C $ <br>\n",
        "Property does not hold. <br>\n",
        "D = {6} would be subset of set C = {3,4,5,6,7} because $ \\forall d(d \\in D \\rightarrow d \\in C) $ <br> \n",
        "\n",
        "6. $ A \\cap B \\subseteq A $ <br>\n",
        "Property holds. <br>\n",
        "$R= A \\cap B$. <br> \n",
        "$R= \\{ \\varnothing, 3 \\}$ and $A = \\{ \\varnothing, 1, 2, 3 \\}$, thus all set elements in set $R$ can also be found in set $A$. <br>\n",
        "$ \\forall r(r \\in R \\rightarrow r \\in A) $ <br>\n",
        "\n",
        "7. $ B \\subseteq C $ <br>\n",
        "Property holds. <br>\n",
        "$ \\forall b(b \\in B \\rightarrow b \\in C) $ <br>"
      ]
    },
    {
      "cell_type": "markdown",
      "metadata": {
        "id": "nXbPOilfdQJU"
      },
      "source": [
        "### 2. Set operations\n",
        "\n",
        "Let $A = \\{ 1,2,3,4,5 \\}$ and $B = \\{ 0,3,6 \\}$. Find\n",
        "\n",
        "a) $A \\cup B$\n",
        "\n",
        "b) $A \\cap B$\n",
        "\n",
        "c) $A - B$\n",
        "\n",
        "d) $B - A$\n",
        "\n",
        "Verify your results using Python sets."
      ]
    },
    {
      "cell_type": "code",
      "execution_count": 9,
      "metadata": {},
      "outputs": [
        {
          "name": "stdout",
          "output_type": "stream",
          "text": [
            "{0, 1, 2, 3, 4, 5, 6}\n",
            "{3}\n",
            "{1, 2, 4, 5}\n",
            "{0, 6}\n"
          ]
        }
      ],
      "source": [
        "# Declare sets A and B\n",
        "A = { 1, 2, 3 ,4, 5 }\n",
        "B = { 0, 3, 6}\n",
        "# a) Find union of sets A and B\n",
        "AuB = A.union(B); print(AuB)\n",
        "# b) Find insersection of sets A and B\n",
        "AnB = A.intersection(B); print(AnB)\n",
        "# c) Find A minus B\n",
        "AmB = A.difference(B); print(AmB)\n",
        "# d) Find B minus A\n",
        "BmA = B.difference(A); print(BmA)"
      ]
    },
    {
      "cell_type": "markdown",
      "metadata": {
        "id": "cfi9QnwjdQJV"
      },
      "source": [
        "### 3. Set Proofs\n",
        "\n",
        "Using the definitions of the set operations, the definition of the subset relation, and basic logic, show the following are true.\n",
        "\n",
        "a) $A - B \\subseteq A$\n",
        "\n",
        "b) $A \\cap (B-A) = \\varnothing$\n",
        "\n",
        "c) $A \\cup (B-A) = A \\cup B$\n",
        "\n",
        "Show examples using small sets in Python illustrating each property."
      ]
    },
    {
      "cell_type": "markdown",
      "metadata": {
        "ExecuteTime": {
          "end_time": "2019-09-30T20:21:35.986395Z",
          "start_time": "2019-09-30T20:21:35.964585Z"
        },
        "id": "z6Ck3kLddQJW"
      },
      "source": [
        "### 4. Cartesian Products\n",
        "\n",
        "a) If $A_i$ has $n_i$ elements, how many elements does $A_1 \\times A_2 \\times \\dots A_n$ have? Why?\n",
        "\n",
        "b) Give an example where the numbers of elements in $A_1 \\times A_2 \\times \\dots A_n$ is 1.\n",
        "\n",
        "c) Give examples of nonempty sets $A$ and $B$ where $A \\times B = B \\times A$."
      ]
    },
    {
      "cell_type": "markdown",
      "metadata": {},
      "source": [
        "#### 4. Cartesian Products - Response\n",
        "a) There would be $\\Pi_{i = 1}^n n_i$ elements of a $n$-set cartesian product, each element being a $n$-tuple. Each element of the output set consists of an element of the input set $A$ paired with an element of set $B$. This process repeats for cartesian products of multiple sets too.  <br>\n",
        "b) The cartesian product of a set $\\mathcal{C}$, which is a set of sets,$ \\text{ is equal to 1 if } x_i $ for each set in set $\\mathcal{C}$ only consists of one element each. Look at code below for an example. <br>\n",
        "c) Assume $ A = B $. Look at code block below for an example.\n",
        "\n"
      ]
    },
    {
      "cell_type": "code",
      "execution_count": 38,
      "metadata": {},
      "outputs": [
        {
          "name": "stdout",
          "output_type": "stream",
          "text": [
            "{(1, 2, 3)}\n",
            "Print number of elements in set C:  1\n",
            "{(4, 4), (2, 4), (1, 2), (2, 1), (3, 4), (4, 1), (3, 1), (4, 3), (1, 1), (1, 4), (4, 2), (2, 3), (3, 3), (2, 2), (3, 2), (1, 3)}\n",
            "{(4, 4), (2, 4), (1, 2), (2, 1), (3, 4), (4, 1), (3, 1), (4, 3), (1, 1), (1, 4), (4, 2), (2, 3), (3, 3), (2, 2), (3, 2), (1, 3)}\n",
            "'True' indicates sets A and B ae equal:  True\n"
          ]
        }
      ],
      "source": [
        "# define cartesian product function\n",
        "def cartesian_product(A,B):\n",
        "    return {(a,b) for a in A for b in B}\n",
        "\n",
        "# define cartesian product function when doing three sets\n",
        "def cartesian_product_three_sets(A,B,C):\n",
        "    return {(a,b,c) for a in A for b in B for c in C}\n",
        "\n",
        "# continue with 4.b) example\n",
        "J = {1}; K = {2}; L = {3} # declare three sets of only one element each\n",
        "C = cartesian_product_three_sets(J,K,L)\n",
        "print(C)\n",
        "print(\"Print number of elements in set C: \", len(C))\n",
        "\n",
        "# continue with 4.c) example\n",
        "A = {1, 2, 3, 4}\n",
        "B = A\n",
        "AxB = cartesian_product(A,B); print(AxB)\n",
        "BxA = cartesian_product(B,A); print(BxA)\n",
        "\n",
        "# write function to check that sets are equal for 4.c)\n",
        "pass1_fail0 = 1\n",
        "AxB_list = list(AxB)\n",
        "BxA_list = list(BxA)\n",
        "\n",
        "for i in range(len(AxB)):\n",
        "    pass1_fail0 = pass1_fail0 and ((AxB_list[i] == BxA_list[i]))\n",
        "print(\"'True' indicates sets A and B ae equal: \",pass1_fail0)"
      ]
    },
    {
      "cell_type": "markdown",
      "metadata": {
        "id": "ial2ZwGddQJX"
      },
      "source": [
        "### 5. Function Properties\n",
        "\n",
        "Plot each of the following functions from $\\mathbb{Z}$ to $\\mathbb{Z}$ over a representative subdomain (use points and not a line since the domain is $\\mathbb{Z}$).\n",
        "What is the range of each function? State which of them are injective, which are surjective, and which are bijective.\n",
        "For functions for which a given property holds, explain why. For functions for which the given property does not hold, give a counterexample.\n",
        "\n",
        "a) $f(n) = n-1$\n",
        "\n",
        "b) $f(n) = n^3$\n",
        "\n",
        "c) $f(n) = n^2 + 1$"
      ]
    },
    {
      "cell_type": "markdown",
      "metadata": {
        "id": "K4BNAgbWdQJY"
      },
      "source": [
        "### 6. Composition\n",
        "\n",
        "a) Suppose that $f(x) = x^2 + 1$ and $g(x) = e^x$ are functions from $\\mathbb{R}$ into $\\mathbb{R}$. Find $f \\circ g$ and $g \\circ f$ and plot them in Python (on the same axis to compare).\n",
        "\n",
        "b) Suppose $f(x) = a x + b$ and $g(x) = c x + d$ are functions from $\\mathbb{R}$ into $\\mathbb{R}$. Find constants $a$, $b$, $c$ and $d$ such that $f \\circ g = g \\circ f$."
      ]
    },
    {
      "cell_type": "markdown",
      "metadata": {
        "id": "F17Wngr5dQJY"
      },
      "source": [
        "### 7. Relations\n",
        "\n",
        "Define the relation $R$ on $\\mathbb{N} \\times \\mathbb{N}$ saying that $x \\; R\\; y$ if and only if the binary representations of $x$ and $y$ have the same number of ones. For example, $15 \\; R \\; 23$ since $15$ in binary is $1111$ and $23$ in binary is $10111$, which both have four ones.\n",
        "\n",
        "Show that $R$ is an equivalence relation.\n"
      ]
    },
    {
      "cell_type": "markdown",
      "metadata": {
        "id": "dA6ub9GjdQJZ"
      },
      "source": [
        "### 8. Sets, Functions, and Relations in Python\n",
        "\n",
        "Express each of the following objects in Python.\n",
        "\n",
        "a) The set of $P$ prime numbers less than 100.\n",
        "\n",
        "b) The function $f: \\{1,2,3,4,5,6\\} \\rightarrow \\{0,1\\}$ in which $f(x) = 0$ if $x$ is even and $f(x)=1$ if $x$ is odd, expressed as a dictionary."
      ]
    }
  ],
  "metadata": {
    "colab": {
      "provenance": []
    },
    "kernelspec": {
      "display_name": "Python 3",
      "language": "python",
      "name": "python3"
    },
    "language_info": {
      "codemirror_mode": {
        "name": "ipython",
        "version": 3
      },
      "file_extension": ".py",
      "mimetype": "text/x-python",
      "name": "python",
      "nbconvert_exporter": "python",
      "pygments_lexer": "ipython3",
      "version": "3.11.9"
    }
  },
  "nbformat": 4,
  "nbformat_minor": 0
}
