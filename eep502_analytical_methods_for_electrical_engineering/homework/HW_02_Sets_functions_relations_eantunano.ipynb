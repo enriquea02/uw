{
  "cells": [
    {
      "cell_type": "markdown",
      "metadata": {
        "ExecuteTime": {
          "end_time": "2019-09-24T16:05:23.746666Z",
          "start_time": "2019-09-24T16:05:23.741461Z"
        },
        "id": "cQyrxzHgdQJP"
      },
      "source": [
        "## EE 502 P: Analytical Methods for Electrical Engineering\n",
        "    \n",
        "# Homework 2: Sets, functions, and relations\n",
        "## Due October 13, 2024 by 11:59 PM\n",
        "### <span style=\"color: red\">Enrique Antunano</span>\n",
        "\n",
        "Copyright &copy; 2024, University of Washington\n",
        "\n",
        "<hr>\n",
        "\n",
        "**Instructions**: Please use this notebook as a template. Answer all questions using well formatted Markdown with embedded LaTeX equations, executable Jupyter cells, or both. Submit your homework solutions as an `.ipynb` file via Canvas.\n",
        "\n",
        "<span style=\"color: red'\">\n",
        "Although you may discuss the homework with others, you must turn in your own, original work.\n",
        "</span>\n",
        "\n",
        "**Things to remember:**\n",
        "- Use complete sentences. Equations should appear in text as grammatical elements.\n",
        "- Comment your code.\n",
        "- Label your axes. Title your plots. Use legends where appropriate.\n",
        "- Before submitting a notebook, choose Kernel -> Restart and Run All to make sure your notebook runs when the cells are evaluated in order.\n",
        "\n",
        "Note : Late homework will be accepted up to one week after the due date and will be worth 50% of its full credit score."
      ]
    },
    {
      "cell_type": "markdown",
      "metadata": {
        "id": "9hLs-rWCdQJS"
      },
      "source": [
        "### 0. Warmup (Do not turn in)\n",
        "\n",
        "- Make sure you download and run the notebook for lecture 2. Work through the notebook, and see what happens when you change the expressions, and make up some of your own.\n",
        "- Read chapter one of [An Introduction to Real Analysis](https://www.math.ucdavis.edu/~hunter/intro_analysis_pdf/intro_analysis.html) by John K. Hunter. You can skim the sections on index sets and infinite unions and intersections.\n",
        "- Read up on [sets](https://www.w3schools.com/python/python_sets.asp), [tuples](https://www.w3schools.com/python/python_tuples.asp), and [lambdas](https://www.w3schools.com/python/python_lambda.asp) at python.org."
      ]
    },
    {
      "cell_type": "code",
      "execution_count": 1,
      "metadata": {},
      "outputs": [],
      "source": [
        "import math\n",
        "import sympy as sm\n",
        "sm.init_printing(use_latex='mathjax')\n",
        "import matplotlib.pyplot as plt\n",
        "import matplotlib.patches as pch\n",
        "%matplotlib inline"
      ]
    },
    {
      "cell_type": "markdown",
      "metadata": {
        "id": "CUReWLrbdQJT"
      },
      "source": [
        "### 1. Set properties\n",
        "\n",
        "Given the follow definitions of sets\n",
        "\n",
        "$$A = \\{1,2,3\\}$$\n",
        "$$B = \\{3,4,5\\}$$\n",
        "$$C = \\{3,4,5,6,7\\}$$\n",
        "\n",
        "determine which of the following properties hold:\n",
        "\n",
        "$$0 \\in A$$\n",
        "\n",
        "$$4 \\in B \\cap C$$\n",
        "\n",
        "$$5 \\in C-B$$\n",
        "\n",
        "$$A \\subseteq B$$\n",
        "\n",
        "$$A \\subseteq C$$\n",
        "\n",
        "$$A \\cap B \\subseteq A$$\n",
        "\n",
        "$$B \\subseteq C$$\n",
        "\n",
        "If the property holds, say why. If it does not hold, give a counterexample showing the definition is not satisfied."
      ]
    },
    {
      "cell_type": "markdown",
      "metadata": {},
      "source": [
        "1. $ 0 \\in A $ <br>\n",
        "Property does not hold. <br>\n",
        "$0$ is not an element of set $A$. Rather, the following statement would hold because 1 is an element of set $A$. <br> $ 1 \\in A $ <br>\n",
        "\n",
        "2. $ 4 \\in B \\cap C $ <br>\n",
        "Property holds. <br>\n",
        "The following values are common to both sets {3,4,5}. Meaning 4 is an element of the resulting set from the intersection of B and C. <br>\n",
        "\n",
        "3. $ 5 \\in C - B $ <br>\n",
        "Property does not hold. <br>\n",
        "$R = C-B$ = {6,7} and 5 is not an element of the $R$ set. Rather, the following statement would hold because 6 is an element of set $R$. <br> $ 6 \\in R $ <br>\n",
        "\n",
        "4. $ A \\subseteq B $ <br>\n",
        "Property does not hold. <br>\n",
        "D = {3,4} would be a subset of set B = {3,4,5} because $\\forall d(d \\in D \\rightarrow d \\in B) $ <br>\n",
        "\n",
        "5. $ A \\subseteq C $ <br>\n",
        "Property does not hold. <br>\n",
        "D = {6} would be subset of set C = {3,4,5,6,7} because $ \\forall d(d \\in D \\rightarrow d \\in C) $ <br> \n",
        "\n",
        "6. $ A \\cap B \\subseteq A $ <br>\n",
        "Property holds. <br>\n",
        "$R= A \\cap B$. <br> \n",
        "$R= \\{ \\varnothing, 3 \\}$ and $A = \\{ \\varnothing, 1, 2, 3 \\}$, thus all set elements in set $R$ can also be found in set $A$. <br>\n",
        "$ \\forall r(r \\in R \\rightarrow r \\in A) $ <br>\n",
        "\n",
        "7. $ B \\subseteq C $ <br>\n",
        "Property holds. <br>\n",
        "$ \\forall b(b \\in B \\rightarrow b \\in C) $ <br>"
      ]
    },
    {
      "cell_type": "markdown",
      "metadata": {
        "id": "nXbPOilfdQJU"
      },
      "source": [
        "### 2. Set operations\n",
        "\n",
        "Let $A = \\{ 1,2,3,4,5 \\}$ and $B = \\{ 0,3,6 \\}$. Find\n",
        "\n",
        "a) $A \\cup B$\n",
        "\n",
        "b) $A \\cap B$\n",
        "\n",
        "c) $A - B$\n",
        "\n",
        "d) $B - A$\n",
        "\n",
        "Verify your results using Python sets."
      ]
    },
    {
      "cell_type": "code",
      "execution_count": 2,
      "metadata": {},
      "outputs": [
        {
          "name": "stdout",
          "output_type": "stream",
          "text": [
            "{0, 1, 2, 3, 4, 5, 6}\n",
            "{3}\n",
            "{1, 2, 4, 5}\n",
            "{0, 6}\n"
          ]
        }
      ],
      "source": [
        "# Declare sets A and B\n",
        "A = { 1, 2, 3 ,4, 5 }\n",
        "B = { 0, 3, 6}\n",
        "# a) Find union of sets A and B\n",
        "AuB = A.union(B); print(AuB)\n",
        "# b) Find insersection of sets A and B\n",
        "AnB = A.intersection(B); print(AnB)\n",
        "# c) Find A minus B\n",
        "AmB = A.difference(B); print(AmB)\n",
        "# d) Find B minus A\n",
        "BmA = B.difference(A); print(BmA)"
      ]
    },
    {
      "cell_type": "markdown",
      "metadata": {
        "id": "cfi9QnwjdQJV"
      },
      "source": [
        "### 3. Set Proofs\n",
        "\n",
        "Using the definitions of the set operations, the definition of the subset relation, and basic logic, show the following are true.\n",
        "\n",
        "a) $A - B \\subseteq A$\n",
        "\n",
        "b) $A \\cap (B-A) = \\varnothing$\n",
        "\n",
        "c) $A \\cup (B-A) = A \\cup B$\n",
        "\n",
        "Show examples using small sets in Python illustrating each property."
      ]
    },
    {
      "cell_type": "markdown",
      "metadata": {},
      "source": [
        "a) The set-difference of two sets $A$ and $B$ is the set of elements of $A$ that do not belong to $B$, $$ R = A \\setminus B = {x \\in A : x \\notin B} $$ <br> With set-difference in mind, we can use the definition of subset relation, $ \\forall r \\{r \\in R \\rightarrow r \\in A \\} $, to reason that the new set $A-B$ created with elements exclusively from set $A$ must be a subset of $A$ \n",
        "<br><br>\n",
        "b) Breaking the set operations above, lets focus on $B-A$ first. The set-difference of two sets $B$ and $A$ is the set of elements exclusive to $B$ that are not shared with $A$. Refer to the set-difference formula above as an example. <br>\n",
        "Taking the set-difference of $B \\setminus A$ means that there are no common elements between sets $A$ and $B$. Thus, $A$ is disjoint from $ B \\setminus A $ and their resulting set is an empty set, $ \\varnothing $, since all sets contain one set with no elements.\n",
        "<br><br>\n",
        "c) Breaking the set operations above, lets focus on $B-A$ first. The set-difference of two sets $B$ and $A$ is the set of elements exclusive to $B$ that are not shared with $A$. Refer to the set-difference formula from a) as an example. <br>\n",
        "Inferring from the set-difference of $ B \\setminus A $, this means that set $A$ has all the elements exclusive to set $A$ and all the elements common to sets $A$ and $B$. This means $ A \\cup (B \\setminus A) $ has all the elements of sets $A$ and $B$, which matches the definition of a $ \\cup $ since $x \\in A \\text{ or } B $ <br>"
      ]
    },
    {
      "cell_type": "code",
      "execution_count": 3,
      "metadata": {},
      "outputs": [
        {
          "name": "stdout",
          "output_type": "stream",
          "text": [
            "{1, 2, 4, 5}\n",
            "{0, 6}\n",
            "set()\n",
            "{0, 1, 2, 3, 4, 5, 6}\n"
          ]
        }
      ],
      "source": [
        "# Python examples illustrating each property\n",
        "\n",
        "# Declare sets A and B\n",
        "A = { 1, 2, 3 ,4, 5 }\n",
        "B = { 0, 3, 6}\n",
        "\n",
        "# a) A - B is a subset of A\n",
        "AdB = A.difference(B); print (AdB)\n",
        "\n",
        "# Find difference between set B and A for b) and c)\n",
        "BdA = B.difference(A); print (BdA)\n",
        "\n",
        "# b) The intersection of set A with the difference of sets B - A is equal to an empty set\n",
        "AnBdA = A.intersection(BdA); print (AnBdA)\n",
        "\n",
        "# c) The union of set A with the differnce of sets B - A is equal to the union of sets A and B\n",
        "AuBdA = A.union(BdA); print (AuBdA)"
      ]
    },
    {
      "cell_type": "markdown",
      "metadata": {
        "ExecuteTime": {
          "end_time": "2019-09-30T20:21:35.986395Z",
          "start_time": "2019-09-30T20:21:35.964585Z"
        },
        "id": "z6Ck3kLddQJW"
      },
      "source": [
        "### 4. Cartesian Products\n",
        "\n",
        "a) If $A_i$ has $n_i$ elements, how many elements does $A_1 \\times A_2 \\times \\dots A_n$ have? Why?\n",
        "\n",
        "b) Give an example where the numbers of elements in $A_1 \\times A_2 \\times \\dots A_n$ is 1.\n",
        "\n",
        "c) Give examples of nonempty sets $A$ and $B$ where $A \\times B = B \\times A$."
      ]
    },
    {
      "cell_type": "markdown",
      "metadata": {},
      "source": [
        "#### 4. Cartesian Products - Response\n",
        "a) There would be $\\Pi_{n = 1}^n n_i$ elements of a $n$-set cartesian product, each element being a $n$-tuple. Each element of the output set consists of an element of the input set $A$ paired with an element of set $B$. This process repeats for cartesian products of multiple sets too.  <br>\n",
        "b) The cartesian product of a set $\\mathcal{C}$, which is a set of sets,$ \\text{ is equal to 1 if } x_i $ for each set in set $\\mathcal{C}$ only consists of one element each. Look at code below for an example. <br>\n",
        "c) Assume $ A = B $. Look at code block below for an example.\n",
        "\n"
      ]
    },
    {
      "cell_type": "code",
      "execution_count": 4,
      "metadata": {},
      "outputs": [
        {
          "name": "stdout",
          "output_type": "stream",
          "text": [
            "{(1, 2, 3)}\n",
            "Print number of elements in set C:  1\n",
            "{(4, 4), (2, 4), (1, 2), (2, 1), (3, 4), (4, 1), (3, 1), (4, 3), (1, 1), (1, 4), (4, 2), (2, 3), (3, 3), (2, 2), (3, 2), (1, 3)}\n",
            "{(4, 4), (2, 4), (1, 2), (2, 1), (3, 4), (4, 1), (3, 1), (4, 3), (1, 1), (1, 4), (4, 2), (2, 3), (3, 3), (2, 2), (3, 2), (1, 3)}\n",
            "'True' indicates sets A and B ae equal:  True\n"
          ]
        }
      ],
      "source": [
        "# define cartesian product function\n",
        "def cartesian_product(A,B):\n",
        "    return {(a,b) for a in A for b in B}\n",
        "\n",
        "# define cartesian product function when doing three sets\n",
        "def cartesian_product_three_sets(A,B,C):\n",
        "    return {(a,b,c) for a in A for b in B for c in C}\n",
        "\n",
        "# continue with 4.b) example\n",
        "J = {1}; K = {2}; L = {3} # declare three sets of only one element each\n",
        "C = cartesian_product_three_sets(J,K,L)\n",
        "print(C)\n",
        "print(\"Print number of elements in set C: \", len(C))\n",
        "\n",
        "# continue with 4.c) example\n",
        "A = {1, 2, 3, 4}\n",
        "B = A\n",
        "AxB = cartesian_product(A,B); print(AxB)\n",
        "BxA = cartesian_product(B,A); print(BxA)\n",
        "\n",
        "# write function to check that sets are equal for 4.c)\n",
        "pass1_fail0 = 1\n",
        "AxB_list = list(AxB)\n",
        "BxA_list = list(BxA)\n",
        "\n",
        "for n in range(len(AxB)):\n",
        "    pass1_fail0 = pass1_fail0 and ((AxB_list[n] == BxA_list[n]))\n",
        "print(\"'True' indicates sets A and B ae equal: \",pass1_fail0)"
      ]
    },
    {
      "cell_type": "markdown",
      "metadata": {
        "id": "ial2ZwGddQJX"
      },
      "source": [
        "### 5. Function Properties\n",
        "\n",
        "Plot each of the following functions from $\\mathbb{Z}$ to $\\mathbb{Z}$ over a representative subdomain (use points and not a line since the domain is $\\mathbb{Z}$).\n",
        "What is the range of each function? State which of them are injective, which are surjective, and which are bijective.\n",
        "For functions for which a given property holds, explain why. For functions for which the given property does not hold, give a counterexample.\n",
        "\n",
        "a) $f(n) = n-1$\n",
        "\n",
        "b) $f(n) = n^3$\n",
        "\n",
        "c) $f(n) = n^2 + 1$"
      ]
    },
    {
      "cell_type": "code",
      "execution_count": 5,
      "metadata": {},
      "outputs": [
        {
          "data": {
            "text/plain": [
              "<function matplotlib.pyplot.show(close=None, block=None)>"
            ]
          },
          "execution_count": 5,
          "metadata": {},
          "output_type": "execute_result"
        },
        {
          "data": {
            "image/png": "[encoded data removed]",
            "text/plain": [
              "<Figure size 640x480 with 1 Axes>"
            ]
          },
          "metadata": {},
          "output_type": "display_data"
        }
      ],
      "source": [
        "def n_minus_one(d_set_lbound_i,d_set_ubound_i):\n",
        "    \"\"\"Function takes a lower bound and upper bound for the Domain (n) and plots a codomain value (n^3) for each integer from the lower bound to the upper bound.\n",
        "    \n",
        "    Bounds are inclusive. Domain step size is 1.\n",
        "\n",
        "    --------------------------------\n",
        "    \n",
        "    Interface Control Document (ICD)\n",
        "    | I/O    | Signal Name        | Type            | Description                                                                                                                           |\n",
        "    | ---    | ---                | ---             | ---                                                                                                                                   |\n",
        "    | input  | d_set_lbound_i     | int             | First domain value that will mapped to the codmain                                                                                    |\n",
        "    | input  | d_set_ubound_i     | int             | Last domain value that will mapped to the codmain                                                                                     |\n",
        "    | ouput  | cod_set_o          | sympy.set       | Set of codomain values that were mapped from the set of domain values.                                                                |\n",
        "\n",
        "    --------------------------------\n",
        "\n",
        "    No exceptions were written for this method.\n",
        "    \"\"\"\n",
        "\n",
        "    cod_set_o = [\n",
        "        (\n",
        "            n,\n",
        "            (n-1)\n",
        "        ) for n in range(d_set_lbound_i,(d_set_ubound_i+1),1) # domain step size is 1\n",
        "    ]\n",
        "    return cod_set_o\n",
        "\n",
        "def n_cubed(d_set_lbound_i,d_set_ubound_i):\n",
        "    \"\"\"Function takes a lower bound and upper bound for the Domain (n) and plots a codomain value (n-1) for each integer from the lower bound to the upper bound.\n",
        "    \n",
        "    Bounds are inclusive. Domain step size is 1.\n",
        "\n",
        "    --------------------------------\n",
        "    \n",
        "    Interface Control Document (ICD)\n",
        "    | I/O    | Signal Name        | Type            | Description                                                                                                                           |\n",
        "    | ---    | ---                | ---             | ---                                                                                                                                   |\n",
        "    | input  | d_set_lbound_i     | int             | First domain value that will mapped to the codmain                                                                                    |\n",
        "    | input  | d_set_ubound_i     | int             | Last domain value that will mapped to the codmain                                                                                     |\n",
        "    | ouput  | cod_set_o          | sympy.set       | Set of codomain values that were mapped from the set of domain values.                                                                |\n",
        "\n",
        "    --------------------------------\n",
        "\n",
        "    No exceptions were written for this method.\n",
        "    \"\"\"\n",
        "\n",
        "    cod_set_o = [\n",
        "        (\n",
        "            n,\n",
        "            (n**3)\n",
        "        ) for n in range(d_set_lbound_i,(d_set_ubound_i+1),1) # domain step size is 1\n",
        "    ]\n",
        "    return cod_set_o\n",
        "\n",
        "def n_sqrd_plus_one(d_set_lbound_i,d_set_ubound_i):\n",
        "    \"\"\"Function takes a lower bound and upper bound for the Domain (n) and plots a codomain value ((n^2)+1) for each integer from the lower bound to the upper bound.\n",
        "    \n",
        "    Bounds are inclusive. Domain step size is 1.\n",
        "\n",
        "    --------------------------------\n",
        "    \n",
        "    Interface Control Document (ICD)\n",
        "    | I/O    | Signal Name        | Type            | Description                                                                                                                           |\n",
        "    | ---    | ---                | ---             | ---                                                                                                                                   |\n",
        "    | input  | d_set_lbound_i     | int             | First domain value that will mapped to the codmain                                                                                    |\n",
        "    | input  | d_set_ubound_i     | int             | Last domain value that will mapped to the codmain                                                                                     |\n",
        "    | ouput  | cod_set_o          | sympy.set       | Set of codomain values that were mapped from the set of domain values.                                                                |\n",
        "\n",
        "    --------------------------------\n",
        "\n",
        "    No exceptions were written for this method.\n",
        "    \"\"\"\n",
        "\n",
        "    cod_set_o = [\n",
        "        (\n",
        "            n,\n",
        "            ((n**2)+1)\n",
        "        ) for n in range(d_set_lbound_i,(d_set_ubound_i+1),1) # domain step size is 1\n",
        "    ]\n",
        "    return cod_set_o\n",
        "\n",
        "# gather plot values\n",
        "d_set_lbound = -10; d_set_ubound = 10\n",
        "f1_points = n_minus_one(d_set_lbound,d_set_ubound)\n",
        "f1_x = [ f1_points[n][0] for n in range((d_set_ubound-d_set_lbound)+1) ]\n",
        "f1_y = [ f1_points[n][1] for n in range((d_set_ubound-d_set_lbound)+1) ]\n",
        "# plot n-1 function\n",
        "plt.scatter(f1_x,f1_y)\n",
        "plt.xlabel(\"x-axis - domain\")\n",
        "plt.ylabel(\"y-axis - codomain\")\n",
        "\n",
        "# gather plot values\n",
        "d_set_lbound = -2; d_set_ubound = 2 # tight range so the values between -1 and 1 can be observed.\n",
        "f2_points = n_cubed(d_set_lbound,d_set_ubound)\n",
        "f2_x = [ f2_points[n][0] for n in range((d_set_ubound-d_set_lbound)+1) ]\n",
        "f2_y = [ f2_points[n][1] for n in range((d_set_ubound-d_set_lbound)+1) ]\n",
        "# plot n^3 function\n",
        "plt.scatter(f2_x,f2_y, c=\"orange\",\n",
        "    marker =\"^\", \n",
        "    edgecolor =\"black\", \n",
        "    s = 50)\n",
        "\n",
        "# gather plot values\n",
        "d_set_lbound = -4; d_set_ubound = 4 # tight range so the values between -1 and 1 can be observed.\n",
        "f3_points = n_sqrd_plus_one(d_set_lbound,d_set_ubound)\n",
        "f3_x = [ f3_points[n][0] for n in range((d_set_ubound-d_set_lbound)+1) ]\n",
        "f3_y = [ f3_points[n][1] for n in range((d_set_ubound-d_set_lbound)+1) ]\n",
        "# plot (n^2)+1 function\n",
        "plt.scatter(f3_x,f3_y, c=\"yellow\",\n",
        "    marker =\"s\", \n",
        "    edgecolor =\"black\", \n",
        "    s = 50)\n",
        "plt.legend([\"n-1\",\"n^3\",\"(n^2)+1\"])\n",
        "plt.title(\"Function Properties Plots\\n\");\n",
        "plt.show"
      ]
    },
    {
      "cell_type": "markdown",
      "metadata": {},
      "source": [
        "a) Bijective function. <br> \n",
        "   Range is defined as $Y = \\{ y|y \\text{ is an integer between -11 and 9, inclusive of both bounds } \\} $ <br>\n",
        "   Function is bijective because <br> \n",
        "   1) all $ x \\in X \\text{ and } x_1 \\neq x_2 \\text{ results in a } f(x_1) \\neq f(x_2) \\text{ across all values in set } Y $, meaning it's injective since function is one-to-one <br> \n",
        "   2) for every $ y \\in Y \\text{ there exists an } x \\in X \\text{ such that } y = f(x)$, meaning the set is surjective since all elements Y map onto an element X <br>\n",
        "\n",
        "b) Injective function. <br>\n",
        "   Range is defined as $Y = \\{ y|y \\text{ is an integer between -8 and 8 that can be cube rooted back into an integer, inclusive of both bounds} \\} $ <br>\n",
        "   \n",
        "\n",
        "c) Surjective function. <br>\n",
        "   Range is defined as $Y = \\{ y|y \\text{ is an integer between 1 and 17 that can be subtracted by 1 and square rooted back into an integer, inclusive of both bounds} \\} $ <br>"
      ]
    },
    {
      "cell_type": "markdown",
      "metadata": {
        "id": "K4BNAgbWdQJY"
      },
      "source": [
        "### 6. Composition\n",
        "\n",
        "a) Suppose that $f(x) = x^2 + 1$ and $g(x) = e^x$ are functions from $\\mathbb{R}$ into $\\mathbb{R}$. Find $f \\circ g$ and $g \\circ f$ and plot them in Python (on the same axis to compare).\n",
        "\n",
        "b) Suppose $f(x) = a x + b$ and $g(x) = c x + d$ are functions from $\\mathbb{R}$ into $\\mathbb{R}$. Find constants $a$, $b$, $c$ and $d$ such that $f \\circ g = g \\circ f$."
      ]
    },
    {
      "cell_type": "code",
      "execution_count": 6,
      "metadata": {},
      "outputs": [
        {
          "name": "stdout",
          "output_type": "stream",
          "text": [
            "Answer to f(g(x)) a.1) {1: 2.0, 2: 8.389056098930649, 3: 55.59815003314424, 4: 404.4287934927351}\n",
            "Answer to g(f(x)) a.2) {1: 2.718281828459045, 2: 7.38905609893065, 3: 148.4131591025766, 4: 22026.465794806718}\n",
            "Answer to f(g(x)) b.1) {1: 2.5, 2: 3.25, 3: 3.0, 4: 3.25, 5: 3.5}\n",
            "Answer to g(f(x)) b.2) {1: 2.5, 2: 3.25, 3: 3.0, 4: 3.25, 5: 3.5}\n"
          ]
        }
      ],
      "source": [
        "# get the domain values\n",
        "def domain(F):\n",
        "    return set(F.keys())\n",
        "\n",
        "# create the function composition\n",
        "def compose(F,G,x):\n",
        "    composed_func = F(G(x))\n",
        "    return composed_func\n",
        "\n",
        "# solve for all the codomain for each element in the range of the domain set\n",
        "def compose_set(F,G,domain_set):\n",
        "    H = {}\n",
        "    for i in domain(domain_set):\n",
        "        H[i] = compose(F,G,domain_set[i])\n",
        "    return H\n",
        "\n",
        "# a\n",
        "domain_set_a = {1: 0, 2: 1, 3: 2, 4: 3}\n",
        "F = lambda x : ((x**2)+1)\n",
        "G = lambda x : math.exp(x)\n",
        "\n",
        "A1 = compose_set(F,G,domain_set_a)\n",
        "A2 = compose_set(G,F,domain_set_a)\n",
        "print(\"Answer to f(g(x)) a.1)\", A1)\n",
        "print(\"Answer to g(f(x)) a.2)\", A2)\n",
        "\n",
        "# b\n",
        "domain_set_b = {1: -2, 2: 1, 3: 0, 4: 1, 5: 2}\n",
        "F = lambda x : ((0.5*x)+2)\n",
        "G = lambda x : ((0.5*x)+2)\n",
        "# Constant values don't matter, as long as a = c and b = d\n",
        "B1 = compose_set(F,G,domain_set_b)\n",
        "B2 = compose_set(G,F,domain_set_b)\n",
        "print(\"Answer to f(g(x)) b.1)\", B1)\n",
        "print(\"Answer to g(f(x)) b.2)\", B2)"
      ]
    },
    {
      "cell_type": "code",
      "execution_count": 7,
      "metadata": {},
      "outputs": [
        {
          "data": {
            "text/plain": [
              "<function matplotlib.pyplot.show(close=None, block=None)>"
            ]
          },
          "execution_count": 7,
          "metadata": {},
          "output_type": "execute_result"
        },
        {
          "data": {
            "image/png": "[encoded data removed]",
            "text/plain": [
              "<Figure size 640x480 with 1 Axes>"
            ]
          },
          "metadata": {},
          "output_type": "display_data"
        }
      ],
      "source": [
        "x_val  = [ domain_set_a[i] for i in domain(domain_set_a) ]\n",
        "fgx_y_val = [ A1[i] for i in domain(A1) ] # f(g(x))\n",
        "gfx_y_val = [ A2[i] for i in domain(A2) ] # g(f(x))\n",
        "\n",
        "# plot f(g(x)) function\n",
        "plt.scatter(x_val,fgx_y_val, c=\"yellow\",\n",
        "    marker =\"s\", \n",
        "    edgecolor =\"black\", \n",
        "    s = 50)\n",
        "# plot g(f(x)) function\n",
        "plt.scatter(x_val,gfx_y_val, c=\"orange\",\n",
        "    marker =\"^\", \n",
        "    edgecolor =\"black\", \n",
        "    s = 50)\n",
        "plt.legend([\"f(g(x)\",\"g(f(x))\"])\n",
        "plt.xlabel(\"x-axis - domain\")\n",
        "plt.ylabel(\"y-axis - codomain\")\n",
        "plt.title(\"Composition Function Plots\\n\");\n",
        "plt.show"
      ]
    },
    {
      "cell_type": "markdown",
      "metadata": {
        "id": "F17Wngr5dQJY"
      },
      "source": [
        "### 7. Relations\n",
        "\n",
        "Define the relation $R$ on $\\mathbb{N} \\times \\mathbb{N}$ saying that $x \\; R\\; y$ if and only if the binary representations of $x$ and $y$ have the same number of ones. For example, $15 \\; R \\; 23$ since $15$ in binary is $1111$ and $23$ in binary is $10111$, which both have four ones.\n",
        "\n",
        "Show that $R$ is an equivalence relation.\n"
      ]
    },
    {
      "cell_type": "markdown",
      "metadata": {},
      "source": [
        "R = { ($x$,$y$) | $x$ has the same number of ones in binary representation as $y$, where $x$,$y$ $\\in \\mathbb{N}$ }\n",
        "\n",
        "1. Reflexive: The set is reflexive because all $x \\in R$ will have the same number of ones in binary representation as itself.\n",
        "2. Symmetric: For every $x$ element in the set, $\\mathbb{N}$, which meets the criteria of the relation $R$, it will have an element $y$ that will have the same number of ones in binary representation regardless if $y$ = $x$ or $x$ = $y$.\n",
        "3. Transitive: If ($x$,$y$) and ($y$,$z$) $\\in R$, then the number of ones in binary representation <br>\n",
        "    $x$ (0011) = $y$ (1100) and <br>\n",
        "    $y$ (1100) = $z$ (1010) <br>\n",
        "$\\implies$ $x$ (0011) = $z$ (1010)    "
      ]
    },
    {
      "cell_type": "markdown",
      "metadata": {
        "id": "dA6ub9GjdQJZ"
      },
      "source": [
        "### 8. Sets, Functions, and Relations in Python\n",
        "\n",
        "Express each of the following objects in Python.\n",
        "\n",
        "a) The set of $P$ prime numbers less than 100.\n",
        "\n",
        "b) The function $f: \\{1,2,3,4,5,6\\} \\rightarrow \\{0,1\\}$ in which $f(x) = 0$ if $x$ is even and $f(x)=1$ if $x$ is odd, expressed as a dictionary."
      ]
    },
    {
      "cell_type": "markdown",
      "metadata": {},
      "source": [
        "a) P = {$x$ | $x$ is a prime number less than 100, where $x \\in \\mathbb{Z}$ }"
      ]
    },
    {
      "cell_type": "code",
      "execution_count": 62,
      "metadata": {},
      "outputs": [
        {
          "name": "stdout",
          "output_type": "stream",
          "text": [
            "{2, 3, 5, 7, 11, 13, 17, 19, 23, 29, 31, 37, 41, 43, 47, 53, 59, 61, 67, 71, 73, 79, 83, 89, 97}\n",
            "None\n",
            "None\n",
            "None\n",
            "None\n",
            "None\n",
            "None\n",
            "{1: '1', 2: '0', 3: '1', 4: '0', 5: '1', 6: '0'}\n"
          ]
        }
      ],
      "source": [
        "# a) The set of P prime numbers less than 100\n",
        "def prime_num(prime_num_ubound_i):\n",
        "    \"\"\"Function takes an upper bound and generates a set of all the prime numbers less than the upper bound.\n",
        "    \n",
        "    Bound is exclusive.\n",
        "\n",
        "    --------------------------------\n",
        "    \n",
        "    Interface Control Document (ICD)\n",
        "    | I/O    | Signal Name          | Type            | Description                                                                                                             |\n",
        "    | ---    | ---                  | ---             | ---                                                                                                                     |\n",
        "    | input  | prime_num_ubound_i   | int             | Upper bound of prime list                                                                                               |\n",
        "    | ouput  | prime_set_o          | sympy.set       | Set of prime numbers less than the upper bound specified                                                                |\n",
        "\n",
        "    --------------------------------\n",
        "\n",
        "    No exceptions were written for this method.\n",
        "    \"\"\"\n",
        "\n",
        "    # declare set P with 2 since 2 will not fall under formula below. \n",
        "    P = {2}\n",
        "\n",
        "    # Skipping 1 since it's not a prime. Since start value is starting at 2, reduce the stop value by 1.\n",
        "    for num in range(2,(prime_num_ubound_i-1),1):\n",
        "        # Go through every value between 2 and the square root of the number being checked for primeness. Added ceiling function and plus 1 since range is exclusive.\n",
        "        for x in range(2,(math.ceil(math.sqrt(num))+1)):\n",
        "            if ((num % x) == 0):\n",
        "                break\n",
        "        # if break is never encountered, that means number is prime. add it to set P.\n",
        "        else:\n",
        "            P.add(num)\n",
        "    return P\n",
        "\n",
        "prime_num_set = prime_num(100)\n",
        "print(prime_num_set)\n",
        "\n",
        "# b) Dictionary form of function described above\n",
        "def even_odd_dict(domain_set_i):\n",
        "    \"\"\"Function takes a set of integers and outputs a dictionary that associates each even number in the set with a 0 and each odd number in the set with a 1.\n",
        "\n",
        "    --------------------------------\n",
        "    \n",
        "    Interface Control Document (ICD)\n",
        "    | I/O    | Signal Name          | Type      | Description                                                                                                       |\n",
        "    | ---    | ---                  | ---       | ---                                                                                                               |\n",
        "    | input  | domain_set_i         | sympy.set | Set of domain values which are all integer values.                                                                |\n",
        "    | ouput  | even_odd_dict_o      | dict      | Dictionary outputs for all domain values that maps a 0 (even) or 1 (odd) depending on the value of the domain set |\n",
        "\n",
        "    --------------------------------\n",
        "\n",
        "    No exceptions were written for this method.\n",
        "    \"\"\"\n",
        "    # Initialize dict\n",
        "    even_odd_dict_o = dict.fromkeys(domain_set_i)\n",
        "\n",
        "    for key in even_odd_dict_o.keys():\n",
        "        print(even_odd_dict_o[key])\n",
        "        # test for evenness\n",
        "        if((key % 2)==0):\n",
        "            even_odd_dict_o[key] = \"0\"\n",
        "        # # else integer is odd\n",
        "        else:\n",
        "            even_odd_dict_o[key] = \"1\"\n",
        "    return even_odd_dict_o\n",
        "\n",
        "even_odd_domain     = {1,2,3,4,5,6}\n",
        "even_odd_codomain   = even_odd_dict(even_odd_domain)\n",
        "print(even_odd_codomain)"
      ]
    }
  ],
  "metadata": {
    "colab": {
      "provenance": []
    },
    "kernelspec": {
      "display_name": "Python 3",
      "language": "python",
      "name": "python3"
    },
    "language_info": {
      "codemirror_mode": {
        "name": "ipython",
        "version": 3
      },
      "file_extension": ".py",
      "mimetype": "text/x-python",
      "name": "python",
      "nbconvert_exporter": "python",
      "pygments_lexer": "ipython3",
      "version": "3.9.6"
    }
  },
  "nbformat": 4,
  "nbformat_minor": 0
}
