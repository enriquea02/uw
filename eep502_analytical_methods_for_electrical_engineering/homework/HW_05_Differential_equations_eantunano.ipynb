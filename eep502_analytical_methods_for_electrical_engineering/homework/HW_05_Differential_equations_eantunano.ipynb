{
  "cells": [
    {
      "cell_type": "markdown",
      "metadata": {
        "ExecuteTime": {
          "end_time": "2019-09-24T16:05:23.746666Z",
          "start_time": "2019-09-24T16:05:23.741461Z"
        },
        "id": "pf3S2d0kfmSU"
      },
      "source": [
        "## EE 502 P: Analytical Methods for Electrical Engineering\n",
        "    \n",
        "# Homework 5: Differential Equations\n",
        "\n",
        "## Due: November 10, 2024 by 11:59 PM\n",
        "### <span style=\"color: red\">Enrique Antunano</span>\n",
        "\n",
        "Copyright &copy; 2024, University of Washington\n",
        "\n",
        "<hr>\n",
        "\n",
        "**Instructions**: Please use this notebook as a template. Answer all questions using well formatted Markdown with embedded LaTeX equations, executable Jupyter cells, or both. Submit your homework solutions as an `.ipynb` file via Canvas.\n",
        "\n",
        "<span style=\"color: red'\">\n",
        "Although you may discuss the homework with others, you must turn in your own, original work.\n",
        "</span>\n",
        "\n",
        "**Things to remember:**\n",
        "- Use complete sentences. Equations should appear in text as grammatical elements.\n",
        "- Comment your code.\n",
        "- Label your axes. Title your plots. Use legends where appropriate.\n",
        "- Before submitting a notebook, choose Kernel -> Restart and Run All to make sure your notebook runs when the cells are evaluated in order."
      ]
    },
    {
      "cell_type": "markdown",
      "metadata": {
        "id": "1Mo28wunfmSW"
      },
      "source": [
        "### 0. Warmup (Do not turn in)\n",
        "\n",
        "- Make sure you download, read, and run the notebook for lectures 5 and 6. Work through the notebook cell by cell and see what happens when you change the expressions, and make up some of your own.\n",
        "- The material covered in class is intended to be an introductory subset the general subject of differential equations. To get the full story, an indispensable book is the one by Hirsch and Smale: https://www.amazon.com/Differential-Equations-Dynamical-Systems-Introduction/dp/0123820103\n",
        "- The material covered here in particular comes from the beginnings of Chapters 1, 2, 3, 3, 6, 12, and 14."
      ]
    },
    {
      "cell_type": "code",
      "execution_count": 4,
      "metadata": {},
      "outputs": [],
      "source": [
        "import math\n",
        "import numpy as np\n",
        "import sympy as sm\n",
        "sm.init_printing(use_latex='mathjax')\n",
        "import matplotlib.pyplot as plt\n",
        "import matplotlib.patches as pch"
      ]
    },
    {
      "cell_type": "markdown",
      "metadata": {
        "id": "3kUdZiuDfmSX"
      },
      "source": [
        "### 1. Taylor Approxmations\n",
        "\n",
        "Use `sympy` to find the Taylor Approximations to $\\sin x$ with:\n",
        "- one term,\n",
        "- two terms,\n",
        "- three terms, all the way up to 6 terms.\n",
        "Ignore the remainder term. Plot all of these approximations along with $\\sin x$ on the same plot, showing the\n",
        "approximations get better and better."
      ]
    },
    {
      "cell_type": "code",
      "execution_count": 119,
      "metadata": {},
      "outputs": [
        {
          "name": "stdout",
          "output_type": "stream",
          "text": [
            "sin(x) , 1.0*y , 1.0*y , 1.0*y - 0.166666666666667\n"
          ]
        }
      ],
      "source": [
        "# Declare sin(x) formula\n",
        "x,y,n = sm.symbols(\"x,y,n\")\n",
        "f   =   sm.sin(x)       # zeroth term\n",
        "df  =   sm.diff(f,x)    # one term\n",
        "d2f =   sm.diff(df,x)   # second term\n",
        "d3f =   sm.diff(d2f,x)  # third term\n",
        "d4f =   sm.diff(d3f,x)  # fourth term\n",
        "d5f =   sm.diff(d4f,x)  # fifth term\n",
        "d6f =   sm.diff(d5f,x)  # fifth term\n",
        "# lambdify the functions to make them callable\n",
        "f_lam   = sm.lambdify(x,f)\n",
        "df_lam  = sm.lambdify([x,y],df)\n",
        "d2f_lam = sm.lambdify([x,y,n],d2f)\n",
        "d3f_lam = sm.lambdify([x,y,n],d3f)\n",
        "d4f_lam = sm.lambdify([x,y,n],d4f)\n",
        "d5f_lam = sm.lambdify([x,y,n],d5f)\n",
        "d6f_lam = sm.lambdify([x,y,n],d6f)\n",
        "\n",
        "df = sm.diff(f,x)*y                             # one term\n",
        "d2f = (sm.diff(df,x)*(y**n))/sm.factorial(n)    # second term\n",
        "d3f = (sm.diff(d2f,x)*(y**n))/sm.factorial(n)   # third term\n",
        "d4f = (sm.diff(d3f,x)*(y**n))/sm.factorial(n)   # fourth term\n",
        "d5f = (sm.diff(d4f,x)*(y**n))/sm.factorial(n)   # fifth term\n",
        "d6f = (sm.diff(d5f,x)*(y**n))/sm.factorial(n)   # fifth term\n",
        "\n",
        "df_lam  = sm.lambdify([x,y],df)\n",
        "d2f_lam = sm.lambdify([x,y,n],d2f)\n",
        "d3f_lam = sm.lambdify([x,y,n],d3f)\n",
        "d4f_lam = sm.lambdify([x,y,n],d4f)\n",
        "d5f_lam = sm.lambdify([x,y,n],d5f)\n",
        "d6f_lam = sm.lambdify([x,y,n],d6f)\n",
        "\n",
        "\n",
        "# Solve each term\n",
        "one_term = f_lam(0) + (df_lam(0,y))\n",
        "one_term_lam = sm.lambdify(y,one_term)\n",
        "\n",
        "second_term = one_term_lam(y) + d2f_lam(0,y,2)\n",
        "second_term_lam = sm.lambdify(y,second_term)\n",
        "\n",
        "third_term = second_term_lam(y) + d3f_lam(0,y,3)\n",
        "third_term_lam = sm.lambdify(y,third_term)\n",
        "\n",
        "fourth_term = third_term_lam(y) + d4f_lam(0,y,4)\n",
        "fourth_term_lam = sm.lambdify(y,fourth_term)\n",
        "\n",
        "fifth_term = fourth_term_lam(y) + d5f_lam(0,y,5)\n",
        "fifth_term_lam = sm.lambdify(y,fifth_term)\n",
        "\n",
        "sixth_term = fifth_term_lam(y) + d6f_lam(0,y,6)\n",
        "sixth_term_lam = sm.lambdify(y,sixth_term)\n",
        "print(f,\",\",one_term, \",\", second_term,\",\", third_term)\n"
      ]
    },
    {
      "cell_type": "code",
      "execution_count": 101,
      "metadata": {},
      "outputs": [
        {
          "data": {
            "image/png": "[encoded data removed]",
            "text/plain": [
              "<Figure size 640x480 with 1 Axes>"
            ]
          },
          "metadata": {},
          "output_type": "display_data"
        }
      ],
      "source": [
        "# Plot nth Taylor Polynomials\n",
        "x = np.linspace(-3*np.pi,3*np.pi,200);\n",
        "plt.plot(x,np.sin(x),label=\"$\\sin(x)$\")\n",
        "plt.plot(x,x,label=\"$N$\")\n",
        "# plt.plot(x,second_term_lam(x),label=\"$x$ - second order term\")\n",
        "plt.plot(x,third_term_lam(x),label=\"N=3\")\n",
        "# plt.plot(x,fourth_term_lam(x),label=\"$x - x**3/3!$ - fourth order term\")\n",
        "plt.plot(x,fifth_term_lam(x),label=\"N=5\")\n",
        "# plt.plot(x,sixth_term_lam(x),label=\"$x - x**3/3! - x**5/5!$ - sixth order term\")\n",
        "plt.xlabel('$x$')\n",
        "plt.ylabel('$y = \\sin(x)$')\n",
        "plt.title(\"Taylor Series Approximation of $\\sin(x)$ near 0\")\n",
        "plt.ylim([-10, 10])\n",
        "plt.legend();"
      ]
    },
    {
      "cell_type": "markdown",
      "metadata": {
        "id": "Z3DjYt_4fmSY"
      },
      "source": [
        "### 2. Showing Inequalities With Taylor's Approximation.\n",
        "\n",
        "Show that if $x>0$ then $1 + \\frac{1}{2}x - \\frac{1}{8}x^2 \\leq \\sqrt{1+x} \\leq 1 + \\frac{1}{2}x$.\n",
        "\n",
        "Hint: break this into two steps, one for each inequality. For the first step, use the first three terms of the Taylor approximation and a residual term that is cubic. For the second inequality, use the first two terms of the Taylor approximation and a residual term that is a square. Make sure to explain each step of your argument.\n",
        "\n",
        "How good is this approximation for $\\sqrt{2}$? How about $\\sqrt{3}$?\n",
        "\n",
        "Visualize this problem by making a plot showing the relationship of the three expressions as $x$ increases."
      ]
    },
    {
      "cell_type": "markdown",
      "metadata": {
        "ExecuteTime": {
          "end_time": "2019-10-08T16:48:02.889303Z",
          "start_time": "2019-10-08T16:48:02.885366Z"
        },
        "id": "Q5qmdmjufmSY"
      },
      "source": [
        "### 3. Equilibria Points and Linearization\n",
        "\n",
        "For each of the\n",
        "following systems:\n",
        "\n",
        "(i) find the equilibria,\n",
        "\n",
        "(ii) linearize the system around each equilibrium and find the eigenvalues, and\n",
        "\n",
        "(iii) state whether the system is stable at each equilibrium.\n",
        "\n",
        "$$\n",
        "\\mathrm{a)} \\;\\;\n",
        "\\begin{pmatrix}\n",
        "\\dot x_1 \\\\\n",
        "\\dot x_2\n",
        "\\end{pmatrix} =\n",
        "\\begin{pmatrix}\n",
        "x_2^2 \\\\\n",
        "x_1^2\n",
        "\\end{pmatrix}\n",
        "$$\n",
        "\n",
        "$$\n",
        "\\mathrm{b)} \\;\\;\n",
        "\\begin{pmatrix}\n",
        "\\dot x_1 \\\\\n",
        "\\dot x_2\n",
        "\\end{pmatrix} =\n",
        "\\begin{pmatrix}\n",
        "x_1^2 + x_2^2 \\\\\n",
        "x_2\n",
        "\\end{pmatrix}\n",
        "$$\n",
        "\n",
        "$$\n",
        "\\mathrm{c)} \\;\\;\n",
        "\\begin{pmatrix}\n",
        "\\dot x_1 \\\\\n",
        "\\dot x_2\n",
        "\\end{pmatrix} =\n",
        "\\begin{pmatrix}\n",
        "\\sin x_2 \\\\\n",
        "\\cos x_1\n",
        "\\end{pmatrix}\n",
        "$$"
      ]
    },
    {
      "cell_type": "markdown",
      "metadata": {
        "id": "TkGJ__EZfmSZ"
      },
      "source": [
        "### 4. Tuning Eigenvalues\n",
        "\n",
        "Consider the matrix\n",
        "\n",
        "$$\n",
        "A = \\begin{pmatrix}\n",
        "  k & -k \\\\\n",
        "  1 & k-1 \\\\\n",
        "\\end{pmatrix}\n",
        "$$\n",
        "\n",
        "and the system $\\dot x = A x$. Plot the real part of the eigenvalues of $A$ as a function of $k$, for $k$ ranging from -2 to 2.\n",
        "For what values of $k$ is the system stable?\n",
        "\n",
        "Plot example phase portraits for $A$ when $k$ is in the stable range showing the range of behaviors you can get from tuning $k$."
      ]
    },
    {
      "cell_type": "markdown",
      "metadata": {
        "ExecuteTime": {
          "end_time": "2019-10-30T18:53:43.242983Z",
          "start_time": "2019-10-30T18:53:43.238177Z"
        },
        "id": "Ks-9-cd7fmSa"
      },
      "source": [
        "### 5. Rotations Again\n",
        "\n",
        "Let $\\dot x = Ax$\n",
        "\n",
        "$$\n",
        "A = \\begin{pmatrix}\n",
        "0 & -w_3 & w_2 \\\\\n",
        "w_3 & 0 & -w_1 \\\\\n",
        "-w_2 & w_1 & 0\n",
        "\\end{pmatrix}\n",
        "$$\n",
        "\n",
        "where $w_i \\in \\mathbb{R}$.\n",
        "\n",
        "a) Show that $A$ is **skew symmetric**, meaning that, that $A^T = -A$.\n",
        "\n",
        "b) Show that all points of the form\n",
        "\n",
        "$$\n",
        "x = a \\begin{pmatrix}\n",
        "w_1 \\\\\n",
        "w_2 \\\\\n",
        "w_3\n",
        "\\end{pmatrix}\n",
        "$$\n",
        "\n",
        "where $a$ is a scalar are equilibrum points.\n",
        "\n",
        "c) Choose a few different choices for the $w_i$ and for each choice show example numerical trajectories by plotting the three components of the state $x$ versus time. Also plot the trajectories in the $x_1$ - $x_2$ plane."
      ]
    },
    {
      "cell_type": "markdown",
      "metadata": {
        "id": "sha3REzNfmSa"
      },
      "source": [
        "### 6. Analysis of a Bistable Switch\n",
        "\n",
        "A genetic bistable switch has the model\n",
        "\n",
        "$$\n",
        "\\dot u = \\frac{\\alpha_1}{1 + v^2} - u \\\\\n",
        "\\dot v = \\frac{\\alpha_2}{1 + u^2} - v\n",
        "$$\n",
        "\n",
        "where $\\alpha_1$ and $\\alpha_2$ are the expression rates of the two proteins $u$ and $v$. The behavior of this system is that when one protein is high, the other should be low.\n",
        "\n",
        "a) Show that when $\\alpha_1 = \\alpha_2 = \\frac{17}{4}$, there are two isolated equilibra corresponding to having one protein be high and the other low. Show that these equilibria are unstable.\n",
        "\n",
        "**Note**: You might start this problem by plotting the vector field for this system and finding the equilibria graphically.\n",
        "\n",
        "b) Find values of $\\alpha_1$ and $\\alpha_2$ for which there is only equilibrium (assuming positive values for $u$ and $v$). Is this equilibrium stable?"
      ]
    },
    {
      "cell_type": "markdown",
      "metadata": {
        "id": "dcAW-HbJfmSc"
      },
      "source": [
        "### 7. Simulation\n",
        "\n",
        "Using simulation and visualization, explain the behavior of the system\n",
        "\n",
        "$$\n",
        "\\begin{eqnarray}\n",
        "\\dot x & = & -y - z \\\\\n",
        "\\dot y & = & x + a y \\\\\n",
        "\\dot z & = & b + z(x-c)\n",
        "\\end{eqnarray}\n",
        "$$\n",
        "\n",
        "where $a=0.2$, $b=0.2$ and $c=5.7$."
      ]
    }
  ],
  "metadata": {
    "colab": {
      "provenance": []
    },
    "kernelspec": {
      "display_name": ".venv",
      "language": "python",
      "name": "python3"
    },
    "language_info": {
      "codemirror_mode": {
        "name": "ipython",
        "version": 3
      },
      "file_extension": ".py",
      "mimetype": "text/x-python",
      "name": "python",
      "nbconvert_exporter": "python",
      "pygments_lexer": "ipython3",
      "version": "3.11.9"
    }
  },
  "nbformat": 4,
  "nbformat_minor": 0
}
