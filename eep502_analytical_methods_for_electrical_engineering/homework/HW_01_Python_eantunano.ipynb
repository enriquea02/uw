{
  "cells": [
    {
      "cell_type": "markdown",
      "metadata": {
        "ExecuteTime": {
          "end_time": "2019-09-24T16:05:23.746666Z",
          "start_time": "2019-09-24T16:05:23.741461Z"
        },
        "id": "JByqucWxbsX2"
      },
      "source": [
        "EE 502 P: Analytical Methods for Electrical Engineering\n",
        "    \n",
        "# Homework 1: Python Setup\n",
        "## Due on Sunday, October 6, 2023 by 11:59 PM\n",
        "### <span style=\"color: red\">Enrique Antunano</span>\n",
        "\n",
        "Copyright &copy; 2024, University of Washington\n",
        "\n",
        "<hr>\n",
        "\n",
        "**Instructions**: Please use this notebook as a template. Answer all questions using well formatted Markdown with embedded LaTeX equations, executable Jupyter cells, or both. Submit your homework solutions as an `.ipynb` file via Canvas.\n",
        "\n",
        "<span style=\"color: red'\">\n",
        "Although you may discuss the homework with others, you must turn in your own, original work.\n",
        "</span>\n",
        "\n",
        "**Things to remember:**\n",
        "- Use complete sentences. Equations should appear in text as grammatical elements.\n",
        "- Comment your code.\n",
        "- Label your axes. Title your plots. Use legends where appropriate.\n",
        "- Before submitting a notebook, choose Kernel -> Restart and Run All to make sure your notebook runs when the cells are evaluated in order.\n",
        "\n",
        "Note : Late homework will be accepted up to one week after the due date and will be worth 50% of its full credit score."
      ]
    },
    {
      "cell_type": "markdown",
      "metadata": {
        "id": "Moqemnt-bsX7"
      },
      "source": [
        "### 0. Warmup (Do not turn in)\n",
        "\n",
        "- Get Jupyter running on your computer, or learn to use Google Colab's Jupyter environment.\n",
        "- Make sure you can click through the Lecture 1 notes on Python. Try changing some of the cells to see the effects.\n",
        "- If you haven't done any Python, follow one of the links in Lecture 1 to a tutorial and work through it.\n",
        "- If you haven't done any Numpy or Sympy, read through the linked documentation and tutorials for those too."
      ]
    },
    {
      "cell_type": "markdown",
      "metadata": {
        "id": "TSoK5lCJbsX8"
      },
      "source": [
        "### 1. Complex Numbers\n",
        "Write a function `rand_complex(n)` that returns a list of `n` random complex numbers uniformly distributed in the unit circle (i.e., the magnitudes of the numbers are all between 0 and 1). Give the function a docstring. Demonstrate the function by making a list of 25 complex numbers."
      ]
    },
    {
      "cell_type": "markdown",
      "source": [],
      "metadata": {
        "id": "5rT7mszg-S_y"
      }
    },
    {
      "cell_type": "code",
      "source": [
        "import numpy as np\n",
        "\n",
        "def rand_complex(cmplx_num_depth_i):\n",
        "    \"\"\"Function returns a list of n random complex numbers uniformly distrubted in the unit circle.\n",
        "\n",
        "    Interface Control Document (ICD)\n",
        "    | I/O    | Signal Name       | Type | Description                                                                                                                          |\n",
        "    | -      | -                 | -    | -                                                                                                                                    |\n",
        "    | input  | cmplx_num_depth_i | int  | Depth of the complex number array that is returned. valid range: [1 <= cmplx_num_depth_i                                             |\n",
        "    | ouput  | cmplx_num_list_o  | list | list of random complex numbers. size of list is equal to cmplx_num_depth_i-1. numbers are uniformly distributed in the unit circle.  |\n",
        "\n",
        "    Exception Handling\n",
        "    | Exception                                     | Description                                | Resolution                                                                      |\n",
        "    | -                                             | -                                          | -                                                                               |\n",
        "    | cmplx_num_depth_i is an invalid data type     | Complex number depth is a non-integer type | cmplx_num_depth_i should fall within be a non-zero, non-negative integer value  |\n",
        "    | cmplx_num_depth_i out of range                | Complex number depth is zero or negative   | cmplx_num_depth_i should fall within be a non-zero, non-negative integer value  |\n",
        "\n",
        "    \"\"\"\n",
        "\n",
        "    if not isinstance(cmplx_num_depth_i, int):\n",
        "        raise Exception(\"rand_cmplx() input is an invalid data type, value must be an integer greater than zero\")\n",
        "    elif cmplx_num_depth_i <= 0:\n",
        "        raise Exception(\"rand_cmplx() input out of range, the value must be an integer greater than zero\")\n",
        "    else:\n",
        "        # Generate the real and imaginary portions portions of the range\n",
        "        real_range  = np.random.rand(cmplx_num_depth_i)\n",
        "        imag_range  = np.random.rand(cmplx_num_depth_i)\n",
        "        # Resultant complex number\n",
        "        return (real_range+(imag_range*1j))"
      ],
      "metadata": {
        "id": "L7eXQWYb9tZm"
      },
      "execution_count": 42,
      "outputs": []
    },
    {
      "cell_type": "code",
      "source": [
        "# Test Cases\n",
        "# q1 = rand_complex(0)       # zero\n",
        "# q1 = rand_complex(3/5)     # non-integer\n",
        "# q1 = rand_complex(-1)        # negative\n",
        "# q1 = rand_complex(1)       # nominal\n",
        "# q1 = rand_complex(2)       # nominal\n",
        "# q1 = rand_complex(20)      # nominal\n",
        "q1 = rand_complex(25)      # nominal\n",
        "# q1 = rand_complex(1000)    # nominal\n",
        "# q1 = rand_complex(1001)    # nominal\n",
        "print(\"Printing question 1 answer\")\n",
        "print(q1)\n",
        "# print (q1[0])"
      ],
      "metadata": {
        "colab": {
          "base_uri": "https://localhost:8080/"
        },
        "id": "5udUlQENoKmg",
        "outputId": "6836dbdf-46b1-4f51-a7d9-4bfe9f7bd2b7"
      },
      "execution_count": 43,
      "outputs": [
        {
          "output_type": "stream",
          "name": "stdout",
          "text": [
            "Printing question 1 answer\n",
            "[0.73884137+0.70497754j 0.90543637+0.20621914j 0.62043576+0.06199412j\n",
            " 0.07246311+0.26844992j 0.94753361+0.09308752j 0.33915775+0.21952561j\n",
            " 0.15743022+0.63767314j 0.82531675+0.03751433j 0.15317727+0.78147794j\n",
            " 0.74883019+0.55957369j 0.8581581 +0.36957255j 0.75538429+0.98380825j\n",
            " 0.12488039+0.77789569j 0.99426961+0.94276286j 0.60052428+0.57189791j\n",
            " 0.33324764+0.06377217j 0.06483258+0.70438098j 0.30903666+0.71899118j\n",
            " 0.67446694+0.49967798j 0.3886552 +0.04380634j 0.61635408+0.83560956j\n",
            " 0.67178525+0.57794843j 0.38186502+0.54643086j 0.54133717+0.03368999j\n",
            " 0.32965403+0.63799011j]\n"
          ]
        }
      ]
    },
    {
      "cell_type": "markdown",
      "metadata": {
        "id": "4P8VhrOvbsX9"
      },
      "source": [
        "### 2. Hashes\n",
        "Write a function `to_hash(L) `that takes a list of complex numbers `L` and returns an array of hashes of equal length, where each hash is of the form `{ \"re\": a, \"im\": b }`. Give the function a docstring and test it by converting a list of 25 numbers generated by your `rand_complex` function."
      ]
    },
    {
      "cell_type": "code",
      "source": [
        "def to_hash(cmplx_num_arry_i):\n",
        "    \"\"\"Function accepts an array of complex numbers and separates the real and imaginary parts and places both parts into a hash.\n",
        "\n",
        "    Each array element is re-formatted as follows { \"re\": a, \"im\": b }\n",
        "\n",
        "    Interface Control Document (ICD)\n",
        "    | I/O    | Signal Name      | Type             | Description                                                                                                                          |\n",
        "    | -      | -                | -                | -                                                                                                                                    |\n",
        "    | input  | cmplx_num_arry_i | list of complex  | cpm                                                                                                                                  |\n",
        "    | ouput  | cmplx_num_hash_o | hash             | list of random complex numbers. size of list is equal to cmplx_num_depth_i-1. numbers are uniformly distributed in the unit circle.  |\n",
        "\n",
        "    No exception handlers written for this method.\n",
        "    \"\"\"\n",
        "\n",
        "    real_part = cmplx_num_arry_i.real\n",
        "    imag_part = cmplx_num_arry_i.imag\n",
        "    # initialize hash before appending new elements\n",
        "    cmplx_num_hash = []\n",
        "    # iterate through each element of both arrays to create the hash list\n",
        "    for x in range(len(cmplx_num_arry_i)):\n",
        "        cmplx_num_hash.append(['{ \"re\": %.5f, \"im\": %.5f }' % (real_part[x],imag_part[x])])\n",
        "\n",
        "    return cmplx_num_hash"
      ],
      "metadata": {
        "id": "b3eTsh97X7cN"
      },
      "execution_count": 44,
      "outputs": []
    },
    {
      "cell_type": "code",
      "source": [
        "# Test\n",
        "# q2 = to_hash([30,40,50])\n",
        "q2 = to_hash(q1)\n",
        "print(\"Printing question 2 answer\")\n",
        "print(q2)"
      ],
      "metadata": {
        "colab": {
          "base_uri": "https://localhost:8080/"
        },
        "id": "55MjJzO5oBtO",
        "outputId": "eb139de0-a85c-4ebf-c072-a036501d0616"
      },
      "execution_count": 45,
      "outputs": [
        {
          "output_type": "stream",
          "name": "stdout",
          "text": [
            "Printing question 2 answer\n",
            "[['{ \"re\": 0.73884, \"im\": 0.70498 }'], ['{ \"re\": 0.90544, \"im\": 0.20622 }'], ['{ \"re\": 0.62044, \"im\": 0.06199 }'], ['{ \"re\": 0.07246, \"im\": 0.26845 }'], ['{ \"re\": 0.94753, \"im\": 0.09309 }'], ['{ \"re\": 0.33916, \"im\": 0.21953 }'], ['{ \"re\": 0.15743, \"im\": 0.63767 }'], ['{ \"re\": 0.82532, \"im\": 0.03751 }'], ['{ \"re\": 0.15318, \"im\": 0.78148 }'], ['{ \"re\": 0.74883, \"im\": 0.55957 }'], ['{ \"re\": 0.85816, \"im\": 0.36957 }'], ['{ \"re\": 0.75538, \"im\": 0.98381 }'], ['{ \"re\": 0.12488, \"im\": 0.77790 }'], ['{ \"re\": 0.99427, \"im\": 0.94276 }'], ['{ \"re\": 0.60052, \"im\": 0.57190 }'], ['{ \"re\": 0.33325, \"im\": 0.06377 }'], ['{ \"re\": 0.06483, \"im\": 0.70438 }'], ['{ \"re\": 0.30904, \"im\": 0.71899 }'], ['{ \"re\": 0.67447, \"im\": 0.49968 }'], ['{ \"re\": 0.38866, \"im\": 0.04381 }'], ['{ \"re\": 0.61635, \"im\": 0.83561 }'], ['{ \"re\": 0.67179, \"im\": 0.57795 }'], ['{ \"re\": 0.38187, \"im\": 0.54643 }'], ['{ \"re\": 0.54134, \"im\": 0.03369 }'], ['{ \"re\": 0.32965, \"im\": 0.63799 }']]\n"
          ]
        }
      ]
    },
    {
      "cell_type": "markdown",
      "metadata": {
        "id": "FEzKpLUAbsX9"
      },
      "source": [
        "### 3. Matrices\n",
        "\n",
        "Write a function `lower_traingular(n)` that returns an $n \\times n$ numpy matrix with zeros on the upper diagonal, and ones on the diagonal and lower diagonal. For example, `lower_triangular(3)` would return\n",
        "\n",
        "```python\n",
        "array([[1, 0, 0],\n",
        "       [1, 1, 0],\n",
        "       [1, 1, 1]])\n",
        "```"
      ]
    },
    {
      "cell_type": "code",
      "source": [
        "def lower_triangular(matrix_size_i):\n",
        "    \"\"\"Function returns a nxn matrix with zeroes on the upper diagonal, and ones on the diagonal and lower diagonal.\n",
        "\n",
        "    Interface Control Document (ICD)\n",
        "    | I/O    | Signal Name      | Type          | Description                                                                                                                          |\n",
        "    | -      | -                | -             | -                                                                                                                                    |\n",
        "    | input  | matrix_size_i    | int           | determines size of nxn matrix                                                                                                        |\n",
        "    | ouput  | tril_matrix_o    | numpy.ndarray | test matrix output that is an nxn matrix with zeroes in the upper diagonal and ones on the diagonal and lower diagonal               |\n",
        "\n",
        "    Exception Handling\n",
        "    | Exception                                 | Description                       | Resolution                                                    |\n",
        "    | -                                         | -                                 | -                                                             |\n",
        "    | matrix_size_i is an invalid data type     | Array contains int data type      | matrix_size_i should only consist of int data types           |\n",
        "    | matrix_size_i out of range                | Array with zero elements          | matrix_size_i array should contain at least one element       |\n",
        "    \"\"\"\n",
        "\n",
        "    if not isinstance(matrix_size_i, int):\n",
        "        raise Exception(\"lower_triangular() input is an invalid data type, value must be an integer greater than zero\")\n",
        "    elif matrix_size_i < 0:\n",
        "        raise Exception(\"lower_triangular() input out of range, the value must be an integer greater than zero\")\n",
        "    else:\n",
        "      # Generate a matrix_size_i x matrix_size_i ones array\n",
        "      matrix      = np.ones(matrix_size_i)\n",
        "      # np.tril(m,k=0)\n",
        "      #   m = input array\n",
        "      #   k = diagonal above which to zero elements (0=default, is the main diagonal)\n",
        "      tril_matrix_o = np.tril(matrix)\n",
        "      return(tril_matrix_o)"
      ],
      "metadata": {
        "id": "XXbaPr24XiYE"
      },
      "execution_count": 46,
      "outputs": []
    },
    {
      "cell_type": "code",
      "source": [
        "# Test\n",
        "# q3 =  lower_triangular(5.203)\n",
        "# q3 = lower_triangular(-1)\n",
        "# q3 = lower_triangular(0)\n",
        "# q3 = lower_triangular(1)\n",
        "# q3 = lower_triangular(2)\n",
        "q3 = lower_triangular(3)\n",
        "# q3 = lower_triangular(25)\n",
        "print(q3)"
      ],
      "metadata": {
        "colab": {
          "base_uri": "https://localhost:8080/"
        },
        "id": "h64nAD4Pn7uZ",
        "outputId": "528e045d-1896-4c3e-8311-51b6cb401d5c"
      },
      "execution_count": 47,
      "outputs": [
        {
          "output_type": "stream",
          "name": "stdout",
          "text": [
            "[[1. 0. 0.]\n",
            " [1. 1. 0.]\n",
            " [1. 1. 1.]]\n"
          ]
        }
      ]
    },
    {
      "cell_type": "markdown",
      "metadata": {
        "id": "EI395_cGbsX-"
      },
      "source": [
        "### 4. Numpy\n",
        "\n",
        "Write a function `convolve(M,K)` that takes an $n \\times m$ matrix $M$ and a $3 \\times 3$ matrix $K$ (called the kernel) and returns their convolution as in [this diagram](https://encrypted-tbn0.gstatic.com/images?q=tbn:ANd9GcTYo2_VuAlQhfeEGJHva3WUlnSJLeE0ApYyjw&usqp=CAU).\n",
        "\n",
        "\n",
        "Please do not use any predefined convolution functions from numpy or scipy. Write your own. If the matrix $M$ is too small, your function should return a exception.\n",
        "\n",
        "You can read more about convolution in [this post](https://setosa.io/ev/image-kernels/).\n",
        "\n",
        "The matrix returned will have two fewer rows and two fewer columns than $M$. Test your function by making a $100 \\times 100$ matrix of zeros and ones that as an image look like the letter X and convolve it with the kernel\n",
        "\n",
        "$$\n",
        "K = \\frac{1}{16} \\begin{pmatrix}\n",
        "1 & 2 & 1 \\\\\n",
        "2 & 4 & 2 \\\\\n",
        "1 & 2 & 1\n",
        "\\end{pmatrix}\n",
        "$$\n",
        "\n",
        "Use `imshow` to display both images using subplots."
      ]
    },
    {
      "cell_type": "code",
      "source": [
        "import matplotlib.pyplot as plt\n",
        "\n",
        "def generate_test_matrix(test_matrix_size_i):\n",
        "    \"\"\"Function generates a test matrix that of zeroes and one that as an image look like the letter X of size nxn. Function output will be used to test q4's convolution function.\n",
        "\n",
        "\n",
        "    Interface Control Document (ICD)\n",
        "    | I/O    | Signal Name        | Type            | Description                                                                                                                           |\n",
        "    | -      | -                  | -               | -                                                                                                                                     |\n",
        "    | input  | test_matrix_size_i | int             | test_matrix_size_i determines size of nxn matrix                                                                                      |\n",
        "    | ouput  | test_matrix_o      | numpy.ndarray   | test matrix output that is nxn and consists of zeroes and ones that create an image that looks like the letter X                      |\n",
        "\n",
        "    No exceptions were written for this method.\n",
        "    \"\"\"\n",
        "\n",
        "    test_matrix_o = np.identity(test_matrix_size_i,int)\n",
        "    # Generate forward slash portion of matrix's X outline\n",
        "    for x in range(test_matrix_size_i):\n",
        "      test_matrix_o[x,((test_matrix_size_i-1)-x)] = 1\n",
        "    return test_matrix_o\n",
        "\n",
        "test_matrix = generate_test_matrix(100)\n",
        "plt.imshow(test_matrix)"
      ],
      "metadata": {
        "colab": {
          "base_uri": "https://localhost:8080/",
          "height": 470
        },
        "id": "Mrv4FKxIkv0j",
        "outputId": "a7877abe-9d16-4fe4-9fa5-0de460031020"
      },
      "execution_count": 48,
      "outputs": [
        {
          "output_type": "execute_result",
          "data": {
            "text/plain": [
              "<matplotlib.image.AxesImage at 0x7fd7782d2290>"
            ]
          },
          "metadata": {},
          "execution_count": 48
        },
        {
          "output_type": "display_data",
          "data": {
            "text/plain": [
              "<Figure size 640x480 with 1 Axes>"
            ],
            "image/png": "[encoded data removed]"
          },
          "metadata": {}
        }
      ]
    },
    {
      "cell_type": "code",
      "source": [
        "def convolve(matrix_i,kernel_i):\n",
        "    \"\"\"Function takes a nxm matrix M (matrix_i) and a 3x3 matrix K (kernel_i) and returns their convolution.\"\"\"\n",
        "    # Verify n-dimension of matrix M is greater than 3, minimium dimension size\n",
        "    if matrix_i.shape[0] < 3:\n",
        "        raise Exception(\"convolve() function's matrix input, matrix_i, n-dimension is too small. Matrix n-dimension must be greater than or equal to 3\")\n",
        "    # Verify m-dimension of matrix M is greater than 3, minimium dimension size\n",
        "    elif matrix_i.shape[1] < 3:\n",
        "        raise Exception(\"convolve() function's matrix input, matrix_i, m-dimension is too small. Matrix m-dimension must be greater than or equal to 3\")\n",
        "\n",
        "\n",
        "    # Verify Kernel is a 3x3 matrix\n",
        "    if  (kernel_i.shape[0] != kernel_i.shape[1]):\n",
        "        raise Exception(\"convolve() function's matrix input, kernel_i, has mismatched dimensions. Kernel should be a 3x3 matrix\")\n",
        "    elif (kernel_i.shape[0] != 3) or (kernel_i.shape[1] != 3):\n",
        "        raise Exception(\"convolve() function's matrix input, kernel_i, was not set as a 3x3 matrix\")\n",
        "\n",
        "    # create zeroes output matrix\n",
        "    cmatrix_o = np.zeros(((matrix_i.shape[0]-2),(matrix_i.shape[1]-2)))\n",
        "    # Cycle through each row element, except the last two rows\n",
        "    for n in range(matrix_i.shape[0]-2):\n",
        "        # Cycle through each column element, except the last two columns\n",
        "        for m in range(matrix_i.shape[1]-2):\n",
        "            # Perform convolution on each cell of matrix_i\n",
        "            for i in range(3):\n",
        "                for j in range(3):\n",
        "                    cmatrix_o[n,m] = cmatrix_o[n,m] + (matrix_i[(n+i),(m+j)] * kernel_i[i,j])\n",
        "    return cmatrix_o"
      ],
      "metadata": {
        "id": "VSflXno-mOmK"
      },
      "execution_count": 49,
      "outputs": []
    },
    {
      "cell_type": "code",
      "source": [
        "# Test\n",
        "A = np.array([\n",
        "    [1,0,0,0,1],\n",
        "    [0,1,0,1,0],\n",
        "    [0,0,1,0,0],\n",
        "    [0,1,0,1,0]\n",
        "])\n",
        "\n",
        "B = np.array([\n",
        "    [1,0,0,0,1],\n",
        "    [0,1,0,1,0],\n",
        "    [0,0,1,0,0],\n",
        "    [0,1,0,1,0],\n",
        "    [1,0,0,0,1]\n",
        "])\n",
        "\n",
        "# Light blurring kernel\n",
        "K = np.array([\n",
        "    [0.0625,0.1250,0.0625],\n",
        "    [0.1250,0.2500,0.1250],\n",
        "    [0.0625,0.1250,0.0625]\n",
        "])\n",
        "\n",
        "# # Sharpening Kernel\n",
        "# K = np.array([\n",
        "#     [0,-1,0],\n",
        "#     [-1,5,-1],\n",
        "#     [0,-1,0]\n",
        "# ])\n",
        "\n",
        "# r1 = convolve(A,K)\n",
        "# print(r1)\n",
        "# plt.imshow(r1)\n",
        "# r2 = convolve(B,K)\n",
        "# print(r2)\n",
        "# plt.imshow(r2)\n",
        "r3 = convolve(test_matrix,K)\n",
        "plt.imshow(r3)"
      ],
      "metadata": {
        "colab": {
          "base_uri": "https://localhost:8080/",
          "height": 470
        },
        "id": "bRaJWvKMoZGb",
        "outputId": "c4e647dd-a5a6-4088-9d4d-7c4bde144950"
      },
      "execution_count": 50,
      "outputs": [
        {
          "output_type": "execute_result",
          "data": {
            "text/plain": [
              "<matplotlib.image.AxesImage at 0x7fd74d3791e0>"
            ]
          },
          "metadata": {},
          "execution_count": 50
        },
        {
          "output_type": "display_data",
          "data": {
            "text/plain": [
              "<Figure size 640x480 with 1 Axes>"
            ],
            "image/png": "[encoded data removed]"
          },
          "metadata": {}
        }
      ]
    },
    {
      "cell_type": "markdown",
      "metadata": {
        "id": "iLaOdUyDbsX-"
      },
      "source": [
        "### 5. Symbolic Manipulation\n",
        "\n",
        "Use sympy to specify and solve the following equations for $x$.\n",
        "\n",
        "- $x^2 + 2x - 1 = 0$\n",
        "- $a x^2 + bx + c = 0$\n",
        "\n",
        "Also, evaluate the following integrals using sympy\n",
        "\n",
        "- $\\int x^2 dx$\n",
        "- $\\int x e^{6x} dx$\n",
        "- $\\int (3t+5)\\cos(\\frac{t}{4}) dt$"
      ]
    },
    {
      "cell_type": "code",
      "source": [
        "import math\n",
        "from sympy import *\n",
        "init_printing(use_latex='mathjax')"
      ],
      "metadata": {
        "id": "Ld8LEG37dlmh"
      },
      "execution_count": 51,
      "outputs": []
    },
    {
      "cell_type": "code",
      "source": [
        "# Solve for x\n",
        "x, a, b, c = symbols(\"x a b c\")\n",
        "poly1 = x**2 + 2*x - 1\n",
        "poly2 = a*x**2 + b*x + c\n",
        "result1 = solve(poly1,x,dict=True)\n",
        "result2 = solve(poly2,x,dict=True)\n",
        "\n",
        "print(\"Printing result for first polynomial\")\n",
        "print(result1)\n",
        "print(\"Printing result for second polynomial\")\n",
        "print(result2)"
      ],
      "metadata": {
        "colab": {
          "base_uri": "https://localhost:8080/"
        },
        "id": "cQhYlJejdn5I",
        "outputId": "db31c6cf-9103-4915-e524-4ffaeb70419b"
      },
      "execution_count": 52,
      "outputs": [
        {
          "output_type": "stream",
          "name": "stdout",
          "text": [
            "Printing result for first polynomial\n",
            "[{x: -1 + sqrt(2)}, {x: -sqrt(2) - 1}]\n",
            "Printing result for second polynomial\n",
            "[{x: (-b - sqrt(-4*a*c + b**2))/(2*a)}, {x: (-b + sqrt(-4*a*c + b**2))/(2*a)}]\n"
          ]
        }
      ]
    },
    {
      "cell_type": "code",
      "source": [
        "# Evaluate integral with respect to x\n",
        "intg1 = x**2\n",
        "\n",
        "sol1 = integrate(intg1,x)\n",
        "\n",
        "print(\"Sol 1: \")\n",
        "sol1"
      ],
      "metadata": {
        "colab": {
          "base_uri": "https://localhost:8080/",
          "height": 91
        },
        "id": "suZeVDFMdqG4",
        "outputId": "7fbc702a-9f09-4623-ccb0-2da0e5fc2d8f"
      },
      "execution_count": 53,
      "outputs": [
        {
          "output_type": "stream",
          "name": "stdout",
          "text": [
            "Sol 1: \n"
          ]
        },
        {
          "output_type": "execute_result",
          "data": {
            "text/plain": [
              " 3\n",
              "x \n",
              "──\n",
              "3 "
            ],
            "text/latex": "$\\displaystyle \\frac{x^{3}}{3}$"
          },
          "metadata": {},
          "execution_count": 53
        }
      ]
    },
    {
      "cell_type": "code",
      "source": [
        "# Evaluate integral with respect to x\n",
        "intg2 = x*exp(6*x)\n",
        "\n",
        "sol2 = integrate(intg2,x)\n",
        "print(\"Sol 2: \")\n",
        "sol2"
      ],
      "metadata": {
        "colab": {
          "base_uri": "https://localhost:8080/",
          "height": 91
        },
        "id": "fheWBguXdsKX",
        "outputId": "c9c20ae4-9fef-427a-852c-e131af2aab4b"
      },
      "execution_count": 54,
      "outputs": [
        {
          "output_type": "stream",
          "name": "stdout",
          "text": [
            "Sol 2: \n"
          ]
        },
        {
          "output_type": "execute_result",
          "data": {
            "text/plain": [
              "           6⋅x\n",
              "(6⋅x - 1)⋅ℯ   \n",
              "──────────────\n",
              "      36      "
            ],
            "text/latex": "$\\displaystyle \\frac{\\left(6 x - 1\\right) e^{6 x}}{36}$"
          },
          "metadata": {},
          "execution_count": 54
        }
      ]
    },
    {
      "cell_type": "code",
      "source": [
        "# declare variables\n",
        "t = symbols(\"t\")\n",
        "# Evaluate integral with respect to t\n",
        "intg3 = (3*t)*cos(t/4)\n",
        "\n",
        "sol3 = integrate(intg3,t)\n",
        "\n",
        "print(\"Sol 3: \")\n",
        "sol3"
      ],
      "metadata": {
        "colab": {
          "base_uri": "https://localhost:8080/",
          "height": 95
        },
        "id": "nJUeBHyad0t5",
        "outputId": "652c006b-821c-4d6a-9130-75b669b4d3a2"
      },
      "execution_count": 55,
      "outputs": [
        {
          "output_type": "stream",
          "name": "stdout",
          "text": [
            "Sol 3: \n"
          ]
        },
        {
          "output_type": "execute_result",
          "data": {
            "text/plain": [
              "        ⎛t⎞         ⎛t⎞\n",
              "12⋅t⋅sin⎜─⎟ + 48⋅cos⎜─⎟\n",
              "        ⎝4⎠         ⎝4⎠"
            ],
            "text/latex": "$\\displaystyle 12 t \\sin{\\left(\\frac{t}{4} \\right)} + 48 \\cos{\\left(\\frac{t}{4} \\right)}$"
          },
          "metadata": {},
          "execution_count": 55
        }
      ]
    },
    {
      "cell_type": "markdown",
      "metadata": {
        "id": "dYc7oYC5bsX_"
      },
      "source": [
        "### 6. Typesetting\n",
        "\n",
        "Use LaTeX to typeset the following equations.\n",
        "\n",
        "<img src=\"https://www.sciencealert.com/images/Equations_web.jpg\">\n"
      ]
    },
    {
      "cell_type": "markdown",
      "source": [
        "1. Pythagoras's Theorem $a^2 + b^2 = c^2$\n",
        "\n",
        "2. Logarithms $\\log xy = \\log x + \\log y$\n",
        "\n",
        "3. Calculus $\\frac {df}{dt} = \\lim_{h \\to 0} = \\frac {f(t + h)-f(t)}{h}$\n",
        "\n",
        "4. Law of Gravity $F = G\\frac {m_1 m_2}{r^2}$\n",
        "\n",
        "5. The Square Root of Minus One $i^2 = -1$\n",
        "\n",
        "6. Euler's Formula for Polyhedra $V - E + F = 2$\n",
        "\n",
        "7. Normal Distribution $\\Phi(x) = \\frac {1}{\\sqrt {2 \\pi \\rho}} e^{\\frac {(x-\\mu)^2}{2 \\sigma^2}}$\n",
        "\n",
        "8. Wave Equation $\\frac {\\partial^2 u}{\\partial t^2} = c^2 \\frac {\\partial^2 u}{\\partial x^2}$\n",
        "\n",
        "9. Fourier Transform $f(\\omega) = \\int_\\infty^\\infty f(x)e^{-2 \\pi i x \\omega}dx$\n",
        "\n",
        "10. Navier-Stokes Equation $\\rho(\\frac {\\partial \\boldsymbol {v}}{\\partial t}+ \\boldsymbol{v} \\cdot \\nabla \\boldsymbol{v}) = -\\nabla p + \\nabla \\cdot \\boldsymbol T + \\boldsymbol f$\n",
        "\n",
        "11. Maxwell's Equations $ \\begin{pmatrix} \\nabla \\cdot \\boldsymbol{E} = 0 & \\nabla \\cdot \\boldsymbol{H} = 0 \\\\ \\nabla \\times \\boldsymbol{E} = - \\frac {1}{c} \\frac {\\partial \\boldsymbol{H}}{\\partial t} & \\nabla \\times \\boldsymbol{H} =  \\frac {1}{c} \\frac {\\partial E}{\\partial t} \\end{pmatrix} $\n",
        "\n",
        "12. Second Law of Thermodynamics $ dS \\geq 0 $\n",
        "\n",
        "13. Relativity $E = mc^2$\n",
        "\n",
        "14. Schrodinger's Equation $i h \\frac{\\partial}{\\partial t} \\Psi = H \\Psi$\n",
        "\n",
        "15. Information Theory $H = - \\sum p(x)\\log p(x)$\n",
        "\n",
        "16. Chaos Theory $ x_{t+1} = k x_t (1-x_t) $\n",
        "\n",
        "17. Black-Scholes Equation $\\frac{1}{2} \\sigma^2 S^2 \\frac{\\partial^2 V}{\\partial S^2} + r S \\frac{\\partial V}{\\partial S} + \\frac{\\partial V}{\\partial t} - rV = 0$  \n"
      ],
      "metadata": {
        "id": "DYf7bW8mz8_q"
      }
    }
  ],
  "metadata": {
    "colab": {
      "provenance": []
    },
    "kernelspec": {
      "display_name": "Python 3",
      "language": "python",
      "name": "python3"
    },
    "language_info": {
      "codemirror_mode": {
        "name": "ipython",
        "version": 3
      },
      "file_extension": ".py",
      "mimetype": "text/x-python",
      "name": "python",
      "nbconvert_exporter": "python",
      "pygments_lexer": "ipython3",
      "version": "3.8.5"
    }
  },
  "nbformat": 4,
  "nbformat_minor": 0
}