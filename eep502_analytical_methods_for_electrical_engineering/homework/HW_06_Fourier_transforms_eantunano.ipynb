{
  "cells": [
    {
      "cell_type": "markdown",
      "metadata": {
        "ExecuteTime": {
          "end_time": "2019-09-24T16:05:23.746666Z",
          "start_time": "2019-09-24T16:05:23.741461Z"
        },
        "id": "LvLfYGojXrbq"
      },
      "source": [
        "## EE 502 P: Analytical Methods for Electrical Engineering\n",
        "    \n",
        "# Homework 6: Fourier Analysis\n",
        "## Due November 17, 2024 by 11:59 PM\n",
        "### <span style=\"color: red\">Enrique Antunano</span>\n",
        "\n",
        "Copyright &copy; 2024, University of Washington\n",
        "\n",
        "<hr>\n",
        "\n",
        "**Instructions**: Please use this notebook as a template. Answer all questions using well formatted Markdown with embedded LaTeX equations, executable Jupyter cells, or both. Submit your homework solutions as an `.ipynb` file via Canvas.\n",
        "\n",
        "<span style=\"color: red'\">\n",
        "Although you may discuss the homework with others, you must turn in your own, original work.\n",
        "</span>\n",
        "\n",
        "**Things to remember:**\n",
        "- Use complete sentences. Equations should appear in text as grammatical elements.\n",
        "- Comment your code.\n",
        "- Label your axes. Title your plots. Use legends where appropriate.\n",
        "- Before submitting a notebook, choose Kernel -> Restart and Run All to make sure your notebook runs when the cells are evaluated in order.\n"
      ]
    },
    {
      "cell_type": "markdown",
      "metadata": {
        "id": "4S4McyLLXrbs"
      },
      "source": [
        "### 0. Warmup (Do not turn in)\n",
        "\n",
        "- Make sure you download, read, and run the notebook for lecture 7. Work through the notebook cell by cell and see what happens when you change the expressions, and make up some of your own.\n",
        "- The material covered in class is intended to be an introductory overview of the incredibly rich and expansive subject of Fourier Analysis.\n",
        "- If you would like more resources, the following book is a good place to start. It is actually the notes used to teach intro signal processing at Stanford. Most of the material I covered in class is in these notes, plu a whole lot more.\n",
        "> Osgood, [Lecture notes for EE 261](\n",
        "https://see.stanford.edu/materials/lsoftaee261/book-fall-07.pdf).\n",
        "- A more advanced and concise treatment of the subject is in the following book.\n",
        "> Stein and Shakarchi, [Fourier Analysis: An Introduction](https://www.amazon.com/Fourier-Analysis-Introduction-Princeton-Lectures/dp/069111384X/ref=sr_1_1?keywords=stein+and+shakarchi+fourier&qid=1572974320&sr=8-1)."
      ]
    },
    {
      "cell_type": "code",
      "execution_count": 1,
      "metadata": {},
      "outputs": [],
      "source": [
        "import math\n",
        "import scipy # Has linear algebra\n",
        "import scipy.ndimage\n",
        "import numpy as np\n",
        "import sympy as sm\n",
        "sm.init_printing(use_latex='mathjax')\n",
        "import matplotlib.pyplot as plt\n",
        "import matplotlib.patches as pch\n",
        "%matplotlib inline\n",
        "from matplotlib.ticker import MaxNLocator # to make integer ticks on x axis"
      ]
    },
    {
      "cell_type": "markdown",
      "metadata": {
        "ExecuteTime": {
          "end_time": "2019-10-08T16:48:02.889303Z",
          "start_time": "2019-10-08T16:48:02.885366Z"
        },
        "id": "YtSJUJ8RXrbt"
      },
      "source": [
        "### 1. Exponential form of Complex Numbers\n",
        "\n",
        "Express each of the following complex numbers in the form $r e^{i\\theta}$. Do this by hand (or in Latex) and check your work with Python.\n",
        "\n",
        "$$0$$\n",
        "$$1$$\n",
        "$$-1$$\n",
        "$$i$$\n",
        "$$1-2i$$\n",
        "$$-8+7i$$"
      ]
    },
    {
      "cell_type": "code",
      "execution_count": 2,
      "metadata": {},
      "outputs": [
        {
          "data": {
            "text/latex": [
              "$\\displaystyle \\left( \\left[ 0, \\  1, \\  -1, \\  i, \\  1 - 2 i, \\  -8 + 7 i\\right], \\  \\left[ 0, \\  1, \\  1, \\  1, \\  \\sqrt{5}, \\  \\sqrt{113}\\right], \\  \\left[ \\text{NaN}, \\  0, \\  \\pi, \\  \\frac{\\pi}{2}, \\  - \\operatorname{atan}{\\left(2 \\right)}, \\  \\pi - \\operatorname{atan}{\\left(\\frac{7}{8} \\right)}\\right]\\right)$"
            ],
            "text/plain": [
              "⎛                                                          ⎡           π       ↪\n",
              "⎜[0, 1, -1, ⅈ, 1 - 2⋅ⅈ, -8 + 7⋅ⅈ], [0, 1, 1, 1, √5, √113], ⎢nan, 0, π, ─, -ata ↪\n",
              "⎝                                                          ⎣           2       ↪\n",
              "\n",
              "↪                    ⎤⎞\n",
              "↪ n(2), π - atan(7/8)⎥⎟\n",
              "↪                    ⎦⎠"
            ]
          },
          "execution_count": 2,
          "metadata": {},
          "output_type": "execute_result"
        }
      ],
      "source": [
        "# Solve and plot complex vectors\n",
        "r, theta = sm.symbols(\"r,theta\")\n",
        "\n",
        "complex_numbers     = [0,1,-1,sm.I,1-(2*sm.I),-8+(7*sm.I)]\n",
        "abs_array           = []\n",
        "arctan_array        = []\n",
        "\n",
        "for x in range(len(complex_numbers)):\n",
        "    abs_complex_num      = abs(complex_numbers[x])\n",
        "    arctan_complex_num   = sm.arg(complex_numbers[x])\n",
        "\n",
        "    abs_array.append(abs_complex_num)\n",
        "    arctan_array.append(arctan_complex_num)\n",
        "\n",
        "complex_numbers,abs_array, arctan_array"
      ]
    },
    {
      "cell_type": "markdown",
      "metadata": {},
      "source": [
        "1. \n",
        "a. Calculate the $\\textbf{Magnitude}$ of $\\textit{z}$, $$|z| = r = \\sqrt{a^2 + b^2} = \\sqrt{0^2 + 0^2} = 0$$\n",
        "$$re^{\\textit{i} \\theta} = r(cos\\theta+i sin \\theta) = 0 * (cos\\theta+i sin \\theta) = 0$$"
      ]
    },
    {
      "cell_type": "markdown",
      "metadata": {},
      "source": [
        "b. Calculate the $\\textbf{Magnitude}$ of $\\textit{z}$, $$|z| = r = \\sqrt{a^2 + b^2} = \\sqrt{1^2 + 0^2} = 1$$\n",
        "Calculate $\\textbf{argument}$ of $\\textit{z}$, $$ \\theta = arctan(y,x) = arctan(\\frac{0}{1}) = 0$$\n",
        "$$re^{\\textit{i} \\theta} = 1 * e^{\\textit{i} * 0} = e^{0} = 1$$"
      ]
    },
    {
      "cell_type": "markdown",
      "metadata": {},
      "source": [
        "c. Calculate the $\\textbf{Magnitude}$ of $\\textit{z}$, $$|z| = r = \\sqrt{a^2 + b^2} = \\sqrt{(-1)^2 + 0^2} = 1$$\n",
        "Calculate $\\textbf{argument}$ of $\\textit{z}$, $$ \\theta = arctan(y,x) = arctan(- \\frac{0}{1}) = \\pi$$\n",
        "$$re^{\\textit{i} \\theta} = 1 * e^{\\pi \\textit{i} } = e^{\\pi \\textit{i} } = -1$$"
      ]
    },
    {
      "cell_type": "markdown",
      "metadata": {},
      "source": [
        "d. Calculate the $\\textbf{Magnitude}$ of $\\textit{z}$, $$|z| = r = \\sqrt{a^2 + b^2} = \\sqrt{(0)^2 + 1^2} = 1$$\n",
        "Calculate $\\textbf{argument}$ of $\\textit{z}$, $$ \\theta = arctan(y,x) = arctan(1,0) \\rightarrow \\text{ Coordinates (0,1) for y>0: } \\frac{\\pi}{2}$$\n",
        "$$re^{\\textit{i} \\theta} = 1 * e^{\\frac{\\pi}{2} \\textit{i}} = e^{\\frac{\\pi}{2} \\textit{i}} = \\textit{i}$$"
      ]
    },
    {
      "cell_type": "markdown",
      "metadata": {},
      "source": [
        "e. Calculate the $\\textbf{Magnitude}$ of $\\textit{z}$, $$|z| = r = \\sqrt{a^2 + b^2} = \\sqrt{(1)^2 + 2^2} = \\sqrt{5}$$\n",
        "Calculate $\\textbf{argument}$ of $\\textit{z}$, $$ \\theta = arctan(y,x) = arctan(\\frac{-2}{1})$$\n",
        "Since angle is in the fourth quadrant, $$= - arctan(2)$$\n",
        "$$ = - arctan(2) \\approx -1.11 radians$$\n",
        "$$re^{\\textit{i} \\theta} = \\sqrt{5} e^{-1.11 \\textit{i}}$$"
      ]
    },
    {
      "cell_type": "markdown",
      "metadata": {},
      "source": [
        "f. Calculate the $\\textbf{Magnitude}$ of $\\textit{z}$, $$|z| = r = \\sqrt{a^2 + b^2} = \\sqrt{(-8)^2 + 7^2} = \\sqrt{64+49} = \\sqrt{113}$$\n",
        "Calculate $\\textbf{argument}$ of $\\textit{z}$, $$ \\theta = arctan(y,x) = arctan(\\frac{7}{-8})$$\n",
        "Since angle is in the second quadrant, $$= \\pi - arctan(\\frac{7}{8})$$\n",
        "$$ arctan(\\frac{7}{8}) \\approx 0.7188 radians$$\n",
        "$$= \\pi - 0.7188 \\approx 2.423$$\n",
        "$$re^{\\textit{i} \\theta} = \\sqrt{113} e^{2.423 \\textit{i}}$$"
      ]
    },
    {
      "cell_type": "markdown",
      "metadata": {
        "id": "qAt0UAKXXrbu"
      },
      "source": [
        "### 2. A Trigonometric Identity\n",
        "\n",
        "The goal of this exercise is to find formulas for $\\cos(\\alpha+\\beta)$ and $\\sin(\\alpha + \\beta)$. in terms of $\\sin\\alpha$, $\\sin\\beta$, $\\cos\\alpha$, and $\\cos\\beta$.\n",
        "\n",
        "a) First, express $e^{(\\alpha+\\beta)i}$ directly in terms of the $\\sin$ and $\\cos$ using Euler's formula.\n",
        "\n",
        "b) Next, express $e^{(\\alpha+\\beta)i}$ as a product of two exponentials. Then convert each term in the product into $\\sin$ and $\\cos$ using Euler's formula. Expand the expression and group the terms in the real part and the imaginary part.\n",
        "\n",
        "c) Equate the real parts and imaginary parts from (a) and (b)."
      ]
    },
    {
      "cell_type": "markdown",
      "metadata": {},
      "source": [
        "<br><br>\n",
        "a) Convert from exponential form to trigonometric function form,\n",
        "$$e^{(\\alpha + \\beta) \\textit{i}} = cos(\\alpha + \\beta) + \\textit{i } sin(\\alpha + \\beta)$$"
      ]
    },
    {
      "cell_type": "markdown",
      "metadata": {},
      "source": [
        "b) First, express $e^{(\\alpha + \\beta) \\textit{i}}$ as a product of exponentials,\n",
        "$$ e^{(\\alpha + \\beta) \\textit{i}} = e^{\\alpha \\textit{i}}e^{\\beta \\textit{i}}$$\n",
        "\n",
        "Convert each term in the product from exponential form to trigonometric function form,\n",
        "$$ e^{\\alpha \\textit{i}} = cos\\alpha + \\textit{i } sin\\alpha$$\n",
        "$$ e^{\\beta \\textit{i}} = cos\\beta + \\textit{i } sin\\beta$$\n",
        "$$ e^{\\alpha \\textit{i}}e^{\\beta \\textit{i}} = (cos\\alpha + \\textit{i } sin\\alpha)(cos\\beta + \\textit{i } sin\\beta)$$\n",
        "\n",
        "Expand the expression,\n",
        "$$ e^{\\alpha \\textit{i}}e^{\\beta \\textit{i}} = cos\\alpha cos\\beta + \\textit{ i } cos\\alpha sin\\beta + \\textit{ i } cos\\beta sin\\alpha - sin\\alpha sin\\beta$$\n",
        "\n",
        "Group terms into real and imaginary parts,\n",
        "$$ e^{\\alpha \\textit{i}}e^{\\beta \\textit{i}} = cos\\alpha cos\\beta - sin\\alpha sin\\beta + \\textit{ i } (cos\\alpha sin\\beta + cos\\beta sin\\alpha)$$"
      ]
    },
    {
      "cell_type": "markdown",
      "metadata": {},
      "source": [
        "c)\n",
        "From $\\textbf{part a}$, expand $e^{(\\alpha + \\beta) \\textit{i}} = cos(\\alpha + \\beta) + \\textit{i } sin(\\alpha + \\beta)$ in terms of $\\sin\\alpha$, $\\sin\\beta$, $\\cos\\alpha$, and $\\cos\\beta$ using the trigonometric angle sum and difference indentities,\n",
        "$$ cos(\\alpha + \\beta) = \\cos\\alpha \\cos\\beta - \\sin\\alpha \\sin\\beta$$\n",
        "$$ sin(\\alpha + \\beta) = \\sin\\alpha \\cos\\beta + \\cos\\alpha \\sin\\beta$$\n",
        "\n",
        "Substitute these values back into $cos(\\alpha + \\beta) + \\textit{i } sin(\\alpha + \\beta)$,\n",
        "$$e^{(\\alpha + \\beta) \\textit{i}} = \\cos\\alpha \\cos\\beta - \\sin\\alpha \\sin\\beta + \\textit{i }(\\sin\\alpha \\cos\\beta + \\cos\\alpha \\sin\\beta)$$\n",
        "\n",
        "The results from $\\textbf{part a}$ and $\\textbf{part b}$ are identical.\n",
        "$$e^{(\\alpha + \\beta) \\textit{i}} =  e^{\\alpha \\textit{i}}e^{\\beta \\textit{i}} = \\cos\\alpha \\cos\\beta - \\sin\\alpha \\sin\\beta + \\textit{i }(\\sin\\alpha \\cos\\beta + \\cos\\alpha \\sin\\beta)$$"
      ]
    },
    {
      "cell_type": "markdown",
      "metadata": {
        "id": "riD52CK6Xrbu"
      },
      "source": [
        "### 3. Fourier Series Approximation\n",
        "\n",
        "Similar to the example of the square wave done in class, find a Fourier Series approximation to the function\n",
        "\n",
        "$$\n",
        "f(t) = \\left |cos(2\\pi t) \\right|\n",
        "$$\n",
        "\n",
        "which is a *rectified cosine*. Make sure you get the period of this function correct. Make a plot with three subplots for $N=5$, $N=10$, and $N=20$ showing better and better approximations."
      ]
    },
    {
      "cell_type": "markdown",
      "metadata": {},
      "source": [
        "3. Fourier Series Approximation of $f(x) = |cos(2 \\pi x)|$. Period 0 to 0.5. \n",
        "$$f(x) = \\sum_{n=-N}^N c_n e^{2 \\pi i n x}$$\n",
        "\n",
        "$$c_0 = \\int_{0}^{\\frac{1}{2}} |cos(2 \\pi x)| = \\frac{1}{\\pi}$$"
      ]
    },
    {
      "cell_type": "code",
      "execution_count": 3,
      "metadata": {},
      "outputs": [
        {
          "data": {
            "text/latex": [
              "$\\displaystyle \\left( \\begin{cases} - \\frac{i n e^{i \\pi n}}{2 \\pi n^{2} - 2 \\pi} + \\frac{i n}{2 \\pi n^{2} - 2 \\pi} - \\frac{2 e^{\\frac{i \\pi n}{2}}}{2 \\pi n^{2} - 2 \\pi} & \\text{for}\\: n \\neq 1 \\\\\\frac{i}{2 \\pi} & \\text{otherwise} \\end{cases}, \\  \\begin{cases} \\frac{\\left(-1\\right)^{n + \\frac{3}{2}} n + i n - 2 e^{\\frac{i \\pi n}{2}}}{2 \\pi \\left(n^{2} - 1\\right)} & \\text{for}\\: n > 1 \\\\\\frac{i}{2 \\pi} & \\text{otherwise} \\end{cases}\\right)$"
            ],
            "text/plain": [
              "⎛⎧                                     ⅈ⋅π⋅n               ⎧                   ↪\n",
              "⎜⎪                                     ─────               ⎪                   ↪\n",
              "⎜⎪        ⅈ⋅π⋅n                          2                 ⎪    n + 3/2        ↪\n",
              "⎜⎪   ⅈ⋅n⋅ℯ             ⅈ⋅n          2⋅ℯ                    ⎪(-1)       ⋅n + ⅈ⋅ ↪\n",
              "⎜⎪- ──────────── + ──────────── - ────────────  for n ≠ 1  ⎪────────────────── ↪\n",
              "⎜⎨       2              2              2                 , ⎨             ⎛ 2   ↪\n",
              "⎜⎪  2⋅π⋅n  - 2⋅π   2⋅π⋅n  - 2⋅π   2⋅π⋅n  - 2⋅π             ⎪         2⋅π⋅⎝n  - ↪\n",
              "⎜⎪                                                         ⎪                   ↪\n",
              "⎜⎪                     ⅈ                                   ⎪              ⅈ    ↪\n",
              "⎜⎪                    ───                       otherwise  ⎪             ───   ↪\n",
              "⎝⎩                    2⋅π                                  ⎩             2⋅π   ↪\n",
              "\n",
              "↪        ⅈ⋅π⋅n           ⎞\n",
              "↪        ─────           ⎟\n",
              "↪          2             ⎟\n",
              "↪ n - 2⋅ℯ                ⎟\n",
              "↪ ────────────  for n > 1⎟\n",
              "↪   ⎞                    ⎟\n",
              "↪  1⎠                    ⎟\n",
              "↪                        ⎟\n",
              "↪                        ⎟\n",
              "↪               otherwise⎟\n",
              "↪                        ⎠"
            ]
          },
          "execution_count": 3,
          "metadata": {},
          "output_type": "execute_result"
        }
      ],
      "source": [
        "# Rectified cosine\n",
        "x = sm.symbols(\"x\", real=True)\n",
        "n = sm.symbols(\"n\", integer=True, positive=True)\n",
        "q = 2*sm.pi*sm.I*n*x\n",
        "T = sm.Rational(1,2)\n",
        "fn = sm.integrate(sm.Abs(sm.cos(2*sm.pi*x))*sm.exp(q),(x,0,T))\n",
        "fn, fn.simplify()"
      ]
    },
    {
      "cell_type": "code",
      "execution_count": 15,
      "metadata": {},
      "outputs": [
        {
          "data": {
            "text/latex": [
              "$\\displaystyle \\left[ \\frac{7}{22}, \\  \\frac{i e^{- 2 i \\pi x}}{2 \\pi}, \\  \\frac{e^{- 4 i \\pi x}}{3 \\pi}, \\  \\frac{i e^{- 6 i \\pi x}}{2 \\pi}, \\  - \\frac{e^{- 8 i \\pi x}}{15 \\pi}\\right]$"
            ],
            "text/plain": [
              "⎡         -2⋅ⅈ⋅π⋅x   -4⋅ⅈ⋅π⋅x     -6⋅ⅈ⋅π⋅x    -8⋅ⅈ⋅π⋅x ⎤\n",
              "⎢      ⅈ⋅ℯ          ℯ          ⅈ⋅ℯ          -ℯ         ⎥\n",
              "⎢7/22, ───────────, ─────────, ───────────, ───────────⎥\n",
              "⎣          2⋅π         3⋅π         2⋅π         15⋅π    ⎦"
            ]
          },
          "execution_count": 15,
          "metadata": {},
          "output_type": "execute_result"
        }
      ],
      "source": [
        "# Here are some of the terms of the Fourier Series\n",
        "vals = range(0,5)\n",
        "terms = [sm.Rational(7,22) if k == 0 else fn.subs(n,k)*sm.exp(-2*sm.pi*sm.I*k*x) for k in vals]\n",
        "terms"
      ]
    },
    {
      "cell_type": "code",
      "execution_count": 13,
      "metadata": {},
      "outputs": [
        {
          "data": {
            "text/latex": [
              "$\\displaystyle \\left[ \\frac{7}{22}, \\  \\frac{i \\left(- i \\sin{\\left(2 \\pi x \\right)} + \\cos{\\left(2 \\pi x \\right)}\\right)}{2 \\pi}, \\  \\frac{- i \\sin{\\left(4 \\pi x \\right)} + \\cos{\\left(4 \\pi x \\right)}}{3 \\pi}, \\  \\frac{i \\left(- i \\sin{\\left(6 \\pi x \\right)} + \\cos{\\left(6 \\pi x \\right)}\\right)}{2 \\pi}, \\  - \\frac{- i \\sin{\\left(8 \\pi x \\right)} + \\cos{\\left(8 \\pi x \\right)}}{15 \\pi}\\right]$"
            ],
            "text/plain": [
              "⎡      ⅈ⋅(-ⅈ⋅sin(2⋅π⋅x) + cos(2⋅π⋅x))  -ⅈ⋅sin(4⋅π⋅x) + cos(4⋅π⋅x)  ⅈ⋅(-ⅈ⋅sin(6 ↪\n",
              "⎢7/22, ──────────────────────────────, ──────────────────────────, ─────────── ↪\n",
              "⎣                   2⋅π                           3⋅π                          ↪\n",
              "\n",
              "↪ ⋅π⋅x) + cos(6⋅π⋅x))  -(-ⅈ⋅sin(8⋅π⋅x) + cos(8⋅π⋅x)) ⎤\n",
              "↪ ───────────────────, ──────────────────────────────⎥\n",
              "↪   2⋅π                             15⋅π             ⎦"
            ]
          },
          "execution_count": 13,
          "metadata": {},
          "output_type": "execute_result"
        }
      ],
      "source": [
        "[t.rewrite(sm.sin) for t in terms]"
      ]
    },
    {
      "cell_type": "code",
      "execution_count": 16,
      "metadata": {},
      "outputs": [
        {
          "data": {
            "image/png": "[encoded data removed]",
            "text/plain": [
              "<Figure size 640x480 with 1 Axes>"
            ]
          },
          "metadata": {},
          "output_type": "display_data"
        }
      ],
      "source": [
        "# Plot the sum of all the terms versus theta\n",
        "fapprox = sum(terms)\n",
        "sm.plot(fapprox,(x,0,1),title=\"Finite Fourier Series Approximation to a Sine Wave\");"
      ]
    },
    {
      "cell_type": "markdown",
      "metadata": {
        "id": "qlP2rZMpXrbv"
      },
      "source": [
        "### 4. Orthogonality\n",
        "\n",
        "Show that $\\cos(2\\pi t)$ and $\\sin(2 \\pi t)$ are orthogonal by showing that their inner product (a.k.a. dot product) is zero. Hint: Express the two functions in exponential form, and expand their product inside the integral."
      ]
    },
    {
      "cell_type": "markdown",
      "metadata": {},
      "source": [
        "https://www.youtube.com/watch?v=PP5ox7evg7o&list=PLMrJAkhIeNNT_Xh3Oy0Y4LTj0Oxo8GqsC&index=6"
      ]
    },
    {
      "cell_type": "markdown",
      "metadata": {
        "id": "zfAzUOBbXrbv"
      },
      "source": [
        "### 5. Fourier Transforms\n",
        "\n",
        "Find the Fourier Transforms of the following functions. You can use `sympy`.\n",
        "Make sure to simplify, these shouldn't give complicated results.\n",
        "\n",
        "Plot original functions and their transforms in a nice 3 $\\times$ 2 grid of plots. Label the sub plots.\n",
        "\n",
        "$$\n",
        "f(t) = \\left \\{\n",
        "\\begin{array}{l}\n",
        "1 \\;\\mathrm{if} \\;t \\geq 0 \\\\\n",
        "0 \\;\\mathrm{else}\n",
        "\\end{array}\n",
        "\\right .\n",
        "$$\n",
        "\n",
        "$$\n",
        "f(t) = \\frac{1}{1+t^2}\n",
        "$$\n",
        "\n",
        "$$\n",
        "f(t) = e^{-\\pi t^2}\n",
        "$$"
      ]
    },
    {
      "cell_type": "markdown",
      "metadata": {
        "id": "fIwqVRgiXrbw"
      },
      "source": [
        "### 6. Solve a system of ODEs\n",
        "\n",
        "Similar to the ODE example in the notes, find a solution to the two differential equations\n",
        "\n",
        "\\begin{eqnarray}\n",
        "\\dot x & = & -y \\\\\n",
        "\\dot y & = & -x + u\n",
        "\\end{eqnarray}\n",
        "\n",
        "a) First take the Fourier Transform of both equations.\n",
        "\n",
        "b) Solve for $Y(s)$ in terms of $U(s)$.\n",
        "\n",
        "c) Note that the solution for $Y(s)$ involves a function of $s$ times $U(s)$. Figure out the inverse Fourier Transform of that function.\n",
        "\n",
        "d) Use a convolution to figure out $y(t)$ in terms of $u(t)$.\n",
        "\n",
        "e) Find $X(s)$ in terms of $Y(s)$ and then $x(t)$ in terms of $y(t)$."
      ]
    },
    {
      "cell_type": "markdown",
      "metadata": {
        "id": "sDXgh_HCXrbw"
      },
      "source": [
        "### 7.  Image Processing\n",
        "\n",
        "Find a nice gray scale image to load, or use the Minion image from class. Call the resulting matrix $m$.\n",
        "\n",
        "a) Render the image using `matplotlib`.\n",
        "\n",
        "b) Take the DFT of the image $m$ to get a matrix $M$. Then make a new matrix $M_\\mathrm{new}$ in which each entry is just the magnitude of the corresponding entry in $M$. Create a new image from the inverse Fourier transform of this image and render it.\n",
        "\n",
        "c) Do the same thing, except set the entries in $M_\\mathrm{new}$ to the angle of the entries in $M$. Create a new image from the inverse Fourier transform of this image and render it.\n",
        "\n",
        "d) Do the same thing, except normalize all the entries in $M_\\mathrm{new}$ to have magnitude 1. Create a new image from the inverse Fourier transform of this image and render it.\n",
        "\n",
        "What might you conclude about the information contained in the magnitude of the transformed image? What might you conclude about the information contained in the angle?"
      ]
    }
  ],
  "metadata": {
    "colab": {
      "provenance": []
    },
    "kernelspec": {
      "display_name": ".venv",
      "language": "python",
      "name": "python3"
    },
    "language_info": {
      "codemirror_mode": {
        "name": "ipython",
        "version": 3
      },
      "file_extension": ".py",
      "mimetype": "text/x-python",
      "name": "python",
      "nbconvert_exporter": "python",
      "pygments_lexer": "ipython3",
      "version": "3.11.9"
    }
  },
  "nbformat": 4,
  "nbformat_minor": 0
}
