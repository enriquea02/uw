{
  "cells": [
    {
      "cell_type": "markdown",
      "metadata": {
        "ExecuteTime": {
          "end_time": "2019-09-24T16:05:23.746666Z",
          "start_time": "2019-09-24T16:05:23.741461Z"
        },
        "id": "Oz6OgZEDe3Kp"
      },
      "source": [
        "## EE 502 P: Analytical Methods for Electrical Engineering\n",
        "    \n",
        "# Homework 4: Linear Algebra\n",
        "## Due November 3, 2024 by 11:59 PM\n",
        "### <span style=\"color: red\">Enrique Antunano</span>\n",
        "\n",
        "Copyright &copy; 2024, University of Washington\n",
        "\n",
        "<hr>\n",
        "\n",
        "**Instructions**: Please use this notebook as a template. Answer all questions using well formatted Markdown with embedded LaTeX equations, executable Jupyter cells, or both. Submit your homework solutions as an `.ipynb` file via Canvas.\n",
        "\n",
        "<span style=\"color: red'\">\n",
        "Although you may discuss the homework with others, you must turn in your own, original work.\n",
        "</span>\n",
        "\n",
        "**Things to remember:**\n",
        "- Use complete sentences. Equations should appear in text as grammatical elements.\n",
        "- Comment your code.\n",
        "- Label your axes. Title your plots. Use legends where appropriate.\n",
        "- Before submitting a notebook, choose Kernel -> Restart and Run All to make sure your notebook runs when the cells are evaluated in order.\n"
      ]
    },
    {
      "cell_type": "markdown",
      "metadata": {
        "id": "s9dO5nI0e3Kt"
      },
      "source": [
        "### 0. Warmup (Do not turn in)\n",
        "\n",
        "- Make sure you download, read, and run the notebook for lecture 4. Work through the notebook cell by cell and see what happens when you change the expressions, and make up some of your own.\n",
        "- The material covered in class is intended to be an introductory subset the general subject of Linear Algebra, for example covered in the following online books:\n",
        "    - [Beezer](http://linear.ups.edu/html/fcla.html). Does not cover matrix exponentials, Caley-Hamilton, SVD, or PCA.\n",
        "    - [Hefferon](http://joshua.smcvt.edu/linearalgebra/book.pdf). Also does not cover the above.\n",
        "- The more advanced ideas are covered online as well. For example:\n",
        "    - Matrix Exponentials are typically not covered until a course on linear different equations. But the [Wikipedia page](https://en.wikipedia.org/wiki/Matrix_exponential) is pretty good.\n",
        "    - [Caley-Hamilton](https://brilliant.org/wiki/cayley-hamilton-theorem/)\n",
        "    - [SVD](https://www.cs.cmu.edu/~venkatg/teaching/CStheory-infoage/book-chapter-4.pdf)\n",
        "    - [PCA](https://medium.com/@jonathan_hui/machine-learning-singular-value-decomposition-svd-principal-component-analysis-pca-1d45e885e491)\n",
        "- If you want the **best** textbooks in linear algebra, get\n",
        "    - [Strang](https://www.amazon.com/Introduction-Linear-Algebra-Gilbert-Strang/dp/0980232775). Introductory. See also [Strang's Online Lectures](https://ocw.mit.edu/courses/mathematics/18-06-linear-algebra-spring-2010/video-lectures/).\n",
        "    - [Horn and Johnson](http://www.cse.zju.edu.cn/eclass/attachments/2015-10/01-1446086008-145421.pdf)"
      ]
    },
    {
      "cell_type": "code",
      "execution_count": 1,
      "metadata": {},
      "outputs": [],
      "source": [
        "import math\n",
        "import numpy as np\n",
        "import sympy as sm\n",
        "sm.init_printing(use_latex='mathjax')\n",
        "import matplotlib.pyplot as plt\n",
        "import matplotlib.patches as pch\n",
        "%matplotlib inline"
      ]
    },
    {
      "cell_type": "markdown",
      "metadata": {
        "ExecuteTime": {
          "end_time": "2019-10-08T16:48:02.889303Z",
          "start_time": "2019-10-08T16:48:02.885366Z"
        },
        "id": "UGJVzugVe3Ku"
      },
      "source": [
        "### 1. Linear independence\n",
        "---\n",
        "\n",
        "Which of the following sets of vectors are linearly independent? Why?\n",
        "\n",
        "a) $\\left (\\begin{array}{c}\n",
        "1 \\\\\n",
        "2 \\\\\n",
        "3 \\\\\n",
        "4\\end{array}\\right )$ and\n",
        "$\\left (\\begin{array}{c}\n",
        "5 \\\\\n",
        "6 \\\\\n",
        "7 \\\\\n",
        "8\\end{array}\\right )$\n",
        "\n",
        "b) $\\left (\\begin{array}{c}\n",
        "1 \\\\\n",
        "1 \\\\\n",
        "0 \\\\\n",
        "0\n",
        "\\end{array}\\right )$,  $\\left (\\begin{array}{c}\n",
        "0 \\\\\n",
        "0 \\\\\n",
        "1 \\\\\n",
        "1\n",
        "\\end{array}\\right )$,\n",
        "$\\left (\\begin{array}{c}\n",
        "0 \\\\\n",
        "1 \\\\\n",
        "1 \\\\\n",
        "0\n",
        "\\end{array}\\right )$ and $\\left (\\begin{array}{c}\n",
        "1 \\\\\n",
        "0 \\\\\n",
        "0 \\\\\n",
        "1\n",
        "\\end{array}\\right )$\n",
        "\n",
        "c)\n",
        "$\\left (\\begin{array}{c}\n",
        "1 \\\\\n",
        "1 \\\\\n",
        "0 \\\\\n",
        "0\n",
        "\\end{array}\\right )$, $\\left (\\begin{array}{c}\n",
        "0 \\\\\n",
        "0 \\\\\n",
        "1 \\\\\n",
        "1\n",
        "\\end{array}\\right )$, $\\left (\\begin{array}{c}\n",
        "0 \\\\\n",
        "1 \\\\\n",
        "1 \\\\\n",
        "0\n",
        "\\end{array}\\right )$ and $\\left (\\begin{array}{c}\n",
        "0 \\\\\n",
        "1 \\\\\n",
        "0 \\\\\n",
        "1\n",
        "\\end{array}\\right )$"
      ]
    },
    {
      "cell_type": "code",
      "execution_count": 10,
      "metadata": {},
      "outputs": [
        {
          "name": "stdout",
          "output_type": "stream",
          "text": [
            "The Row echelon form of matrix A and the pivot columns : (Matrix([\n",
            "[1, 0],\n",
            "[0, 1],\n",
            "[0, 0],\n",
            "[0, 0]]), (0, 1))\n",
            "The Row echelon form of matrix B and the pivot columns : (Matrix([\n",
            "[1, 0, 0,  1],\n",
            "[0, 1, 0,  1],\n",
            "[0, 0, 1, -1],\n",
            "[0, 0, 0,  0]]), (0, 1, 2))\n",
            "The Row echelon form of matrix C and the pivot columns : (Matrix([\n",
            "[1, 0, 0, 0],\n",
            "[0, 1, 0, 0],\n",
            "[0, 0, 1, 0],\n",
            "[0, 0, 0, 1]]), (0, 1, 2, 3))\n"
          ]
        }
      ],
      "source": [
        "# Convert matrix A,B, and C composed of vectors in set S_A, S_B, and S_C into Reduced Row-Echelon Form (RREF)\n",
        "# Matrix A composed of vectors in set S_A\n",
        "A = sm.Matrix([[1,5],[2,6],[3,7],[4,8]])\n",
        "# Convert Matrix to RREF\n",
        "A_rref = A.rref()\n",
        "\n",
        "# Matrix B composed of vectors in set S_B\n",
        "B = sm.Matrix([[1,0,0,1],[1,0,1,0],[0,1,1,0],[0,1,0,1]])\n",
        "# Convert Matrix to RREF\n",
        "B_rref = B.rref()\n",
        "\n",
        "# Matrix C composed of vectors in set S_C\n",
        "C = sm.Matrix([[1,0,0,0],[1,0,1,1],[0,1,1,0],[0,1,0,1]])\n",
        "# Convert Matrix to RREF\n",
        "C_rref = C.rref()\n",
        "\n",
        "# Print matrices in RREF\n",
        "print(\"The Row echelon form of matrix \" + \"A\" + \" and the pivot columns : {}\".format(A_rref))\n",
        "print(\"The Row echelon form of matrix \" + \"B\" + \" and the pivot columns : {}\".format(B_rref))   \n",
        "print(\"The Row echelon form of matrix \" + \"C\" + \" and the pivot columns : {}\".format(C_rref))   "
      ]
    },
    {
      "cell_type": "markdown",
      "metadata": {},
      "source": [
        "a) Represent set of vectors $S$ in matrix form as matrix $A$\n",
        "Row Reduce Matrix $A$\n",
        "$$ A = \n",
        "\\begin{bmatrix}\n",
        "1 & 5 \\\\\n",
        "2 & 6 \\\\\n",
        "3 & 7 \\\\\n",
        "4 & 8\n",
        "\\end{bmatrix}\n",
        "\\xrightarrow{\\text{RREF}}\n",
        "\\begin{bmatrix}\n",
        "1 & 0 \\\\\n",
        "0 & 1 \\\\\n",
        "0 & 0 \\\\\n",
        "0 & 0\n",
        "\\end{bmatrix}\n",
        "$$\n",
        "\n",
        "The set $S_A$ is linearly independent. \n",
        "<br><br>\n",
        "The set of vectors which form the coefficient matrix are not related and cannot be described in terms of the other vector coefficients. More formally, the coefficient matrix $A$ has two variables, $n$, while the reduced row-echelon form of matrix $A$, $A_{rref}$, has two rows $r$ that are not all zeroes. The number of free variables can be found by $n-r = 2-2 = 0$, meaning there are zero free variables in the solution set and $A$ has a unique solution. Since $A$ has a unique solution, the set $S$ is linearly independent since there are no set of scalars to make the system of equations equal to zero."
      ]
    },
    {
      "cell_type": "markdown",
      "metadata": {},
      "source": [
        "b) Represent set of vectors $S$ in matrix form as matrix $B$\n",
        "Row Reduce Matrix $B$\n",
        "$$ B = \n",
        "\\begin{bmatrix}\n",
        "1 & 0 & 0 & 1\\\\\n",
        "1 & 0 & 1 & 0\\\\\n",
        "0 & 1 & 1 & 0\\\\\n",
        "0 & 1 & 0 & 1\n",
        "\\end{bmatrix}\n",
        "\\xrightarrow{\\text{RREF}}\n",
        "\\begin{bmatrix}\n",
        "1 & 0 & 0 & 1 \\\\\n",
        "0 & 1 & 0 & 1 \\\\\n",
        "0 & 0 & 1 & -1\\\\\n",
        "0 & 0 & 0 & 0\n",
        "\\end{bmatrix}\n",
        "$$\n",
        "\n",
        "The set $S_B$ is linearly dependent.\n",
        "<br><br>\n",
        "The set of vectors which form the coefficient matrix are related and can be described in terms of the other vector coefficients. More formally, the coefficient matrix $B$ has four variables, $n$, while the reduced row-echelon form of matrix $B$, $B_{rref}$, has three rows $r$ that are not all zeroes. The number of free variables can be found by $n-r = 4-3 = 1$, meaning there is one free variables in the solution set and $B$ does not have a unique solution. Coefficients $a_{1},a_{2}, and a_{3}$ can be described in terms of $a_$4$, meaning there are infinite number of solutions. \n",
        "$$\\begin{matrix}\n",
        "a_1 = a_4 \\\\\n",
        "a_2 = a_4 \\\\\n",
        "a_3 = -a_4\n",
        "\\end{matrix}\n",
        "$$\n",
        "<br><br>\n",
        "Since $B$ has an infinite number of solutions, the set $S_B$ is linearly dependent since there are sets of scalars to make the system of equations equal to zero."
      ]
    },
    {
      "cell_type": "markdown",
      "metadata": {},
      "source": [
        "c) Represent set of vectors $S$ in matrix form as matrix $C$\n",
        "Row Reduce Matrix $C$\n",
        "$$ C = \n",
        "\\begin{bmatrix}\n",
        "1 & 0 & 0 & 0\\\\\n",
        "1 & 0 & 1 & 1\\\\\n",
        "0 & 1 & 1 & 0\\\\\n",
        "0 & 1 & 0 & 1\n",
        "\\end{bmatrix}\n",
        "\\xrightarrow{\\text{RREF}}\n",
        "\\begin{bmatrix}\n",
        "1 & 0 & 0 & 0\\\\\n",
        "0 & 1 & 0 & 0\\\\\n",
        "0 & 0 & 1 & 0\\\\\n",
        "0 & 0 & 0 & 1\n",
        "\\end{bmatrix}\n",
        "$$\n",
        "\n",
        "The set $S_C$ is linearly independent.\n",
        "<br><br>\n",
        "Same arguement as a), except $n = 4$ and $r = 4$. The number of free variables is the same though $n-r=4-4=0$, meaning all four variables in the set $S_C$ have a unique solution and thus the set is linearly independent."
      ]
    },
    {
      "cell_type": "markdown",
      "metadata": {
        "id": "_ac7Uixse3Kv"
      },
      "source": [
        "### 2. Orthogonality\n",
        "---\n",
        "\n",
        "a) Find two orthogonal vectors that are also orthogonal to the vector\n",
        "$$v = \\left (\n",
        "\\begin{array}{c}\n",
        "1 \\\\\n",
        "-1 \\\\\n",
        "3 \\\\\n",
        "\\end{array}\n",
        "\\right ).$$\n",
        "\n",
        "b) Argue that the resulting set of three vectors form a basis for for $\\mathbb{R}^3$.\n",
        "\n",
        "c) Express the vector $$x = \\left (\n",
        "\\begin{array}{c}\n",
        "1 \\\\\n",
        "2 \\\\\n",
        "3\n",
        "\\end{array}\n",
        "\\right)$$ as a linear combination of your three vectors."
      ]
    },
    {
      "cell_type": "markdown",
      "metadata": {
        "id": "OSdllIPpe3Kw"
      },
      "source": [
        "### 3. Inverses\n",
        "---\n",
        "Find the inverse of each of the following matrices, or explain why no inverse exists.\n",
        "\n",
        "$\n",
        "A = \\begin{pmatrix}\n",
        "0 & 1 & 1 \\\\\n",
        "1 & 0 & 1 \\\\\n",
        "1 & 1 & 0\n",
        "\\end{pmatrix}\n",
        "$\n",
        "\n",
        "$ B = \\begin{pmatrix}\n",
        "0 & 1 & 1 \\\\\n",
        "1 & 0 & 1 \\\\\n",
        "1 & -1 & 0\n",
        "\\end{pmatrix}\n",
        "$"
      ]
    },
    {
      "cell_type": "markdown",
      "metadata": {
        "id": "xLUI49Yfe3Kx"
      },
      "source": [
        "### 4. Commutativity\n",
        "---\n",
        "\n",
        "In three dimensions, there are three different kinds of **rotations**, one for rotation about each axis. These are defined as follows:\n",
        "\n",
        "$$\n",
        "R_x(\\theta) =\n",
        "\\begin{pmatrix}\n",
        "1 & 0 & 0 \\\\\n",
        "0 & \\cos \\theta  & \\sin \\theta  \\\\\n",
        "0 & -\\sin \\theta & \\cos \\theta\n",
        "\\end{pmatrix}.\n",
        "$$\n",
        "\n",
        "$$\n",
        "R_y(\\theta) =\n",
        "\\begin{pmatrix}\n",
        "\\cos \\theta  & 0 & \\sin \\theta \\\\\n",
        "0 & 1 & 0 \\\\\n",
        "-\\sin \\theta & 0 & \\cos \\theta\n",
        "\\end{pmatrix}.\n",
        "$$\n",
        "\n",
        "$$\n",
        "R_z(\\theta) =\n",
        "\\begin{pmatrix}\n",
        "\\cos \\theta  & \\sin \\theta & 0 \\\\\n",
        "-\\sin \\theta & \\cos \\theta & 0 \\\\\n",
        "0 & 0 & 1\n",
        "\\end{pmatrix}.\n",
        "$$\n",
        "\n",
        "Are these matrices pairwise commutative in general? That is: is it the case that\n",
        "\n",
        "$$\n",
        "R_x(\\theta_1)R_y(\\theta_2) = R_y(\\theta_2)R_x(\\theta_1)\n",
        "$$\n",
        "\n",
        "and similarly for $x,z$ and $y,z$? Explain your answers."
      ]
    },
    {
      "cell_type": "markdown",
      "metadata": {
        "id": "AeIZnCNye3Kx"
      },
      "source": [
        "### 5. Orthogonal Matrices\n",
        "---\n",
        "\n",
        "The set of **reflection matrices** is defined by\n",
        "\n",
        "$$\n",
        "S(\\theta) =\n",
        "\\begin{pmatrix}\n",
        "\\cos 2\\theta & \\sin 2 \\theta \\\\\n",
        "\\sin 2\\theta & -\\cos 2 \\theta\n",
        "\\end{pmatrix}.\n",
        "$$\n",
        "\n",
        "a) Show how $S(\\frac{\\pi}{4})$ transforms the vector $(1\\;-1)^T$.\n",
        "\n",
        "b) Show that $S(\\theta)$ does not change any vectors that happen to lie on the axis of reflection."
      ]
    },
    {
      "cell_type": "markdown",
      "metadata": {
        "ExecuteTime": {
          "end_time": "2019-10-23T18:01:28.779050Z",
          "start_time": "2019-10-23T18:01:28.773729Z"
        },
        "id": "HO4s8VmBe3Ky"
      },
      "source": [
        "### 6. Similarity\n",
        "---\n",
        "\n",
        "Show that the following two matrices are similar.\n",
        "\n",
        "$\n",
        "A = \\begin{pmatrix}\n",
        "2 & 4 & 6 \\\\\n",
        "0 & 2 & 0 \\\\\n",
        "1 & 1 & 0\n",
        "\\end{pmatrix}\n",
        "$\n",
        "\n",
        "$\n",
        "B = \\begin{pmatrix}\n",
        "1 & -1 & 2 \\\\\n",
        "4 & 2 & 1 \\\\\n",
        "5 & 1 & 1\n",
        "\\end{pmatrix}\n",
        "$"
      ]
    },
    {
      "cell_type": "markdown",
      "metadata": {
        "id": "SgsiNyule3Kz"
      },
      "source": [
        "### 7. Diagonalization\n",
        "---\n",
        "\n",
        "Diagonalize the matrices in problem 6 (you can use `sympy`), and show they have the same diagonal form."
      ]
    },
    {
      "cell_type": "markdown",
      "metadata": {
        "ExecuteTime": {
          "end_time": "2019-10-23T18:34:47.222384Z",
          "start_time": "2019-10-23T18:34:47.217657Z"
        },
        "id": "i1TQoT7We3K0"
      },
      "source": [
        "### 8. Cayley Hamilton\n",
        "---\n",
        "\n",
        "a) Use the **Cayley-Hamilton Theorem** to come up with an expression for $A^n$ in terms of $n$ when\n",
        "\n",
        "$$\n",
        "A = \\begin{pmatrix}\n",
        "-\\frac{1}{2} & 1  \\\\\n",
        "0 & \\frac{1}{4}\n",
        "\\end{pmatrix} .\n",
        "$$\n",
        "\n",
        "b) Define $x_{k+1} = A x_k$ and argue that no matter what value $x_0$ is, $x_k$ converges to $(0 \\; 0)^T$.\n",
        "\n",
        "c) Choose $x_0 = (-2,3)^T$ and plot $x_k$ for $k = 0$ to $10$. Plot the two components of of $x_k$ as two separate trajectories overlaid on the same plot."
      ]
    },
    {
      "cell_type": "markdown",
      "metadata": {
        "ExecuteTime": {
          "end_time": "2019-10-23T18:47:28.833529Z",
          "start_time": "2019-10-23T18:47:28.828866Z"
        },
        "id": "02TUwUg5e3K0"
      },
      "source": [
        "### 9. Matrix Exponential Properties\n",
        "---\n",
        "\n",
        "Recall that for matrices $A$ and $B$  it is not necessarily the case that $AB = BA$ (i.e. that $A$ and $B$ commute). Show that\n",
        "\n",
        "a) If $AB=BA$ then $e^Ae^B = e^Be^A$ using the definition of the matrix exponential as a series.\n",
        "\n",
        "b) Find an example in 2D where $A$ and $B$ do not commute and show that $e^Ae^B \\neq e^Be^A$."
      ]
    },
    {
      "cell_type": "markdown",
      "metadata": {
        "id": "l3QQGinGe3K1"
      },
      "source": [
        "### 10. Senators Revisited\n",
        "---\n",
        "\n",
        "Repeat the clustering of senators by voting habit for the years 1999, 1979 and 1959. Plot them together with the 2019 plot in a grid of plots. Which years seem the most divided?\n",
        "\n",
        "Note: you will need to get the data at [https://voteview.com/data](https://voteview.com/data). Choose \"Member's Votes\", \"Senate Only\", the desired year, and CSV file.\n",
        "\n",
        "I had to edit the CSV file (in a text editor or ExCEL) to remove the heading in the first row before loading the file."
      ]
    }
  ],
  "metadata": {
    "colab": {
      "provenance": []
    },
    "kernelspec": {
      "display_name": ".venv",
      "language": "python",
      "name": "python3"
    },
    "language_info": {
      "codemirror_mode": {
        "name": "ipython",
        "version": 3
      },
      "file_extension": ".py",
      "mimetype": "text/x-python",
      "name": "python",
      "nbconvert_exporter": "python",
      "pygments_lexer": "ipython3",
      "version": "3.11.9"
    }
  },
  "nbformat": 4,
  "nbformat_minor": 0
}
