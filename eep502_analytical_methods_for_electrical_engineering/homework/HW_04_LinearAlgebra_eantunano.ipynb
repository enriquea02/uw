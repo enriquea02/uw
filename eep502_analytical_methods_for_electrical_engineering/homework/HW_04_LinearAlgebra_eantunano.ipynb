{
  "cells": [
    {
      "cell_type": "markdown",
      "metadata": {
        "ExecuteTime": {
          "end_time": "2019-09-24T16:05:23.746666Z",
          "start_time": "2019-09-24T16:05:23.741461Z"
        },
        "id": "Oz6OgZEDe3Kp"
      },
      "source": [
        "## EE 502 P: Analytical Methods for Electrical Engineering\n",
        "    \n",
        "# Homework 4: Linear Algebra\n",
        "## Due November 3, 2024 by 11:59 PM\n",
        "### <span style=\"color: red\">Enrique Antunano</span>\n",
        "\n",
        "Copyright &copy; 2024, University of Washington\n",
        "\n",
        "<hr>\n",
        "\n",
        "**Instructions**: Please use this notebook as a template. Answer all questions using well formatted Markdown with embedded LaTeX equations, executable Jupyter cells, or both. Submit your homework solutions as an `.ipynb` file via Canvas.\n",
        "\n",
        "<span style=\"color: red'\">\n",
        "Although you may discuss the homework with others, you must turn in your own, original work.\n",
        "</span>\n",
        "\n",
        "**Things to remember:**\n",
        "- Use complete sentences. Equations should appear in text as grammatical elements.\n",
        "- Comment your code.\n",
        "- Label your axes. Title your plots. Use legends where appropriate.\n",
        "- Before submitting a notebook, choose Kernel -> Restart and Run All to make sure your notebook runs when the cells are evaluated in order.\n"
      ]
    },
    {
      "cell_type": "markdown",
      "metadata": {
        "id": "s9dO5nI0e3Kt"
      },
      "source": [
        "### 0. Warmup (Do not turn in)\n",
        "\n",
        "- Make sure you download, read, and run the notebook for lecture 4. Work through the notebook cell by cell and see what happens when you change the expressions, and make up some of your own.\n",
        "- The material covered in class is intended to be an introductory subset the general subject of Linear Algebra, for example covered in the following online books:\n",
        "    - [Beezer](http://linear.ups.edu/html/fcla.html). Does not cover matrix exponentials, Caley-Hamilton, SVD, or PCA.\n",
        "    - [Hefferon](http://joshua.smcvt.edu/linearalgebra/book.pdf). Also does not cover the above.\n",
        "- The more advanced ideas are covered online as well. For example:\n",
        "    - Matrix Exponentials are typically not covered until a course on linear different equations. But the [Wikipedia page](https://en.wikipedia.org/wiki/Matrix_exponential) is pretty good.\n",
        "    - [Caley-Hamilton](https://brilliant.org/wiki/cayley-hamilton-theorem/)\n",
        "    - [SVD](https://www.cs.cmu.edu/~venkatg/teaching/CStheory-infoage/book-chapter-4.pdf)\n",
        "    - [PCA](https://medium.com/@jonathan_hui/machine-learning-singular-value-decomposition-svd-principal-component-analysis-pca-1d45e885e491)\n",
        "- If you want the **best** textbooks in linear algebra, get\n",
        "    - [Strang](https://www.amazon.com/Introduction-Linear-Algebra-Gilbert-Strang/dp/0980232775). Introductory. See also [Strang's Online Lectures](https://ocw.mit.edu/courses/mathematics/18-06-linear-algebra-spring-2010/video-lectures/).\n",
        "    - [Horn and Johnson](http://www.cse.zju.edu.cn/eclass/attachments/2015-10/01-1446086008-145421.pdf)"
      ]
    },
    {
      "cell_type": "code",
      "execution_count": 329,
      "metadata": {},
      "outputs": [],
      "source": [
        "import math\n",
        "import numpy as np\n",
        "import sympy as sm\n",
        "sm.init_printing(use_latex='mathjax')\n",
        "import matplotlib.pyplot as plt\n",
        "import matplotlib.patches as pch\n",
        "%matplotlib inline"
      ]
    },
    {
      "cell_type": "markdown",
      "metadata": {
        "ExecuteTime": {
          "end_time": "2019-10-08T16:48:02.889303Z",
          "start_time": "2019-10-08T16:48:02.885366Z"
        },
        "id": "UGJVzugVe3Ku"
      },
      "source": [
        "### 1. Linear independence\n",
        "---\n",
        "\n",
        "Which of the following sets of vectors are linearly independent? Why?\n",
        "\n",
        "a) $\\left (\\begin{array}{c}\n",
        "1 \\\\\n",
        "2 \\\\\n",
        "3 \\\\\n",
        "4\\end{array}\\right )$ and\n",
        "$\\left (\\begin{array}{c}\n",
        "5 \\\\\n",
        "6 \\\\\n",
        "7 \\\\\n",
        "8\\end{array}\\right )$\n",
        "\n",
        "b) $\\left (\\begin{array}{c}\n",
        "1 \\\\\n",
        "1 \\\\\n",
        "0 \\\\\n",
        "0\n",
        "\\end{array}\\right )$,  $\\left (\\begin{array}{c}\n",
        "0 \\\\\n",
        "0 \\\\\n",
        "1 \\\\\n",
        "1\n",
        "\\end{array}\\right )$,\n",
        "$\\left (\\begin{array}{c}\n",
        "0 \\\\\n",
        "1 \\\\\n",
        "1 \\\\\n",
        "0\n",
        "\\end{array}\\right )$ and $\\left (\\begin{array}{c}\n",
        "1 \\\\\n",
        "0 \\\\\n",
        "0 \\\\\n",
        "1\n",
        "\\end{array}\\right )$\n",
        "\n",
        "c)\n",
        "$\\left (\\begin{array}{c}\n",
        "1 \\\\\n",
        "1 \\\\\n",
        "0 \\\\\n",
        "0\n",
        "\\end{array}\\right )$, $\\left (\\begin{array}{c}\n",
        "0 \\\\\n",
        "0 \\\\\n",
        "1 \\\\\n",
        "1\n",
        "\\end{array}\\right )$, $\\left (\\begin{array}{c}\n",
        "0 \\\\\n",
        "1 \\\\\n",
        "1 \\\\\n",
        "0\n",
        "\\end{array}\\right )$ and $\\left (\\begin{array}{c}\n",
        "0 \\\\\n",
        "1 \\\\\n",
        "0 \\\\\n",
        "1\n",
        "\\end{array}\\right )$"
      ]
    },
    {
      "cell_type": "code",
      "execution_count": 330,
      "metadata": {},
      "outputs": [
        {
          "name": "stdout",
          "output_type": "stream",
          "text": [
            "The Row echelon form of matrix A and the pivot columns : (Matrix([\n",
            "[1, 0],\n",
            "[0, 1],\n",
            "[0, 0],\n",
            "[0, 0]]), (0, 1))\n",
            "The Row echelon form of matrix B and the pivot columns : (Matrix([\n",
            "[1, 0, 0,  1],\n",
            "[0, 1, 0,  1],\n",
            "[0, 0, 1, -1],\n",
            "[0, 0, 0,  0]]), (0, 1, 2))\n",
            "The Row echelon form of matrix C and the pivot columns : (Matrix([\n",
            "[1, 0, 0, 0],\n",
            "[0, 1, 0, 0],\n",
            "[0, 0, 1, 0],\n",
            "[0, 0, 0, 1]]), (0, 1, 2, 3))\n"
          ]
        }
      ],
      "source": [
        "# Convert matrix A,B, and C composed of vectors in set S_A, S_B, and S_C into Reduced Row-Echelon Form (RREF)\n",
        "# Matrix A composed of vectors in set S_A\n",
        "A = sm.Matrix([[1,5],[2,6],[3,7],[4,8]])\n",
        "# Convert Matrix to RREF\n",
        "A_rref = A.rref()\n",
        "\n",
        "# Matrix B composed of vectors in set S_B\n",
        "B = sm.Matrix([[1,0,0,1],[1,0,1,0],[0,1,1,0],[0,1,0,1]])\n",
        "# Convert Matrix to RREF\n",
        "B_rref = B.rref()\n",
        "\n",
        "# Matrix C composed of vectors in set S_C\n",
        "C = sm.Matrix([[1,0,0,0],[1,0,1,1],[0,1,1,0],[0,1,0,1]])\n",
        "# Convert Matrix to RREF\n",
        "C_rref = C.rref()\n",
        "\n",
        "# Print matrices in RREF\n",
        "print(\"The Row echelon form of matrix \" + \"A\" + \" and the pivot columns : {}\".format(A_rref))\n",
        "print(\"The Row echelon form of matrix \" + \"B\" + \" and the pivot columns : {}\".format(B_rref))   \n",
        "print(\"The Row echelon form of matrix \" + \"C\" + \" and the pivot columns : {}\".format(C_rref))   "
      ]
    },
    {
      "cell_type": "markdown",
      "metadata": {},
      "source": [
        "a) Represent set of vectors $S$ in matrix form as matrix $A$\n",
        "Row Reduce Matrix $A$\n",
        "$$ A = \n",
        "\\begin{bmatrix}\n",
        "1 & 5 \\\\\n",
        "2 & 6 \\\\\n",
        "3 & 7 \\\\\n",
        "4 & 8\n",
        "\\end{bmatrix}\n",
        "\\xrightarrow{\\text{RREF}}\n",
        "\\begin{bmatrix}\n",
        "1 & 0 \\\\\n",
        "0 & 1 \\\\\n",
        "0 & 0 \\\\\n",
        "0 & 0\n",
        "\\end{bmatrix}\n",
        "$$\n",
        "\n",
        "The set $S_A$ is linearly independent. \n",
        "<br><br>\n",
        "The set of vectors which form the coefficient matrix are not related and cannot be described in terms of the other vector coefficients. More formally, the coefficient matrix $A$ has two variables, $n$, while the reduced row-echelon form of matrix $A$, $A_{rref}$, has two rows $r$ that are not all zeroes. The number of free variables can be found by $n-r = 2-2 = 0$, meaning there are zero free variables in the solution set and $A$ has a unique solution. Since $A$ has a unique solution, the set $S$ is linearly independent since there are no set of scalars to make the system of equations equal to zero."
      ]
    },
    {
      "cell_type": "markdown",
      "metadata": {},
      "source": [
        "b) Represent set of vectors $S$ in matrix form as matrix $B$\n",
        "Row Reduce Matrix $B$\n",
        "$$ B = \n",
        "\\begin{bmatrix}\n",
        "1 & 0 & 0 & 1\\\\\n",
        "1 & 0 & 1 & 0\\\\\n",
        "0 & 1 & 1 & 0\\\\\n",
        "0 & 1 & 0 & 1\n",
        "\\end{bmatrix}\n",
        "\\xrightarrow{\\text{RREF}}\n",
        "\\begin{bmatrix}\n",
        "1 & 0 & 0 & 1 \\\\\n",
        "0 & 1 & 0 & 1 \\\\\n",
        "0 & 0 & 1 & -1\\\\\n",
        "0 & 0 & 0 & 0\n",
        "\\end{bmatrix}\n",
        "$$\n",
        "\n",
        "The set $S_B$ is linearly dependent.\n",
        "<br><br>\n",
        "The set of vectors which form the coefficient matrix are related and can be described in terms of the other vector coefficients. More formally, the coefficient matrix $B$ has four variables, $n$, while the reduced row-echelon form of matrix $B$, $B_{rref}$, has three rows $r$ that are not all zeroes. The number of free variables can be found by $n-r = 4-3 = 1$, meaning there is one free variables in the solution set and $B$ does not have a unique solution. Coefficients $a_{1},a_{2}, and a_{3}$ can be described in terms of $a_$4$, meaning there are infinite number of solutions. \n",
        "$$\\begin{matrix}\n",
        "a_1 = a_4 \\\\\n",
        "a_2 = a_4 \\\\\n",
        "a_3 = -a_4\n",
        "\\end{matrix}\n",
        "$$\n",
        "<br><br>\n",
        "Since $B$ has an infinite number of solutions, the set $S_B$ is linearly dependent since there are sets of scalars to make the system of equations equal to zero."
      ]
    },
    {
      "cell_type": "markdown",
      "metadata": {},
      "source": [
        "c) Represent set of vectors $S$ in matrix form as matrix $C$\n",
        "Row Reduce Matrix $C$\n",
        "$$ C = \n",
        "\\begin{bmatrix}\n",
        "1 & 0 & 0 & 0\\\\\n",
        "1 & 0 & 1 & 1\\\\\n",
        "0 & 1 & 1 & 0\\\\\n",
        "0 & 1 & 0 & 1\n",
        "\\end{bmatrix}\n",
        "\\xrightarrow{\\text{RREF}}\n",
        "\\begin{bmatrix}\n",
        "1 & 0 & 0 & 0\\\\\n",
        "0 & 1 & 0 & 0\\\\\n",
        "0 & 0 & 1 & 0\\\\\n",
        "0 & 0 & 0 & 1\n",
        "\\end{bmatrix}\n",
        "$$\n",
        "\n",
        "The set $S_C$ is linearly independent.\n",
        "<br><br>\n",
        "Same arguement as a), except $n = 4$ and $r = 4$. The number of free variables is the same though $n-r=4-4=0$, meaning all four variables in the set $S_C$ have a unique solution and thus the set is linearly independent."
      ]
    },
    {
      "cell_type": "markdown",
      "metadata": {
        "id": "_ac7Uixse3Kv"
      },
      "source": [
        "### 2. Orthogonality\n",
        "---\n",
        "\n",
        "a) Find two orthogonal vectors that are also orthogonal to the vector\n",
        "$$v = \\left (\n",
        "\\begin{array}{c}\n",
        "1 \\\\\n",
        "-1 \\\\\n",
        "3 \\\\\n",
        "\\end{array}\n",
        "\\right ).$$\n",
        "\n",
        "b) Argue that the resulting set of three vectors form a basis for for $\\mathbb{R}^3$.\n",
        "\n",
        "c) Express the vector $$x = \\left (\n",
        "\\begin{array}{c}\n",
        "1 \\\\\n",
        "2 \\\\\n",
        "3\n",
        "\\end{array}\n",
        "\\right)$$ as a linear combination of your three vectors."
      ]
    },
    {
      "cell_type": "code",
      "execution_count": 331,
      "metadata": {},
      "outputs": [
        {
          "name": "stdout",
          "output_type": "stream",
          "text": [
            "Set v dot set u is equal to:  [[0]]\n",
            "Set v dot set t is equal to:  [[0]]\n",
            "The Row echelon form of matrix D and the pivot columns : (Matrix([\n",
            "[1, 0, 0],\n",
            "[0, 1, 0],\n",
            "[0, 0, 1]]), (0, 1, 2))\n"
          ]
        }
      ],
      "source": [
        "# a) Check dot product of vectors u and v\n",
        "v_t = np.array([\n",
        "    [1] ,\n",
        "    [-1],\n",
        "    [3]\n",
        "]).transpose()\n",
        "\n",
        "v = np.array([\n",
        "    [1] ,\n",
        "    [-1],\n",
        "    [3]\n",
        "])\n",
        "\n",
        "u = np.array([\n",
        "    [-3],\n",
        "    [3] ,\n",
        "    [2]\n",
        "])\n",
        "\n",
        "u_t = np.array([\n",
        "    [-3],\n",
        "    [3] ,\n",
        "    [2]\n",
        "]).transpose()\n",
        "\n",
        "t = np.array([\n",
        "    [-11],\n",
        "    [-11],\n",
        "    [0]\n",
        "])\n",
        "\n",
        "v_dot_u = np.dot(v_t,u)\n",
        "v_dot_t = np.dot(v_t,t)\n",
        "print(\"Set v dot set u is equal to: \", v_dot_u)\n",
        "print(\"Set v dot set t is equal to: \", v_dot_t)\n",
        "\n",
        "# b) Orthogonal vectors grouped into the same set must be linearly independent, as shown in Reduce Row-Echelon Form below \n",
        "# Matrix C composed of vectors in set S_C\n",
        "D = sm.Matrix([[1,-3,-11],[-1,3,-11],[3,2,0]])\n",
        "# Convert Matrix to RREF\n",
        "D_rref = D.rref()\n",
        "\n",
        "# Print matrices in RREF\n",
        "print(\"The Row echelon form of matrix \" + \"D\" + \" and the pivot columns : {}\".format(D_rref))\n"
      ]
    },
    {
      "cell_type": "markdown",
      "metadata": {},
      "source": [
        "a) Vector $u$ is orthogonal to vector $v$ \n",
        "$$u = \\left ( \\begin{array}{c}\n",
        "-3 \\\\\n",
        "3 \\\\\n",
        "2 \\\\\n",
        "\\end{array}\n",
        "\\right )$$\n",
        "The vector $t$ is orthogonal to vector $v$\n",
        "$$t = \\left ( \\begin{array}{c}\n",
        "-11 \\\\\n",
        "-11 \\\\\n",
        "0 \\\\\n",
        "\\end{array}\n",
        "\\right )$$\n",
        "\n",
        "Both vectors are confirmed to be orthognal to $v$ because the dot product is equal to $0$, as shown in python code above.\n",
        "\n",
        "b) The set of three vectors, represented by the coefficient matrix $D$, is linearly independent. The RREF of matrix $D$, as shown in the python code above, demonstrates that there exits only one unique solution. There are no scalars to the system of equations, represented by matrix $D$, which will equal to zero, other than all the scalars being set to zero. \n",
        "<br><br>\n",
        "Since all three vectors are linearly independent from each other, it matches the defintion of a $basis$ for the vector space $S$ consisting of vectors $v,u,t$.\n",
        "\n",
        "c) $x = \\frac{8}{11}v + \\frac{9}{22}u - \\frac{3}{22}t$\n",
        "<br><br>\n",
        "$$x - 3y - 11z = 1$$\n",
        "$$-x + 3y - 11z = 2$$\n",
        "$$3x + 2y + 0z = 3$$\n",
        "Solve for x in terms of y, $$x = \\frac{-2}{3}y + 1$$\n",
        "Solve for y in terms of z, $$x-3y-11z = 1$$\n",
        "$$\\frac{-2}{3}y + 1 - 3y - 11a = 1$$\n",
        "$$\\frac{-11}{3}y - 11z = 0$$\n",
        "$$\\frac{-11}{3}y = 11z$$\n",
        "$$y = -3z$$\n",
        "Solve for z, $$-x+3y-11z = 2$$\n",
        "$$\\frac{2}{3}y - 1 - 9z - 11z = 2$$\n",
        "$$\\frac{2}{3}(-3z) - 1 - 20z = 2$$\n",
        "$$-2z-20z = 3$$\n",
        "$$-22z = 3$$\n",
        "$$z = -\\frac{3}{22}$$\n",
        "Solve for y, $$y = -3z$$\n",
        "$$y = \\frac{9}{22}$$\n",
        "Solve for x, $$x = \\frac{-2}{3}y + 1$$\n",
        "$$= \\frac{-2}{3}(-3z) + 1$$\n",
        "$$= 2z+1$$\n",
        "$$=2(\\frac{-3}{22})+1$$\n",
        "$$=\\frac{-6}{22}+1$$\n",
        "$$= \\frac{16}{22}$$\n",
        "$$= \\frac{8}{11}$$"
      ]
    },
    {
      "cell_type": "markdown",
      "metadata": {
        "id": "OSdllIPpe3Kw"
      },
      "source": [
        "### 3. Inverses\n",
        "---\n",
        "Find the inverse of each of the following matrices, or explain why no inverse exists.\n",
        "\n",
        "$\n",
        "A = \\begin{pmatrix}\n",
        "0 & 1 & 1 \\\\\n",
        "1 & 0 & 1 \\\\\n",
        "1 & 1 & 0\n",
        "\\end{pmatrix}\n",
        "$\n",
        "\n",
        "$ B = \\begin{pmatrix}\n",
        "0 & 1 & 1 \\\\\n",
        "1 & 0 & 1 \\\\\n",
        "1 & -1 & 0\n",
        "\\end{pmatrix}\n",
        "$"
      ]
    },
    {
      "cell_type": "code",
      "execution_count": 332,
      "metadata": {},
      "outputs": [
        {
          "name": "stdout",
          "output_type": "stream",
          "text": [
            "Matrix N_A: \n",
            " (Matrix([\n",
            "[1, 0, 0, -1/2,  1/2,  1/2],\n",
            "[0, 1, 0,  1/2, -1/2,  1/2],\n",
            "[0, 0, 1,  1/2,  1/2, -1/2]]), (0, 1, 2))\n",
            "Matrix A's inverse \n",
            " Matrix([[-1/2, 1/2, 1/2], [1/2, -1/2, 1/2], [1/2, 1/2, -1/2]])\n",
            "\n",
            "\n",
            "\n",
            "\n",
            "Matrix N_B: \n",
            " (Matrix([\n",
            "[1, 0, 1, 0,  1,  0],\n",
            "[0, 1, 1, 0,  1, -1],\n",
            "[0, 0, 0, 1, -1,  1]]), (0, 1, 3))\n",
            "Augmented Matrix B in RREF:  (Matrix([\n",
            "[1, 0, 1],\n",
            "[0, 1, 1],\n",
            "[0, 0, 0]]), (0, 1))\n"
          ]
        }
      ],
      "source": [
        "# AJ = I; A = nxn matrix in question | J: matrix formed from final n columns of matrix N | I: indentity matrix\n",
        "# M = nx2n matrix formed by placing nxn Matrix A to the left of nxn Matrix I\n",
        "# N = row-equivalent RREF of M\n",
        "\n",
        "# Declare matrix M from matrix A\n",
        "M = sm.Matrix([[0,1,1,1,0,0],[1,0,1,0,1,0],[1,1,0,0,0,1]])\n",
        "# Solve for matrix N, the row row-equivalent RREF of M\n",
        "N_rref = M.rref()\n",
        "print(\"Matrix N_A: \\n\",N_rref)\n",
        "\n",
        "# Only keep matrix J from matrix N\n",
        "A_inv = N_rref[0][:,3:]\n",
        "print(\"Matrix A's inverse \\n\",A_inv)\n",
        "\n",
        "# Declare matrix M from matrix B\n",
        "M = sm.Matrix([[0,1,1,1,0,0],[1,0,1,0,1,0],[1,-1,0,0,0,1]])\n",
        "# Solve for matrix N, the row row-equivalent RREF of M\n",
        "N_rref = M.rref()\n",
        "print(\"\\n\\n\\n\")\n",
        "print(\"Matrix N_B: \\n\",N_rref)\n",
        "\n",
        "B_aug = sm.Matrix([[0,1,1],[1,0,1],[1,-1,0]])\n",
        "B_aug_rref = B_aug.rref()\n",
        "print(\"Augmented Matrix B in RREF: \",B_aug_rref)"
      ]
    },
    {
      "cell_type": "markdown",
      "metadata": {},
      "source": [
        "a) Matrix $A$ inverse \n",
        "$$A^{-1} =\n",
        "\\begin{pmatrix}\n",
        "-\\frac{1}{2} & \\frac{1}{2} & \\frac{1}{2} \\\\\n",
        "\\frac{1}{2} & -\\frac{1}{2} & \\frac{1}{2} \\\\\n",
        "\\frac{1}{2} & \\frac{1}{2} & -\\frac{1}{2}\n",
        "\\end{pmatrix}$$\n",
        "\n",
        "b) Matrix $B$ has no inverse. First, I knew matrix B was square nxn matrix. So I assumed matrix B was a nonsingular matrix. This would allow its inverse to be calculated through $\\textit{Theorem CINM Computing the Inverse of a Nonsingular Matrix}$ from $\\textit{A First Course in Linear Algebra}$, but the augmented matrix of of B was inconsistent. This does not show matrix B is noninverse.\n",
        "<br><br>\n",
        "Looking at matrix $B$, the matrix is not linearly independent since the vector variables $x_1$ and $x_2$, can be described in terms of $x_3$ since $x_3$ is a free variable.\n",
        "<br><br>\n",
        "According to the nonsingular matrix equivalences, if $B$ is a square matrix then the following are equivalent: 1) $B$ is nonsingular, 2) the columns of $B$ are a linearly independent set, 3) $B$ is invertible. Just looking at these three of six properities, matrix $B$ fails the second one, thus this means $B$ is singular and non-invertible. \n"
      ]
    },
    {
      "cell_type": "markdown",
      "metadata": {
        "id": "xLUI49Yfe3Kx"
      },
      "source": [
        "### 4. Commutativity\n",
        "---\n",
        "\n",
        "In three dimensions, there are three different kinds of **rotations**, one for rotation about each axis. These are defined as follows:\n",
        "\n",
        "$$\n",
        "R_x(\\theta) =\n",
        "\\begin{pmatrix}\n",
        "1 & 0 & 0 \\\\\n",
        "0 & \\cos \\theta  & \\sin \\theta  \\\\\n",
        "0 & -\\sin \\theta & \\cos \\theta\n",
        "\\end{pmatrix}.\n",
        "$$\n",
        "\n",
        "$$\n",
        "R_y(\\theta) =\n",
        "\\begin{pmatrix}\n",
        "\\cos \\theta  & 0 & \\sin \\theta \\\\\n",
        "0 & 1 & 0 \\\\\n",
        "-\\sin \\theta & 0 & \\cos \\theta\n",
        "\\end{pmatrix}.\n",
        "$$\n",
        "\n",
        "$$\n",
        "R_z(\\theta) =\n",
        "\\begin{pmatrix}\n",
        "\\cos \\theta  & \\sin \\theta & 0 \\\\\n",
        "-\\sin \\theta & \\cos \\theta & 0 \\\\\n",
        "0 & 0 & 1\n",
        "\\end{pmatrix}.\n",
        "$$\n",
        "\n",
        "Are these matrices pairwise commutative in general? That is: is it the case that\n",
        "\n",
        "$$\n",
        "R_x(\\theta_1)R_y(\\theta_2) = R_y(\\theta_2)R_x(\\theta_1)\n",
        "$$\n",
        "\n",
        "and similarly for $x,z$ and $y,z$? Explain your answers."
      ]
    },
    {
      "cell_type": "code",
      "execution_count": 333,
      "metadata": {},
      "outputs": [
        {
          "name": "stdout",
          "output_type": "stream",
          "text": [
            "Rx(theta_x)Ry(theta_y): \n",
            " [[-1.00000000e+00  0.00000000e+00  1.22464680e-16]\n",
            " [-1.49975978e-32 -1.00000000e+00 -1.22464680e-16]\n",
            " [ 1.22464680e-16 -1.22464680e-16  1.00000000e+00]]\n",
            "Ry(theta_y)Rx(theta_x): \n",
            " [[-1.00000000e+00 -1.49975978e-32 -1.22464680e-16]\n",
            " [ 0.00000000e+00 -1.00000000e+00  1.22464680e-16]\n",
            " [-1.22464680e-16  1.22464680e-16  1.00000000e+00]]\n",
            "\n",
            "\n",
            "Rx(theta_y)Rz(theta_z): \n",
            " [[ 1.00000000e+00 -1.22464680e-16  1.22464680e-16]\n",
            " [-1.22464680e-16 -1.00000000e+00  0.00000000e+00]\n",
            " [ 1.22464680e-16 -1.49975978e-32 -1.00000000e+00]]\n",
            "Rz(theta_z)Ry(theta_y): \n",
            " [[ 1.00000000e+00  1.22464680e-16 -1.22464680e-16]\n",
            " [ 1.22464680e-16 -1.00000000e+00 -1.49975978e-32]\n",
            " [-1.22464680e-16  0.00000000e+00 -1.00000000e+00]]\n",
            "\n",
            "\n",
            "Rx(theta_x)Rz(theta_z): \n",
            " [[-1.00000000e+00  1.22464680e-16  0.00000000e+00]\n",
            " [ 1.22464680e-16  1.00000000e+00  1.22464680e-16]\n",
            " [ 1.49975978e-32  1.22464680e-16 -1.00000000e+00]]\n",
            "Rz(theta_z)Rx(theta_x): \n",
            " [[-1.00000000e+00 -1.22464680e-16  1.49975978e-32]\n",
            " [-1.22464680e-16  1.00000000e+00 -1.22464680e-16]\n",
            " [ 0.00000000e+00 -1.22464680e-16 -1.00000000e+00]]\n"
          ]
        }
      ],
      "source": [
        "# Declare theta for each rotation\n",
        "theta_x = (np.pi)\n",
        "theta_y = np.pi\n",
        "theta_z = (np.pi)\n",
        "\n",
        "# Declare rotation matrices\n",
        "Rx = np.array([\n",
        "    [1,0,0],\n",
        "    [0,np.cos(theta_x),np.sin(theta_x)],\n",
        "    [0,-np.sin(theta_x),np.cos(theta_x)]\n",
        "])\n",
        "Ry = np.array([\n",
        "    [np.cos(theta_y),0,np.sin(theta_y)],\n",
        "    [0,1,0],\n",
        "    [-np.sin(theta_y),0,np.cos(theta_y)]\n",
        "])\n",
        "Rz = np.array([\n",
        "    [np.cos(theta_z),np.sin(theta_z),0],\n",
        "    [-np.sin(theta_z),np.cos(theta_z),0],\n",
        "    [0,0,1]\n",
        "])\n",
        "# Rx and Ry Multiplications\n",
        "RxRy = np.dot(Rx,Ry)\n",
        "print(\"Rx(theta_x)Ry(theta_y): \\n\",RxRy)\n",
        "RyRx = np.dot(Ry,Rx)\n",
        "print(\"Ry(theta_y)Rx(theta_x): \\n\",RyRx)\n",
        "\n",
        "# Ry and Rz Multiplicatios\n",
        "RyRz = np.dot(Ry,Rz)\n",
        "print(\"\\n\\nRx(theta_y)Rz(theta_z): \\n\",RyRz)\n",
        "RzRy = np.dot(Rz,Ry)\n",
        "print(\"Rz(theta_z)Ry(theta_y): \\n\",RzRy)\n",
        "\n",
        "# Rx and Rz Multiplications\n",
        "RxRz = np.dot(Rx,Rz)\n",
        "print(\"\\n\\nRx(theta_x)Rz(theta_z): \\n\",RxRz)\n",
        "RzRx = np.dot(Rz,Rx)\n",
        "print(\"Rz(theta_z)Rx(theta_x): \\n\",RzRx)\n"
      ]
    },
    {
      "cell_type": "markdown",
      "metadata": {},
      "source": [
        "No, none of the rotations are pairwise commutative in general, this applies to the following cases: $$xy = yz$$ $$xz = zx$$ $$yz = zy$$\n",
        "\n",
        "If the rotations were pairwise communtative, then for any value the matrix multplication should be equal. As a counter-example, when $\\theta = \\pi$, all three sets of pairwise  equations are not equal. The python output above demonstrates this example. Thus, the rotations cannot be pairwise commutative in general for a 3D matrix. "
      ]
    },
    {
      "cell_type": "markdown",
      "metadata": {
        "id": "AeIZnCNye3Kx"
      },
      "source": [
        "### 5. Orthogonal Matrices\n",
        "---\n",
        "\n",
        "The set of **reflection matrices** is defined by\n",
        "\n",
        "$$\n",
        "S(\\theta) =\n",
        "\\begin{pmatrix}\n",
        "\\cos 2\\theta & \\sin 2 \\theta \\\\\n",
        "\\sin 2\\theta & -\\cos 2 \\theta\n",
        "\\end{pmatrix}.\n",
        "$$\n",
        "\n",
        "a) Show how $S(\\frac{\\pi}{4})$ transforms the vector $(1\\;-1)^T$.\n",
        "\n",
        "b) Show that $S(\\theta)$ does not change any vectors that happen to lie on the axis of reflection."
      ]
    },
    {
      "cell_type": "code",
      "execution_count": 375,
      "metadata": {},
      "outputs": [
        {
          "name": "stdout",
          "output_type": "stream",
          "text": [
            "The solution for a):  Matrix([[-1.00000000000000], [1.00000000000000]])\n",
            "Example for b):  Matrix([[1.00000000000000], [1.00000000000000]])\n",
            "Lambda 1 Value:  -1\n",
            "Lambda 2 Value:  1\n"
          ]
        }
      ],
      "source": [
        "# a)\n",
        "t = sm.symbols(\"theta\")\n",
        "S = sm.Matrix([[sm.cos(2*t),sm.sin(2*t)],[sm.sin(2*t),-sm.cos(2*t)]])\n",
        "v = sm.Matrix([[1,-1]])\n",
        "A = S.subs(t,np.pi/4)\n",
        "\n",
        "#Transform vector v\n",
        "V_A = A*v.T\n",
        "print(\"The solution for a): \",V_A)\n",
        "\n",
        "# b)\n",
        "t = sm.symbols(\"theta\")\n",
        "S = sm.Matrix([[sm.cos(2*t),sm.sin(2*t)],[sm.sin(2*t),-sm.cos(2*t)]])\n",
        "v = sm.Matrix([[1,-1]])\n",
        "B = S.subs(t,np.pi)\n",
        "\n",
        "#Transform vector v\n",
        "V_B = B*v.T\n",
        "print(\"Example for b): \",V_B)\n",
        "\n",
        "# b)\n",
        "t = sm.symbols(\"theta\")\n",
        "S = sm.Matrix([[sm.cos(2*t),sm.sin(2*t)],[sm.sin(2*t),-sm.cos(2*t)]])\n",
        "lam1, lam2 = S.eigenvals()\n",
        "print(\"Lambda 1 Value: \", lam1)\n",
        "print(\"Lambda 2 Value: \", lam2)\n"
      ]
    },
    {
      "cell_type": "markdown",
      "metadata": {},
      "source": [
        "b) When $\\lambda = -1$ and $\\lambda = 1$, this represents a reflection across the x-axis. Based on the eigenvalue "
      ]
    },
    {
      "cell_type": "markdown",
      "metadata": {
        "ExecuteTime": {
          "end_time": "2019-10-23T18:01:28.779050Z",
          "start_time": "2019-10-23T18:01:28.773729Z"
        },
        "id": "HO4s8VmBe3Ky"
      },
      "source": [
        "### 6. Similarity\n",
        "---\n",
        "\n",
        "Show that the following two matrices are similar.\n",
        "\n",
        "$\n",
        "A = \\begin{pmatrix}\n",
        "2 & 4 & 6 \\\\\n",
        "0 & 2 & 0 \\\\\n",
        "1 & 1 & 0\n",
        "\\end{pmatrix}\n",
        "$\n",
        "\n",
        "$\n",
        "B = \\begin{pmatrix}\n",
        "1 & -1 & 2 \\\\\n",
        "4 & 2 & 1 \\\\\n",
        "5 & 1 & 1\n",
        "\\end{pmatrix}\n",
        "$"
      ]
    },
    {
      "cell_type": "code",
      "execution_count": 335,
      "metadata": {},
      "outputs": [
        {
          "data": {
            "text/latex": [
              "$\\displaystyle \\left( \\left[\\begin{matrix}2 & 4 & 6\\\\0 & 2 & 0\\\\1 & 1 & 0\\end{matrix}\\right], \\  - x^{3} + 4 x^{2} + 2 x - 12, \\  \\left[\\begin{matrix}1 & -1 & 2\\\\4 & 2 & 1\\\\5 & 1 & 1\\end{matrix}\\right], \\  - x^{3} + 4 x^{2} + 2 x - 12, \\  \\left[\\begin{matrix}-2 & -4 & -10\\\\3 & 4 & 10\\\\1 & 2 & 2\\end{matrix}\\right], \\  - x^{3} + 4 x^{2} + 2 x - 12\\right)$"
            ],
            "text/plain": [
              "⎛⎡2  4  6⎤                          ⎡1  -1  2⎤                          ⎡-2  - ↪\n",
              "⎜⎢       ⎥     3      2             ⎢        ⎥     3      2             ⎢      ↪\n",
              "⎜⎢0  2  0⎥, - x  + 4⋅x  + 2⋅x - 12, ⎢4  2   1⎥, - x  + 4⋅x  + 2⋅x - 12, ⎢3   4 ↪\n",
              "⎜⎢       ⎥                          ⎢        ⎥                          ⎢      ↪\n",
              "⎝⎣1  1  0⎦                          ⎣5  1   1⎦                          ⎣1   2 ↪\n",
              "\n",
              "↪ 4  -10⎤                        ⎞\n",
              "↪       ⎥     3      2           ⎟\n",
              "↪    10 ⎥, - x  + 4⋅x  + 2⋅x - 12⎟\n",
              "↪       ⎥                        ⎟\n",
              "↪     2 ⎦                        ⎠"
            ]
          },
          "execution_count": 335,
          "metadata": {},
          "output_type": "execute_result"
        }
      ],
      "source": [
        "x = sm.symbols(\"x\")\n",
        "# Solve for characteristic polynomial of sets A and B\n",
        "A = sm.Matrix([[2,4,6],[0,2,0],[1,1,0]])\n",
        "B = sm.Matrix([[1,-1,2],[4,2,1],[5,1,1]])\n",
        "S = sm.Matrix(np.random.randint(-1,1,(3,3)))\n",
        "\n",
        "while S.det() == 0: # Make sure S is invertible\n",
        "    S = sm.Matrix(np.random.randint(-1,1,(3,3)))\n",
        "\n",
        "# Matrix will verify B = B_check = S^-1 * A * S\n",
        "B_check =  (S.inv() * A) * S\n",
        "\n",
        "# A, B, and B_check all share the same characteristic polynomial\n",
        "# A is similar to B via S, since B = S^-1 * B * S\n",
        "A, (A - x*sm.eye(3)).det(), B, (B - x*sm.eye(3)).det(), B_check, (B_check - x*sm.eye(3)).det()"
      ]
    },
    {
      "cell_type": "markdown",
      "metadata": {
        "id": "SgsiNyule3Kz"
      },
      "source": [
        "### 7. Diagonalization\n",
        "---\n",
        "\n",
        "Diagonalize the matrices in problem 6 (you can use `sympy`), and show they have the same diagonal form."
      ]
    },
    {
      "cell_type": "code",
      "execution_count": 336,
      "metadata": {},
      "outputs": [
        {
          "data": {
            "text/latex": [
              "$\\displaystyle \\left( \\left[\\begin{matrix}2 & 0 & 0\\\\0 & 1 - \\sqrt{7} & 0\\\\0 & 0 & 1 + \\sqrt{7}\\end{matrix}\\right], \\  \\left[\\begin{matrix}2 & 0 & 0\\\\0 & 1 - \\sqrt{7} & 0\\\\0 & 0 & 1 + \\sqrt{7}\\end{matrix}\\right]\\right)$"
            ],
            "text/plain": [
              "⎛⎡2    0       0   ⎤  ⎡2    0       0   ⎤⎞\n",
              "⎜⎢                 ⎥  ⎢                 ⎥⎟\n",
              "⎜⎢0  1 - √7    0   ⎥, ⎢0  1 - √7    0   ⎥⎟\n",
              "⎜⎢                 ⎥  ⎢                 ⎥⎟\n",
              "⎝⎣0    0     1 + √7⎦  ⎣0    0     1 + √7⎦⎠"
            ]
          },
          "execution_count": 336,
          "metadata": {},
          "output_type": "execute_result"
        }
      ],
      "source": [
        "# Solve for characteristic polynomial of sets A and B\n",
        "A = sm.Matrix([[2,4,6],[0,2,0],[1,1,0]])\n",
        "B = sm.Matrix([[1,-1,2],[4,2,1],[5,1,1]])\n",
        "\n",
        "P_A, D_A = A.diagonalize()\n",
        "R_B, D_B = B.diagonalize()\n",
        "\n",
        "D_A, D_B\n"
      ]
    },
    {
      "cell_type": "markdown",
      "metadata": {
        "ExecuteTime": {
          "end_time": "2019-10-23T18:34:47.222384Z",
          "start_time": "2019-10-23T18:34:47.217657Z"
        },
        "id": "i1TQoT7We3K0"
      },
      "source": [
        "### 8. Cayley Hamilton\n",
        "---\n",
        "\n",
        "a) Use the **Cayley-Hamilton Theorem** to come up with an expression for $A^n$ in terms of $n$ when\n",
        "\n",
        "$$\n",
        "A = \\begin{pmatrix}\n",
        "-\\frac{1}{2} & 1  \\\\\n",
        "0 & \\frac{1}{4}\n",
        "\\end{pmatrix} .\n",
        "$$\n",
        "\n",
        "b) Define $x_{k+1} = A x_k$ and argue that no matter what value $x_0$ is, $x_k$ converges to $(0 \\; 0)^T$.\n",
        "\n",
        "c) Choose $x_0 = (-2,3)^T$ and plot $x_k$ for $k = 0$ to $10$. Plot the two components of of $x_k$ as two separate trajectories overlaid on the same plot."
      ]
    },
    {
      "cell_type": "code",
      "execution_count": 337,
      "metadata": {},
      "outputs": [
        {
          "data": {
            "text/latex": [
              "$\\displaystyle s^{2} + 0.25 s - 0.125$"
            ],
            "text/plain": [
              " 2                 \n",
              "s  + 0.25⋅s - 0.125"
            ]
          },
          "execution_count": 337,
          "metadata": {},
          "output_type": "execute_result"
        }
      ],
      "source": [
        "# Solve for the determinant\n",
        "s = sm.symbols(\"s\")\n",
        "A = sm.Matrix([\n",
        "    [-(1/2),1],\n",
        "    [0,(1/4)]\n",
        "])\n",
        "cp = (s*sm.eye(2)-A).det()\n",
        "cp"
      ]
    },
    {
      "cell_type": "markdown",
      "metadata": {},
      "source": [
        "a) Characteristic equation for $A$ is $s^2 + \\frac{s}{4} - \\frac{1}{8}$. <br>\n",
        "Rewrite A^2 as $= -\\frac{A}{4} + \\frac{1}{8}$ <br>\n",
        "Continue elaborating to establish pattern, $$A^3 = -\\frac{A^2}{4} + \\frac{A}{8}$$\n",
        "Substitute $s^2$, $$ A^3 = \\frac{A}{16} - \\frac{1}{32} + \\frac{A}{8} = \\frac{3A}{16} - \\frac{1}{32}$$\n",
        "Elaborate $A^4$, $$A^4 = -\\frac{5A}{64} + \\frac{3}{128}$$\n",
        "Elaborate $A^5$, $$A^5 = \\frac{11A}{256} - \\frac{5}{512}$$\n",
        "<br>\n",
        "$A^n$ expression,\n",
        "$$A^n = \\begin{cases}\n",
        "I_n &\\text{if } n = 0 \\\\\n",
        "A &\\text{if } n = 1 \\\\\n",
        "-\\frac{A}{4} + \\frac{1}{8} &\\text{if } n = 2 \\\\\n",
        "\\frac{3A}{4^{n-1}} + \\frac{1^{-1^n}}{4^n} &\\text{if } n = 3 \\\\\n",
        "\\frac{((n-2)(n-1)-1)^{-1^{n+1}}A}{4^{n-1}} + \\frac{(2(2(n-3)+1))^{-1^n}}{4^n} &\\text{if } n > 3\n",
        "\\end{cases}\n",
        "$$\n",
        "\n",
        "b) For k>2 $x_{k+1} = Ax_k = A^k\n",
        "\n",
        "<br>\n",
        "Based on the characteristic formula that was decomposed in part a), $a_k \\geq a_{k+1}$ for two consecutive indices of $k$, thus the sequence is decreasing. <br>\n",
        "<br>\n",
        "A decreasing sequence signifies convergence to a value. Knowing this, to determine the convergence value we evaluate both parts of the formula for when $n > 3$ separately since it's easier than evaluating the whole formula at once. The limits of combined sequences supports the equivalency. <br>\n",
        "<br>\n",
        "Based on the known convergence of $\\frac{1}{n}$ to 0, we can infer that the following formula, $\\frac{((n-2)(n-1)-1)^{-1^{n+1}}A}{4^{n-1}}$, will also converge to 0 since it's values are less than $\\frac{1}{n}$ but greater than 0. The denominator $4^{n-1}$ increases much faster than then numerator value. <br> Looking at the second part of the formula, $\\frac{(2(2(n-3)+1))^{-1^n}}{4^n}$, the same logic can be applied here to reach the conclusion that the convergence value is 0.\n",
        "<br>\n",
        "<br>\n",
        "Knowing the convergence behavior of the characteristic equation, x_k will always converge to $(0 \\; 0)^T$ provided a sufficiently large k"
      ]
    },
    {
      "cell_type": "code",
      "execution_count": 338,
      "metadata": {},
      "outputs": [
        {
          "name": "stdout",
          "output_type": "stream",
          "text": [
            "[Matrix([[-2]]), Matrix([[1.0]]), Matrix([[-0.5]]), Matrix([[0.25]]), Matrix([[-0.125]]), Matrix([[0.0625]]), Matrix([[-0.03125]]), Matrix([[0.015625]]), Matrix([[-0.0078125]]), Matrix([[0.00390625]])]\n"
          ]
        }
      ],
      "source": [
        "def ev_values(lam):\n",
        "    \"\"\"Multiplies eigenvalue across all eigenvectors. Provides array with vector results\n",
        "\n",
        "    No exceptions or error handling were considered.\n",
        "    \"\"\"\n",
        "\n",
        "    vector_array = []\n",
        "\n",
        "    for k in range(10):\n",
        "        rand_ev = sm.Matrix(np.random.randint(-1,1,(2,1)))\n",
        "        vector_array.append(rand_ev)\n",
        "\n",
        "    vector_array[0] = sm.Matrix([-2,3])\n",
        "\n",
        "    for i in range(len((vector_array))-1):\n",
        "        vector_array[i+1] = vector_array[i]*(lam)\n",
        "\n",
        "    return vector_array\n",
        "\n",
        "\n",
        "# b) & c) Get the eigenvalues for matrix A\n",
        "P_A, D_A = A.diagonalize()\n",
        "\n",
        "# set eigenvalues\n",
        "lambda1 = -0.5\n",
        "lambda2 = 0.25\n",
        "\n",
        "# solve for results\n",
        "res1 = ev_values(lambda1)\n",
        "res2 = ev_values(lambda2)\n",
        "\n",
        "res1_xval = []\n",
        "res1_yval = []\n",
        "res2_xval = []\n",
        "res2_yval = []\n",
        "\n",
        "k = [0,1,2,3,4,5,6,7,8,9,10]\n",
        "\n",
        "for i in range(10):\n",
        "    xval = sm.Matrix.row(res1[i],0)\n",
        "    res1_xval.append(xval)\n",
        "for i in range(10):\n",
        "    yval = sm.Matrix.row(res1[i],1)\n",
        "    res1_yval.append(yval)\n",
        "for i in range(10):\n",
        "    xval = sm.Matrix.row(res2[i],0)\n",
        "    res2_xval.append(xval)\n",
        "for i in range(10):\n",
        "    yval = sm.Matrix.row(res2[i],1)\n",
        "    res2_yval.append(yval)\n",
        "\n",
        "print(res1_xval)\n",
        "\n",
        "# plot results\n",
        "# plt.scatter(k,res1_xval)\n",
        "# plt.xlabel('x-axis; values k')\n",
        "# plt.xlabel('y-axis; values x')\n",
        "# plt.title(\"Function Properties Plots\\n\");\n",
        "# plt.show"
      ]
    },
    {
      "cell_type": "markdown",
      "metadata": {
        "ExecuteTime": {
          "end_time": "2019-10-23T18:47:28.833529Z",
          "start_time": "2019-10-23T18:47:28.828866Z"
        },
        "id": "02TUwUg5e3K0"
      },
      "source": [
        "### 9. Matrix Exponential Properties\n",
        "---\n",
        "\n",
        "Recall that for matrices $A$ and $B$  it is not necessarily the case that $AB = BA$ (i.e. that $A$ and $B$ commute). Show that\n",
        "\n",
        "a) If $AB=BA$ then $e^Ae^B = e^Be^A$ using the definition of the matrix exponential as a series.\n",
        "\n",
        "b) Find an example in 2D where $A$ and $B$ do not commute and show that $e^Ae^B \\neq e^Be^A$."
      ]
    },
    {
      "cell_type": "markdown",
      "metadata": {},
      "source": [
        "a) Suppose $A$ is similar to $B$, then A = Q^{-1}BQ{1}. Breaking down both sides of AB = BA leads to, $$Q^{-1}BQ^{1}B = BQ^{-1}BQ^{1}$$\n",
        "The formula can be rearranged to, $$Q^{-1}Q^{1}BB = Q^{-1}Q^{1}BB$$.\n",
        "\n",
        "The specific case above can be represented in series as,\n",
        "$$e^A = e^{QBQ^{-1}}$$\n",
        "$$= I + QBQ^{-1} + \\frac{(QBQ^{-1})^2}{2!} + ...$$\n",
        "$$= I + QBQ^{-1} + \\frac{QBQ^{-1}QBQ^{-1}}{2!} + ...$$\n",
        "$$= I + QBQ^{-1} + \\frac{QB^{2}Q^{-1}}{2!} + ...$$\n",
        "$$= I + B + \\frac{B^2}{2!} + ...$$\n",
        "$$= Qe^{B}Q^{-1}$$"
      ]
    },
    {
      "cell_type": "code",
      "execution_count": 339,
      "metadata": {},
      "outputs": [
        {
          "data": {
            "text/latex": [
              "$\\displaystyle \\left( \\left[\\begin{matrix}\\left(\\frac{6 i \\left(\\frac{1}{2} + \\frac{\\sqrt{3} i}{2}\\right) e^{t \\left(\\frac{1}{2} - \\frac{\\sqrt{3} i}{2}\\right)}}{\\sqrt{3} + 3 i} - \\frac{12 \\sqrt{3} i e^{t \\left(\\frac{1}{2} + \\frac{\\sqrt{3} i}{2}\\right)}}{\\left(\\sqrt{3} - 3 i\\right) \\left(\\sqrt{3} + 3 i\\right)}\\right) \\left(\\frac{5 e^{4 t}}{3} - \\frac{5 e^{t}}{3}\\right) + \\left(\\frac{6 i \\left(- \\sqrt{3} - i\\right) e^{t \\left(\\frac{1}{2} - \\frac{\\sqrt{3} i}{2}\\right)}}{\\left(\\sqrt{3} - 3 i\\right) \\left(\\sqrt{3} + 3 i\\right)} + \\frac{2 \\sqrt{3} e^{t \\left(\\frac{1}{2} + \\frac{\\sqrt{3} i}{2}\\right)}}{\\sqrt{3} - 3 i}\\right) e^{4 t} & \\left(\\frac{6 i \\left(\\frac{1}{2} + \\frac{\\sqrt{3} i}{2}\\right) e^{t \\left(\\frac{1}{2} - \\frac{\\sqrt{3} i}{2}\\right)}}{\\sqrt{3} + 3 i} - \\frac{12 \\sqrt{3} i e^{t \\left(\\frac{1}{2} + \\frac{\\sqrt{3} i}{2}\\right)}}{\\left(\\sqrt{3} - 3 i\\right) \\left(\\sqrt{3} + 3 i\\right)}\\right) e^{t}\\\\\\left(\\left(\\frac{1}{2} + \\frac{\\sqrt{3} i}{2}\\right) e^{t \\left(\\frac{1}{2} - \\frac{\\sqrt{3} i}{2}\\right)} + \\frac{2 \\sqrt{3} e^{t \\left(\\frac{1}{2} + \\frac{\\sqrt{3} i}{2}\\right)}}{\\sqrt{3} + 3 i}\\right) \\left(\\frac{5 e^{4 t}}{3} - \\frac{5 e^{t}}{3}\\right) + \\left(\\frac{\\left(- \\sqrt{3} - i\\right) e^{t \\left(\\frac{1}{2} - \\frac{\\sqrt{3} i}{2}\\right)}}{\\sqrt{3} - 3 i} + \\frac{\\sqrt{3} i e^{t \\left(\\frac{1}{2} + \\frac{\\sqrt{3} i}{2}\\right)}}{3}\\right) e^{4 t} & \\left(\\left(\\frac{1}{2} + \\frac{\\sqrt{3} i}{2}\\right) e^{t \\left(\\frac{1}{2} - \\frac{\\sqrt{3} i}{2}\\right)} + \\frac{2 \\sqrt{3} e^{t \\left(\\frac{1}{2} + \\frac{\\sqrt{3} i}{2}\\right)}}{\\sqrt{3} + 3 i}\\right) e^{t}\\end{matrix}\\right], \\  \\left[\\begin{matrix}\\left(\\frac{6 i \\left(- \\sqrt{3} - i\\right) e^{t \\left(\\frac{1}{2} - \\frac{\\sqrt{3} i}{2}\\right)}}{\\left(\\sqrt{3} - 3 i\\right) \\left(\\sqrt{3} + 3 i\\right)} + \\frac{2 \\sqrt{3} e^{t \\left(\\frac{1}{2} + \\frac{\\sqrt{3} i}{2}\\right)}}{\\sqrt{3} - 3 i}\\right) e^{4 t} & \\left(\\frac{6 i \\left(\\frac{1}{2} + \\frac{\\sqrt{3} i}{2}\\right) e^{t \\left(\\frac{1}{2} - \\frac{\\sqrt{3} i}{2}\\right)}}{\\sqrt{3} + 3 i} - \\frac{12 \\sqrt{3} i e^{t \\left(\\frac{1}{2} + \\frac{\\sqrt{3} i}{2}\\right)}}{\\left(\\sqrt{3} - 3 i\\right) \\left(\\sqrt{3} + 3 i\\right)}\\right) e^{4 t}\\\\\\left(\\frac{\\left(- \\sqrt{3} - i\\right) e^{t \\left(\\frac{1}{2} - \\frac{\\sqrt{3} i}{2}\\right)}}{\\sqrt{3} - 3 i} + \\frac{\\sqrt{3} i e^{t \\left(\\frac{1}{2} + \\frac{\\sqrt{3} i}{2}\\right)}}{3}\\right) e^{t} + \\left(\\frac{6 i \\left(- \\sqrt{3} - i\\right) e^{t \\left(\\frac{1}{2} - \\frac{\\sqrt{3} i}{2}\\right)}}{\\left(\\sqrt{3} - 3 i\\right) \\left(\\sqrt{3} + 3 i\\right)} + \\frac{2 \\sqrt{3} e^{t \\left(\\frac{1}{2} + \\frac{\\sqrt{3} i}{2}\\right)}}{\\sqrt{3} - 3 i}\\right) \\left(\\frac{5 e^{4 t}}{3} - \\frac{5 e^{t}}{3}\\right) & \\left(\\left(\\frac{1}{2} + \\frac{\\sqrt{3} i}{2}\\right) e^{t \\left(\\frac{1}{2} - \\frac{\\sqrt{3} i}{2}\\right)} + \\frac{2 \\sqrt{3} e^{t \\left(\\frac{1}{2} + \\frac{\\sqrt{3} i}{2}\\right)}}{\\sqrt{3} + 3 i}\\right) e^{t} + \\left(\\frac{6 i \\left(\\frac{1}{2} + \\frac{\\sqrt{3} i}{2}\\right) e^{t \\left(\\frac{1}{2} - \\frac{\\sqrt{3} i}{2}\\right)}}{\\sqrt{3} + 3 i} - \\frac{12 \\sqrt{3} i e^{t \\left(\\frac{1}{2} + \\frac{\\sqrt{3} i}{2}\\right)}}{\\left(\\sqrt{3} - 3 i\\right) \\left(\\sqrt{3} + 3 i\\right)}\\right) \\left(\\frac{5 e^{4 t}}{3} - \\frac{5 e^{t}}{3}\\right)\\end{matrix}\\right]\\right)$"
            ],
            "text/plain": [
              "⎛⎡⎛                  ⎛1   √3⋅ⅈ⎞                        ⎞                       ↪\n",
              "⎜⎢⎜                t⋅⎜─ - ────⎟              ⎛1   √3⋅ⅈ⎞⎟                   ⎛   ↪\n",
              "⎜⎢⎜    ⎛1   √3⋅ⅈ⎞    ⎝2    2  ⎠            t⋅⎜─ + ────⎟⎟                   ⎜   ↪\n",
              "⎜⎢⎜6⋅ⅈ⋅⎜─ + ────⎟⋅ℯ                          ⎝2    2  ⎠⎟ ⎛   4⋅t      t⎞   ⎜   ↪\n",
              "⎜⎢⎜    ⎝2    2  ⎠                 12⋅√3⋅ⅈ⋅ℯ            ⎟ ⎜5⋅ℯ      5⋅ℯ ⎟   ⎜6⋅ ↪\n",
              "⎜⎢⎜──────────────────────────── - ─────────────────────⎟⋅⎜────── - ────⎟ + ⎜── ↪\n",
              "⎜⎢⎝          √3 + 3⋅ⅈ             (√3 - 3⋅ⅈ)⋅(√3 + 3⋅ⅈ)⎠ ⎝  3       3  ⎠   ⎝   ↪\n",
              "⎜⎢                                                                             ↪\n",
              "⎜⎢     ⎛                                   ⎛1   √3⋅ⅈ⎞⎞                   ⎛     ↪\n",
              "⎜⎢     ⎜              ⎛1   √3⋅ⅈ⎞         t⋅⎜─ + ────⎟⎟                   ⎜     ↪\n",
              "⎜⎢     ⎜            t⋅⎜─ - ────⎟           ⎝2    2  ⎠⎟ ⎛   4⋅t      t⎞   ⎜     ↪\n",
              "⎜⎢     ⎜⎛1   √3⋅ⅈ⎞    ⎝2    2  ⎠   2⋅√3⋅ℯ            ⎟ ⎜5⋅ℯ      5⋅ℯ ⎟   ⎜(-√3 ↪\n",
              "⎜⎢     ⎜⎜─ + ────⎟⋅ℯ             + ──────────────────⎟⋅⎜────── - ────⎟ + ⎜──── ↪\n",
              "⎜⎣     ⎝⎝2    2  ⎠                      √3 + 3⋅ⅈ     ⎠ ⎝  3       3  ⎠   ⎝     ↪\n",
              "⎝                                                                              ↪\n",
              "\n",
              "↪                                                       ⎛                  ⎛1  ↪\n",
              "↪                ⎛1   √3⋅ⅈ⎞           ⎛1   √3⋅ⅈ⎞⎞       ⎜                t⋅⎜─  ↪\n",
              "↪              t⋅⎜─ - ────⎟         t⋅⎜─ + ────⎟⎟       ⎜    ⎛1   √3⋅ⅈ⎞    ⎝2  ↪\n",
              "↪                ⎝2    2  ⎠           ⎝2    2  ⎠⎟       ⎜6⋅ⅈ⋅⎜─ + ────⎟⋅ℯ      ↪\n",
              "↪ ⅈ⋅(-√3 - ⅈ)⋅ℯ               2⋅√3⋅ℯ            ⎟  4⋅t  ⎜    ⎝2    2  ⎠        ↪\n",
              "↪ ───────────────────────── + ──────────────────⎟⋅ℯ     ⎜───────────────────── ↪\n",
              "↪  (√3 - 3⋅ⅈ)⋅(√3 + 3⋅ⅈ)           √3 - 3⋅ⅈ     ⎠       ⎝          √3 + 3⋅ⅈ    ↪\n",
              "↪                                                                              ↪\n",
              "↪          ⎛1   √3⋅ⅈ⎞           ⎛1   √3⋅ⅈ⎞⎞                ⎛                   ↪\n",
              "↪        t⋅⎜─ - ────⎟         t⋅⎜─ + ────⎟⎟                ⎜              ⎛1   ↪\n",
              "↪          ⎝2    2  ⎠           ⎝2    2  ⎠⎟                ⎜            t⋅⎜─ - ↪\n",
              "↪  - ⅈ)⋅ℯ               √3⋅ⅈ⋅ℯ            ⎟  4⋅t           ⎜⎛1   √3⋅ⅈ⎞    ⎝2   ↪\n",
              "↪ ─────────────────── + ──────────────────⎟⋅ℯ              ⎜⎜─ + ────⎟⋅ℯ       ↪\n",
              "↪    √3 - 3⋅ⅈ                   3         ⎠                ⎝⎝2    2  ⎠         ↪\n",
              "↪                                                                              ↪\n",
              "\n",
              "↪   √3⋅ⅈ⎞                        ⎞   ⎤  ⎡                                      ↪\n",
              "↪ - ────⎟              ⎛1   √3⋅ⅈ⎞⎟   ⎥  ⎢                               ⎛      ↪\n",
              "↪    2  ⎠            t⋅⎜─ + ────⎟⎟   ⎥  ⎢                               ⎜      ↪\n",
              "↪                      ⎝2    2  ⎠⎟   ⎥  ⎢                               ⎜      ↪\n",
              "↪           12⋅√3⋅ⅈ⋅ℯ            ⎟  t⎥  ⎢                               ⎜6⋅ⅈ⋅( ↪\n",
              "↪ ─────── - ─────────────────────⎟⋅ℯ ⎥  ⎢                               ⎜───── ↪\n",
              "↪           (√3 - 3⋅ⅈ)⋅(√3 + 3⋅ⅈ)⎠   ⎥  ⎢                               ⎝   (√ ↪\n",
              "↪                                    ⎥, ⎢                                      ↪\n",
              "↪                  ⎛1   √3⋅ⅈ⎞⎞       ⎥  ⎢                                      ↪\n",
              "↪  √3⋅ⅈ⎞         t⋅⎜─ + ────⎟⎟       ⎥  ⎢⎛             ⎛1   √3⋅ⅈ⎞           ⎛1 ↪\n",
              "↪  ────⎟           ⎝2    2  ⎠⎟       ⎥  ⎢⎜           t⋅⎜─ - ────⎟         t⋅⎜─ ↪\n",
              "↪   2  ⎠   2⋅√3⋅ℯ            ⎟  t    ⎥  ⎢⎜             ⎝2    2  ⎠           ⎝2 ↪\n",
              "↪        + ──────────────────⎟⋅ℯ     ⎥  ⎢⎜(-√3 - ⅈ)⋅ℯ               √3⋅ⅈ⋅ℯ     ↪\n",
              "↪               √3 + 3⋅ⅈ     ⎠       ⎦  ⎢⎜─────────────────────── + ────────── ↪\n",
              "↪                                       ⎣⎝       √3 - 3⋅ⅈ                   3  ↪\n",
              "\n",
              "↪                                                                              ↪\n",
              "↪             ⎛1   √3⋅ⅈ⎞           ⎛1   √3⋅ⅈ⎞⎞                                 ↪\n",
              "↪           t⋅⎜─ - ────⎟         t⋅⎜─ + ────⎟⎟                                 ↪\n",
              "↪             ⎝2    2  ⎠           ⎝2    2  ⎠⎟                                 ↪\n",
              "↪ -√3 - ⅈ)⋅ℯ               2⋅√3⋅ℯ            ⎟  4⋅t                            ↪\n",
              "↪ ────────────────────── + ──────────────────⎟⋅ℯ                               ↪\n",
              "↪ 3 - 3⋅ⅈ)⋅(√3 + 3⋅ⅈ)           √3 - 3⋅ⅈ     ⎠                                 ↪\n",
              "↪                                                                              ↪\n",
              "↪                                                                              ↪\n",
              "↪    √3⋅ⅈ⎞⎞      ⎛                 ⎛1   √3⋅ⅈ⎞           ⎛1   √3⋅ⅈ⎞⎞            ↪\n",
              "↪  + ────⎟⎟      ⎜               t⋅⎜─ - ────⎟         t⋅⎜─ + ────⎟⎟            ↪\n",
              "↪     2  ⎠⎟      ⎜                 ⎝2    2  ⎠           ⎝2    2  ⎠⎟ ⎛   4⋅t    ↪\n",
              "↪         ⎟  t   ⎜6⋅ⅈ⋅(-√3 - ⅈ)⋅ℯ               2⋅√3⋅ℯ            ⎟ ⎜5⋅ℯ       ↪\n",
              "↪ ────────⎟⋅ℯ  + ⎜─────────────────────────── + ──────────────────⎟⋅⎜────── -  ↪\n",
              "↪         ⎠      ⎝   (√3 - 3⋅ⅈ)⋅(√3 + 3⋅ⅈ)           √3 - 3⋅ⅈ     ⎠ ⎝  3       ↪\n",
              "\n",
              "↪                                        ⎛                  ⎛1   √3⋅ⅈ⎞         ↪\n",
              "↪                                        ⎜                t⋅⎜─ - ────⎟         ↪\n",
              "↪                                        ⎜    ⎛1   √3⋅ⅈ⎞    ⎝2    2  ⎠         ↪\n",
              "↪                                        ⎜6⋅ⅈ⋅⎜─ + ────⎟⋅ℯ                     ↪\n",
              "↪                                        ⎜    ⎝2    2  ⎠                 12⋅√3 ↪\n",
              "↪                                        ⎜──────────────────────────── - ───── ↪\n",
              "↪                                        ⎝          √3 + 3⋅ⅈ             (√3 - ↪\n",
              "↪                                                                              ↪\n",
              "↪                                                             ⎛                ↪\n",
              "↪        ⎛                                   ⎛1   √3⋅ⅈ⎞⎞      ⎜                ↪\n",
              "↪        ⎜              ⎛1   √3⋅ⅈ⎞         t⋅⎜─ + ────⎟⎟      ⎜    ⎛1   √3⋅ⅈ⎞  ↪\n",
              "↪    t⎞  ⎜            t⋅⎜─ - ────⎟           ⎝2    2  ⎠⎟      ⎜6⋅ⅈ⋅⎜─ + ────⎟⋅ ↪\n",
              "↪ 5⋅ℯ ⎟  ⎜⎛1   √3⋅ⅈ⎞    ⎝2    2  ⎠   2⋅√3⋅ℯ            ⎟  t   ⎜    ⎝2    2  ⎠  ↪\n",
              "↪ ────⎟  ⎜⎜─ + ────⎟⋅ℯ             + ──────────────────⎟⋅ℯ  + ⎜─────────────── ↪\n",
              "↪  3  ⎠  ⎝⎝2    2  ⎠                      √3 + 3⋅ⅈ     ⎠      ⎝          √3 +  ↪\n",
              "\n",
              "↪                 ⎞                                     ⎤⎞\n",
              "↪       ⎛1   √3⋅ⅈ⎞⎟                                     ⎥⎟\n",
              "↪     t⋅⎜─ + ────⎟⎟                                     ⎥⎟\n",
              "↪       ⎝2    2  ⎠⎟                                     ⎥⎟\n",
              "↪ ⋅ⅈ⋅ℯ            ⎟  4⋅t                                ⎥⎟\n",
              "↪ ────────────────⎟⋅ℯ                                   ⎥⎟\n",
              "↪  3⋅ⅈ)⋅(√3 + 3⋅ⅈ)⎠                                     ⎥⎟\n",
              "↪                                                       ⎥⎟\n",
              "↪    ⎛1   √3⋅ⅈ⎞                        ⎞                ⎥⎟\n",
              "↪  t⋅⎜─ - ────⎟              ⎛1   √3⋅ⅈ⎞⎟                ⎥⎟\n",
              "↪    ⎝2    2  ⎠            t⋅⎜─ + ────⎟⎟                ⎥⎟\n",
              "↪ ℯ                          ⎝2    2  ⎠⎟ ⎛   4⋅t      t⎞⎥⎟\n",
              "↪                 12⋅√3⋅ⅈ⋅ℯ            ⎟ ⎜5⋅ℯ      5⋅ℯ ⎟⎥⎟\n",
              "↪ ───────────── - ─────────────────────⎟⋅⎜────── - ────⎟⎥⎟\n",
              "↪ 3⋅ⅈ             (√3 - 3⋅ⅈ)⋅(√3 + 3⋅ⅈ)⎠ ⎝  3       3  ⎠⎦⎠"
            ]
          },
          "execution_count": 339,
          "metadata": {},
          "output_type": "execute_result"
        }
      ],
      "source": [
        "#b\n",
        "t = sm.symbols(\"t\")\n",
        "A = sm.Matrix([[-1,3],[-1,2]])*t\n",
        "B = sm.Matrix([[4,0],[5,1]])*t\n",
        "(sm.exp(A)*sm.exp(B)),(sm.exp(B)*sm.exp(A))"
      ]
    },
    {
      "cell_type": "markdown",
      "metadata": {
        "id": "l3QQGinGe3K1"
      },
      "source": [
        "### 10. Senators Revisited\n",
        "---\n",
        "\n",
        "Repeat the clustering of senators by voting habit for the years 1999, 1979 and 1959. Plot them together with the 2019 plot in a grid of plots. Which years seem the most divided?\n",
        "\n",
        "Note: you will need to get the data at [https://voteview.com/data](https://voteview.com/data). Choose \"Member's Votes\", \"Senate Only\", the desired year, and CSV file.\n",
        "\n",
        "I had to edit the CSV file (in a text editor or ExCEL) to remove the heading in the first row before loading the file."
      ]
    }
  ],
  "metadata": {
    "colab": {
      "provenance": []
    },
    "kernelspec": {
      "display_name": ".venv",
      "language": "python",
      "name": "python3"
    },
    "language_info": {
      "codemirror_mode": {
        "name": "ipython",
        "version": 3
      },
      "file_extension": ".py",
      "mimetype": "text/x-python",
      "name": "python",
      "nbconvert_exporter": "python",
      "pygments_lexer": "ipython3",
      "version": "3.11.9"
    }
  },
  "nbformat": 4,
  "nbformat_minor": 0
}
