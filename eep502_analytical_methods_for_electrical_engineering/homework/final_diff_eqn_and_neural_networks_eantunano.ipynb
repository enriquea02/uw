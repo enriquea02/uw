{
  "cells": [
    {
      "cell_type": "markdown",
      "metadata": {
        "ExecuteTime": {
          "end_time": "2019-09-24T16:05:23.746666Z",
          "start_time": "2019-09-24T16:05:23.741461Z"
        },
        "id": "3yYgqlnZNri_"
      },
      "source": [
        "## EEP 502: Analytical Methods for Electrical Engineering\n",
        "    \n",
        "# Final project\n",
        "## Due December 14, 2024 at 11:59 PM\n",
        "Copyright &copy; 2024, University of Washington\n",
        "\n",
        "<hr>\n",
        "\n",
        "**Instructions**: Choose **<u>one</u>** of the following problems. Solve the problem and then write up your solution in a stand-alone Jupyter Notebook. Your notebook should have the following elements:\n",
        "\n",
        "- Problem statement\n",
        "- Mathematical description of the solution\n",
        "- Executable, commented, clear code\n",
        "\n",
        "You will be graded on how well your notebook reads like a nicely formated, well written report. You must:\n",
        "\n",
        "- Write mathematical descriptions using complete sentences, paragraphs, and LaTeX formulas.\n",
        "- Comment your code as necessary, with a description of what each function does, and all major steps.\n",
        "- Label plots axes, use legends, and use plot titles.\n",
        "- Before submitting a notebook, choose Kernel -> Restart and Run All to make sure your notebook runs when the cells are evaluated in order.\n",
        "\n",
        "<span style=\"color: red'\">\n",
        "Although you may discuss the project with others, you must turn in your own, original work.\n",
        "</span>\n"
      ]
    },
    {
      "cell_type": "code",
      "execution_count": 1,
      "metadata": {},
      "outputs": [],
      "source": [
        "import networkx as nx\n",
        "import math\n",
        "import scipy\n",
        "import scipy.integrate as spi\n",
        "import numpy as np\n",
        "import sympy as sm\n",
        "sm.init_printing(use_latex='mathjax')\n",
        "import matplotlib.pyplot as plt\n",
        "import itertools\n",
        "import random\n",
        "%matplotlib inline"
      ]
    },
    {
      "cell_type": "markdown",
      "metadata": {
        "id": "Hcwxp5VpNrjF"
      },
      "source": [
        "# Differential Equations for Neural Networks\n",
        "\n",
        "The computational neural networks we have been studying are quite far from what is happening in biology. A slightly more realistic model is to admit that each neuron $i$ in a network has a time varying firing rate $x_i$, for $i$ equal $1$ to $n$. We let $W \\in \\mathbb{R}^{n \\times n}$ be weight matrix, and $b \\in \\mathbb{R}^n$. The dynamics of such a neural network are\n",
        "\n",
        "$$\n",
        "\\dot x_i = g \\left (\n",
        "\\sum_{j=1}^n w_{i,j} x_j + b_i\n",
        "\\right )\n",
        "$$\n",
        "\n",
        "where is the nonlinearity\n",
        "\n",
        "$$\n",
        "g(x) = \\frac{1}{1+e^{-x}} - \\frac{1}{2} .\n",
        "$$\n",
        "\n",
        "*a)* Show through simulation that the matrix\n",
        "\n",
        "$$\n",
        "W = - \\begin{pmatrix}\n",
        "1 & 2 & 0 \\\\\n",
        "0 & 1 & 2 \\\\\n",
        "2 & 0 & 1\n",
        "\\end{pmatrix}\n",
        "$$\n",
        "\n",
        "with $b = 0$ results in oscillations. This is called a ring oscillator. Draw a graph representation of it. Now show through simulation that a ring of $n$ neurons so arranged oscillates when $n$ is odd, but not when it is even.\n",
        "\n",
        "*b)* Define $W$ and $b$ so that the resulting network is bistable. That is, when one neuron is on in steady state, another is off, and *vice versa*. Simulate the system with different initial conditions. Draw a graph representation of your network.\n",
        "\n",
        "*c)* Build a network that contains two subnetworks that oscillate, that are connected in such a way that if one subnetwork oscillates, it prevents the other from oscillating, and *vice versa*. Simulate the system with different initial conditions to show the desired behavior. Draw a graph representation of your network.\n",
        "\n",
        "*d)* Define $W \\in \\mathbb{R}^{n \\times n}$ and $b \\in \\mathbb{R}^n$ with $n = 50$ to be a random neural network.\n",
        "\n",
        "Given a number $p \\in [0,1]$, define a random matrix $A$ as follows. For each $i,j$, choose $r \\in [0,1]$ randomly. Then put\n",
        "\n",
        "$$\n",
        "A_{i,j} = \\left \\{\n",
        "\\begin{array}{ll}\n",
        "1 & \\mathrm{if} & r \\leq \\frac{p}{2} \\\\\n",
        "-1 & \\mathrm{if} & \\frac{p}{2} < r \\leq p \\\\\n",
        "0 & \\mathrm{otherwise}.\n",
        "\\end{array}\n",
        "\\right .\n",
        "$$\n",
        "\n",
        "Then put\n",
        "\n",
        "$$\n",
        "W = A - I\n",
        "$$\n",
        "\n",
        "where $I$ is the identity matrix. Through simulations with $n=20$, explain the various behaviors you can get with various values of $p$."
      ]
    },
    {
      "cell_type": "code",
      "execution_count": 8,
      "metadata": {},
      "outputs": [
        {
          "data": {
            "text/latex": [
              "$\\displaystyle -0.5 + \\frac{1}{1 + e^{- x}}$"
            ],
            "text/plain": [
              "          1   \n",
              "-0.5 + ───────\n",
              "            -x\n",
              "       1 + ℯ  "
            ]
          },
          "execution_count": 8,
          "metadata": {},
          "output_type": "execute_result"
        }
      ],
      "source": [
        "# Nonlinearity function g(x) models the activation of neuron x_i\n",
        "x = sm.symbols(\"x\")\n",
        "g_nn_dynamics_eqn = ((1/(1+sm.exp(-x))) - (1/2))\n",
        "g_nn_dynamics_eqn"
      ]
    },
    {
      "cell_type": "code",
      "execution_count": null,
      "metadata": {},
      "outputs": [],
      "source": [
        "def neuron_firing_rate_func(weight_vector_i,neuron_firing_rate_vector_i,neuron_bias_o):\n",
        "    \"\"\"Function is a realistic model of a neuron's firing rate in a biological system.\n",
        "\n",
        "    Interface Control Document (ICD)\n",
        "    | I/O    | Signal Name                  | Description                                                                                                                       |\n",
        "    | -      | -                            | -                                                                                                                                 |\n",
        "    | input  | weight_vector_i              | Vector of real numbers, of size $n$ neurons, that defines the strength (weight) of connections between neurons $j$ and neuron $i$ |\n",
        "    | input  | neuron_firing_rate_vector_i  | Vector of real numbers, of size $n$ neurons, that models firing rate for each neuron $j$ in the neural network.                   |\n",
        "    | input  | neuron_bias_i                | Real number that adjusts neuron $i$'s activation threshold                                                                        |\n",
        "    | output | neuron_firing_rate_o         | Real number that models firing rate of neuron $i$ in a neural network                                                             |\n",
        "\n",
        "\n",
        "    Exception Handling\n",
        "    | Exception                                     | Description                                | Resolution                                                                      |\n",
        "    | -                                             | -                                          | -                                                                               |\n",
        "    \"\"\"\n",
        "return neuron_firing_rate\n"
      ]
    },
    {
      "cell_type": "code",
      "execution_count": 5,
      "metadata": {},
      "outputs": [
        {
          "data": {
            "text/plain": [
              "array([[-1, -2,  0],\n",
              "       [ 0, -1, -2],\n",
              "       [-2,  0, -1]])"
            ]
          },
          "execution_count": 5,
          "metadata": {},
          "output_type": "execute_result"
        }
      ],
      "source": [
        "W_A = np.array([\n",
        "    [1,2,0],\n",
        "    [0,1,2],\n",
        "    [2,0,1]\n",
        "])\n",
        "W_A = (W_A*(-1))"
      ]
    }
  ],
  "metadata": {
    "celltoolbar": "Slideshow",
    "colab": {
      "provenance": []
    },
    "kernelspec": {
      "display_name": ".venv",
      "language": "python",
      "name": "python3"
    },
    "language_info": {
      "codemirror_mode": {
        "name": "ipython",
        "version": 3
      },
      "file_extension": ".py",
      "mimetype": "text/x-python",
      "name": "python",
      "nbconvert_exporter": "python",
      "pygments_lexer": "ipython3",
      "version": "3.11.9"
    }
  },
  "nbformat": 4,
  "nbformat_minor": 0
}
